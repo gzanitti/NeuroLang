{
 "cells": [
  {
   "cell_type": "code",
   "execution_count": 1,
   "metadata": {},
   "outputs": [],
   "source": [
    "%load_ext snakeviz"
   ]
  },
  {
   "cell_type": "code",
   "execution_count": 1,
   "metadata": {},
   "outputs": [
    {
     "name": "stderr",
     "output_type": "stream",
     "text": [
      "/Users/gzanitti/miniconda3/envs/neurolang/lib/python3.7/site-packages/sklearn/externals/joblib/__init__.py:15: DeprecationWarning: sklearn.externals.joblib is deprecated in 0.21 and will be removed in 0.23. Please import this functionality directly from joblib, which can be installed with: pip install joblib. If this warning is raised when loading pickled models, you may need to re-serialize those models with scikit-learn 0.21+.\n",
      "  warnings.warn(msg, category=DeprecationWarning)\n",
      "/Users/gzanitti/miniconda3/envs/neurolang/lib/python3.7/site-packages/nilearn/plotting/cm.py:159: MatplotlibDeprecationWarning: \n",
      "The revcmap function was deprecated in Matplotlib 3.2 and will be removed two minor releases later. Use Colormap.reversed() instead.\n",
      "  _cmaps_data[_cmapname_r] = _cm.revcmap(_cmapspec)\n",
      "/Users/gzanitti/miniconda3/envs/neurolang/lib/python3.7/importlib/_bootstrap.py:219: RuntimeWarning: numpy.ufunc size changed, may indicate binary incompatibility. Expected 192 from C header, got 216 from PyObject\n",
      "  return f(*args, **kwds)\n"
     ]
    }
   ],
   "source": [
    "from typing import Iterable\n",
    "from nilearn import plotting\n",
    "from nilearn import datasets"
   ]
  },
  {
   "cell_type": "code",
   "execution_count": 2,
   "metadata": {},
   "outputs": [],
   "source": [
    "import nibabel as nib\n",
    "import numpy as np"
   ]
  },
  {
   "cell_type": "code",
   "execution_count": 3,
   "metadata": {},
   "outputs": [
    {
     "name": "stderr",
     "output_type": "stream",
     "text": [
      "/Users/gzanitti/miniconda3/envs/neurolang/lib/python3.7/site-packages/tatsu/grammars.py:6: DeprecationWarning: Using or importing the ABCs from 'collections' instead of from 'collections.abc' is deprecated, and in 3.8 it will stop working\n",
      "  from collections import defaultdict, Mapping\n"
     ]
    }
   ],
   "source": [
    "from neurolang import frontend as fe\n",
    "\n",
    "from nilearn.datasets import utils\n",
    "import pandas as pd"
   ]
  },
  {
   "cell_type": "markdown",
   "metadata": {},
   "source": [
    "# Prepare NeuroSynth "
   ]
  },
  {
   "cell_type": "code",
   "execution_count": 4,
   "metadata": {},
   "outputs": [],
   "source": [
    "d_neurosynth = utils._get_dataset_dir('neurosynth', data_dir='neurolang_data')\n",
    "\n",
    "f_neurosynth = utils._fetch_files(\n",
    "    d_neurosynth, [\n",
    "        (\n",
    "            f,\n",
    "            'https://github.com/neurosynth/neurosynth-data/raw/master/current_data.tar.gz',\n",
    "            {'uncompress': True}\n",
    "        )\n",
    "        for f in ('database.txt', 'features.txt')\n",
    "    ],\n",
    "    verbose=True\n",
    ")\n",
    "\n",
    "database = pd.read_csv(f_neurosynth[0], sep='\\t')\n",
    "features = pd.read_csv(f_neurosynth[1], sep='\\t')\n",
    "\n",
    "features_normalised = (\n",
    "    features\n",
    "    .melt(id_vars=features.columns[0], var_name='term', value_vars=features.columns[1:], value_name='tfidf')\n",
    "    .query('tfidf > 0')\n",
    ")\n",
    "\n"
   ]
  },
  {
   "cell_type": "code",
   "execution_count": 5,
   "metadata": {},
   "outputs": [
    {
     "name": "stderr",
     "output_type": "stream",
     "text": [
      "/Users/gzanitti/miniconda3/envs/neurolang/lib/python3.7/site-packages/neurosynth/base/dataset.py:435: ResourceWarning: unclosed file <_io.BufferedReader name='/Users/gzanitti/Projects/INRIA/NeuroLang/neurolang/frontend/neurosynth_data/dataset.pkl'>\n",
      "  dataset = pickle.load(open(filename, 'rb'))\n",
      "ResourceWarning: Enable tracemalloc to get the object allocation traceback\n",
      "/Users/gzanitti/miniconda3/envs/neurolang/lib/python3.7/site-packages/neurosynth/base/dataset.py:771: FutureWarning: DataFrame.to_sparse is deprecated and will be removed in a future version\n",
      "  columns=self.data['columns']).to_sparse()\n"
     ]
    }
   ],
   "source": [
    "nsh = fe.neurosynth_utils.NeuroSynthHandler()\n",
    "ns_ds = nsh.ns_load_dataset()\n",
    "it = ns_ds.image_table\n",
    "vox_ids, study_ids_ix = it.data.nonzero()\n",
    "study_ids = ns_ds.image_table.ids[study_ids_ix]\n",
    "study_id_vox_id = np.transpose([study_ids, vox_ids])\n",
    "masked_ = it.masker.unmask(np.arange(it.data.shape[0]))\n",
    "nnz = masked_.nonzero()\n",
    "vox_id_MNI = np.c_[\n",
    "    masked_[nnz].astype(int),\n",
    "    nib.affines.apply_affine(it.masker.volume.affine, np.transpose(nnz)),\n",
    "    [\n",
    "        fe.ExplicitVBR(\n",
    "            [v],\n",
    "            affine_matrix=it.masker.volume.affine,\n",
    "            image_dim=it.masker.volume.shape\n",
    "        )\n",
    "        for v in zip(*nnz)\n",
    "    ]\n",
    "]"
   ]
  },
  {
   "cell_type": "code",
   "execution_count": 6,
   "metadata": {},
   "outputs": [
    {
     "name": "stderr",
     "output_type": "stream",
     "text": [
      "/Users/gzanitti/miniconda3/envs/neurolang/lib/python3.7/site-packages/numpy/lib/npyio.py:2358: VisibleDeprecationWarning: Reading unicode strings without specifying the encoding argument is deprecated. Set the encoding, use None for the system default.\n",
      "  output = genfromtxt(fname, **kwargs)\n"
     ]
    }
   ],
   "source": [
    "from nilearn import image\n",
    "dd = datasets.fetch_atlas_destrieux_2009()\n",
    "destrieux_to_ns_mni = image.resample_to_img(dd['maps'], it.masker.volume, interpolation='nearest')\n",
    "dd_data = destrieux_to_ns_mni.get_fdata()\n",
    "dd_unmaskes = np.where(destrieux_to_ns_mni.get_fdata() > 0)"
   ]
  },
  {
   "cell_type": "code",
   "execution_count": 7,
   "metadata": {},
   "outputs": [],
   "source": [
    "xyz_to_dd_region = []\n",
    "for v in zip(*dd_unmaskes):\n",
    "    region = dd_data[v[0]][v[1]][v[2]]\n",
    "    xyz_to_dd_region.append((v, region))"
   ]
  },
  {
   "cell_type": "code",
   "execution_count": 8,
   "metadata": {},
   "outputs": [],
   "source": [
    "dd_labels = []\n",
    "for n, name in dd['labels']:\n",
    "    dd_labels.append((n, name.decode('UTF-8')))"
   ]
  },
  {
   "cell_type": "code",
   "execution_count": 9,
   "metadata": {},
   "outputs": [],
   "source": [
    "xyz_to_ns_region = []\n",
    "for n, _, _, _, region in vox_id_MNI:\n",
    "    xyz_to_ns_region.append((tuple(region.voxels[0]), n))   "
   ]
  },
  {
   "cell_type": "markdown",
   "metadata": {},
   "source": [
    "# Initialise and load the fronte-end"
   ]
  },
  {
   "cell_type": "code",
   "execution_count": 10,
   "metadata": {},
   "outputs": [],
   "source": [
    "nl = fe.NeurolangDL()\n",
    "\n",
    "@nl.add_symbol\n",
    "def agg_count(x: Iterable) -> int:\n",
    "    return len(x)\n",
    "\n",
    "@nl.add_symbol\n",
    "def agg_sum(x: Iterable) -> float:\n",
    "    return x.sum()\n",
    "\n",
    "@nl.add_symbol\n",
    "def agg_mean(x: Iterable) -> float:\n",
    "    return x.mean()\n",
    "\n",
    "ns_pmid_term_tfidf = nl.add_tuple_set(features_normalised.values, name='ns_pmid_term_tfidf')\n",
    "ns_activations = nl.add_tuple_set(database[['id', 'x', 'y', 'z', 'space']].values, name='ns_activations')\n",
    "ns_activations_by_id = nl.add_tuple_set(\n",
    "    study_id_vox_id, name='ns_activations_by_id'\n",
    ")\n",
    "ns_vox_id_MNI = nl.add_tuple_set(vox_id_MNI, name='ns_vox_id_MNI')\n",
    "\n",
    "xyz_ns = nl.add_tuple_set(xyz_to_ns_region, name='xyz_ns')\n",
    "xyz_dd = nl.add_tuple_set(xyz_to_dd_region, name='xyz_dd')\n",
    "dd_label = nl.add_tuple_set(dd_labels, name='dd_label')"
   ]
  },
  {
   "cell_type": "code",
   "execution_count": 25,
   "metadata": {},
   "outputs": [
    {
     "data": {
      "text/html": [
       "<div>\n",
       "<style scoped>\n",
       "    .dataframe tbody tr th:only-of-type {\n",
       "        vertical-align: middle;\n",
       "    }\n",
       "\n",
       "    .dataframe tbody tr th {\n",
       "        vertical-align: top;\n",
       "    }\n",
       "\n",
       "    .dataframe thead th {\n",
       "        text-align: right;\n",
       "    }\n",
       "</style>\n",
       "<table border=\"1\" class=\"dataframe\">\n",
       "  <thead>\n",
       "    <tr style=\"text-align: right;\">\n",
       "      <th></th>\n",
       "      <th>study</th>\n",
       "      <th>term</th>\n",
       "      <th>prob</th>\n",
       "    </tr>\n",
       "  </thead>\n",
       "  <tbody>\n",
       "  </tbody>\n",
       "</table>\n",
       "</div>"
      ],
      "text/plain": [
       "Empty DataFrame\n",
       "Columns: [study, term, prob]\n",
       "Index: []"
      ]
     },
     "execution_count": 25,
     "metadata": {},
     "output_type": "execute_result"
    }
   ],
   "source": [
    "term = 'auditory'\n",
    "studies_term = nsh.ns_study_tfidf_feature_for_terms(terms=term)\n",
    "df = pd.DataFrame(studies_term, columns=[\"study\", \"term\", 'prob'])\n",
    "df = df.astype({\"study\": int})\n",
    "df[[\"study\", \"term\", \"prob\"]]"
   ]
  },
  {
   "cell_type": "markdown",
   "metadata": {},
   "source": [
    "## Test Destrieux restriction"
   ]
  },
  {
   "cell_type": "code",
   "execution_count": 11,
   "metadata": {},
   "outputs": [
    {
     "name": "stderr",
     "output_type": "stream",
     "text": [
      "/Users/gzanitti/Projects/INRIA/NeuroLang/neurolang/datalog/aggregation.py:152: UserWarning: No check performed. Should implement check for stratified aggregation\n",
      "  \"No check performed. Should implement check for stratified\"\n",
      "/Users/gzanitti/miniconda3/envs/neurolang/lib/python3.7/site-packages/pandas/core/frame.py:4218: SettingWithCopyWarning: \n",
      "A value is trying to be set on a copy of a slice from a DataFrame\n",
      "\n",
      "See the caveats in the documentation: http://pandas.pydata.org/pandas-docs/stable/user_guide/indexing.html#returning-a-view-versus-a-copy\n",
      "  return super().rename(**kwargs)\n"
     ]
    }
   ],
   "source": [
    "with nl.scope as e:\n",
    "    e.term_docs[e.term, e.pmid] = (\n",
    "        ns_pmid_term_tfidf[e.pmid, e.term, e.tfidf] &\n",
    "        (e.term == 'auditory') &\n",
    "        (e.tfidf > 1e-3)        \n",
    "    )\n",
    "    \n",
    "    e.dd_to_ns[e.dd_name, e.ns_id, e.xyz2] = (\n",
    "        xyz_dd[e.xyz1, e.dd_name] &\n",
    "        xyz_ns[e.xyz2, e.ns_id] &\n",
    "        (e.xyz1 == e.xyz2)\n",
    "    )\n",
    "    \n",
    "    e.act_term_counts[e.term, e.voxid, agg_count(e.pmid)] = (\n",
    "        ns_activations_by_id[e.pmid, e.voxid] &\n",
    "        e.term_docs[e.term, e.pmid]\n",
    "    )\n",
    "    \n",
    "    e.act_term_counts_limited[e.term, e.voxid, agg_count(e.pmid)] = (\n",
    "        ns_activations_by_id[e.pmid, e.voxid] &\n",
    "        e.term_docs[e.term, e.pmid] &\n",
    "        e.dd_to_ns[e.dd_id, e.voxid, e.xyz] &\n",
    "        dd_label[e.dd_id, 'L G_precentral']\n",
    "    )\n",
    "    \n",
    "    res = nl.solve_all()\n",
    "    assert len(res['act_term_counts'].unwrap()) > len(res['act_term_counts_limited'].unwrap())"
   ]
  },
  {
   "cell_type": "markdown",
   "metadata": {},
   "source": [
    "## Forward inference on term \"Auditory\" with restriction using Destrieux"
   ]
  },
  {
   "cell_type": "code",
   "execution_count": 12,
   "metadata": {},
   "outputs": [
    {
     "name": "stderr",
     "output_type": "stream",
     "text": [
      "/Users/gzanitti/miniconda3/envs/neurolang/lib/python3.7/site-packages/pandas/core/frame.py:4218: SettingWithCopyWarning: \n",
      "A value is trying to be set on a copy of a slice from a DataFrame\n",
      "\n",
      "See the caveats in the documentation: http://pandas.pydata.org/pandas-docs/stable/user_guide/indexing.html#returning-a-view-versus-a-copy\n",
      "  return super().rename(**kwargs)\n"
     ]
    }
   ],
   "source": [
    "with nl.scope as e:\n",
    "    e.term_docs[e.term, e.pmid] = (\n",
    "        ns_pmid_term_tfidf[e.pmid, e.term, e.tfidf] &\n",
    "        (e.term == 'auditory') &\n",
    "        (e.tfidf > 1e-3)        \n",
    "    )\n",
    "    \n",
    "    e.dd_to_ns[e.dd_name, e.ns_id, e.xyz2] = (\n",
    "        xyz_dd[e.xyz1, e.dd_name] &\n",
    "        xyz_ns[e.xyz2, e.ns_id] &\n",
    "        (e.xyz1 == e.xyz2)\n",
    "    )\n",
    "\n",
    "    e.act_term_counts[e.term, e.voxid, agg_count(e.pmid)] = (\n",
    "        ns_activations_by_id[e.pmid, e.voxid] &\n",
    "        e.term_docs[e.term, e.pmid] &\n",
    "        e.dd_to_ns[e.dd_id, e.voxid, e.xyz] &\n",
    "        dd_label[e.dd_id, 'R S_temporal_sup']\n",
    "    )\n",
    "    \n",
    "    e.act_term_counts[e.term, e.voxid, agg_count(e.pmid)] = (\n",
    "        ns_activations_by_id[e.pmid, e.voxid] &\n",
    "        e.term_docs[e.term, e.pmid] &\n",
    "        e.dd_to_ns[e.dd_id, e.voxid, e.xyz] &\n",
    "        dd_label[e.dd_id, 'L S_temporal_sup']\n",
    "    ) \n",
    "\n",
    "    e.term_counts[e.term, agg_count(e.pmid)] =  (\n",
    "        ns_pmid_term_tfidf[e.pmid, e.term, e.tfidf] &\n",
    "        e.term_docs[e.term, e.pmid]\n",
    "    )\n",
    " \n",
    "    e.p_act_given_term[e.voxid, e.x, e.y, e.z, e.term, e.prob] = (\n",
    "        e.act_term_counts[e.term, e.voxid, e.act_term_count] &\n",
    "        e.term_counts[e.term, e.term_count] &\n",
    "        e.ns_vox_id_MNI[e.voxid, e.x, e.y, e.z] &\n",
    "        (e.prob == (e.act_term_count / e.term_count))\n",
    "    )\n",
    "    res = nl.solve_all()"
   ]
  },
  {
   "cell_type": "code",
   "execution_count": 13,
   "metadata": {},
   "outputs": [
    {
     "name": "stderr",
     "output_type": "stream",
     "text": [
      "/Users/gzanitti/miniconda3/envs/neurolang/lib/python3.7/site-packages/scipy/ndimage/measurements.py:305: DeprecationWarning: In future, it will be an error for 'np.bool_' scalars to be interpreted as an index\n",
      "  return _nd_image.find_objects(input, max_label)\n",
      "/Users/gzanitti/miniconda3/envs/neurolang/lib/python3.7/site-packages/nilearn/plotting/displays.py:600: DeprecationWarning: Using or importing the ABCs from 'collections' instead of from 'collections.abc' is deprecated, and in 3.8 it will stop working\n",
      "  if isinstance(axes, collections.Sequence):\n"
     ]
    },
    {
     "data": {
      "text/plain": [
       "<nilearn.plotting.displays.OrthoSlicer at 0x7fa77a5b9208>"
      ]
     },
     "execution_count": 13,
     "metadata": {},
     "output_type": "execute_result"
    },
    {
     "data": {
      "image/png": "[encoded data removed]",
      "text/plain": [
       "<Figure size 525.6x187.2 with 5 Axes>"
      ]
     },
     "metadata": {},
     "output_type": "display_data"
    }
   ],
   "source": [
    "mni_t1 = it.masker.volume\n",
    "\n",
    "ijk_coords = tuple(\n",
    "    (\n",
    "        np.round(\n",
    "            nib.affines.apply_affine(\n",
    "                np.linalg.inv(mni_t1.affine),\n",
    "                res['p_act_given_term'].unwrap().as_numpy_array()[:, 1:4]\n",
    "            ).astype(float).T\n",
    "        ).T\n",
    "    ).astype(int).T\n",
    ")\n",
    "\n",
    "res_img = np.zeros(mni_t1.shape)\n",
    "res_img[ijk_coords] = res['p_act_given_term'].unwrap().as_numpy_array()[:, -1]\n",
    "\n",
    "res_sp = nib.spatialimages.SpatialImage(\n",
    "    dataobj=res_img, affine=mni_t1.affine\n",
    ")\n",
    "\n",
    "plotting.plot_stat_map(res_sp)"
   ]
  },
  {
   "cell_type": "markdown",
   "metadata": {},
   "source": [
    "## Forward inference on term \"Auditory\""
   ]
  },
  {
   "cell_type": "code",
   "execution_count": 11,
   "metadata": {},
   "outputs": [
    {
     "name": "stderr",
     "output_type": "stream",
     "text": [
      "/Users/gzanitti/Projects/INRIA/NeuroLang/neurolang/datalog/aggregation.py:152: UserWarning: No check performed. Should implement check for stratified aggregation\n",
      "  \"No check performed. Should implement check for stratified\"\n",
      "/Users/gzanitti/miniconda3/envs/neurolang/lib/python3.7/site-packages/pandas/core/frame.py:4218: SettingWithCopyWarning: \n",
      "A value is trying to be set on a copy of a slice from a DataFrame\n",
      "\n",
      "See the caveats in the documentation: http://pandas.pydata.org/pandas-docs/stable/user_guide/indexing.html#returning-a-view-versus-a-copy\n",
      "  return super().rename(**kwargs)\n",
      "/Users/gzanitti/miniconda3/envs/neurolang/lib/python3.7/site-packages/pandas/core/frame.py:4218: SettingWithCopyWarning: \n",
      "A value is trying to be set on a copy of a slice from a DataFrame\n",
      "\n",
      "See the caveats in the documentation: http://pandas.pydata.org/pandas-docs/stable/user_guide/indexing.html#returning-a-view-versus-a-copy\n",
      "  return super().rename(**kwargs)\n"
     ]
    }
   ],
   "source": [
    "with nl.scope as e:\n",
    "    e.term_docs[e.term, e.pmid] = (\n",
    "        ns_pmid_term_tfidf[e.pmid, e.term, e.tfidf] &\n",
    "        (e.term == 'auditory') &\n",
    "        (e.tfidf > 1e-3)        \n",
    "    )\n",
    "\n",
    "    e.act_term_counts[e.term, e.voxid, agg_count(e.pmid)] = (\n",
    "        ns_activations_by_id[e.pmid, e.voxid] &\n",
    "        e.term_docs[e.term, e.pmid]\n",
    "    )    \n",
    "\n",
    "    e.term_counts[e.term, agg_count(e.pmid)] =  (\n",
    "        ns_pmid_term_tfidf[e.pmid, e.term, e.tfidf] &\n",
    "        e.term_docs[e.term, e.pmid]\n",
    "    )\n",
    " \n",
    "    e.p_act_given_term[e.voxid, e.x, e.y, e.z, e.term, e.prob] = (\n",
    "        e.act_term_counts[e.term, e.voxid, e.act_term_count] &\n",
    "        e.term_counts[e.term, e.term_count] &\n",
    "        e.ns_vox_id_MNI[e.voxid, e.x, e.y, e.z] &\n",
    "        (e.prob == (e.act_term_count / e.term_count))\n",
    "    )\n",
    "    res = nl.solve_all()"
   ]
  },
  {
   "cell_type": "code",
   "execution_count": 12,
   "metadata": {},
   "outputs": [
    {
     "name": "stderr",
     "output_type": "stream",
     "text": [
      "/Users/gzanitti/miniconda3/envs/neurolang/lib/python3.7/site-packages/scipy/ndimage/measurements.py:305: DeprecationWarning: In future, it will be an error for 'np.bool_' scalars to be interpreted as an index\n",
      "  return _nd_image.find_objects(input, max_label)\n",
      "/Users/gzanitti/miniconda3/envs/neurolang/lib/python3.7/site-packages/nilearn/plotting/displays.py:600: DeprecationWarning: Using or importing the ABCs from 'collections' instead of from 'collections.abc' is deprecated, and in 3.8 it will stop working\n",
      "  if isinstance(axes, collections.Sequence):\n"
     ]
    },
    {
     "data": {
      "text/plain": [
       "<nilearn.plotting.displays.OrthoSlicer at 0x7f8239c46eb8>"
      ]
     },
     "execution_count": 12,
     "metadata": {},
     "output_type": "execute_result"
    },
    {
     "data": {
      "image/png": "[encoded data removed]",
      "text/plain": [
       "<Figure size 525.6x187.2 with 5 Axes>"
      ]
     },
     "metadata": {},
     "output_type": "display_data"
    }
   ],
   "source": [
    "mni_t1 = it.masker.volume\n",
    "\n",
    "ijk_coords = tuple(\n",
    "    (\n",
    "        np.round(\n",
    "            nib.affines.apply_affine(\n",
    "                np.linalg.inv(mni_t1.affine),\n",
    "                res['p_act_given_term'].unwrap().as_numpy_array()[:, 1:4]\n",
    "            ).astype(float).T\n",
    "        ).T\n",
    "    ).astype(int).T\n",
    ")\n",
    "\n",
    "res_img = np.zeros(mni_t1.shape)\n",
    "res_img[ijk_coords] = res['p_act_given_term'].unwrap().as_numpy_array()[:, -1]\n",
    "\n",
    "res_sp = nib.spatialimages.SpatialImage(\n",
    "    dataobj=res_img, affine=mni_t1.affine\n",
    ")\n",
    "\n",
    "plotting.plot_stat_map(res_sp)"
   ]
  },
  {
   "cell_type": "markdown",
   "metadata": {},
   "source": [
    "## Reverse Inference Terms Associated with Voxels Associated with \"Auditory\""
   ]
  },
  {
   "cell_type": "code",
   "execution_count": 13,
   "metadata": {},
   "outputs": [],
   "source": [
    "r = res['p_act_given_term'].unwrap()\n",
    "thresh_voxels = r.selection(lambda x: x[5] > .12)"
   ]
  },
  {
   "cell_type": "code",
   "execution_count": 14,
   "metadata": {},
   "outputs": [],
   "source": [
    "auditory_voxels_prob = nl.add_tuple_set(thresh_voxels.as_numpy_array(), name='auditory_voxels_prob');"
   ]
  },
  {
   "cell_type": "code",
   "execution_count": null,
   "metadata": {},
   "outputs": [
    {
     "name": "stderr",
     "output_type": "stream",
     "text": [
      "/Users/gzanitti/Projects/INRIA/NeuroLang/neurolang/datalog/aggregation.py:152: UserWarning: No check performed. Should implement check for stratified aggregation\n",
      "  \"No check performed. Should implement check for stratified\"\n"
     ]
    }
   ],
   "source": [
    "with nl.scope as e:\n",
    "    e.term_docs[e.term, e.pmid] = (\n",
    "        ns_pmid_term_tfidf[e.pmid, e.term, e.tfidf] &\n",
    "        (e.tfidf > 1e-3)        \n",
    "    )\n",
    "\n",
    "    e.term_counts[e.term, agg_count(e.pmid)] =  (\n",
    "        ns_pmid_term_tfidf[e.pmid, e.term, e.tfidf] &\n",
    "        e.term_docs[e.term, e.pmid]\n",
    "    )\n",
    "    e.act_counts[e.voxid, agg_count(e.pmid)] = ns_activations_by_id[e.pmid, e.voxid]\n",
    "    \n",
    "    e.quantity_docs[agg_count(e.pmid)] = ns_pmid_term_tfidf[e.pmid, e.term, e.tfidf]\n",
    "    \n",
    "    e.act_prob[e.voxid, e.prob] = (\n",
    "        e.act_counts[e.voxid, e.count] &\n",
    "        e.quantity_docs[e.q] &\n",
    "        (e.prob == e.count / e.q)\n",
    "    )\n",
    "    \n",
    "    e.act_term_counts[e.voxid, e.term, agg_count(e.pmid)] = (\n",
    "        auditory_voxels_prob[e.voxid, e.x, e.y, e.z, e.term_, e.prob_] &\n",
    "        e.term_docs[e.term, e.pmid] &\n",
    "        ns_activations_by_id[e.pmid, e.voxid]\n",
    "    )\n",
    "\n",
    "    e.p_term_given_act[e.term, e.voxid, e.prob] = (\n",
    "        e.act_term_counts[e.voxid, e.term, e.act_term_count] &\n",
    "        e.act_counts[e.voxid, e.act_count] &\n",
    "        (e.prob == e.act_term_count / e.act_count)\n",
    "    )\n",
    "    \n",
    "    e.e_term_given_aud_act[e.term, agg_sum(e.p)] = (\n",
    "        e.p_term_given_act[e.term, e.voxid, e.prob] & \n",
    "        e.act_prob[e.voxid, e.act_prob_] &\n",
    "        (e.p == e.prob * e.act_prob_)    \n",
    "    )\n",
    "    \n",
    "    res = nl.solve_all()"
   ]
  },
  {
   "cell_type": "code",
   "execution_count": 19,
   "metadata": {},
   "outputs": [
    {
     "data": {
      "text/plain": [
       "                   0         1\n",
       "0                001  0.000711\n",
       "1                 01  0.001320\n",
       "2                 05  0.001964\n",
       "3                 10  0.007932\n",
       "4                100  0.001416\n",
       "...              ...       ...\n",
       "3223     young older  0.000663\n",
       "3224         younger  0.002395\n",
       "3225  younger adults  0.001172\n",
       "3226           youth  0.000407\n",
       "3227            zone  0.000758\n",
       "\n",
       "[3228 rows x 2 columns]"
      ]
     },
     "execution_count": 19,
     "metadata": {},
     "output_type": "execute_result"
    }
   ],
   "source": [
    "res['e_term_given_aud_act']"
   ]
  },
  {
   "cell_type": "code",
   "execution_count": 20,
   "metadata": {},
   "outputs": [],
   "source": [
    "c = res['e_term_given_aud_act']._container.copy()"
   ]
  },
  {
   "cell_type": "markdown",
   "metadata": {},
   "source": [
    "### Keep the terms that are on the top 1%"
   ]
  },
  {
   "cell_type": "code",
   "execution_count": null,
   "metadata": {},
   "outputs": [],
   "source": [
    "c[1].hist();"
   ]
  },
  {
   "cell_type": "code",
   "execution_count": null,
   "metadata": {},
   "outputs": [],
   "source": [
    "c[c[1] >= c[1].quantile(.99)].sort_values(1, ascending=False)"
   ]
  },
  {
   "cell_type": "code",
   "execution_count": 96,
   "metadata": {},
   "outputs": [],
   "source": [
    "atlas_l_filename = './22/MPM/JulichBrain_MPMAtlas_l_N10_nlin2Stdicbm152asym2009c_publicDOI_3f6407380a69007a54f5e13f3c1ba2e6.nii.gz'\n",
    "atlas_r_filename = './22/MPM/JulichBrain_MPMAtlas_r_N10_nlin2Stdicbm152asym2009c_publicDOI_14622b49a715338ce96e96611d395646.nii.gz'\n",
    "\n",
    "img_l = image.load_img(atlas_l_filename)\n",
    "img_l = image.resample_img(img_l, it.masker.volume.affine)\n",
    "\n",
    "julich_to_ns_mni = image.resample_to_img(\n",
    "    img_l, it.masker.volume, interpolation=\"nearest\"\n",
    ")\n",
    "\n",
    "jl_data = julich_to_ns_mni.get_fdata()\n",
    "jl_unmaskes = np.nonzero(julich_to_ns_mni.get_fdata())\n",
    "\n",
    "xyz_to_jl_region = []\n",
    "for v in zip(*jl_unmaskes):\n",
    "    region = jl_data[v[0]][v[1]][v[2]]\n",
    "    coord = nib.affines.apply_affine(img_l.affine, list(v))\n",
    "    xyz_to_jl_region.append((tuple(coord), region))\n",
    "\n",
    "xyz_jl = nl.add_tuple_set(\n",
    "    xyz_to_jl_region,\n",
    "    name=\"xyz_julich\",\n",
    ")"
   ]
  },
  {
   "cell_type": "code",
   "execution_count": 107,
   "metadata": {},
   "outputs": [],
   "source": [
    "img_l = image.load_img(atlas_r_filename)\n",
    "\n",
    "#image.resample_img(img_l, it.masker.volume.affine)"
   ]
  },
  {
   "cell_type": "code",
   "execution_count": 110,
   "metadata": {},
   "outputs": [
    {
     "data": {
      "text/plain": [
       "array([[   1.,    0.,    0.,  -96.],\n",
       "       [   0.,    1.,    0., -132.],\n",
       "       [   0.,    0.,    1.,  -78.],\n",
       "       [   0.,    0.,    0.,    1.]])"
      ]
     },
     "execution_count": 110,
     "metadata": {},
     "output_type": "execute_result"
    }
   ],
   "source": [
    "img_l.affine"
   ]
  },
  {
   "cell_type": "code",
   "execution_count": 119,
   "metadata": {},
   "outputs": [
    {
     "name": "stderr",
     "output_type": "stream",
     "text": [
      "/Users/gzanitti/miniconda3/envs/neurolang/lib/python3.7/site-packages/scipy/ndimage/measurements.py:305: DeprecationWarning: In future, it will be an error for 'np.bool_' scalars to be interpreted as an index\n",
      "  return _nd_image.find_objects(input, max_label)\n"
     ]
    },
    {
     "data": {
      "text/plain": [
       "<nilearn.plotting.displays.OrthoSlicer at 0x7f888ec5ee48>"
      ]
     },
     "execution_count": 119,
     "metadata": {},
     "output_type": "execute_result"
    },
    {
     "data": {
      "image/png": "[encoded data removed]",
      "text/plain": [
       "<Figure size 475.2x187.2 with 4 Axes>"
      ]
     },
     "metadata": {},
     "output_type": "display_data"
    },
    {
     "data": {
      "image/png": "[encoded data removed]",
      "text/plain": [
       "<Figure size 475.2x187.2 with 4 Axes>"
      ]
     },
     "metadata": {},
     "output_type": "display_data"
    }
   ],
   "source": [
    "import nibabel as nib\n",
    "from nilearn import plotting\n",
    "import nilearn\n",
    "mpm = nib.load('./22/MPM/JulichBrain_MPMAtlas_r_N10_nlin2Stdicbm152asym2009c_publicDOI_14622b49a715338ce96e96611d395646.nii.gz')\n",
    "new_data = mpm.get_fdata()\n",
    "new_data[new_data != 30] = 0\n",
    "mpm_31 = nib.spatialimages.SpatialImage(new_data, affine=mpm.affine)\n",
    "plotting.plot_roi(mpm_31)\n",
    "ns = nib.load('/Users/gzanitti/miniconda3/envs/neurolang/lib/python3.7/site-packages/neurosynth/resources/MNI152_T1_2mm_brain.nii.gz')\n",
    "mpm_31_2 = nilearn.image.resample_to_img(mpm_31, ns, interpolation='nearest')\n",
    "plotting.plot_roi(mpm_31_2, bg_img=ns)"
   ]
  },
  {
   "cell_type": "code",
   "execution_count": 99,
   "metadata": {},
   "outputs": [
    {
     "data": {
      "text/plain": [
       "<nilearn.plotting.displays.OrthoSlicer at 0x7f88898e6a20>"
      ]
     },
     "execution_count": 99,
     "metadata": {},
     "output_type": "execute_result"
    },
    {
     "data": {
      "image/png": "[encoded data removed]",
      "text/plain": [
       "<Figure size 475.2x187.2 with 4 Axes>"
      ]
     },
     "metadata": {},
     "output_type": "display_data"
    }
   ],
   "source": [
    "plotting.plot_img(\n",
    "    img_l,\n",
    "    #title='Tag \"auditory\" (Neurolang)', \n",
    "\n",
    ")"
   ]
  },
  {
   "cell_type": "code",
   "execution_count": 120,
   "metadata": {},
   "outputs": [
    {
     "data": {
      "text/plain": [
       "<nibabel.nifti1.Nifti1Image at 0x7fa6c7306320>"
      ]
     },
     "execution_count": 120,
     "metadata": {},
     "output_type": "execute_result"
    }
   ],
   "source": [
    "it.masker.volume"
   ]
  },
  {
   "cell_type": "code",
   "execution_count": 89,
   "metadata": {},
   "outputs": [
    {
     "data": {
      "text/plain": [
       "[((64.0, -30.0, 20.0), 31.0),\n",
       " ((64.0, -30.0, 22.0), 31.0),\n",
       " ((64.0, -30.0, 24.0), 31.0),\n",
       " ((64.0, -28.0, 18.0), 31.0),\n",
       " ((64.0, -28.0, 20.0), 31.0),\n",
       " ((64.0, -28.0, 22.0), 31.0),\n",
       " ((64.0, -28.0, 24.0), 31.0),\n",
       " ((64.0, -26.0, 16.0), 31.0),\n",
       " ((64.0, -26.0, 18.0), 31.0),\n",
       " ((64.0, -26.0, 20.0), 31.0),\n",
       " ((64.0, -26.0, 22.0), 31.0),\n",
       " ((62.0, -32.0, 22.0), 31.0),\n",
       " ((62.0, -30.0, 18.0), 31.0),\n",
       " ((62.0, -30.0, 20.0), 31.0),\n",
       " ((62.0, -30.0, 22.0), 31.0),\n",
       " ((62.0, -30.0, 24.0), 31.0),\n",
       " ((62.0, -30.0, 26.0), 31.0),\n",
       " ((62.0, -28.0, 16.0), 31.0),\n",
       " ((62.0, -28.0, 18.0), 31.0),\n",
       " ((62.0, -28.0, 20.0), 31.0),\n",
       " ((62.0, -28.0, 22.0), 31.0),\n",
       " ((62.0, -28.0, 24.0), 31.0),\n",
       " ((62.0, -28.0, 26.0), 31.0),\n",
       " ((62.0, -28.0, 34.0), 31.0),\n",
       " ((62.0, -28.0, 36.0), 31.0),\n",
       " ((62.0, -26.0, 18.0), 31.0),\n",
       " ((62.0, -26.0, 20.0), 31.0),\n",
       " ((62.0, -26.0, 22.0), 31.0),\n",
       " ((62.0, -26.0, 24.0), 31.0),\n",
       " ((62.0, -26.0, 26.0), 31.0),\n",
       " ((62.0, -26.0, 28.0), 31.0),\n",
       " ((62.0, -26.0, 34.0), 31.0),\n",
       " ((62.0, -26.0, 36.0), 31.0),\n",
       " ((62.0, -24.0, 20.0), 31.0),\n",
       " ((62.0, -24.0, 22.0), 31.0),\n",
       " ((62.0, -24.0, 26.0), 31.0),\n",
       " ((62.0, -24.0, 28.0), 31.0),\n",
       " ((62.0, -24.0, 34.0), 31.0),\n",
       " ((62.0, -22.0, 28.0), 31.0),\n",
       " ((60.0, -32.0, 18.0), 31.0),\n",
       " ((60.0, -32.0, 20.0), 31.0),\n",
       " ((60.0, -32.0, 22.0), 31.0),\n",
       " ((60.0, -32.0, 26.0), 31.0),\n",
       " ((60.0, -32.0, 28.0), 31.0),\n",
       " ((60.0, -30.0, 18.0), 31.0),\n",
       " ((60.0, -30.0, 20.0), 31.0),\n",
       " ((60.0, -30.0, 22.0), 31.0),\n",
       " ((60.0, -30.0, 24.0), 31.0),\n",
       " ((60.0, -30.0, 26.0), 31.0),\n",
       " ((60.0, -30.0, 28.0), 31.0),\n",
       " ((60.0, -30.0, 34.0), 31.0),\n",
       " ((60.0, -30.0, 36.0), 31.0),\n",
       " ((60.0, -30.0, 38.0), 31.0),\n",
       " ((60.0, -28.0, 16.0), 31.0),\n",
       " ((60.0, -28.0, 18.0), 31.0),\n",
       " ((60.0, -28.0, 20.0), 31.0),\n",
       " ((60.0, -28.0, 22.0), 31.0),\n",
       " ((60.0, -28.0, 24.0), 31.0),\n",
       " ((60.0, -28.0, 26.0), 31.0),\n",
       " ((60.0, -28.0, 28.0), 31.0),\n",
       " ((60.0, -28.0, 30.0), 31.0),\n",
       " ((60.0, -28.0, 32.0), 31.0),\n",
       " ((60.0, -28.0, 34.0), 31.0),\n",
       " ((60.0, -28.0, 36.0), 31.0),\n",
       " ((60.0, -28.0, 38.0), 31.0),\n",
       " ((60.0, -28.0, 40.0), 31.0),\n",
       " ((60.0, -26.0, 18.0), 31.0),\n",
       " ((60.0, -26.0, 20.0), 31.0),\n",
       " ((60.0, -26.0, 22.0), 31.0),\n",
       " ((60.0, -26.0, 24.0), 31.0),\n",
       " ((60.0, -26.0, 26.0), 31.0),\n",
       " ((60.0, -26.0, 28.0), 31.0),\n",
       " ((60.0, -26.0, 30.0), 31.0),\n",
       " ((60.0, -26.0, 32.0), 31.0),\n",
       " ((60.0, -26.0, 34.0), 31.0),\n",
       " ((60.0, -24.0, 20.0), 31.0),\n",
       " ((60.0, -24.0, 26.0), 31.0),\n",
       " ((60.0, -24.0, 28.0), 31.0),\n",
       " ((60.0, -24.0, 30.0), 31.0),\n",
       " ((60.0, -24.0, 32.0), 31.0),\n",
       " ((58.0, -34.0, 20.0), 31.0),\n",
       " ((58.0, -34.0, 22.0), 31.0),\n",
       " ((58.0, -34.0, 24.0), 31.0),\n",
       " ((58.0, -34.0, 26.0), 31.0),\n",
       " ((58.0, -32.0, 18.0), 31.0),\n",
       " ((58.0, -32.0, 20.0), 31.0),\n",
       " ((58.0, -32.0, 22.0), 31.0),\n",
       " ((58.0, -32.0, 24.0), 31.0),\n",
       " ((58.0, -32.0, 26.0), 31.0),\n",
       " ((58.0, -32.0, 28.0), 31.0),\n",
       " ((58.0, -32.0, 30.0), 31.0),\n",
       " ((58.0, -32.0, 36.0), 31.0),\n",
       " ((58.0, -32.0, 38.0), 31.0),\n",
       " ((58.0, -30.0, 16.0), 31.0),\n",
       " ((58.0, -30.0, 18.0), 31.0),\n",
       " ((58.0, -30.0, 20.0), 31.0),\n",
       " ((58.0, -30.0, 24.0), 31.0),\n",
       " ((58.0, -30.0, 26.0), 31.0),\n",
       " ((58.0, -30.0, 28.0), 31.0),\n",
       " ((58.0, -30.0, 30.0), 31.0),\n",
       " ((58.0, -30.0, 32.0), 31.0),\n",
       " ((58.0, -30.0, 34.0), 31.0),\n",
       " ((58.0, -30.0, 36.0), 31.0),\n",
       " ((58.0, -30.0, 38.0), 31.0),\n",
       " ((58.0, -30.0, 40.0), 31.0),\n",
       " ((58.0, -28.0, 16.0), 31.0),\n",
       " ((58.0, -28.0, 18.0), 31.0),\n",
       " ((58.0, -28.0, 20.0), 31.0),\n",
       " ((58.0, -28.0, 22.0), 31.0),\n",
       " ((58.0, -28.0, 24.0), 31.0),\n",
       " ((58.0, -28.0, 26.0), 31.0),\n",
       " ((58.0, -28.0, 28.0), 31.0),\n",
       " ((58.0, -28.0, 30.0), 31.0),\n",
       " ((58.0, -28.0, 32.0), 31.0),\n",
       " ((58.0, -28.0, 34.0), 31.0),\n",
       " ((58.0, -28.0, 36.0), 31.0),\n",
       " ((58.0, -28.0, 38.0), 31.0),\n",
       " ((58.0, -28.0, 40.0), 31.0),\n",
       " ((58.0, -26.0, 16.0), 31.0),\n",
       " ((58.0, -26.0, 18.0), 31.0),\n",
       " ((58.0, -26.0, 20.0), 31.0),\n",
       " ((58.0, -26.0, 22.0), 31.0),\n",
       " ((58.0, -26.0, 24.0), 31.0),\n",
       " ((58.0, -26.0, 26.0), 31.0),\n",
       " ((58.0, -26.0, 28.0), 31.0),\n",
       " ((58.0, -26.0, 30.0), 31.0),\n",
       " ((58.0, -26.0, 32.0), 31.0),\n",
       " ((58.0, -24.0, 20.0), 31.0),\n",
       " ((58.0, -24.0, 28.0), 31.0),\n",
       " ((58.0, -24.0, 30.0), 31.0),\n",
       " ((58.0, -24.0, 32.0), 31.0),\n",
       " ((56.0, -36.0, 24.0), 31.0),\n",
       " ((56.0, -34.0, 18.0), 31.0),\n",
       " ((56.0, -34.0, 20.0), 31.0),\n",
       " ((56.0, -34.0, 22.0), 31.0),\n",
       " ((56.0, -34.0, 24.0), 31.0),\n",
       " ((56.0, -34.0, 26.0), 31.0),\n",
       " ((56.0, -34.0, 28.0), 31.0),\n",
       " ((56.0, -32.0, 18.0), 31.0),\n",
       " ((56.0, -32.0, 20.0), 31.0),\n",
       " ((56.0, -32.0, 22.0), 31.0),\n",
       " ((56.0, -32.0, 24.0), 31.0),\n",
       " ((56.0, -32.0, 26.0), 31.0),\n",
       " ((56.0, -32.0, 28.0), 31.0),\n",
       " ((56.0, -32.0, 30.0), 31.0),\n",
       " ((56.0, -32.0, 32.0), 31.0),\n",
       " ((56.0, -32.0, 34.0), 31.0),\n",
       " ((56.0, -32.0, 36.0), 31.0),\n",
       " ((56.0, -32.0, 38.0), 31.0),\n",
       " ((56.0, -30.0, 18.0), 31.0),\n",
       " ((56.0, -30.0, 20.0), 31.0),\n",
       " ((56.0, -30.0, 22.0), 31.0),\n",
       " ((56.0, -30.0, 24.0), 31.0),\n",
       " ((56.0, -30.0, 26.0), 31.0),\n",
       " ((56.0, -30.0, 28.0), 31.0),\n",
       " ((56.0, -30.0, 30.0), 31.0),\n",
       " ((56.0, -30.0, 32.0), 31.0),\n",
       " ((56.0, -30.0, 34.0), 31.0),\n",
       " ((56.0, -30.0, 36.0), 31.0),\n",
       " ((56.0, -30.0, 38.0), 31.0),\n",
       " ((56.0, -30.0, 40.0), 31.0),\n",
       " ((56.0, -28.0, 16.0), 31.0),\n",
       " ((56.0, -28.0, 18.0), 31.0),\n",
       " ((56.0, -28.0, 20.0), 31.0),\n",
       " ((56.0, -28.0, 22.0), 31.0),\n",
       " ((56.0, -28.0, 24.0), 31.0),\n",
       " ((56.0, -28.0, 26.0), 31.0),\n",
       " ((56.0, -28.0, 28.0), 31.0),\n",
       " ((56.0, -28.0, 30.0), 31.0),\n",
       " ((56.0, -28.0, 32.0), 31.0),\n",
       " ((56.0, -28.0, 34.0), 31.0),\n",
       " ((56.0, -26.0, 18.0), 31.0),\n",
       " ((56.0, -26.0, 20.0), 31.0),\n",
       " ((56.0, -26.0, 22.0), 31.0),\n",
       " ((56.0, -26.0, 24.0), 31.0),\n",
       " ((56.0, -26.0, 26.0), 31.0),\n",
       " ((56.0, -26.0, 28.0), 31.0),\n",
       " ((56.0, -26.0, 30.0), 31.0),\n",
       " ((54.0, -34.0, 22.0), 31.0),\n",
       " ((54.0, -34.0, 24.0), 31.0),\n",
       " ((54.0, -34.0, 26.0), 31.0),\n",
       " ((54.0, -34.0, 28.0), 31.0),\n",
       " ((54.0, -34.0, 30.0), 31.0),\n",
       " ((54.0, -32.0, 20.0), 31.0),\n",
       " ((54.0, -32.0, 22.0), 31.0),\n",
       " ((54.0, -32.0, 24.0), 31.0),\n",
       " ((54.0, -32.0, 26.0), 31.0),\n",
       " ((54.0, -32.0, 28.0), 31.0),\n",
       " ((54.0, -32.0, 30.0), 31.0),\n",
       " ((54.0, -32.0, 32.0), 31.0),\n",
       " ((54.0, -32.0, 34.0), 31.0),\n",
       " ((54.0, -32.0, 36.0), 31.0),\n",
       " ((54.0, -30.0, 18.0), 31.0),\n",
       " ((54.0, -30.0, 22.0), 31.0),\n",
       " ((54.0, -30.0, 24.0), 31.0),\n",
       " ((54.0, -30.0, 26.0), 31.0),\n",
       " ((54.0, -30.0, 28.0), 31.0),\n",
       " ((54.0, -30.0, 30.0), 31.0),\n",
       " ((54.0, -30.0, 32.0), 31.0),\n",
       " ((54.0, -30.0, 34.0), 31.0),\n",
       " ((54.0, -30.0, 36.0), 31.0),\n",
       " ((54.0, -28.0, 18.0), 31.0),\n",
       " ((54.0, -28.0, 20.0), 31.0),\n",
       " ((54.0, -28.0, 22.0), 31.0),\n",
       " ((54.0, -28.0, 24.0), 31.0),\n",
       " ((54.0, -28.0, 26.0), 31.0),\n",
       " ((54.0, -28.0, 28.0), 31.0),\n",
       " ((54.0, -28.0, 30.0), 31.0),\n",
       " ((54.0, -28.0, 32.0), 31.0),\n",
       " ((54.0, -26.0, 24.0), 31.0),\n",
       " ((54.0, -26.0, 26.0), 31.0),\n",
       " ((54.0, -26.0, 28.0), 31.0),\n",
       " ((54.0, -26.0, 30.0), 31.0),\n",
       " ((52.0, -34.0, 22.0), 31.0),\n",
       " ((52.0, -34.0, 24.0), 31.0),\n",
       " ((52.0, -34.0, 26.0), 31.0),\n",
       " ((52.0, -34.0, 28.0), 31.0),\n",
       " ((52.0, -34.0, 30.0), 31.0),\n",
       " ((52.0, -32.0, 20.0), 31.0),\n",
       " ((52.0, -32.0, 22.0), 31.0),\n",
       " ((52.0, -32.0, 24.0), 31.0),\n",
       " ((52.0, -32.0, 26.0), 31.0),\n",
       " ((52.0, -32.0, 28.0), 31.0),\n",
       " ((52.0, -32.0, 30.0), 31.0),\n",
       " ((52.0, -32.0, 32.0), 31.0),\n",
       " ((52.0, -32.0, 34.0), 31.0),\n",
       " ((52.0, -30.0, 20.0), 31.0),\n",
       " ((52.0, -30.0, 22.0), 31.0),\n",
       " ((52.0, -30.0, 24.0), 31.0),\n",
       " ((52.0, -30.0, 26.0), 31.0),\n",
       " ((52.0, -30.0, 28.0), 31.0),\n",
       " ((52.0, -30.0, 30.0), 31.0),\n",
       " ((52.0, -30.0, 32.0), 31.0),\n",
       " ((52.0, -30.0, 34.0), 31.0),\n",
       " ((52.0, -28.0, 18.0), 31.0),\n",
       " ((52.0, -28.0, 20.0), 31.0),\n",
       " ((52.0, -28.0, 22.0), 31.0),\n",
       " ((52.0, -28.0, 24.0), 31.0),\n",
       " ((52.0, -28.0, 26.0), 31.0),\n",
       " ((52.0, -28.0, 28.0), 31.0),\n",
       " ((52.0, -28.0, 30.0), 31.0),\n",
       " ((52.0, -26.0, 26.0), 31.0),\n",
       " ((50.0, -34.0, 22.0), 31.0),\n",
       " ((50.0, -34.0, 24.0), 31.0),\n",
       " ((50.0, -34.0, 26.0), 31.0),\n",
       " ((50.0, -34.0, 28.0), 31.0),\n",
       " ((50.0, -34.0, 30.0), 31.0),\n",
       " ((50.0, -32.0, 20.0), 31.0),\n",
       " ((50.0, -32.0, 22.0), 31.0),\n",
       " ((50.0, -32.0, 24.0), 31.0),\n",
       " ((50.0, -32.0, 26.0), 31.0),\n",
       " ((50.0, -32.0, 28.0), 31.0),\n",
       " ((50.0, -32.0, 30.0), 31.0),\n",
       " ((50.0, -32.0, 32.0), 31.0),\n",
       " ((50.0, -30.0, 20.0), 31.0),\n",
       " ((50.0, -30.0, 22.0), 31.0),\n",
       " ((50.0, -30.0, 24.0), 31.0),\n",
       " ((50.0, -30.0, 26.0), 31.0),\n",
       " ((50.0, -30.0, 28.0), 31.0),\n",
       " ((50.0, -30.0, 30.0), 31.0),\n",
       " ((50.0, -30.0, 32.0), 31.0),\n",
       " ((50.0, -28.0, 18.0), 31.0),\n",
       " ((50.0, -28.0, 24.0), 31.0),\n",
       " ((50.0, -28.0, 26.0), 31.0),\n",
       " ((50.0, -28.0, 28.0), 31.0),\n",
       " ((50.0, -28.0, 30.0), 31.0),\n",
       " ((48.0, -34.0, 22.0), 31.0),\n",
       " ((48.0, -34.0, 24.0), 31.0),\n",
       " ((48.0, -34.0, 26.0), 31.0),\n",
       " ((48.0, -34.0, 28.0), 31.0),\n",
       " ((48.0, -32.0, 20.0), 31.0),\n",
       " ((48.0, -32.0, 22.0), 31.0),\n",
       " ((48.0, -32.0, 24.0), 31.0),\n",
       " ((48.0, -32.0, 26.0), 31.0),\n",
       " ((48.0, -32.0, 28.0), 31.0),\n",
       " ((48.0, -32.0, 30.0), 31.0),\n",
       " ((48.0, -30.0, 18.0), 31.0),\n",
       " ((48.0, -30.0, 20.0), 31.0),\n",
       " ((48.0, -30.0, 22.0), 31.0),\n",
       " ((48.0, -30.0, 24.0), 31.0),\n",
       " ((48.0, -30.0, 26.0), 31.0),\n",
       " ((48.0, -30.0, 28.0), 31.0),\n",
       " ((48.0, -30.0, 30.0), 31.0),\n",
       " ((48.0, -28.0, 24.0), 31.0),\n",
       " ((48.0, -28.0, 26.0), 31.0),\n",
       " ((48.0, -28.0, 28.0), 31.0),\n",
       " ((46.0, -34.0, 20.0), 31.0),\n",
       " ((46.0, -34.0, 22.0), 31.0),\n",
       " ((46.0, -34.0, 24.0), 31.0),\n",
       " ((46.0, -34.0, 26.0), 31.0),\n",
       " ((46.0, -34.0, 28.0), 31.0),\n",
       " ((46.0, -32.0, 20.0), 31.0),\n",
       " ((46.0, -32.0, 22.0), 31.0),\n",
       " ((46.0, -32.0, 24.0), 31.0),\n",
       " ((46.0, -32.0, 26.0), 31.0),\n",
       " ((46.0, -32.0, 28.0), 31.0),\n",
       " ((46.0, -30.0, 18.0), 31.0),\n",
       " ((46.0, -30.0, 20.0), 31.0),\n",
       " ((46.0, -30.0, 22.0), 31.0),\n",
       " ((46.0, -30.0, 24.0), 31.0),\n",
       " ((46.0, -30.0, 26.0), 31.0),\n",
       " ((46.0, -30.0, 28.0), 31.0),\n",
       " ((46.0, -28.0, 24.0), 31.0),\n",
       " ((46.0, -28.0, 26.0), 31.0),\n",
       " ((46.0, -28.0, 28.0), 31.0),\n",
       " ((44.0, -34.0, 20.0), 31.0),\n",
       " ((44.0, -34.0, 22.0), 31.0),\n",
       " ((44.0, -34.0, 24.0), 31.0),\n",
       " ((44.0, -34.0, 26.0), 31.0),\n",
       " ((44.0, -32.0, 18.0), 31.0),\n",
       " ((44.0, -32.0, 20.0), 31.0),\n",
       " ((44.0, -32.0, 22.0), 31.0),\n",
       " ((44.0, -32.0, 24.0), 31.0),\n",
       " ((44.0, -32.0, 26.0), 31.0),\n",
       " ((44.0, -30.0, 18.0), 31.0),\n",
       " ((44.0, -30.0, 20.0), 31.0),\n",
       " ((44.0, -30.0, 22.0), 31.0),\n",
       " ((44.0, -30.0, 24.0), 31.0),\n",
       " ((44.0, -30.0, 26.0), 31.0),\n",
       " ((44.0, -30.0, 28.0), 31.0),\n",
       " ((44.0, -28.0, 16.0), 31.0),\n",
       " ((44.0, -28.0, 18.0), 31.0),\n",
       " ((44.0, -28.0, 22.0), 31.0),\n",
       " ((44.0, -28.0, 24.0), 31.0),\n",
       " ((44.0, -28.0, 26.0), 31.0),\n",
       " ((42.0, -34.0, 20.0), 31.0),\n",
       " ((42.0, -34.0, 22.0), 31.0),\n",
       " ((42.0, -34.0, 24.0), 31.0),\n",
       " ((42.0, -32.0, 18.0), 31.0),\n",
       " ((42.0, -32.0, 20.0), 31.0),\n",
       " ((42.0, -32.0, 22.0), 31.0),\n",
       " ((42.0, -32.0, 24.0), 31.0),\n",
       " ((42.0, -32.0, 26.0), 31.0),\n",
       " ((42.0, -30.0, 16.0), 31.0),\n",
       " ((42.0, -30.0, 18.0), 31.0),\n",
       " ((42.0, -30.0, 20.0), 31.0),\n",
       " ((42.0, -30.0, 22.0), 31.0),\n",
       " ((42.0, -30.0, 24.0), 31.0),\n",
       " ((42.0, -30.0, 26.0), 31.0),\n",
       " ((42.0, -28.0, 18.0), 31.0),\n",
       " ((42.0, -28.0, 20.0), 31.0),\n",
       " ((42.0, -28.0, 22.0), 31.0),\n",
       " ((42.0, -26.0, 18.0), 31.0),\n",
       " ((40.0, -34.0, 20.0), 31.0),\n",
       " ((40.0, -34.0, 22.0), 31.0),\n",
       " ((40.0, -32.0, 18.0), 31.0),\n",
       " ((40.0, -32.0, 20.0), 31.0),\n",
       " ((40.0, -32.0, 22.0), 31.0),\n",
       " ((40.0, -30.0, 18.0), 31.0),\n",
       " ((40.0, -30.0, 20.0), 31.0),\n",
       " ((40.0, -30.0, 22.0), 31.0),\n",
       " ((40.0, -28.0, 20.0), 31.0),\n",
       " ((40.0, -28.0, 22.0), 31.0),\n",
       " ((40.0, -26.0, 20.0), 31.0),\n",
       " ((38.0, -32.0, 20.0), 31.0),\n",
       " ((38.0, -32.0, 22.0), 31.0),\n",
       " ((38.0, -30.0, 20.0), 31.0),\n",
       " ((38.0, -30.0, 22.0), 31.0),\n",
       " ((38.0, -28.0, 20.0), 31.0),\n",
       " ((38.0, -28.0, 22.0), 31.0),\n",
       " ((36.0, -30.0, 22.0), 31.0)]"
      ]
     },
     "execution_count": 89,
     "metadata": {},
     "output_type": "execute_result"
    }
   ],
   "source": [
    "xyz_to_jl_region"
   ]
  },
  {
   "cell_type": "code",
   "execution_count": 48,
   "metadata": {},
   "outputs": [
    {
     "data": {
      "text/plain": [
       "array([[  -2.,    0.,    0.,   90.],\n",
       "       [   0.,    2.,    0., -126.],\n",
       "       [   0.,    0.,    2.,  -72.],\n",
       "       [   0.,    0.,    0.,    1.]])"
      ]
     },
     "execution_count": 48,
     "metadata": {},
     "output_type": "execute_result"
    }
   ],
   "source": [
    "it.masker.volume.affine"
   ]
  },
  {
   "cell_type": "code",
   "execution_count": 73,
   "metadata": {},
   "outputs": [],
   "source": [
    "jl = zip(*jl_unmaskes)"
   ]
  },
  {
   "cell_type": "code",
   "execution_count": 76,
   "metadata": {},
   "outputs": [],
   "source": [
    "img_l = nib.affines.apply_affine(it.masker.volume.affine, list(zip(*jl_unmaskes)))"
   ]
  },
  {
   "cell_type": "code",
   "execution_count": 78,
   "metadata": {},
   "outputs": [
    {
     "data": {
      "text/plain": [
       "array([[ 72., -36.,  -2.],\n",
       "       [ 72., -34.,  -4.],\n",
       "       [ 72., -34.,  -2.],\n",
       "       ...,\n",
       "       [ -6., -40.,  54.],\n",
       "       [ -6., -34.,  50.],\n",
       "       [ -6., -26.,  60.]])"
      ]
     },
     "execution_count": 78,
     "metadata": {},
     "output_type": "execute_result"
    }
   ],
   "source": [
    "img_l"
   ]
  },
  {
   "cell_type": "code",
   "execution_count": 79,
   "metadata": {},
   "outputs": [
    {
     "name": "stderr",
     "output_type": "stream",
     "text": [
      "/Users/gzanitti/miniconda3/envs/neurolang/lib/python3.7/site-packages/nilearn/_utils/niimg.py:150: DeprecationWarning: Using or importing the ABCs from 'collections' instead of from 'collections.abc' is deprecated, and in 3.8 it will stop working\n",
      "  if isinstance(niimgs, collections.Iterable):\n"
     ]
    },
    {
     "ename": "TypeError",
     "evalue": "Data given cannot be loaded because it is not compatible with nibabel format:\n72.0",
     "output_type": "error",
     "traceback": [
      "\u001b[0;31m---------------------------------------------------------------------------\u001b[0m",
      "\u001b[0;31mTypeError\u001b[0m                                 Traceback (most recent call last)",
      "\u001b[0;32m<ipython-input-79-30f8cbc1e910>\u001b[0m in \u001b[0;36m<module>\u001b[0;34m\u001b[0m\n\u001b[1;32m      1\u001b[0m julich_to_ns_mni = image.resample_to_img(\n\u001b[0;32m----> 2\u001b[0;31m     \u001b[0mimg_l\u001b[0m\u001b[0;34m,\u001b[0m \u001b[0mit\u001b[0m\u001b[0;34m.\u001b[0m\u001b[0mmasker\u001b[0m\u001b[0;34m.\u001b[0m\u001b[0mvolume\u001b[0m\u001b[0;34m,\u001b[0m \u001b[0minterpolation\u001b[0m\u001b[0;34m=\u001b[0m\u001b[0;34m\"nearest\"\u001b[0m\u001b[0;34m\u001b[0m\u001b[0;34m\u001b[0m\u001b[0m\n\u001b[0m\u001b[1;32m      3\u001b[0m )\n",
      "\u001b[0;32m~/miniconda3/envs/neurolang/lib/python3.7/site-packages/nilearn/image/resampling.py\u001b[0m in \u001b[0;36mresample_to_img\u001b[0;34m(source_img, target_img, interpolation, copy, order, clip, fill_value)\u001b[0m\n\u001b[1;32m    617\u001b[0m                         \u001b[0mtarget_shape\u001b[0m\u001b[0;34m=\u001b[0m\u001b[0mtarget_shape\u001b[0m\u001b[0;34m,\u001b[0m\u001b[0;34m\u001b[0m\u001b[0;34m\u001b[0m\u001b[0m\n\u001b[1;32m    618\u001b[0m                         \u001b[0minterpolation\u001b[0m\u001b[0;34m=\u001b[0m\u001b[0minterpolation\u001b[0m\u001b[0;34m,\u001b[0m \u001b[0mcopy\u001b[0m\u001b[0;34m=\u001b[0m\u001b[0mcopy\u001b[0m\u001b[0;34m,\u001b[0m \u001b[0morder\u001b[0m\u001b[0;34m=\u001b[0m\u001b[0morder\u001b[0m\u001b[0;34m,\u001b[0m\u001b[0;34m\u001b[0m\u001b[0;34m\u001b[0m\u001b[0m\n\u001b[0;32m--> 619\u001b[0;31m                         clip=clip, fill_value=fill_value)\n\u001b[0m\u001b[1;32m    620\u001b[0m \u001b[0;34m\u001b[0m\u001b[0m\n\u001b[1;32m    621\u001b[0m \u001b[0;34m\u001b[0m\u001b[0m\n",
      "\u001b[0;32m~/miniconda3/envs/neurolang/lib/python3.7/site-packages/nilearn/image/resampling.py\u001b[0m in \u001b[0;36mresample_img\u001b[0;34m(img, target_affine, target_shape, interpolation, copy, order, clip, fill_value)\u001b[0m\n\u001b[1;32m    418\u001b[0m         \u001b[0minput_img_is_string\u001b[0m \u001b[0;34m=\u001b[0m \u001b[0;32mFalse\u001b[0m\u001b[0;34m\u001b[0m\u001b[0;34m\u001b[0m\u001b[0m\n\u001b[1;32m    419\u001b[0m \u001b[0;34m\u001b[0m\u001b[0m\n\u001b[0;32m--> 420\u001b[0;31m     \u001b[0mimg\u001b[0m \u001b[0;34m=\u001b[0m \u001b[0m_utils\u001b[0m\u001b[0;34m.\u001b[0m\u001b[0mcheck_niimg\u001b[0m\u001b[0;34m(\u001b[0m\u001b[0mimg\u001b[0m\u001b[0;34m)\u001b[0m\u001b[0;34m\u001b[0m\u001b[0;34m\u001b[0m\u001b[0m\n\u001b[0m\u001b[1;32m    421\u001b[0m \u001b[0;34m\u001b[0m\u001b[0m\n\u001b[1;32m    422\u001b[0m     \u001b[0;31m# noop cases\u001b[0m\u001b[0;34m\u001b[0m\u001b[0;34m\u001b[0m\u001b[0;34m\u001b[0m\u001b[0m\n",
      "\u001b[0;32m~/miniconda3/envs/neurolang/lib/python3.7/site-packages/nilearn/_utils/niimg_conversions.py\u001b[0m in \u001b[0;36mcheck_niimg\u001b[0;34m(niimg, ensure_ndim, atleast_4d, dtype, return_iterator, wildcards)\u001b[0m\n\u001b[1;32m    266\u001b[0m             return _iter_check_niimg(niimg, ensure_ndim=ensure_ndim,\n\u001b[1;32m    267\u001b[0m                                      dtype=dtype)\n\u001b[0;32m--> 268\u001b[0;31m         \u001b[0;32mreturn\u001b[0m \u001b[0mconcat_niimgs\u001b[0m\u001b[0;34m(\u001b[0m\u001b[0mniimg\u001b[0m\u001b[0;34m,\u001b[0m \u001b[0mensure_ndim\u001b[0m\u001b[0;34m=\u001b[0m\u001b[0mensure_ndim\u001b[0m\u001b[0;34m,\u001b[0m \u001b[0mdtype\u001b[0m\u001b[0;34m=\u001b[0m\u001b[0mdtype\u001b[0m\u001b[0;34m)\u001b[0m\u001b[0;34m\u001b[0m\u001b[0;34m\u001b[0m\u001b[0m\n\u001b[0m\u001b[1;32m    269\u001b[0m \u001b[0;34m\u001b[0m\u001b[0m\n\u001b[1;32m    270\u001b[0m     \u001b[0;31m# Otherwise, it should be a filename or a SpatialImage, we load it\u001b[0m\u001b[0;34m\u001b[0m\u001b[0;34m\u001b[0m\u001b[0;34m\u001b[0m\u001b[0m\n",
      "\u001b[0;32m~/miniconda3/envs/neurolang/lib/python3.7/site-packages/nilearn/_utils/niimg_conversions.py\u001b[0m in \u001b[0;36mconcat_niimgs\u001b[0;34m(niimgs, dtype, ensure_ndim, memory, memory_level, auto_resample, verbose)\u001b[0m\n\u001b[1;32m    426\u001b[0m     \u001b[0miterator\u001b[0m\u001b[0;34m,\u001b[0m \u001b[0mliterator\u001b[0m \u001b[0;34m=\u001b[0m \u001b[0mitertools\u001b[0m\u001b[0;34m.\u001b[0m\u001b[0mtee\u001b[0m\u001b[0;34m(\u001b[0m\u001b[0miter\u001b[0m\u001b[0;34m(\u001b[0m\u001b[0mniimgs\u001b[0m\u001b[0;34m)\u001b[0m\u001b[0;34m)\u001b[0m\u001b[0;34m\u001b[0m\u001b[0;34m\u001b[0m\u001b[0m\n\u001b[1;32m    427\u001b[0m     \u001b[0;32mtry\u001b[0m\u001b[0;34m:\u001b[0m\u001b[0;34m\u001b[0m\u001b[0;34m\u001b[0m\u001b[0m\n\u001b[0;32m--> 428\u001b[0;31m         \u001b[0mfirst_niimg\u001b[0m \u001b[0;34m=\u001b[0m \u001b[0mcheck_niimg\u001b[0m\u001b[0;34m(\u001b[0m\u001b[0mnext\u001b[0m\u001b[0;34m(\u001b[0m\u001b[0mliterator\u001b[0m\u001b[0;34m)\u001b[0m\u001b[0;34m,\u001b[0m \u001b[0mensure_ndim\u001b[0m\u001b[0;34m=\u001b[0m\u001b[0mndim\u001b[0m\u001b[0;34m)\u001b[0m\u001b[0;34m\u001b[0m\u001b[0;34m\u001b[0m\u001b[0m\n\u001b[0m\u001b[1;32m    429\u001b[0m     \u001b[0;32mexcept\u001b[0m \u001b[0mStopIteration\u001b[0m\u001b[0;34m:\u001b[0m\u001b[0;34m\u001b[0m\u001b[0;34m\u001b[0m\u001b[0m\n\u001b[1;32m    430\u001b[0m         \u001b[0;32mraise\u001b[0m \u001b[0mTypeError\u001b[0m\u001b[0;34m(\u001b[0m\u001b[0;34m'Cannot concatenate empty objects'\u001b[0m\u001b[0;34m)\u001b[0m\u001b[0;34m\u001b[0m\u001b[0;34m\u001b[0m\u001b[0m\n",
      "\u001b[0;32m~/miniconda3/envs/neurolang/lib/python3.7/site-packages/nilearn/_utils/niimg_conversions.py\u001b[0m in \u001b[0;36mcheck_niimg\u001b[0;34m(niimg, ensure_ndim, atleast_4d, dtype, return_iterator, wildcards)\u001b[0m\n\u001b[1;32m    266\u001b[0m             return _iter_check_niimg(niimg, ensure_ndim=ensure_ndim,\n\u001b[1;32m    267\u001b[0m                                      dtype=dtype)\n\u001b[0;32m--> 268\u001b[0;31m         \u001b[0;32mreturn\u001b[0m \u001b[0mconcat_niimgs\u001b[0m\u001b[0;34m(\u001b[0m\u001b[0mniimg\u001b[0m\u001b[0;34m,\u001b[0m \u001b[0mensure_ndim\u001b[0m\u001b[0;34m=\u001b[0m\u001b[0mensure_ndim\u001b[0m\u001b[0;34m,\u001b[0m \u001b[0mdtype\u001b[0m\u001b[0;34m=\u001b[0m\u001b[0mdtype\u001b[0m\u001b[0;34m)\u001b[0m\u001b[0;34m\u001b[0m\u001b[0;34m\u001b[0m\u001b[0m\n\u001b[0m\u001b[1;32m    269\u001b[0m \u001b[0;34m\u001b[0m\u001b[0m\n\u001b[1;32m    270\u001b[0m     \u001b[0;31m# Otherwise, it should be a filename or a SpatialImage, we load it\u001b[0m\u001b[0;34m\u001b[0m\u001b[0;34m\u001b[0m\u001b[0;34m\u001b[0m\u001b[0m\n",
      "\u001b[0;32m~/miniconda3/envs/neurolang/lib/python3.7/site-packages/nilearn/_utils/niimg_conversions.py\u001b[0m in \u001b[0;36mconcat_niimgs\u001b[0;34m(niimgs, dtype, ensure_ndim, memory, memory_level, auto_resample, verbose)\u001b[0m\n\u001b[1;32m    426\u001b[0m     \u001b[0miterator\u001b[0m\u001b[0;34m,\u001b[0m \u001b[0mliterator\u001b[0m \u001b[0;34m=\u001b[0m \u001b[0mitertools\u001b[0m\u001b[0;34m.\u001b[0m\u001b[0mtee\u001b[0m\u001b[0;34m(\u001b[0m\u001b[0miter\u001b[0m\u001b[0;34m(\u001b[0m\u001b[0mniimgs\u001b[0m\u001b[0;34m)\u001b[0m\u001b[0;34m)\u001b[0m\u001b[0;34m\u001b[0m\u001b[0;34m\u001b[0m\u001b[0m\n\u001b[1;32m    427\u001b[0m     \u001b[0;32mtry\u001b[0m\u001b[0;34m:\u001b[0m\u001b[0;34m\u001b[0m\u001b[0;34m\u001b[0m\u001b[0m\n\u001b[0;32m--> 428\u001b[0;31m         \u001b[0mfirst_niimg\u001b[0m \u001b[0;34m=\u001b[0m \u001b[0mcheck_niimg\u001b[0m\u001b[0;34m(\u001b[0m\u001b[0mnext\u001b[0m\u001b[0;34m(\u001b[0m\u001b[0mliterator\u001b[0m\u001b[0;34m)\u001b[0m\u001b[0;34m,\u001b[0m \u001b[0mensure_ndim\u001b[0m\u001b[0;34m=\u001b[0m\u001b[0mndim\u001b[0m\u001b[0;34m)\u001b[0m\u001b[0;34m\u001b[0m\u001b[0;34m\u001b[0m\u001b[0m\n\u001b[0m\u001b[1;32m    429\u001b[0m     \u001b[0;32mexcept\u001b[0m \u001b[0mStopIteration\u001b[0m\u001b[0;34m:\u001b[0m\u001b[0;34m\u001b[0m\u001b[0;34m\u001b[0m\u001b[0m\n\u001b[1;32m    430\u001b[0m         \u001b[0;32mraise\u001b[0m \u001b[0mTypeError\u001b[0m\u001b[0;34m(\u001b[0m\u001b[0;34m'Cannot concatenate empty objects'\u001b[0m\u001b[0;34m)\u001b[0m\u001b[0;34m\u001b[0m\u001b[0;34m\u001b[0m\u001b[0m\n",
      "\u001b[0;32m~/miniconda3/envs/neurolang/lib/python3.7/site-packages/nilearn/_utils/niimg_conversions.py\u001b[0m in \u001b[0;36mcheck_niimg\u001b[0;34m(niimg, ensure_ndim, atleast_4d, dtype, return_iterator, wildcards)\u001b[0m\n\u001b[1;32m    269\u001b[0m \u001b[0;34m\u001b[0m\u001b[0m\n\u001b[1;32m    270\u001b[0m     \u001b[0;31m# Otherwise, it should be a filename or a SpatialImage, we load it\u001b[0m\u001b[0;34m\u001b[0m\u001b[0;34m\u001b[0m\u001b[0;34m\u001b[0m\u001b[0m\n\u001b[0;32m--> 271\u001b[0;31m     \u001b[0mniimg\u001b[0m \u001b[0;34m=\u001b[0m \u001b[0mload_niimg\u001b[0m\u001b[0;34m(\u001b[0m\u001b[0mniimg\u001b[0m\u001b[0;34m,\u001b[0m \u001b[0mdtype\u001b[0m\u001b[0;34m=\u001b[0m\u001b[0mdtype\u001b[0m\u001b[0;34m)\u001b[0m\u001b[0;34m\u001b[0m\u001b[0;34m\u001b[0m\u001b[0m\n\u001b[0m\u001b[1;32m    272\u001b[0m \u001b[0;34m\u001b[0m\u001b[0m\n\u001b[1;32m    273\u001b[0m     \u001b[0;32mif\u001b[0m \u001b[0mensure_ndim\u001b[0m \u001b[0;34m==\u001b[0m \u001b[0;36m3\u001b[0m \u001b[0;32mand\u001b[0m \u001b[0mlen\u001b[0m\u001b[0;34m(\u001b[0m\u001b[0mniimg\u001b[0m\u001b[0;34m.\u001b[0m\u001b[0mshape\u001b[0m\u001b[0;34m)\u001b[0m \u001b[0;34m==\u001b[0m \u001b[0;36m4\u001b[0m \u001b[0;32mand\u001b[0m \u001b[0mniimg\u001b[0m\u001b[0;34m.\u001b[0m\u001b[0mshape\u001b[0m\u001b[0;34m[\u001b[0m\u001b[0;36m3\u001b[0m\u001b[0;34m]\u001b[0m \u001b[0;34m==\u001b[0m \u001b[0;36m1\u001b[0m\u001b[0;34m:\u001b[0m\u001b[0;34m\u001b[0m\u001b[0;34m\u001b[0m\u001b[0m\n",
      "\u001b[0;32m~/miniconda3/envs/neurolang/lib/python3.7/site-packages/nilearn/_utils/niimg.py\u001b[0m in \u001b[0;36mload_niimg\u001b[0;34m(niimg, dtype)\u001b[0m\n\u001b[1;32m    112\u001b[0m         raise TypeError(\"Data given cannot be loaded because it is\"\n\u001b[1;32m    113\u001b[0m                         \u001b[0;34m\" not compatible with nibabel format:\\n\"\u001b[0m\u001b[0;34m\u001b[0m\u001b[0;34m\u001b[0m\u001b[0m\n\u001b[0;32m--> 114\u001b[0;31m                         + short_repr(niimg))\n\u001b[0m\u001b[1;32m    115\u001b[0m \u001b[0;34m\u001b[0m\u001b[0m\n\u001b[1;32m    116\u001b[0m     \u001b[0mdtype\u001b[0m \u001b[0;34m=\u001b[0m \u001b[0m_get_target_dtype\u001b[0m\u001b[0;34m(\u001b[0m\u001b[0mniimg\u001b[0m\u001b[0;34m.\u001b[0m\u001b[0mget_data\u001b[0m\u001b[0;34m(\u001b[0m\u001b[0;34m)\u001b[0m\u001b[0;34m.\u001b[0m\u001b[0mdtype\u001b[0m\u001b[0;34m,\u001b[0m \u001b[0mdtype\u001b[0m\u001b[0;34m)\u001b[0m\u001b[0;34m\u001b[0m\u001b[0;34m\u001b[0m\u001b[0m\n",
      "\u001b[0;31mTypeError\u001b[0m: Data given cannot be loaded because it is not compatible with nibabel format:\n72.0"
     ]
    }
   ],
   "source": [
    "julich_to_ns_mni = image.resample_to_img(\n",
    "    img_l, it.masker.volume, interpolation=\"nearest\"\n",
    ")"
   ]
  },
  {
   "cell_type": "code",
   "execution_count": 3,
   "metadata": {},
   "outputs": [
    {
     "name": "stderr",
     "output_type": "stream",
     "text": [
      "/Users/gzanitti/miniconda3/envs/neurolang/lib/python3.7/site-packages/neurosynth/base/dataset.py:771: FutureWarning: DataFrame.to_sparse is deprecated and will be removed in a future version\n",
      "  columns=self.data['columns']).to_sparse()\n"
     ]
    }
   ],
   "source": [
    "from nilearn import image\n",
    "import nibabel as nib\n",
    "from neurolang import frontend as fe\n",
    "\n",
    "nsh = fe.neurosynth_utils.NeuroSynthHandler()\n",
    "ns_ds = nsh.ns_load_dataset()\n",
    "it = ns_ds.image_table\n",
    "\n",
    "\n",
    "atlas_r_filename = './22/MPM/JulichBrain_MPMAtlas_r_N10_nlin2Stdicbm152asym2009c_publicDOI_14622b49a715338ce96e96611d395646.nii.gz'\n",
    "    \n",
    "img_l = image.load_img(atlas_r_filename)\n",
    "\n",
    "ns = nib.load('/Users/gzanitti/miniconda3/envs/neurolang/lib/python3.7/site-packages/neurosynth/resources/MNI152_T1_2mm_brain.nii.gz')\n",
    "julich_to_ns_mni = image.resample_to_img(\n",
    "    img_l, it.masker.volume, interpolation=\"nearest\"\n",
    ")\n",
    "    "
   ]
  },
  {
   "cell_type": "code",
   "execution_count": 19,
   "metadata": {},
   "outputs": [],
   "source": [
    "orientation_julich = nib.orientations.axcodes2ornt(nib.orientations.aff2axcodes(img_l.affine))\n",
    "orientation_ns = nib.orientations.axcodes2ornt(nib.orientations.aff2axcodes(it.masker.volume.affine))"
   ]
  },
  {
   "cell_type": "code",
   "execution_count": 38,
   "metadata": {},
   "outputs": [],
   "source": [
    "import numpy as np"
   ]
  },
  {
   "cell_type": "code",
   "execution_count": 50,
   "metadata": {},
   "outputs": [
    {
     "data": {
      "text/plain": [
       "array([[ -1.,   0.,   0., 192.],\n",
       "       [  0.,   1.,   0.,   0.],\n",
       "       [  0.,   0.,   1.,   0.],\n",
       "       [  0.,   0.,   0.,   1.]])"
      ]
     },
     "execution_count": 50,
     "metadata": {},
     "output_type": "execute_result"
    }
   ],
   "source": [
    "ornt_transform = nib.orientations.ornt_transform(orientation_julich, orientation_ns)\n",
    "ornt_transform_affine = nib.orientations.inv_ornt_aff(ornt_transform, img_l.shape)\n",
    "ornt_transform_affine"
   ]
  },
  {
   "cell_type": "code",
   "execution_count": 58,
   "metadata": {},
   "outputs": [],
   "source": [
    "orientation_affine = np.dot(\n",
    "    img_l.affine,\n",
    "    ornt_transform_affine\n",
    ")\n",
    "img_l_LAS = nib.spatialimages.SpatialImage(\n",
    "    nib.orientations.apply_orientation(img_l.dataobj, ornt_transform),\n",
    "    orientation_affine\n",
    ")"
   ]
  },
  {
   "cell_type": "code",
   "execution_count": 66,
   "metadata": {},
   "outputs": [
    {
     "data": {
      "text/plain": [
       "array([[  -2.,    0.,    0.,   90.],\n",
       "       [   0.,    2.,    0., -126.],\n",
       "       [   0.,    0.,    2.,  -72.],\n",
       "       [   0.,    0.,    0.,    1.]])"
      ]
     },
     "execution_count": 66,
     "metadata": {},
     "output_type": "execute_result"
    }
   ],
   "source": [
    "img_l_ns = image.resample_to_img(img_l, it.masker.volume)\n",
    "img_l_ns.affine"
   ]
  },
  {
   "cell_type": "code",
   "execution_count": 67,
   "metadata": {},
   "outputs": [
    {
     "data": {
      "text/plain": [
       "<nilearn.plotting.displays.OrthoSlicer at 0x7ff2a5018a20>"
      ]
     },
     "execution_count": 67,
     "metadata": {},
     "output_type": "execute_result"
    },
    {
     "data": {
      "image/png": "[encoded data removed]",
      "text/plain": [
       "<Figure size 475.2x187.2 with 4 Axes>"
      ]
     },
     "metadata": {},
     "output_type": "display_data"
    }
   ],
   "source": [
    "plotting.plot_roi(img_l_ns, bg_img=it.masker.volume)"
   ]
  },
  {
   "cell_type": "code",
   "execution_count": 31,
   "metadata": {},
   "outputs": [
    {
     "name": "stderr",
     "output_type": "stream",
     "text": [
      "/Users/gzanitti/miniconda3/envs/neurolang/lib/python3.7/site-packages/nilearn/plotting/cm.py:159: MatplotlibDeprecationWarning: \n",
      "The revcmap function was deprecated in Matplotlib 3.2 and will be removed two minor releases later. Use Colormap.reversed() instead.\n",
      "  _cmaps_data[_cmapname_r] = _cm.revcmap(_cmapspec)\n"
     ]
    }
   ],
   "source": [
    "from nilearn import plotting"
   ]
  },
  {
   "cell_type": "code",
   "execution_count": 32,
   "metadata": {},
   "outputs": [
    {
     "data": {
      "text/plain": [
       "<nilearn.plotting.displays.OrthoSlicer at 0x7ff2a4b053c8>"
      ]
     },
     "execution_count": 32,
     "metadata": {},
     "output_type": "execute_result"
    },
    {
     "data": {
      "image/png": "[encoded data removed]",
      "text/plain": [
       "<Figure size 475.2x187.2 with 4 Axes>"
      ]
     },
     "metadata": {},
     "output_type": "display_data"
    }
   ],
   "source": [
    "plotting.plot_img(img_l_mni_ornt)"
   ]
  },
  {
   "cell_type": "code",
   "execution_count": 68,
   "metadata": {},
   "outputs": [
    {
     "data": {
      "text/plain": [
       "<nilearn.plotting.displays.OrthoSlicer at 0x7ff2a247c668>"
      ]
     },
     "execution_count": 68,
     "metadata": {},
     "output_type": "execute_result"
    },
    {
     "data": {
      "image/png": "[encoded data removed]",
      "text/plain": [
       "<Figure size 475.2x187.2 with 4 Axes>"
      ]
     },
     "metadata": {},
     "output_type": "display_data"
    }
   ],
   "source": [
    "atlas_r_filename = './22/MPM/JulichBrain_MPMAtlas_r_N10_nlin2Stdicbm152asym2009c_publicDOI_14622b49a715338ce96e96611d395646.nii.gz'\n",
    "img_r = image.load_img(atlas_r_filename)\n",
    "julich_to_ns_mni = image.resample_to_img(\n",
    "    img_r, it.masker.volume, interpolation=\"nearest\"\n",
    ")\n",
    "plotting.plot_roi(julich_to_ns_mni, bg_img=it.masker.volume)"
   ]
  },
  {
   "cell_type": "code",
   "execution_count": null,
   "metadata": {},
   "outputs": [],
   "source": []
  }
 ],
 "metadata": {
  "kernelspec": {
   "display_name": "Python 3",
   "language": "python",
   "name": "python3"
  },
  "language_info": {
   "codemirror_mode": {
    "name": "ipython",
    "version": 3
   },
   "file_extension": ".py",
   "mimetype": "text/x-python",
   "name": "python",
   "nbconvert_exporter": "python",
   "pygments_lexer": "ipython3",
   "version": "3.7.3"
  }
 },
 "nbformat": 4,
 "nbformat_minor": 4
}

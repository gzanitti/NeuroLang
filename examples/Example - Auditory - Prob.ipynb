{
 "cells": [
  {
   "cell_type": "markdown",
   "metadata": {},
   "source": [
    "# Neurolang"
   ]
  },
  {
   "cell_type": "code",
   "execution_count": 206,
   "metadata": {},
   "outputs": [],
   "source": [
    "from neurolang.datalog.ontologies_parser import OntologiesParser\n",
    "from neurolang.datalog.ontologies_rewriter import OntologyRewriter\n",
    "\n",
    "from neurolang.datalog.constraints_representation import DatalogConstraintsProgram\n",
    "from neurolang.expression_walker import ExpressionBasicEvaluator\n",
    "\n",
    "from neurolang import frontend as fe\n",
    "\n",
    "class Datalog(DatalogConstraintsProgram, ExpressionBasicEvaluator):\n",
    "    pass\n",
    "\n",
    "paths = ['./neurofma_fma3.0.owl']\n",
    "namespaces = ['http://sig.biostr.washington.edu/fma3.0']\n",
    "onto = OntologiesParser(paths, namespaces)\n",
    "#dl = Datalog()\n",
    "#nl = fe.NeurolangDL()\n",
    "#datalog_program = onto.parse_ontology(nl.solver)"
   ]
  },
  {
   "cell_type": "code",
   "execution_count": 207,
   "metadata": {},
   "outputs": [],
   "source": [
    "def get_destrieux_relations():\n",
    "    return [\n",
    "        ('l_g_and_s_frontomargin', 'Left frontomarginal gyrus'),\n",
    "        ('l_g_and_s_occipital_inf', 'Left inferior occipital gyrus'),\n",
    "        ('l_g_and_s_paracentral', 'Left paracentral lobule'),\n",
    "        ('l_g_and_s_subcentral', 'Left subcentral gyrus'),\n",
    "        (\n",
    "            'l_g_and_s_transv_frontopol',\n",
    "            'Left superior transverse frontopolar gyrus'\n",
    "        ),\n",
    "        ('l_g_and_s_cingul_ant', 'Left anterior cingulate gyrus'),\n",
    "        (\n",
    "            'l_g_and_s_cingul_mid_ant',\n",
    "            'Left anterior middle cingulate gyrus'\n",
    "        ),\n",
    "        (\n",
    "            'l_g_and_s_cingul_mid_post',\n",
    "            'Left posterior middle cingulate gyrus'\n",
    "        ),\n",
    "        (\n",
    "            'l_g_cingul_post_dorsal',\n",
    "            'Dorsal segment of left posterior middle cingulate gyrus'\n",
    "        ),\n",
    "        (\n",
    "            'l_g_cingul_post_ventral',\n",
    "            'Ventral segment of left posterior middle cingulate gyrus'\n",
    "        ),\n",
    "        ('l_g_cuneus', 'Left cuneus'),\n",
    "        (\n",
    "            'l_g_front_inf_opercular',\n",
    "            'Opercular part of left inferior frontal gyrus'\n",
    "        ),\n",
    "        (\n",
    "            'l_g_front_inf_orbital',\n",
    "            'Orbital part of left inferior frontal gyrus'\n",
    "        ),\n",
    "        (\n",
    "            'l_g_front_inf_triangul',\n",
    "            'Triangular part of left inferior frontal gyrus'\n",
    "        ),\n",
    "        ('l_g_front_middle', 'Left middle frontal gyrus'),\n",
    "        ('l_g_front_sup', 'Left superior frontal gyrus'),\n",
    "        ('l_g_ins_lg_and_s_cent_ins', 'Left central insular sulcus'),\n",
    "        ('l_g_ins_lg_and_s_cent_ins', 'Left long insular gyrus'),\n",
    "        ('l_g_insular_short', 'Short insular gyrus'),\n",
    "        ('l_g_occipital_middleLeft', ' \tLeft lateral occipital gyrus'),\n",
    "        ('l_g_occipital_sup', 'Left superior occipital gyrus'),\n",
    "        ('l_g_oc_temp_lat_fusifor', 'Left fusiform gyrus'),\n",
    "        ('l_g_oc_temp_med_lingual', 'Left lingual gyrus'),\n",
    "        ('l_g_oc_temp_med_parahip', 'Left parahippocampal gyrus'),\n",
    "        ('l_g_orbital', 'Left orbital gyrus'),\n",
    "        ('l_g_pariet_inf_angular', 'Left angular gyrus'),\n",
    "        ('l_g_pariet_inf_supramar', 'Left supramarginal gyrus'),\n",
    "        ('l_g_parietal_sup', 'Left superior parietal lobule'),\n",
    "        ('l_g_postcentral', 'Left postcentral gyrus'),\n",
    "        ('l_g_precentral', 'Left precentral gyrus'),\n",
    "        ('l_g_precuneus', 'Left precuneus'),\n",
    "        ('l_g_rectus', 'Left straight gyrus'),\n",
    "        ('l_g_subcallosal', 'Left paraterminal gyrus'),\n",
    "        ('l_g_temp_sup_g_t_transv', 'Left transverse temporal gyrus'),\n",
    "        ('l_g_temp_sup_lateral', 'Left superior temporal gyrus'),\n",
    "        ('l_g_temp_sup_plan_polar', 'Left superior temporal gyrus'),\n",
    "        ('l_g_temp_sup_plan_tempo', 'Left superior temporal gyrus'),\n",
    "        ('l_g_temporal_inf', 'Left inferior temporal gyrus'),\n",
    "        ('l_g_temporal_middle', 'Left middle temporal gyrus'),\n",
    "        (\n",
    "            'l_lat_fis_ant_horizont',\n",
    "            'Anterior horizontal limb of left lateral sulcus'\n",
    "        ),\n",
    "        (\n",
    "            'l_lat_fis_ant_vertical',\n",
    "            'Anterior ascending limb of left lateral sulcus'\n",
    "        ),\n",
    "        (\n",
    "            'l_lat_fis_post',\n",
    "            'Posterior ascending limb of left lateral sulcus'\n",
    "        ),\n",
    "        ('l_lat_fis_post', 'Left lateral sulcus'),\n",
    "        ('l_pole_occipital', 'Left occipital pole'),\n",
    "        ('l_pole_temporal', 'Left temporal pole'),\n",
    "        ('l_s_calcarine', 'Left Calcarine sulcus'),\n",
    "        ('l_s_central', 'Left central sulcus'),\n",
    "        ('l_s_cingul_marginalis', 'Left marginal sulcus'),\n",
    "        ('l_s_circular_insula_ant', 'Circular sulcus of left insula'),\n",
    "        ('l_s_circular_insula_inf', 'Circular sulcus of left insula'),\n",
    "        ('l_s_circular_insula_sup', 'Circular sulcus of left insula'),\n",
    "        ('l_s_collat_transv_ant', 'Left collateral sulcus'),\n",
    "        ('l_s_collat_transv_post', 'Left collateral sulcus'),\n",
    "        ('l_s_front_inf', 'Left inferior frontal sulcus'),\n",
    "        ('l_s_front_sup', 'Left superior frontal sulcus'),\n",
    "        ('l_s_intrapariet_and_p_trans', 'Left intraparietal sulcus'),\n",
    "        ('l_s_oc_middle_and_lunatus', 'Left lunate sulcus'),\n",
    "        ('l_s_oc_sup_and_transversal', 'Left transverse occipital sulcus'),\n",
    "        ('l_s_occipital_ant', 'Left anterior occipital sulcus'),\n",
    "        ('l_s_oc_temp_lat', 'Left occipitotemporal sulcus'),\n",
    "        ('l_s_oc_temp_med_and_lingual', 'Left intralingual sulcus'),\n",
    "        ('l_s_orbital_lateral', 'Left orbital sulcus'),\n",
    "        ('l_s_orbital_med_olfact', 'Left olfactory sulcus'),\n",
    "        ('l_s_orbital_h_shaped', 'Left transverse orbital sulcus'),\n",
    "        ('l_s_orbital_h_shaped', 'Left orbital sulcus'),\n",
    "        ('l_s_parieto_occipital', 'Left parieto-occipital sulcus'),\n",
    "        ('l_s_pericallosal', 'Left callosal sulcus'),\n",
    "        ('l_s_postcentral', 'Left postcentral sulcus'),\n",
    "        ('l_s_precentral_inf_part', 'Left precentral sulcus'),\n",
    "        ('l_s_precentral_sup_part', 'Left precentral sulcus'),\n",
    "        ('l_s_suborbital', 'Left fronto-orbital sulcus'),\n",
    "        ('l_s_subparietal', 'Left subparietal sulcus'),\n",
    "        ('l_s_temporal_inf', 'Left inferior temporal sulcus'),\n",
    "        ('l_s_temporal_sup', 'Left superior temporal sulcus'),\n",
    "        ('l_s_temporal_transverse', 'Left transverse temporal sulcus'),\n",
    "        ('r_g_and_s_frontomargin', 'Right frontomarginal gyrus'),\n",
    "        ('r_g_and_s_occipital_inf', 'Right inferior occipital gyrus'),\n",
    "        ('r_g_and_s_paracentral', 'Right paracentral lobule'),\n",
    "        ('r_g_and_s_subcentral', 'Right subcentral gyrus'),\n",
    "        (\n",
    "            'r_g_and_s_transv_frontopol',\n",
    "            'Right superior transverse frontopolar gyrus'\n",
    "        ),\n",
    "        ('r_g_and_s_cingul_ant', 'Right anterior cingulate gyrus'),\n",
    "        (\n",
    "            'r_g_and_s_cingul_mid_ant',\n",
    "            'Right anterior middle cingulate gyrus'\n",
    "        ),\n",
    "        (\n",
    "            'r_g_and_s_cingul_mid_post',\n",
    "            'Right posterior middle cingulate gyrus'\n",
    "        ),\n",
    "        (\n",
    "            'r_g_cingul_post_dorsal',\n",
    "            'Dorsal segment of right posterior middle cingulate gyrus'\n",
    "        ),\n",
    "        (\n",
    "            'r_g_cingul_post_ventral',\n",
    "            'Ventral segment of right posterior middle cingulate gyrus'\n",
    "        ),\n",
    "        ('r_g_cuneus', 'Right cuneus'),\n",
    "        (\n",
    "            'r_g_front_inf_opercular',\n",
    "            'Opercular part of right inferior frontal gyrus'\n",
    "        ),\n",
    "        (\n",
    "            'r_g_front_inf_orbital',\n",
    "            'Orbital part of right inferior frontal gyrus'\n",
    "        ),\n",
    "        (\n",
    "            'r_g_front_inf_triangul',\n",
    "            'Triangular part of right inferior frontal gyrus'\n",
    "        ),\n",
    "        ('r_g_front_middle', 'Right middle frontal gyrus'),\n",
    "        ('r_g_front_sup', 'Right superior frontal gyrus'),\n",
    "        ('r_g_ins_lg_and_s_cent_ins', 'Right central insular sulcus'),\n",
    "        ('r_g_ins_lg_and_s_cent_ins', 'Right long insular gyrus'),\n",
    "        ('r_g_insular_short', 'Right short insular gyrus'),\n",
    "        ('r_g_occipital_middle', 'Right lateral occipital gyrus'),\n",
    "        ('r_g_occipital_sup', 'Right superior occipital gyrus'),\n",
    "        ('r_g_oc_temp_lat_fusifor', 'Right fusiform gyrus'),\n",
    "        ('r_g_oc_temp_med_lingual', 'Right lingual gyrus'),\n",
    "        ('r_g_oc_temp_med_parahip', 'Right parahippocampal gyrus'),\n",
    "        ('r_g_orbital', 'Right orbital gyrus'),\n",
    "        ('r_g_pariet_inf_angular', 'Right angular gyrus'),\n",
    "        ('r_g_pariet_inf_supramar', 'Right supramarginal gyrus'),\n",
    "        ('r_g_parietal_sup', 'Right superior parietal lobule'),\n",
    "        ('r_g_postcentral', 'Right postcentral gyrus'),\n",
    "        ('r_g_precentral', 'Right precentral gyrus'),\n",
    "        ('r_g_precuneus', 'Right precuneus'),\n",
    "        ('r_g_rectus', 'Right straight gyrus'),\n",
    "        ('r_g_subcallosal', 'Right paraterminal gyrus'),\n",
    "        ('r_g_temp_sup_g_t_transv', 'Right transverse temporal gyrus'),\n",
    "        ('r_g_temp_sup_lateral', 'Right superior temporal gyrus'),\n",
    "        ('r_g_temp_sup_plan_polar', 'Right superior temporal gyrus'),\n",
    "        ('r_g_temp_sup_plan_tempo', 'Right superior temporal gyrus'),\n",
    "        ('r_g_temporal_inf', 'Right inferior temporal gyrus'),\n",
    "        ('r_g_temporal_middle', 'Right middle temporal gyrus'),\n",
    "        (\n",
    "            'r_lat_fis_ant_horizont',\n",
    "            'Anterior horizontal limb of right lateral sulcus'\n",
    "        ),\n",
    "        (\n",
    "            'r_lat_fis_ant_vertical',\n",
    "            'Anterior ascending limb of right lateral sulcus'\n",
    "        ),\n",
    "        ('r_lat_fis_post', 'Right lateral sulcus'),\n",
    "        (\n",
    "            'r_lat_fis_post',\n",
    "            'Posterior ascending limb of right lateral sulcus'\n",
    "        ),\n",
    "        ('r_pole_occipital', 'Right occipital pole'),\n",
    "        ('r_pole_temporal', 'Right temporal pole'),\n",
    "        ('r_s_calcarine', 'Right Calcarine sulcus'),\n",
    "        ('r_s_central', 'Right central sulcus'),\n",
    "        ('r_s_cingul_marginalis', 'Right marginal sulcus'),\n",
    "        ('r_s_circular_insula_ant', 'Circular sulcus of Right insula'),\n",
    "        ('r_s_circular_insula_inf', 'Circular sulcus of Right insula'),\n",
    "        ('r_s_circular_insula_sup', 'Circular sulcus of Right insula'),\n",
    "        ('r_s_collat_transv_ant', 'Right collateral sulcus'),\n",
    "        ('r_s_collat_transv_post', 'Right collateral sulcus'),\n",
    "        ('r_s_front_inf', 'Right inferior frontal sulcus'),\n",
    "        ('r_s_front_sup', 'Right superior frontal sulcus'),\n",
    "        ('r_s_intrapariet_and_p_trans', 'Right intraparietal sulcus'),\n",
    "        ('r_s_oc_middle_and_lunatus', 'Right lunate sulcus'),\n",
    "        (\n",
    "            'r_s_oc_sup_and_transversal',\n",
    "            'Right transverse occipital sulcus'\n",
    "        ),\n",
    "        ('r_s_occipital_ant', 'Right anterior occipital sulcus'),\n",
    "        ('r_s_oc_temp_lat', 'Right occipitotemporal sulcus'),\n",
    "        ('r_s_oc_temp_med_and_lingual', 'Right intralingual sulcus'),\n",
    "        ('r_s_orbital_lateral', 'Right orbital sulcus'),\n",
    "        ('r_s_orbital_med_olfact', 'Right olfactory sulcus'),\n",
    "        ('r_s_orbital_h_shaped', 'Right orbital sulcus'),\n",
    "        ('r_s_orbital_h_shaped', 'Right transverse orbital sulcus'),\n",
    "        ('r_s_parieto_occipital', 'Right parieto-occipital sulcus'),\n",
    "        ('r_s_pericallosal', 'Right callosal sulcus'),\n",
    "        ('r_s_postcentral', 'Right postcentral sulcus'),\n",
    "        ('r_s_precentral_inf_part', 'Right precentral sulcus'),\n",
    "        ('r_s_precentral_sup_part', 'Right precentral sulcus'),\n",
    "        ('r_s_suborbital', 'Right fronto-orbital sulcus'),\n",
    "        ('r_s_subparietal', 'Right subparietal sulcus'),\n",
    "        ('r_s_temporal_inf', 'Right inferior temporal sulcus'),\n",
    "        ('r_s_temporal_sup', 'Right superior temporal sulcus'),\n",
    "        ('r_s_temporal_transverse', 'Right transverse temporal sulcus'),\n",
    "    ]"
   ]
  },
  {
   "cell_type": "code",
   "execution_count": null,
   "metadata": {},
   "outputs": [],
   "source": [
    "import nibabel as nib\n",
    "import numpy as np\n",
    "import neurolang.regions as nlr\n",
    "import os\n",
    "import neurosynth\n",
    "\n",
    "def get_xyz_from_neurosynth():\n",
    "    \n",
    "    ns_base_img = nib.load(\n",
    "    os.path.join(\n",
    "        neurosynth.__path__[0], \"resources/MNI152_T1_2mm_brain.nii.gz\",\n",
    "        )\n",
    "    )\n",
    "\n",
    "    ns_masker = neurosynth.mask.Masker(\n",
    "        os.path.join(\n",
    "            neurosynth.__path__[0], \"resources/MNI152_T1_2mm_brain.nii.gz\",\n",
    "        )\n",
    "    )\n",
    "\n",
    "    ns_affine = ns_base_img.affine\n",
    "\n",
    "    voxels = np.ones(shape=ns_masker.mask(ns_base_img.get_data()).shape)\n",
    "    unmasked = ns_masker.unmask(voxels)\n",
    "    ijk = np.argwhere(unmasked > 0)\n",
    "    ret = {}\n",
    "    regions = [\n",
    "        nlr.ExplicitVBR(\n",
    "            [coords],\n",
    "            affine_matrix=ns_affine,\n",
    "            image_dim=ns_base_img.get_data().shape,\n",
    "        )\n",
    "        for coords in ijk\n",
    "    ]\n",
    "    for vid, region in zip(range(voxels.shape[0]), regions):\n",
    "        ret[vid] = region\n",
    "        \n",
    "    return ret\n",
    "\n",
    "ret = get_xyz_from_neurosynth()\n",
    "\n",
    "import pickle\n",
    "f = open(\"xyz_from_neurosynth.pkl\",\"wb\")\n",
    "pickle.dump(ret, f)\n",
    "f.close()"
   ]
  },
  {
   "cell_type": "code",
   "execution_count": 169,
   "metadata": {},
   "outputs": [],
   "source": [
    "def voxels_to_regions_prob(voxels):\n",
    "    regions = []\n",
    "    for index, row in voxels.iterrows():\n",
    "        prob = row['prob']\n",
    "        v_name = index[1]\n",
    "        region = ret[v_name]\n",
    "        regions.append((v_name, region, prob))\n",
    "    \n",
    "    return regions\n",
    "\n",
    "def voxels_to_regions(voxels):\n",
    "    regions = []\n",
    "    for index, row in voxels.iterrows():\n",
    "        v_name = index[1]\n",
    "        region = ret[v_name]\n",
    "        regions.append((v_name, region))\n",
    "    \n",
    "    return regions"
   ]
  },
  {
   "cell_type": "code",
   "execution_count": 4,
   "metadata": {},
   "outputs": [],
   "source": [
    "import pickle\n",
    "\n",
    "file = open(\"xyz_from_neurosynth.pkl\",'rb')\n",
    "ret = pickle.load(file)\n",
    "file.close()"
   ]
  },
  {
   "cell_type": "code",
   "execution_count": 234,
   "metadata": {},
   "outputs": [
    {
     "name": "stderr",
     "output_type": "stream",
     "text": [
      "/Users/gzanitti/miniconda3/envs/neurolang/lib/python3.7/site-packages/neurosynth/base/dataset.py:435: ResourceWarning: unclosed file <_io.BufferedReader name='/Users/gzanitti/Projects/INRIA/NeuroLang/neurolang/frontend/neurosynth_data/dataset.pkl'>\n",
      "  dataset = pickle.load(open(filename, 'rb'))\n",
      "ResourceWarning: Enable tracemalloc to get the object allocation traceback\n",
      "/Users/gzanitti/miniconda3/envs/neurolang/lib/python3.7/site-packages/neurosynth/base/dataset.py:771: FutureWarning: DataFrame.to_sparse is deprecated and will be removed in a future version\n",
      "  columns=self.data['columns']).to_sparse()\n",
      "/Users/gzanitti/miniconda3/envs/neurolang/lib/python3.7/site-packages/neurosynth/base/dataset.py:716: FutureWarning: \n",
      ".ix is deprecated. Please use\n",
      ".loc for label based indexing or\n",
      ".iloc for positional indexing\n",
      "\n",
      "See the documentation here:\n",
      "http://pandas.pydata.org/pandas-docs/stable/user_guide/indexing.html#ix-indexer-is-deprecated\n",
      "  feature_weights = self.data.ix[:, features]\n",
      "/Users/gzanitti/miniconda3/envs/neurolang/lib/python3.7/site-packages/pandas/core/indexing.py:808: FutureWarning: \n",
      ".ix is deprecated. Please use\n",
      ".loc for label based indexing or\n",
      ".iloc for positional indexing\n",
      "\n",
      "See the documentation here:\n",
      "http://pandas.pydata.org/pandas-docs/stable/user_guide/indexing.html#ix-indexer-is-deprecated\n",
      "  retval = getattr(retval, self.name)._getitem_axis(key, axis=i)\n",
      "/Users/gzanitti/miniconda3/envs/neurolang/lib/python3.7/site-packages/pandas/core/frame.py:3451: FutureWarning: SparseSeries is deprecated and will be removed in a future version.\n",
      "Use a Series with sparse values instead.\n",
      "\n",
      "    >>> series = pd.Series(pd.SparseArray(...))\n",
      "\n",
      "See http://pandas.pydata.org/pandas-docs/stable/user_guide/sparse.html#migrating for more.\n",
      "\n",
      "  return klass(values, index=self.index, name=items, fastpath=True)\n",
      "/Users/gzanitti/miniconda3/envs/neurolang/lib/python3.7/site-packages/pandas/core/sparse/frame.py:785: FutureWarning: SparseDataFrame is deprecated and will be removed in a future version.\n",
      "Use a regular DataFrame whose columns are SparseArrays instead.\n",
      "\n",
      "See http://pandas.pydata.org/pandas-docs/stable/user_guide/sparse.html#migrating for more.\n",
      "\n",
      "  return self._constructor(new_arrays, index=index, columns=columns).__finalize__(\n",
      "/Users/gzanitti/miniconda3/envs/neurolang/lib/python3.7/site-packages/pandas/core/apply.py:401: FutureWarning: SparseSeries is deprecated and will be removed in a future version.\n",
      "Use a Series with sparse values instead.\n",
      "\n",
      "    >>> series = pd.Series(pd.SparseArray(...))\n",
      "\n",
      "See http://pandas.pydata.org/pandas-docs/stable/user_guide/sparse.html#migrating for more.\n",
      "\n",
      "  for i, (arr, name) in enumerate(zip(self.values, self.index))\n",
      "/Users/gzanitti/miniconda3/envs/neurolang/lib/python3.7/site-packages/pandas/core/ops/__init__.py:1641: FutureWarning: SparseSeries is deprecated and will be removed in a future version.\n",
      "Use a Series with sparse values instead.\n",
      "\n",
      "    >>> series = pd.Series(pd.SparseArray(...))\n",
      "\n",
      "See http://pandas.pydata.org/pandas-docs/stable/user_guide/sparse.html#migrating for more.\n",
      "\n",
      "  return self._constructor(new_values, index=self.index, name=self.name)\n",
      "/Users/gzanitti/miniconda3/envs/neurolang/lib/python3.7/site-packages/pandas/core/sparse/series.py:585: FutureWarning: SparseSeries is deprecated and will be removed in a future version.\n",
      "Use a Series with sparse values instead.\n",
      "\n",
      "    >>> series = pd.Series(pd.SparseArray(...))\n",
      "\n",
      "See http://pandas.pydata.org/pandas-docs/stable/user_guide/sparse.html#migrating for more.\n",
      "\n",
      "  return self._constructor(arr, index=self.index).__finalize__(self)\n",
      "/Users/gzanitti/miniconda3/envs/neurolang/lib/python3.7/site-packages/neurosynth/base/mask.py:232: DeprecationWarning: get_header method is deprecated.\n",
      "Please use the ``img.header`` property instead.\n",
      "\n",
      "* deprecated from version: 2.1\n",
      "* Will raise <class 'nibabel.deprecator.ExpiredDeprecationError'> as of version: 4.0\n",
      "  return self.volume.get_header()\n"
     ]
    }
   ],
   "source": [
    "from neurolang.frontend.neurosynth_utils import NeuroSynthHandler\n",
    "\n",
    "q = 0.00000001\n",
    "nshandler = NeuroSynthHandler()\n",
    "neurosynth_data = nshandler.ns_region_set_from_term(\n",
    "    'auditory',\n",
    "    q=q\n",
    ")\n",
    "\n"
   ]
  },
  {
   "cell_type": "code",
   "execution_count": 247,
   "metadata": {},
   "outputs": [
    {
     "name": "stderr",
     "output_type": "stream",
     "text": [
      "/Users/gzanitti/miniconda3/envs/neurolang/lib/python3.7/site-packages/ipykernel_launcher.py:15: TqdmDeprecationWarning: This function will be removed in tqdm==5.0.0\n",
      "Please use `tqdm.notebook.tqdm` instead of `tqdm.tqdm_notebook`\n",
      "  from ipykernel import kernelapp as app\n"
     ]
    },
    {
     "data": {
      "application/vnd.jupyter.widget-view+json": {
       "model_id": "1cbce29a4b944f5ba861947da6c03642",
       "version_major": 2,
       "version_minor": 0
      },
      "text/plain": [
       "HBox(children=(FloatProgress(value=0.0, max=228453.0), HTML(value='')))"
      ]
     },
     "metadata": {},
     "output_type": "display_data"
    },
    {
     "ename": "KeyboardInterrupt",
     "evalue": "",
     "output_type": "error",
     "traceback": [
      "\u001b[0;31m---------------------------------------------------------------------------\u001b[0m",
      "\u001b[0;31mKeyboardInterrupt\u001b[0m                         Traceback (most recent call last)",
      "\u001b[0;32m<ipython-input-247-74f85372f432>\u001b[0m in \u001b[0;36m<module>\u001b[0;34m\u001b[0m\n\u001b[1;32m     15\u001b[0m \u001b[0;32mfor\u001b[0m \u001b[0mindex\u001b[0m\u001b[0;34m,\u001b[0m \u001b[0mregion_ns\u001b[0m \u001b[0;32min\u001b[0m \u001b[0mtqdm_notebook\u001b[0m\u001b[0;34m(\u001b[0m\u001b[0mret\u001b[0m\u001b[0;34m.\u001b[0m\u001b[0mitems\u001b[0m\u001b[0;34m(\u001b[0m\u001b[0;34m)\u001b[0m\u001b[0;34m)\u001b[0m\u001b[0;34m:\u001b[0m\u001b[0;34m\u001b[0m\u001b[0;34m\u001b[0m\u001b[0m\n\u001b[1;32m     16\u001b[0m     \u001b[0;32mfor\u001b[0m \u001b[0mregion_auditory\u001b[0m \u001b[0;32min\u001b[0m \u001b[0mneurosynth_data\u001b[0m\u001b[0;34m:\u001b[0m\u001b[0;34m\u001b[0m\u001b[0;34m\u001b[0m\u001b[0m\n\u001b[0;32m---> 17\u001b[0;31m         \u001b[0mres\u001b[0m \u001b[0;34m=\u001b[0m \u001b[0mregion_intersec\u001b[0m\u001b[0;34m(\u001b[0m\u001b[0mregion_ns\u001b[0m\u001b[0;34m,\u001b[0m \u001b[0mregion_auditory\u001b[0m\u001b[0;34m)\u001b[0m\u001b[0;34m\u001b[0m\u001b[0;34m\u001b[0m\u001b[0m\n\u001b[0m\u001b[1;32m     18\u001b[0m         \u001b[0;32mif\u001b[0m \u001b[0;32mnot\u001b[0m \u001b[0misinstance\u001b[0m\u001b[0;34m(\u001b[0m\u001b[0mres\u001b[0m\u001b[0;34m,\u001b[0m \u001b[0mEmptyRegion\u001b[0m\u001b[0;34m)\u001b[0m\u001b[0;34m:\u001b[0m\u001b[0;34m\u001b[0m\u001b[0;34m\u001b[0m\u001b[0m\n\u001b[1;32m     19\u001b[0m             \u001b[0mresult\u001b[0m\u001b[0;34m.\u001b[0m\u001b[0mappend\u001b[0m\u001b[0;34m(\u001b[0m\u001b[0;34m(\u001b[0m\u001b[0mindex\u001b[0m\u001b[0;34m,\u001b[0m \u001b[0mres\u001b[0m\u001b[0;34m)\u001b[0m\u001b[0;34m)\u001b[0m\u001b[0;34m\u001b[0m\u001b[0;34m\u001b[0m\u001b[0m\n",
      "\u001b[0;32m<ipython-input-247-74f85372f432>\u001b[0m in \u001b[0;36mregion_intersec\u001b[0;34m(region_left, region_right)\u001b[0m\n\u001b[1;32m      7\u001b[0m     \u001b[0mr_ijk\u001b[0m \u001b[0;34m=\u001b[0m \u001b[0mregion_right\u001b[0m\u001b[0;34m.\u001b[0m\u001b[0mto_ijk\u001b[0m\u001b[0;34m(\u001b[0m\u001b[0mregion_left\u001b[0m\u001b[0;34m.\u001b[0m\u001b[0maffine\u001b[0m\u001b[0;34m)\u001b[0m\u001b[0;34m\u001b[0m\u001b[0;34m\u001b[0m\u001b[0m\n\u001b[1;32m      8\u001b[0m     \u001b[0mregion_right\u001b[0m \u001b[0;34m=\u001b[0m \u001b[0mExplicitVBR\u001b[0m\u001b[0;34m(\u001b[0m\u001b[0mr_ijk\u001b[0m\u001b[0;34m,\u001b[0m \u001b[0mregion_left\u001b[0m\u001b[0;34m.\u001b[0m\u001b[0maffine\u001b[0m\u001b[0;34m,\u001b[0m \u001b[0mimage_dim\u001b[0m\u001b[0;34m=\u001b[0m\u001b[0mregion_left\u001b[0m\u001b[0;34m.\u001b[0m\u001b[0mimage_dim\u001b[0m\u001b[0;34m)\u001b[0m\u001b[0;34m\u001b[0m\u001b[0;34m\u001b[0m\u001b[0m\n\u001b[0;32m----> 9\u001b[0;31m     \u001b[0mtemp\u001b[0m \u001b[0;34m=\u001b[0m \u001b[0mregion_intersection_\u001b[0m\u001b[0;34m(\u001b[0m\u001b[0;34m(\u001b[0m\u001b[0mregion_left\u001b[0m\u001b[0;34m,\u001b[0m \u001b[0mregion_right\u001b[0m\u001b[0;34m)\u001b[0m\u001b[0;34m)\u001b[0m\u001b[0;34m\u001b[0m\u001b[0;34m\u001b[0m\u001b[0m\n\u001b[0m\u001b[1;32m     10\u001b[0m     \u001b[0;32mreturn\u001b[0m \u001b[0mtemp\u001b[0m\u001b[0;34m\u001b[0m\u001b[0;34m\u001b[0m\u001b[0m\n\u001b[1;32m     11\u001b[0m \u001b[0;34m\u001b[0m\u001b[0m\n",
      "\u001b[0;32m~/Projects/INRIA/NeuroLang/neurolang/regions.py\u001b[0m in \u001b[0;36mregion_intersection\u001b[0;34m(region_set, affine)\u001b[0m\n\u001b[1;32m     27\u001b[0m     \u001b[0;32mif\u001b[0m \u001b[0many\u001b[0m\u001b[0;34m(\u001b[0m\u001b[0misinstance\u001b[0m\u001b[0;34m(\u001b[0m\u001b[0mregion\u001b[0m\u001b[0;34m,\u001b[0m \u001b[0mEmptyRegion\u001b[0m\u001b[0;34m)\u001b[0m \u001b[0;32mfor\u001b[0m \u001b[0mregion\u001b[0m \u001b[0;32min\u001b[0m \u001b[0mregion_set\u001b[0m\u001b[0;34m)\u001b[0m\u001b[0;34m:\u001b[0m\u001b[0;34m\u001b[0m\u001b[0;34m\u001b[0m\u001b[0m\n\u001b[1;32m     28\u001b[0m         \u001b[0;32mreturn\u001b[0m \u001b[0mEmptyRegion\u001b[0m\u001b[0;34m(\u001b[0m\u001b[0;34m)\u001b[0m\u001b[0;34m\u001b[0m\u001b[0;34m\u001b[0m\u001b[0m\n\u001b[0;32m---> 29\u001b[0;31m     \u001b[0;32mreturn\u001b[0m \u001b[0mregion_set_algebraic_op\u001b[0m\u001b[0;34m(\u001b[0m\u001b[0mset\u001b[0m\u001b[0;34m.\u001b[0m\u001b[0mintersection\u001b[0m\u001b[0;34m,\u001b[0m \u001b[0mregion_set\u001b[0m\u001b[0;34m,\u001b[0m \u001b[0maffine\u001b[0m\u001b[0;34m)\u001b[0m\u001b[0;34m\u001b[0m\u001b[0;34m\u001b[0m\u001b[0m\n\u001b[0m\u001b[1;32m     30\u001b[0m \u001b[0;34m\u001b[0m\u001b[0m\n\u001b[1;32m     31\u001b[0m \u001b[0;34m\u001b[0m\u001b[0m\n",
      "\u001b[0;32m~/Projects/INRIA/NeuroLang/neurolang/regions.py\u001b[0m in \u001b[0;36mregion_set_algebraic_op\u001b[0;34m(op, region_set, affine, n_dim)\u001b[0m\n\u001b[1;32m     49\u001b[0m                 any(map(lambda x, y: x > y, region.image_dim, max_dim))):\n\u001b[1;32m     50\u001b[0m             \u001b[0mmax_dim\u001b[0m \u001b[0;34m=\u001b[0m \u001b[0mregion\u001b[0m\u001b[0;34m.\u001b[0m\u001b[0mimage_dim\u001b[0m\u001b[0;34m\u001b[0m\u001b[0;34m\u001b[0m\u001b[0m\n\u001b[0;32m---> 51\u001b[0;31m         \u001b[0mvoxels_set_of_regions\u001b[0m\u001b[0;34m.\u001b[0m\u001b[0mappend\u001b[0m\u001b[0;34m(\u001b[0m\u001b[0mset\u001b[0m\u001b[0;34m(\u001b[0m\u001b[0mmap\u001b[0m\u001b[0;34m(\u001b[0m\u001b[0mtuple\u001b[0m\u001b[0;34m,\u001b[0m \u001b[0mregion\u001b[0m\u001b[0;34m.\u001b[0m\u001b[0mvoxels\u001b[0m\u001b[0;34m)\u001b[0m\u001b[0;34m)\u001b[0m\u001b[0;34m)\u001b[0m\u001b[0;34m\u001b[0m\u001b[0;34m\u001b[0m\u001b[0m\n\u001b[0m\u001b[1;32m     52\u001b[0m \u001b[0;34m\u001b[0m\u001b[0m\n\u001b[1;32m     53\u001b[0m     \u001b[0mresult_voxels\u001b[0m \u001b[0;34m=\u001b[0m \u001b[0mnp\u001b[0m\u001b[0;34m.\u001b[0m\u001b[0marray\u001b[0m\u001b[0;34m(\u001b[0m\u001b[0mtuple\u001b[0m\u001b[0;34m(\u001b[0m\u001b[0mop\u001b[0m\u001b[0;34m(\u001b[0m\u001b[0;34m*\u001b[0m\u001b[0mvoxels_set_of_regions\u001b[0m\u001b[0;34m)\u001b[0m\u001b[0;34m)\u001b[0m\u001b[0;34m)\u001b[0m\u001b[0;34m\u001b[0m\u001b[0;34m\u001b[0m\u001b[0m\n",
      "\u001b[0;31mKeyboardInterrupt\u001b[0m: "
     ]
    }
   ],
   "source": []
  },
  {
   "cell_type": "code",
   "execution_count": 5,
   "metadata": {},
   "outputs": [
    {
     "name": "stderr",
     "output_type": "stream",
     "text": [
      "/Users/gzanitti/miniconda3/envs/neurolang/lib/python3.7/importlib/_bootstrap.py:219: RuntimeWarning: numpy.ufunc size changed, may indicate binary incompatibility. Expected 192 from C header, got 216 from PyObject\n",
      "  return f(*args, **kwds)\n"
     ]
    }
   ],
   "source": [
    "import pandas as pd\n",
    "\n",
    "prob_terms = pd.read_hdf('neurosynth_prob.h5', key='terms')\n",
    "prob_voxels = pd.read_hdf('neurosynth_prob.h5', key='voxels')\n",
    "prob_terms_voxels = pd.read_hdf('neurosynth_prob.h5', key='terms_voxels')\n",
    "\n",
    "prob_terms_voxels = prob_terms_voxels[prob_terms_voxels.index.get_level_values('term') == 'auditory']\n",
    "prob_terms = prob_terms[prob_terms['index'] == 'auditory']\n",
    "auditory_regions = voxels_to_regions(prob_terms_voxels)\n",
    "\n",
    "prob_terms = prob_terms[['proba', 'index']]\n",
    "\n",
    "prob_voxels.reset_index(inplace=True)\n",
    "prob_voxels.rename(columns={0: 'prob'}, inplace=True)\n",
    "prob_voxels = prob_voxels[['prob', 'index']]\n",
    "\n",
    "prob_terms_voxels.reset_index(inplace=True)\n",
    "prob_terms_voxels = prob_terms_voxels[['prob', 'term', 'variable']]"
   ]
  },
  {
   "cell_type": "code",
   "execution_count": 208,
   "metadata": {},
   "outputs": [
    {
     "name": "stderr",
     "output_type": "stream",
     "text": [
      "/Users/gzanitti/miniconda3/envs/neurolang/lib/python3.7/site-packages/numpy/lib/npyio.py:2358: VisibleDeprecationWarning: Reading unicode strings without specifying the encoding argument is deprecated. Set the encoding, use None for the system default.\n",
      "  output = genfromtxt(fname, **kwargs)\n"
     ]
    }
   ],
   "source": [
    "import nibabel as nib\n",
    "import numpy as np\n",
    "import neurolang.regions as nlr\n",
    "#import os\n",
    "#import neurosynth\n",
    "\n",
    "from neurolang.logic import Implication\n",
    "from nilearn import datasets\n",
    "\n",
    "from neurolang.frontend.query_resolution import RegionMixin\n",
    "from neurolang.expressions import ExpressionBlock, Symbol, Constant\n",
    "from neurolang.logic import Implication\n",
    "from neurolang.regions import Region, region_union as region_union_\n",
    "import typing \n",
    "\n",
    "S_ = Symbol\n",
    "C_ = Constant\n",
    "\n",
    "destrieux_dataset = datasets.fetch_atlas_destrieux_2009()\n",
    "destrieux_map = nib.load(destrieux_dataset['maps'])\n",
    "\n",
    "relation_region = S_('relation_region')\n",
    "relation_name = S_('relation_name')\n",
    "\n",
    "destrieux = []\n",
    "for label_number, name in destrieux_dataset['labels']:\n",
    "    if label_number == 0:\n",
    "        continue\n",
    "    name = name.decode()\n",
    "    region = RegionMixin.create_region(\n",
    "        destrieux_map, label=label_number\n",
    "    )\n",
    "    if region is None:\n",
    "        continue\n",
    "    name = name.replace('-', '_').replace(' ', '_').lower()\n",
    "    destrieux.append((name, region))\n",
    "    \n",
    "r_region = tuple([relation_region(C_(region), C_(name)) for name, region in destrieux])"
   ]
  },
  {
   "cell_type": "code",
   "execution_count": 209,
   "metadata": {},
   "outputs": [],
   "source": [
    "from operator import eq\n",
    "from neurolang.logic import Implication\n",
    "from nilearn import datasets\n",
    "import nibabel as nib\n",
    "from neurolang.frontend.query_resolution import RegionMixin\n",
    "from neurolang.expressions import ExpressionBlock, Symbol, Constant\n",
    "from neurolang.logic import Implication\n",
    "from neurolang.datalog.aggregation import AggregationApplication\n",
    "\n",
    "destrieux_name = Symbol('destrieux_name')\n",
    "destrieux_region = Symbol('destrieux_region')\n",
    "x = Symbol('x')\n",
    "y = Symbol('y')\n",
    "z = Symbol('z')\n",
    "v = Symbol('v')\n",
    "eq_ = Constant(eq)\n",
    "id_ = Symbol('id_')\n",
    "reg = Symbol('reg')\n",
    "ans = Symbol('ans')\n",
    "over = Symbol('over')\n",
    "sub = Symbol('sub')\n",
    "\n",
    "triple = Symbol('triple')\n",
    "neurosynth = Symbol('neurosynth')\n",
    "neurosynth_term = Symbol('neurosynth_term')\n",
    "\n",
    "label = Symbol('http://www.w3.org/2000/01/rdf-schema#label')\n",
    "subClassOf = Symbol('http://www.w3.org/2000/01/rdf-schema#subClassOf')\n",
    "region = Symbol('region')\n",
    "regional_part = Symbol('http://sig.biostr.washington.edu/fma3.0#regional_part_of')\n",
    "\n",
    "relations_list = get_destrieux_relations()\n",
    "r_name = tuple([relation_name(C_(destrieux), C_(fma)) for destrieux, fma in relations_list])\n",
    "\n",
    "@nl.add_symbol\n",
    "def region_volume(region: fe.ExplicitVBR) -> float:\n",
    "    volume = (\n",
    "        len(region.voxels) *\n",
    "        float(np.product(np.abs(np.linalg.eigvals(region.affine[:-1, :-1]))))\n",
    "    )\n",
    "    return volume  \n",
    "\n",
    "@nl.add_symbol\n",
    "def region_union(\n",
    "    region_set: typing.AbstractSet[Region]\n",
    ") -> Region:\n",
    "    return region_union_(region_set)\n",
    "\n",
    "@nl.add_symbol\n",
    "def region_intersection(\n",
    "    region_left: Region, region_right: Region\n",
    ") -> Region:\n",
    "    \n",
    "    r_ijk = region_right.to_ijk(region_left.affine)\n",
    "    region_right = ExplicitVBR(r_ijk, region_left.affine, image_dim=region_left.image_dim)\n",
    "    temp = region_intersection_((region_left, region_right))\n",
    "    if temp is None:\n",
    "        return ExplicitVBR([[0,0,0]], region_left.affine)\n",
    "    return temp\n",
    "\n",
    "\n",
    "region_union = nl.symbols.region_union.expression()\n",
    "region_union.args = (z,)\n",
    "\n",
    "region_intersection = nl.symbols.region_intersection.expression()\n",
    "region_intersection.args = (x, y)\n",
    "\n",
    "agap = AggregationApplication(region_union.functor, (z,))\n",
    "\n",
    "overlapping = nl.symbols.overlapping.expression()\n",
    "overlapping.args = (x,y)\n",
    "\n",
    "\n",
    "#prob symbols\n",
    "term = Symbol('term')\n",
    "voxel = Symbol('voxel')\n",
    "term_voxel = Symbol('termVoxel')\n",
    "voxel2region = Symbol('voxel2region')\n",
    "\n",
    "#Auditory\n",
    "imps = tuple()\n",
    "imps += (Implication(id_(y), label(y, C_('Temporal lobe'))),)\n",
    "imps += (Implication(reg(x), regional_part(x, y) & id_(y)),)\n",
    "#imps += (Implication(reg(y), regional_part(y, x) & reg(x)),)\n",
    "imps += (Implication(sub(y), subClassOf(y, x) & reg(x)),)\n",
    "imps += (Implication(sub(x), subClassOf(x, y) & sub(y)),)\n",
    "imps += (Implication(region(y), sub(x) & label(x, y)),)\n",
    "imps += (Implication(destrieux_region(x), relation_region(x, z) & relation_name(z, y) & region(y)),)\n",
    "imps += (Implication(over(z), term_voxel(C_('auditory'), v) & voxel2region(v, y) & destrieux_region(x) & overlapping & eq_(z, region_intersection)),)\n",
    "\n",
    "#qB2 = ExpressionBlock((e.expression for e in nl.current_program))\n",
    "qB2 = ExpressionBlock(imps)\n",
    "\n",
    "from neurolang.datalog.expressions import TranslateToLogic\n",
    "from neurolang import expression_walker as ew\n",
    "from neurolang.datalog.aggregation import DatalogWithAggregationMixin\n",
    "\n",
    "class DatalogTranslator(\n",
    "    TranslateToLogic, ew.IdentityWalker, DatalogWithAggregationMixin\n",
    "):\n",
    "    pass\n",
    "\n",
    "dt = DatalogTranslator()\n",
    "qB2 = dt.walk(qB2)"
   ]
  },
  {
   "cell_type": "code",
   "execution_count": 225,
   "metadata": {},
   "outputs": [],
   "source": [
    "graph = onto._get_graph()\n",
    "temp = graph[graph.Value == 'Temporal lobe']\n",
    "\n",
    "trip = []\n",
    "for index, en in temp.iterrows():\n",
    "    ent = en.Entity\n",
    "    t1 = graph[graph.Property == 'http://sig.biostr.washington.edu/fma3.0#regional_part_of']\n",
    "    a2 = t1[t1.Value == ent]\n",
    "    trip.append(a2)\n",
    "    \n",
    "temp = graph[graph]\n"
   ]
  },
  {
   "cell_type": "code",
   "execution_count": 226,
   "metadata": {},
   "outputs": [
    {
     "data": {
      "text/plain": [
       "[                                                  Entity  \\\n",
       " 12651  http://sig.biostr.washington.edu/fma3.0#Anteri...   \n",
       " 26898  http://sig.biostr.washington.edu/fma3.0#Inferi...   \n",
       " 30468  http://sig.biostr.washington.edu/fma3.0#Parahi...   \n",
       " 33973  http://sig.biostr.washington.edu/fma3.0#Middle...   \n",
       " 38180  http://sig.biostr.washington.edu/fma3.0#Poster...   \n",
       " 41561  http://sig.biostr.washington.edu/fma3.0#Fusifo...   \n",
       " 60813  http://sig.biostr.washington.edu/fma3.0#Superi...   \n",
       " \n",
       "                                                 Property  \\\n",
       " 12651  http://sig.biostr.washington.edu/fma3.0#region...   \n",
       " 26898  http://sig.biostr.washington.edu/fma3.0#region...   \n",
       " 30468  http://sig.biostr.washington.edu/fma3.0#region...   \n",
       " 33973  http://sig.biostr.washington.edu/fma3.0#region...   \n",
       " 38180  http://sig.biostr.washington.edu/fma3.0#region...   \n",
       " 41561  http://sig.biostr.washington.edu/fma3.0#region...   \n",
       " 60813  http://sig.biostr.washington.edu/fma3.0#region...   \n",
       " \n",
       "                                                    Value  \n",
       " 12651  http://sig.biostr.washington.edu/fma3.0#Tempor...  \n",
       " 26898  http://sig.biostr.washington.edu/fma3.0#Tempor...  \n",
       " 30468  http://sig.biostr.washington.edu/fma3.0#Tempor...  \n",
       " 33973  http://sig.biostr.washington.edu/fma3.0#Tempor...  \n",
       " 38180  http://sig.biostr.washington.edu/fma3.0#Tempor...  \n",
       " 41561  http://sig.biostr.washington.edu/fma3.0#Tempor...  \n",
       " 60813  http://sig.biostr.washington.edu/fma3.0#Tempor...  , Empty DataFrame\n",
       " Columns: [Entity, Property, Value]\n",
       " Index: [], Empty DataFrame\n",
       " Columns: [Entity, Property, Value]\n",
       " Index: []]"
      ]
     },
     "execution_count": 226,
     "metadata": {},
     "output_type": "execute_result"
    }
   ],
   "source": [
    "trip"
   ]
  },
  {
   "cell_type": "code",
   "execution_count": 210,
   "metadata": {},
   "outputs": [],
   "source": [
    "from neurolang.datalog import DatalogProgram\n",
    "from neurolang.datalog.expressions import TranslateToLogic\n",
    "from neurolang import expression_walker as ew\n",
    "from neurolang.regions import region_intersection as region_intersection_, ExplicitVBR\n",
    "from neurolang.datalog.aggregation import DatalogWithAggregationMixin\n",
    "from neurolang.probabilistic.probdatalog import (\n",
    "    ProbDatalogExistentialTranslator,\n",
    "    GDatalogToProbDatalog,\n",
    "    ProbDatalogProgram,\n",
    "    conjunct_formulas,\n",
    "    is_probabilistic_fact,\n",
    "    ground_probdatalog_program,\n",
    ")\n",
    "\n",
    "import neurolang.datalog.constraints_representation as cs\n",
    "reload(cs)\n",
    "class ProbConstraintsDatalogProgram(cs.DatalogConstraintsProgramMixin, ProbDatalogProgram):\n",
    "    pass\n",
    "\n",
    "dl2 = ProbConstraintsDatalogProgram()\n",
    "\n",
    "#dl2.add_extensional_predicate_from_tuples(triple, [(a.args[0].value, a.args[1].value, a.args[2].value) for a in onto.triples])\n",
    "dl2.add_extensional_predicate_from_tuples(relation_region, [(a.args[0].value, a.args[1].value) for a in r_region])\n",
    "dl2.add_extensional_predicate_from_tuples(relation_name, [(a.args[0].value, a.args[1].value) for a in r_name])\n",
    "#dl2.add_extensional_predicate_from_tuples(neurosynth, [(C_('auditory'), reg) for reg, _ in auditory_regions])\n",
    "#dl2.add_extensional_predicate_from_tuples(neurosynth_term, [(C_(row[0]), C_(row[1])) for index, row in auditory_term.iterrows()])\n",
    "dl2.add_extensional_predicate_from_tuples(voxel2region, set(auditory_regions))\n",
    "\n",
    "dl2.add_probfacts_from_tuples(term,  set(prob_terms.itertuples(index=False, name=None)))\n",
    "dl2.add_probfacts_from_tuples(voxel, set(prob_voxels.itertuples(index=False, name=None)))\n",
    "dl2.add_probfacts_from_tuples(term_voxel, set(prob_terms_voxels.itertuples(index=False, name=None)))\n",
    "\n",
    "datalog_program = onto.parse_ontology(dl2)\n"
   ]
  },
  {
   "cell_type": "code",
   "execution_count": 211,
   "metadata": {},
   "outputs": [],
   "source": [
    "const = datalog_program.get_constraints()\n",
    "const = dt.walk(const)\n",
    "\n",
    "orw = OntologyRewriter(qB2, const)\n",
    "rewrite = orw.Xrewrite()"
   ]
  },
  {
   "cell_type": "code",
   "execution_count": 212,
   "metadata": {},
   "outputs": [],
   "source": [
    "def translate_i(i):\n",
    "    if i == 0:\n",
    "        return 'Entity'\n",
    "    elif i == 1:\n",
    "        return 'Property'\n",
    "    else:\n",
    "        return 'Value'\n",
    "\n",
    "from neurolang.expressions import FunctionApplication\n",
    "\n",
    "to_clean = []\n",
    "for e in rewrite:\n",
    "    if isinstance(e[0].antecedent, FunctionApplication):\n",
    "        if triple == e[0].antecedent.functor:\n",
    "            i = 0\n",
    "            for arg in e[0].antecedent.args:\n",
    "                if isinstance(arg, Constant):\n",
    "                    key = translate_i(i)\n",
    "                    to_clean.append((key, arg))\n",
    "                i = i + 1\n",
    "    else:\n",
    "        for a in e[0].antecedent.formulas:\n",
    "            if triple == a.functor:\n",
    "                i = 0\n",
    "                for arg in a.args:\n",
    "                    if isinstance(arg, Constant):\n",
    "                        key = translate_i(i)\n",
    "                        to_clean.append((key, arg))\n",
    "                    i = i+1"
   ]
  },
  {
   "cell_type": "code",
   "execution_count": 213,
   "metadata": {},
   "outputs": [],
   "source": [
    "graph = onto._get_graph()\n",
    "t = []\n",
    "for e in to_clean:\n",
    "    key = e[0]\n",
    "    val = e[1].value\n",
    "    \n",
    "    temp = graph[graph[key] == val]\n",
    "    t.append(temp)"
   ]
  },
  {
   "cell_type": "code",
   "execution_count": 214,
   "metadata": {},
   "outputs": [],
   "source": [
    "trip = pd.concat(t)"
   ]
  },
  {
   "cell_type": "code",
   "execution_count": 215,
   "metadata": {},
   "outputs": [],
   "source": [
    "new_triples = tuple()\n",
    "for index, t in trip.iterrows():\n",
    "    new_triples += ((t[0], t[1], t[2]),)"
   ]
  },
  {
   "cell_type": "code",
   "execution_count": 216,
   "metadata": {},
   "outputs": [],
   "source": [
    "datalog_program.add_extensional_predicate_from_tuples(triple, [(a1, a2, a3) for a1, a2, a3 in new_triples])"
   ]
  },
  {
   "cell_type": "code",
   "execution_count": 217,
   "metadata": {},
   "outputs": [],
   "source": [
    "from neurolang.probabilistic.probdatalog import probdatalog_to_datalog, build_grounding\n",
    "\n",
    "class DatalogTranslator(\n",
    "    TranslateToLogic, ew.IdentityWalker, DatalogWithAggregationMixin\n",
    "):\n",
    "    pass\n",
    "\n",
    "\n",
    "eB2 = ()\n",
    "for imp in rewrite:\n",
    "    eB2 += (imp[0],)\n",
    "    \n",
    "eB2 = ExpressionBlock(eB2)\n",
    "\n",
    "#dt = DatalogTranslator()\n",
    "#eB22 = dt.walk(eB2)\n",
    "datalog_program.walk(eB2)\n",
    "\n",
    "\n",
    "#chase = Chase(dl_program)\n",
    "#dl_instance = chase.build_chase_solution()\n",
    "#return build_grounding(pd_program, dl_instance)"
   ]
  },
  {
   "cell_type": "code",
   "execution_count": 218,
   "metadata": {},
   "outputs": [],
   "source": [
    "from neurolang.region_solver import RegionSolver\n",
    "class DatalogRegions(\n",
    "    TranslateToLogic, RegionSolver, DatalogWithAggregationMixin, DatalogProgram, ExpressionBasicEvaluator\n",
    "):\n",
    "    pass"
   ]
  },
  {
   "cell_type": "code",
   "execution_count": 219,
   "metadata": {},
   "outputs": [],
   "source": [
    "import neurolang.datalog.chase as c\n",
    "import neurolang.datalog.aggregation as a\n",
    "\n",
    "reload(c)\n",
    "reload(a)\n",
    "\n",
    "class Chase2(\n",
    "    a.Chase, c.ChaseNaive, c.ChaseNamedRelationalAlgebraMixin, c.ChaseGeneral\n",
    "):\n",
    "    pass"
   ]
  },
  {
   "cell_type": "code",
   "execution_count": 204,
   "metadata": {},
   "outputs": [],
   "source": [
    "#del datalog_program.symbol_table['__constraints__']"
   ]
  },
  {
   "cell_type": "code",
   "execution_count": 220,
   "metadata": {},
   "outputs": [
    {
     "ename": "KeyboardInterrupt",
     "evalue": "",
     "output_type": "error",
     "traceback": [
      "\u001b[0;31m---------------------------------------------------------------------------\u001b[0m",
      "\u001b[0;31mKeyboardInterrupt\u001b[0m                         Traceback (most recent call last)",
      "\u001b[0;32m<ipython-input-220-d568f9de150f>\u001b[0m in \u001b[0;36m<module>\u001b[0;34m\u001b[0m\n\u001b[1;32m      1\u001b[0m \u001b[0mdl_program\u001b[0m \u001b[0;34m=\u001b[0m \u001b[0mprobdatalog_to_datalog\u001b[0m\u001b[0;34m(\u001b[0m\u001b[0mdatalog_program\u001b[0m\u001b[0;34m,\u001b[0m \u001b[0mdatalog\u001b[0m\u001b[0;34m=\u001b[0m\u001b[0mDatalogRegions\u001b[0m\u001b[0;34m)\u001b[0m\u001b[0;34m\u001b[0m\u001b[0;34m\u001b[0m\u001b[0m\n\u001b[1;32m      2\u001b[0m \u001b[0mdc\u001b[0m \u001b[0;34m=\u001b[0m \u001b[0mChase2\u001b[0m\u001b[0;34m(\u001b[0m\u001b[0mdl_program\u001b[0m\u001b[0;34m)\u001b[0m\u001b[0;34m\u001b[0m\u001b[0;34m\u001b[0m\u001b[0m\n\u001b[0;32m----> 3\u001b[0;31m \u001b[0msolution_instance\u001b[0m \u001b[0;34m=\u001b[0m \u001b[0mdc\u001b[0m\u001b[0;34m.\u001b[0m\u001b[0mbuild_chase_solution\u001b[0m\u001b[0;34m(\u001b[0m\u001b[0;34m)\u001b[0m\u001b[0;34m\u001b[0m\u001b[0;34m\u001b[0m\u001b[0m\n\u001b[0m\u001b[1;32m      4\u001b[0m \u001b[0;31m#result = build_grounding(pd_program, solution_instance)\u001b[0m\u001b[0;34m\u001b[0m\u001b[0;34m\u001b[0m\u001b[0;34m\u001b[0m\u001b[0m\n\u001b[1;32m      5\u001b[0m \u001b[0mlist\u001b[0m\u001b[0;34m(\u001b[0m\u001b[0msolution_instance\u001b[0m\u001b[0;34m.\u001b[0m\u001b[0mkeys\u001b[0m\u001b[0;34m(\u001b[0m\u001b[0;34m)\u001b[0m\u001b[0;34m)\u001b[0m\u001b[0;34m\u001b[0m\u001b[0;34m\u001b[0m\u001b[0m\n",
      "\u001b[0;32m~/Projects/INRIA/NeuroLang/neurolang/datalog/chase/general.py\u001b[0m in \u001b[0;36mbuild_chase_solution\u001b[0;34m(self)\u001b[0m\n\u001b[1;32m    308\u001b[0m             \u001b[0;32mfor\u001b[0m \u001b[0mrule\u001b[0m \u001b[0;32min\u001b[0m \u001b[0mself\u001b[0m\u001b[0;34m.\u001b[0m\u001b[0mrules\u001b[0m\u001b[0;34m:\u001b[0m\u001b[0;34m\u001b[0m\u001b[0;34m\u001b[0m\u001b[0m\n\u001b[1;32m    309\u001b[0m                 instance_update = self.per_rule_update(\n\u001b[0;32m--> 310\u001b[0;31m                     \u001b[0mrule\u001b[0m\u001b[0;34m,\u001b[0m \u001b[0minstance\u001b[0m\u001b[0;34m,\u001b[0m \u001b[0minstance_update\u001b[0m\u001b[0;34m\u001b[0m\u001b[0;34m\u001b[0m\u001b[0m\n\u001b[0m\u001b[1;32m    311\u001b[0m                 )\n\u001b[1;32m    312\u001b[0m                 \u001b[0mcontinue_chase\u001b[0m \u001b[0;34m|=\u001b[0m \u001b[0mlen\u001b[0m\u001b[0;34m(\u001b[0m\u001b[0minstance_update\u001b[0m\u001b[0;34m)\u001b[0m \u001b[0;34m>\u001b[0m \u001b[0;36m0\u001b[0m\u001b[0;34m\u001b[0m\u001b[0;34m\u001b[0m\u001b[0m\n",
      "\u001b[0;32m~/Projects/INRIA/NeuroLang/neurolang/datalog/chase/general.py\u001b[0m in \u001b[0;36mper_rule_update\u001b[0;34m(self, rule, instance, instance_update)\u001b[0m\n\u001b[1;32m    316\u001b[0m     \u001b[0;32mdef\u001b[0m \u001b[0mper_rule_update\u001b[0m\u001b[0;34m(\u001b[0m\u001b[0mself\u001b[0m\u001b[0;34m,\u001b[0m \u001b[0mrule\u001b[0m\u001b[0;34m,\u001b[0m \u001b[0minstance\u001b[0m\u001b[0;34m,\u001b[0m \u001b[0minstance_update\u001b[0m\u001b[0;34m)\u001b[0m\u001b[0;34m:\u001b[0m\u001b[0;34m\u001b[0m\u001b[0;34m\u001b[0m\u001b[0m\n\u001b[1;32m    317\u001b[0m         new_instance_update = self.chase_step(\n\u001b[0;32m--> 318\u001b[0;31m             \u001b[0minstance\u001b[0m\u001b[0;34m,\u001b[0m \u001b[0mrule\u001b[0m\u001b[0;34m,\u001b[0m \u001b[0mrestriction_instance\u001b[0m\u001b[0;34m=\u001b[0m\u001b[0minstance_update\u001b[0m\u001b[0;34m\u001b[0m\u001b[0;34m\u001b[0m\u001b[0m\n\u001b[0m\u001b[1;32m    319\u001b[0m         )\n\u001b[1;32m    320\u001b[0m         \u001b[0;32mif\u001b[0m \u001b[0mlen\u001b[0m\u001b[0;34m(\u001b[0m\u001b[0mnew_instance_update\u001b[0m\u001b[0;34m)\u001b[0m \u001b[0;34m>\u001b[0m \u001b[0;36m0\u001b[0m\u001b[0;34m:\u001b[0m\u001b[0;34m\u001b[0m\u001b[0;34m\u001b[0m\u001b[0m\n",
      "\u001b[0;32m~/Projects/INRIA/NeuroLang/neurolang/datalog/chase/relational_algebra.py\u001b[0m in \u001b[0;36mchase_step\u001b[0;34m(self, instance, rule, restriction_instance)\u001b[0m\n\u001b[1;32m    167\u001b[0m             )\n\u001b[1;32m    168\u001b[0m         substitutions = self.evaluate_builtins(\n\u001b[0;32m--> 169\u001b[0;31m             \u001b[0mbuiltin_predicates\u001b[0m\u001b[0;34m,\u001b[0m \u001b[0msubstitutions\u001b[0m\u001b[0;34m\u001b[0m\u001b[0;34m\u001b[0m\u001b[0m\n\u001b[0m\u001b[1;32m    170\u001b[0m         )\n\u001b[1;32m    171\u001b[0m \u001b[0;34m\u001b[0m\u001b[0m\n",
      "\u001b[0;32m~/Projects/INRIA/NeuroLang/neurolang/datalog/chase/general.py\u001b[0m in \u001b[0;36mevaluate_builtins\u001b[0;34m(self, builtin_predicates, substitutions)\u001b[0m\n\u001b[1;32m    110\u001b[0m         \u001b[0;32mfor\u001b[0m \u001b[0msubstitution\u001b[0m \u001b[0;32min\u001b[0m \u001b[0msubstitutions\u001b[0m\u001b[0;34m:\u001b[0m\u001b[0;34m\u001b[0m\u001b[0;34m\u001b[0m\u001b[0m\n\u001b[1;32m    111\u001b[0m             new_substitution = self.evaluate_builtins_predicates(\n\u001b[0;32m--> 112\u001b[0;31m                 \u001b[0mpredicates\u001b[0m\u001b[0;34m,\u001b[0m \u001b[0msubstitution\u001b[0m\u001b[0;34m\u001b[0m\u001b[0;34m\u001b[0m\u001b[0m\n\u001b[0m\u001b[1;32m    113\u001b[0m             )\n\u001b[1;32m    114\u001b[0m             \u001b[0;32mif\u001b[0m \u001b[0mnew_substitution\u001b[0m \u001b[0;32mis\u001b[0m \u001b[0;32mnot\u001b[0m \u001b[0;32mNone\u001b[0m\u001b[0;34m:\u001b[0m\u001b[0;34m\u001b[0m\u001b[0;34m\u001b[0m\u001b[0m\n",
      "\u001b[0;32m~/Projects/INRIA/NeuroLang/neurolang/datalog/chase/general.py\u001b[0m in \u001b[0;36mevaluate_builtins_predicates\u001b[0;34m(self, predicates_to_evaluate, substitution)\u001b[0m\n\u001b[1;32m    124\u001b[0m             \u001b[0mpredicate\u001b[0m \u001b[0;34m=\u001b[0m \u001b[0mpredicates_to_evaluate\u001b[0m\u001b[0;34m.\u001b[0m\u001b[0mpop\u001b[0m\u001b[0;34m(\u001b[0m\u001b[0;36m0\u001b[0m\u001b[0;34m)\u001b[0m\u001b[0;34m\u001b[0m\u001b[0;34m\u001b[0m\u001b[0m\n\u001b[1;32m    125\u001b[0m \u001b[0;34m\u001b[0m\u001b[0m\n\u001b[0;32m--> 126\u001b[0;31m             \u001b[0msubs\u001b[0m \u001b[0;34m=\u001b[0m \u001b[0mself\u001b[0m\u001b[0;34m.\u001b[0m\u001b[0munify_builtin_substitution\u001b[0m\u001b[0;34m(\u001b[0m\u001b[0mpredicate\u001b[0m\u001b[0;34m,\u001b[0m \u001b[0msubstitution\u001b[0m\u001b[0;34m)\u001b[0m\u001b[0;34m\u001b[0m\u001b[0;34m\u001b[0m\u001b[0m\n\u001b[0m\u001b[1;32m    127\u001b[0m             \u001b[0;32mif\u001b[0m \u001b[0msubs\u001b[0m \u001b[0;32mis\u001b[0m \u001b[0;32mNone\u001b[0m\u001b[0;34m:\u001b[0m\u001b[0;34m\u001b[0m\u001b[0;34m\u001b[0m\u001b[0m\n\u001b[1;32m    128\u001b[0m                 \u001b[0munresolved_predicates\u001b[0m\u001b[0;34m.\u001b[0m\u001b[0mappend\u001b[0m\u001b[0;34m(\u001b[0m\u001b[0mpredicate\u001b[0m\u001b[0;34m)\u001b[0m\u001b[0;34m\u001b[0m\u001b[0;34m\u001b[0m\u001b[0m\n",
      "\u001b[0;32m~/Projects/INRIA/NeuroLang/neurolang/datalog/chase/general.py\u001b[0m in \u001b[0;36munify_builtin_substitution\u001b[0;34m(self, predicate, substitution)\u001b[0m\n\u001b[1;32m    139\u001b[0m     \u001b[0;32mdef\u001b[0m \u001b[0munify_builtin_substitution\u001b[0m\u001b[0;34m(\u001b[0m\u001b[0mself\u001b[0m\u001b[0;34m,\u001b[0m \u001b[0mpredicate\u001b[0m\u001b[0;34m,\u001b[0m \u001b[0msubstitution\u001b[0m\u001b[0;34m)\u001b[0m\u001b[0;34m:\u001b[0m\u001b[0;34m\u001b[0m\u001b[0;34m\u001b[0m\u001b[0m\n\u001b[1;32m    140\u001b[0m         \u001b[0msubstituted_predicate\u001b[0m \u001b[0;34m=\u001b[0m \u001b[0mapply_substitution\u001b[0m\u001b[0;34m(\u001b[0m\u001b[0mpredicate\u001b[0m\u001b[0;34m,\u001b[0m \u001b[0msubstitution\u001b[0m\u001b[0;34m)\u001b[0m\u001b[0;34m\u001b[0m\u001b[0;34m\u001b[0m\u001b[0m\n\u001b[0;32m--> 141\u001b[0;31m         \u001b[0mevaluated_predicate\u001b[0m \u001b[0;34m=\u001b[0m \u001b[0mself\u001b[0m\u001b[0;34m.\u001b[0m\u001b[0mdatalog_program\u001b[0m\u001b[0;34m.\u001b[0m\u001b[0mwalk\u001b[0m\u001b[0;34m(\u001b[0m\u001b[0msubstituted_predicate\u001b[0m\u001b[0;34m)\u001b[0m\u001b[0;34m\u001b[0m\u001b[0;34m\u001b[0m\u001b[0m\n\u001b[0m\u001b[1;32m    142\u001b[0m         if (\n\u001b[1;32m    143\u001b[0m             \u001b[0misinstance\u001b[0m\u001b[0;34m(\u001b[0m\u001b[0mevaluated_predicate\u001b[0m\u001b[0;34m,\u001b[0m \u001b[0mConstant\u001b[0m\u001b[0;34m[\u001b[0m\u001b[0mbool\u001b[0m\u001b[0;34m]\u001b[0m\u001b[0;34m)\u001b[0m \u001b[0;32mand\u001b[0m\u001b[0;34m\u001b[0m\u001b[0;34m\u001b[0m\u001b[0m\n",
      "\u001b[0;32m~/Projects/INRIA/NeuroLang/neurolang/expression_walker.py\u001b[0m in \u001b[0;36mwalk\u001b[0;34m(self, expression)\u001b[0m\n\u001b[1;32m    108\u001b[0m             \u001b[0mresult\u001b[0m \u001b[0;34m=\u001b[0m \u001b[0mtuple\u001b[0m\u001b[0;34m(\u001b[0m\u001b[0mresult\u001b[0m\u001b[0;34m)\u001b[0m\u001b[0;34m\u001b[0m\u001b[0;34m\u001b[0m\u001b[0m\n\u001b[1;32m    109\u001b[0m             \u001b[0;32mreturn\u001b[0m \u001b[0mresult\u001b[0m\u001b[0;34m\u001b[0m\u001b[0;34m\u001b[0m\u001b[0m\n\u001b[0;32m--> 110\u001b[0;31m         \u001b[0;32mreturn\u001b[0m \u001b[0mself\u001b[0m\u001b[0;34m.\u001b[0m\u001b[0mmatch\u001b[0m\u001b[0;34m(\u001b[0m\u001b[0mexpression\u001b[0m\u001b[0;34m)\u001b[0m\u001b[0;34m\u001b[0m\u001b[0;34m\u001b[0m\u001b[0m\n\u001b[0m\u001b[1;32m    111\u001b[0m \u001b[0;34m\u001b[0m\u001b[0m\n\u001b[1;32m    112\u001b[0m \u001b[0;34m\u001b[0m\u001b[0m\n",
      "\u001b[0;32m~/Projects/INRIA/NeuroLang/neurolang/expression_pattern_matching.py\u001b[0m in \u001b[0;36mmatch\u001b[0;34m(self, expression)\u001b[0m\n\u001b[1;32m    293\u001b[0m                 \u001b[0mlogging\u001b[0m\u001b[0;34m.\u001b[0m\u001b[0minfo\u001b[0m\u001b[0;34m(\u001b[0m\u001b[0;34m'\\t\\tpattern: %(pattern)s'\u001b[0m\u001b[0;34m,\u001b[0m \u001b[0;34m{\u001b[0m\u001b[0;34m'pattern'\u001b[0m\u001b[0;34m:\u001b[0m \u001b[0mpattern\u001b[0m\u001b[0;34m}\u001b[0m\u001b[0;34m)\u001b[0m\u001b[0;34m\u001b[0m\u001b[0;34m\u001b[0m\u001b[0m\n\u001b[1;32m    294\u001b[0m                 \u001b[0mlogging\u001b[0m\u001b[0;34m.\u001b[0m\u001b[0minfo\u001b[0m\u001b[0;34m(\u001b[0m\u001b[0;34m'\\t\\tguard: %(guard)s'\u001b[0m\u001b[0;34m,\u001b[0m \u001b[0;34m{\u001b[0m\u001b[0;34m'guard'\u001b[0m\u001b[0;34m:\u001b[0m \u001b[0mguard\u001b[0m\u001b[0;34m}\u001b[0m\u001b[0;34m)\u001b[0m\u001b[0;34m\u001b[0m\u001b[0;34m\u001b[0m\u001b[0m\n\u001b[0;32m--> 295\u001b[0;31m                 \u001b[0mresult_expression\u001b[0m \u001b[0;34m=\u001b[0m \u001b[0maction\u001b[0m\u001b[0;34m(\u001b[0m\u001b[0mself\u001b[0m\u001b[0;34m,\u001b[0m \u001b[0mexpression\u001b[0m\u001b[0;34m)\u001b[0m\u001b[0;34m\u001b[0m\u001b[0;34m\u001b[0m\u001b[0m\n\u001b[0m\u001b[1;32m    296\u001b[0m                 logging.info(\n\u001b[1;32m    297\u001b[0m                     \u001b[0;34m'\\t\\tresult: %(result_expression)s'\u001b[0m\u001b[0;34m,\u001b[0m\u001b[0;34m\u001b[0m\u001b[0;34m\u001b[0m\u001b[0m\n",
      "\u001b[0;32m~/Projects/INRIA/NeuroLang/neurolang/expression_walker.py\u001b[0m in \u001b[0;36mprocess_expression\u001b[0;34m(self, expression)\u001b[0m\n\u001b[1;32m    193\u001b[0m         \u001b[0;32mif\u001b[0m \u001b[0mchanged\u001b[0m\u001b[0;34m:\u001b[0m\u001b[0;34m\u001b[0m\u001b[0;34m\u001b[0m\u001b[0m\n\u001b[1;32m    194\u001b[0m             \u001b[0mnew_expression\u001b[0m \u001b[0;34m=\u001b[0m \u001b[0mexpression\u001b[0m\u001b[0;34m.\u001b[0m\u001b[0mapply\u001b[0m\u001b[0;34m(\u001b[0m\u001b[0;34m*\u001b[0m\u001b[0mnew_args\u001b[0m\u001b[0;34m)\u001b[0m\u001b[0;34m\u001b[0m\u001b[0;34m\u001b[0m\u001b[0m\n\u001b[0;32m--> 195\u001b[0;31m             \u001b[0;32mreturn\u001b[0m \u001b[0mself\u001b[0m\u001b[0;34m.\u001b[0m\u001b[0mwalk\u001b[0m\u001b[0;34m(\u001b[0m\u001b[0mnew_expression\u001b[0m\u001b[0;34m)\u001b[0m\u001b[0;34m\u001b[0m\u001b[0;34m\u001b[0m\u001b[0m\n\u001b[0m\u001b[1;32m    196\u001b[0m         \u001b[0;32melse\u001b[0m\u001b[0;34m:\u001b[0m\u001b[0;34m\u001b[0m\u001b[0;34m\u001b[0m\u001b[0m\n\u001b[1;32m    197\u001b[0m             \u001b[0;32mreturn\u001b[0m \u001b[0mexpression\u001b[0m\u001b[0;34m\u001b[0m\u001b[0;34m\u001b[0m\u001b[0m\n",
      "\u001b[0;32m~/Projects/INRIA/NeuroLang/neurolang/expression_walker.py\u001b[0m in \u001b[0;36mwalk\u001b[0;34m(self, expression)\u001b[0m\n\u001b[1;32m    108\u001b[0m             \u001b[0mresult\u001b[0m \u001b[0;34m=\u001b[0m \u001b[0mtuple\u001b[0m\u001b[0;34m(\u001b[0m\u001b[0mresult\u001b[0m\u001b[0;34m)\u001b[0m\u001b[0;34m\u001b[0m\u001b[0;34m\u001b[0m\u001b[0m\n\u001b[1;32m    109\u001b[0m             \u001b[0;32mreturn\u001b[0m \u001b[0mresult\u001b[0m\u001b[0;34m\u001b[0m\u001b[0;34m\u001b[0m\u001b[0m\n\u001b[0;32m--> 110\u001b[0;31m         \u001b[0;32mreturn\u001b[0m \u001b[0mself\u001b[0m\u001b[0;34m.\u001b[0m\u001b[0mmatch\u001b[0m\u001b[0;34m(\u001b[0m\u001b[0mexpression\u001b[0m\u001b[0;34m)\u001b[0m\u001b[0;34m\u001b[0m\u001b[0;34m\u001b[0m\u001b[0m\n\u001b[0m\u001b[1;32m    111\u001b[0m \u001b[0;34m\u001b[0m\u001b[0m\n\u001b[1;32m    112\u001b[0m \u001b[0;34m\u001b[0m\u001b[0m\n",
      "\u001b[0;32m~/Projects/INRIA/NeuroLang/neurolang/expression_pattern_matching.py\u001b[0m in \u001b[0;36mmatch\u001b[0;34m(self, expression)\u001b[0m\n\u001b[1;32m    300\u001b[0m                 \u001b[0;32mbreak\u001b[0m\u001b[0;34m\u001b[0m\u001b[0;34m\u001b[0m\u001b[0m\n\u001b[1;32m    301\u001b[0m             \u001b[0;32melse\u001b[0m\u001b[0;34m:\u001b[0m\u001b[0;34m\u001b[0m\u001b[0;34m\u001b[0m\u001b[0m\n\u001b[0;32m--> 302\u001b[0;31m                 \u001b[0mlogging\u001b[0m\u001b[0;34m.\u001b[0m\u001b[0mdebug\u001b[0m\u001b[0;34m(\u001b[0m\u001b[0;34m'\\tNOMATCH %(name)s'\u001b[0m\u001b[0;34m,\u001b[0m \u001b[0;34m{\u001b[0m\u001b[0;34m'name'\u001b[0m\u001b[0;34m:\u001b[0m \u001b[0mname\u001b[0m\u001b[0;34m}\u001b[0m\u001b[0;34m)\u001b[0m\u001b[0;34m\u001b[0m\u001b[0;34m\u001b[0m\u001b[0m\n\u001b[0m\u001b[1;32m    303\u001b[0m                 logging.debug(\n\u001b[1;32m    304\u001b[0m                     \u001b[0;34m'\\t\\tpattern: %(pattern)s %(pattern_match)s'\u001b[0m\u001b[0;34m,\u001b[0m\u001b[0;34m\u001b[0m\u001b[0;34m\u001b[0m\u001b[0m\n",
      "\u001b[0;32m~/miniconda3/envs/neurolang/lib/python3.7/logging/__init__.py\u001b[0m in \u001b[0;36mdebug\u001b[0;34m(msg, *args, **kwargs)\u001b[0m\n\u001b[1;32m   2002\u001b[0m     \u001b[0;32mif\u001b[0m \u001b[0mlen\u001b[0m\u001b[0;34m(\u001b[0m\u001b[0mroot\u001b[0m\u001b[0;34m.\u001b[0m\u001b[0mhandlers\u001b[0m\u001b[0;34m)\u001b[0m \u001b[0;34m==\u001b[0m \u001b[0;36m0\u001b[0m\u001b[0;34m:\u001b[0m\u001b[0;34m\u001b[0m\u001b[0;34m\u001b[0m\u001b[0m\n\u001b[1;32m   2003\u001b[0m         \u001b[0mbasicConfig\u001b[0m\u001b[0;34m(\u001b[0m\u001b[0;34m)\u001b[0m\u001b[0;34m\u001b[0m\u001b[0;34m\u001b[0m\u001b[0m\n\u001b[0;32m-> 2004\u001b[0;31m     \u001b[0mroot\u001b[0m\u001b[0;34m.\u001b[0m\u001b[0mdebug\u001b[0m\u001b[0;34m(\u001b[0m\u001b[0mmsg\u001b[0m\u001b[0;34m,\u001b[0m \u001b[0;34m*\u001b[0m\u001b[0margs\u001b[0m\u001b[0;34m,\u001b[0m \u001b[0;34m**\u001b[0m\u001b[0mkwargs\u001b[0m\u001b[0;34m)\u001b[0m\u001b[0;34m\u001b[0m\u001b[0;34m\u001b[0m\u001b[0m\n\u001b[0m\u001b[1;32m   2005\u001b[0m \u001b[0;34m\u001b[0m\u001b[0m\n\u001b[1;32m   2006\u001b[0m \u001b[0;32mdef\u001b[0m \u001b[0mlog\u001b[0m\u001b[0;34m(\u001b[0m\u001b[0mlevel\u001b[0m\u001b[0;34m,\u001b[0m \u001b[0mmsg\u001b[0m\u001b[0;34m,\u001b[0m \u001b[0;34m*\u001b[0m\u001b[0margs\u001b[0m\u001b[0;34m,\u001b[0m \u001b[0;34m**\u001b[0m\u001b[0mkwargs\u001b[0m\u001b[0;34m)\u001b[0m\u001b[0;34m:\u001b[0m\u001b[0;34m\u001b[0m\u001b[0;34m\u001b[0m\u001b[0m\n",
      "\u001b[0;32m~/miniconda3/envs/neurolang/lib/python3.7/logging/__init__.py\u001b[0m in \u001b[0;36mdebug\u001b[0;34m(self, msg, *args, **kwargs)\u001b[0m\n\u001b[1;32m   1368\u001b[0m         \u001b[0mlogger\u001b[0m\u001b[0;34m.\u001b[0m\u001b[0mdebug\u001b[0m\u001b[0;34m(\u001b[0m\u001b[0;34m\"Houston, we have a %s\"\u001b[0m\u001b[0;34m,\u001b[0m \u001b[0;34m\"thorny problem\"\u001b[0m\u001b[0;34m,\u001b[0m \u001b[0mexc_info\u001b[0m\u001b[0;34m=\u001b[0m\u001b[0;36m1\u001b[0m\u001b[0;34m)\u001b[0m\u001b[0;34m\u001b[0m\u001b[0;34m\u001b[0m\u001b[0m\n\u001b[1;32m   1369\u001b[0m         \"\"\"\n\u001b[0;32m-> 1370\u001b[0;31m         \u001b[0;32mif\u001b[0m \u001b[0mself\u001b[0m\u001b[0;34m.\u001b[0m\u001b[0misEnabledFor\u001b[0m\u001b[0;34m(\u001b[0m\u001b[0mDEBUG\u001b[0m\u001b[0;34m)\u001b[0m\u001b[0;34m:\u001b[0m\u001b[0;34m\u001b[0m\u001b[0;34m\u001b[0m\u001b[0m\n\u001b[0m\u001b[1;32m   1371\u001b[0m             \u001b[0mself\u001b[0m\u001b[0;34m.\u001b[0m\u001b[0m_log\u001b[0m\u001b[0;34m(\u001b[0m\u001b[0mDEBUG\u001b[0m\u001b[0;34m,\u001b[0m \u001b[0mmsg\u001b[0m\u001b[0;34m,\u001b[0m \u001b[0margs\u001b[0m\u001b[0;34m,\u001b[0m \u001b[0;34m**\u001b[0m\u001b[0mkwargs\u001b[0m\u001b[0;34m)\u001b[0m\u001b[0;34m\u001b[0m\u001b[0;34m\u001b[0m\u001b[0m\n\u001b[1;32m   1372\u001b[0m \u001b[0;34m\u001b[0m\u001b[0m\n",
      "\u001b[0;32m~/miniconda3/envs/neurolang/lib/python3.7/logging/__init__.py\u001b[0m in \u001b[0;36misEnabledFor\u001b[0;34m(self, level)\u001b[0m\n\u001b[1;32m   1617\u001b[0m         \u001b[0;32mreturn\u001b[0m \u001b[0mNOTSET\u001b[0m\u001b[0;34m\u001b[0m\u001b[0;34m\u001b[0m\u001b[0m\n\u001b[1;32m   1618\u001b[0m \u001b[0;34m\u001b[0m\u001b[0m\n\u001b[0;32m-> 1619\u001b[0;31m     \u001b[0;32mdef\u001b[0m \u001b[0misEnabledFor\u001b[0m\u001b[0;34m(\u001b[0m\u001b[0mself\u001b[0m\u001b[0;34m,\u001b[0m \u001b[0mlevel\u001b[0m\u001b[0;34m)\u001b[0m\u001b[0;34m:\u001b[0m\u001b[0;34m\u001b[0m\u001b[0;34m\u001b[0m\u001b[0m\n\u001b[0m\u001b[1;32m   1620\u001b[0m         \"\"\"\n\u001b[1;32m   1621\u001b[0m         \u001b[0mIs\u001b[0m \u001b[0mthis\u001b[0m \u001b[0mlogger\u001b[0m \u001b[0menabled\u001b[0m \u001b[0;32mfor\u001b[0m \u001b[0mlevel\u001b[0m \u001b[0;34m'level'\u001b[0m\u001b[0;31m?\u001b[0m\u001b[0;34m\u001b[0m\u001b[0;34m\u001b[0m\u001b[0m\n",
      "\u001b[0;31mKeyboardInterrupt\u001b[0m: "
     ]
    }
   ],
   "source": [
    "dl_program = probdatalog_to_datalog(datalog_program, datalog=DatalogRegions)\n",
    "dc = Chase2(dl_program)\n",
    "solution_instance = dc.build_chase_solution()\n",
    "#result = build_grounding(pd_program, solution_instance)\n",
    "list(solution_instance.keys())"
   ]
  },
  {
   "cell_type": "code",
   "execution_count": 13,
   "metadata": {},
   "outputs": [],
   "source": [
    "grounded = build_grounding(dl2, solution_instance)"
   ]
  },
  {
   "cell_type": "code",
   "execution_count": 14,
   "metadata": {},
   "outputs": [
    {
     "data": {
      "text/plain": [
       "Implication{ProbabilisticPredicate{S{fresh_00000012: Unknown} :: λ{S{termVoxel: Unknown}: Unknown}(S{fresh_00000013: Unknown}, S{fresh_00000014: Unknown}) : <class 'neurolang.type_system.Unknown'>} ← C{True: bool}}"
      ]
     },
     "execution_count": 14,
     "metadata": {},
     "output_type": "execute_result"
    }
   ],
   "source": [
    "grounded.expressions[0].expression"
   ]
  },
  {
   "cell_type": "code",
   "execution_count": null,
   "metadata": {},
   "outputs": [],
   "source": []
  },
  {
   "cell_type": "code",
   "execution_count": 22,
   "metadata": {},
   "outputs": [
    {
     "name": "stdout",
     "output_type": "stream",
     "text": [
      "Implication{ProbabilisticPredicate{S{fresh_00000012: Unknown} :: λ{S{termVoxel: Unknown}: Unknown}(S{fresh_00000013: Unknown}, S{fresh_00000014: Unknown}) : <class 'neurolang.type_system.Unknown'>} ← C{True: bool}}\n",
      "\n",
      "Implication{ProbabilisticPredicate{S{fresh_00000015: Unknown} :: λ{S{voxel: Unknown}: Unknown}(S{fresh_00000016: Unknown}) : <class 'neurolang.type_system.Unknown'>} ← C{True: bool}}\n",
      "\n",
      "Implication{ProbabilisticPredicate{S{fresh_00000020: Unknown} :: λ{S{term: Unknown}: Unknown}(S{fresh_00000021: Unknown}) : <class 'neurolang.type_system.Unknown'>} ← C{True: bool}}\n",
      "\n",
      "Implication{λ{S{relation_region: typing.AbstractSet[typing.Tuple[neurolang.regions.ExplicitVBR, str]]}: typing.Tuple[neurolang.regions.ExplicitVBR, str]}(S{fresh_00000010: Unknown}, S{fresh_00000011: Unknown}) ← C{True: bool}}\n",
      "\n",
      "Implication{λ{S{triple: typing.AbstractSet[typing.Tuple[str, str, str]]}: typing.Tuple[str, str, str]}(S{fresh_00000017: Unknown}, S{fresh_00000018: Unknown}, S{fresh_00000019: Unknown}) ← C{True: bool}}\n",
      "\n",
      "Implication{λ{S{voxel2region: typing.AbstractSet[typing.Tuple[int, neurolang.regions.ExplicitVBR]]}: typing.Tuple[int, neurolang.regions.ExplicitVBR]}(S{fresh_00000022: Unknown}, S{fresh_00000023: Unknown}) ← C{True: bool}}\n",
      "\n",
      "Implication{λ{S{relation_name: typing.AbstractSet[typing.Tuple[str, str]]}: typing.Tuple[str, str]}(S{fresh_00000024: Unknown}, S{fresh_00000025: Unknown}) ← C{True: bool}}\n",
      "\n",
      "Implication{λ{S{id_: Unknown}: Unknown}(S{y: Unknown}) ← λ{S{triple: Unknown}: Unknown}(S{y: Unknown}, C{'http://www.w3.org/2000/01/rdf-schema#label': str}, C{'Temporal lobe': str})}\n",
      "\n",
      "Implication{λ{S{reg: Unknown}: Unknown}(S{x: Unknown}) ← ⋀(λ{S{http://sig.biostr.washington.edu/fma3.0#regional_part_of: Unknown}: Unknown}(S{x: Unknown}, S{y: Unknown}), λ{S{id_: Unknown}: Unknown}(S{y: Unknown}))}\n",
      "\n",
      "Implication{λ{S{over: Unknown}: Unknown}(S{z: Unknown}) ← ⋀(λ{S{termVoxel: Unknown}: Unknown}(C{'auditory': str}, S{v: Unknown}), λ{S{voxel2region: Unknown}: Unknown}(S{v: Unknown}, S{y: Unknown}), λ{S{destrieux_region: Unknown}: Unknown}(S{x: Unknown}), λ{C{RegionSolver.__new__.<locals>.build_function.<locals>.fun: typing.Callable[[neurolang.regions.Region, neurolang.regions.Region], bool]}: bool}(S{x: Unknown}, S{y: Unknown}), λ{C{eq: typing.Callable[[neurolang.type_system.Unknown, neurolang.type_system.Unknown], bool]}: bool}(S{z: Unknown}, λ{C{region_intersection: typing.Callable[[neurolang.regions.Region, neurolang.regions.Region], neurolang.regions.Region]}: Region}(S{x: Unknown}, S{y: Unknown})))}\n",
      "\n",
      "Implication{λ{S{region: Unknown}: Unknown}(S{y: Unknown}) ← ⋀(λ{S{sub: Unknown}: Unknown}(S{x: Unknown}), λ{S{triple: Unknown}: Unknown}(S{x: Unknown}, C{'http://www.w3.org/2000/01/rdf-schema#label': str}, S{y: Unknown}))}\n",
      "\n",
      "Implication{λ{S{sub: Unknown}: Unknown}(S{x: Unknown}) ← ⋀(λ{S{http://www.w3.org/2000/01/rdf-schema#subClassOf: Unknown}: Unknown}(S{x: Unknown}, S{y: Unknown}), λ{S{sub: Unknown}: Unknown}(S{y: Unknown}))}\n",
      "\n",
      "Implication{λ{S{destrieux_region: Unknown}: Unknown}(S{x: Unknown}) ← ⋀(λ{S{relation_region: Unknown}: Unknown}(S{x: Unknown}, S{z: Unknown}), λ{S{relation_name: Unknown}: Unknown}(S{z: Unknown}, S{y: Unknown}), λ{S{region: Unknown}: Unknown}(S{y: Unknown}))}\n",
      "\n"
     ]
    }
   ],
   "source": [
    "for e in grounded.expressions:\n",
    "    print(e.expression)\n",
    "    print()"
   ]
  },
  {
   "cell_type": "code",
   "execution_count": null,
   "metadata": {},
   "outputs": [],
   "source": [
    "#region_solver\n",
    "#subClass\n",
    "#eq\n",
    "#over\n",
    "#regional_part_of"
   ]
  },
  {
   "cell_type": "code",
   "execution_count": 28,
   "metadata": {},
   "outputs": [
    {
     "name": "stdout",
     "output_type": "stream",
     "text": [
      "Implication{ProbabilisticPredicate{S{fresh_00000012: Unknown} :: λ{S{termVoxel: Unknown}: Unknown}(S{fresh_00000013: Unknown}, S{fresh_00000014: Unknown}) : <class 'neurolang.type_system.Unknown'>} ← C{True: bool}}\n",
      "\n",
      "Implication{ProbabilisticPredicate{S{fresh_00000015: Unknown} :: λ{S{voxel: Unknown}: Unknown}(S{fresh_00000016: Unknown}) : <class 'neurolang.type_system.Unknown'>} ← C{True: bool}}\n",
      "\n",
      "Implication{ProbabilisticPredicate{S{fresh_00000020: Unknown} :: λ{S{term: Unknown}: Unknown}(S{fresh_00000021: Unknown}) : <class 'neurolang.type_system.Unknown'>} ← C{True: bool}}\n",
      "\n",
      "Implication{λ{S{relation_region: typing.AbstractSet[typing.Tuple[neurolang.regions.ExplicitVBR, str]]}: typing.Tuple[neurolang.regions.ExplicitVBR, str]}(S{fresh_00000010: Unknown}, S{fresh_00000011: Unknown}) ← C{True: bool}}\n",
      "\n",
      "Implication{λ{S{triple: typing.AbstractSet[typing.Tuple[str, str, str]]}: typing.Tuple[str, str, str]}(S{fresh_00000017: Unknown}, S{fresh_00000018: Unknown}, S{fresh_00000019: Unknown}) ← C{True: bool}}\n",
      "\n",
      "Implication{λ{S{voxel2region: typing.AbstractSet[typing.Tuple[int, neurolang.regions.ExplicitVBR]]}: typing.Tuple[int, neurolang.regions.ExplicitVBR]}(S{fresh_00000022: Unknown}, S{fresh_00000023: Unknown}) ← C{True: bool}}\n",
      "\n",
      "Implication{λ{S{relation_name: typing.AbstractSet[typing.Tuple[str, str]]}: typing.Tuple[str, str]}(S{fresh_00000024: Unknown}, S{fresh_00000025: Unknown}) ← C{True: bool}}\n",
      "\n",
      "Implication{λ{S{id_: Unknown}: Unknown}(S{y: Unknown}) ← λ{S{triple: Unknown}: Unknown}(S{y: Unknown}, C{'http://www.w3.org/2000/01/rdf-schema#label': str}, C{'Temporal lobe': str})}\n",
      "\n",
      "Implication{λ{S{reg: Unknown}: Unknown}(S{x: Unknown}) ← ⋀(λ{S{http://sig.biostr.washington.edu/fma3.0#regional_part_of: Unknown}: Unknown}(S{x: Unknown}, S{y: Unknown}), λ{S{id_: Unknown}: Unknown}(S{y: Unknown}))}\n",
      "\n",
      "Implication{λ{S{over: Unknown}: Unknown}(S{z: Unknown}) ← ⋀(λ{S{termVoxel: Unknown}: Unknown}(C{'auditory': str}, S{v: Unknown}), λ{S{voxel2region: Unknown}: Unknown}(S{v: Unknown}, S{y: Unknown}), λ{S{destrieux_region: Unknown}: Unknown}(S{x: Unknown}), λ{C{RegionSolver.__new__.<locals>.build_function.<locals>.fun: typing.Callable[[neurolang.regions.Region, neurolang.regions.Region], bool]}: bool}(S{x: Unknown}, S{y: Unknown}), λ{C{eq: typing.Callable[[neurolang.type_system.Unknown, neurolang.type_system.Unknown], bool]}: bool}(S{z: Unknown}, λ{C{region_intersection: typing.Callable[[neurolang.regions.Region, neurolang.regions.Region], neurolang.regions.Region]}: Region}(S{x: Unknown}, S{y: Unknown})))}\n",
      "\n",
      "Implication{λ{S{region: Unknown}: Unknown}(S{y: Unknown}) ← ⋀(λ{S{sub: Unknown}: Unknown}(S{x: Unknown}), λ{S{triple: Unknown}: Unknown}(S{x: Unknown}, C{'http://www.w3.org/2000/01/rdf-schema#label': str}, S{y: Unknown}))}\n",
      "\n",
      "Implication{λ{S{sub: Unknown}: Unknown}(S{x: Unknown}) ← ⋀(λ{S{http://www.w3.org/2000/01/rdf-schema#subClassOf: Unknown}: Unknown}(S{x: Unknown}, S{y: Unknown}), λ{S{sub: Unknown}: Unknown}(S{y: Unknown}))}\n",
      "\n",
      "Implication{λ{S{destrieux_region: Unknown}: Unknown}(S{x: Unknown}) ← ⋀(λ{S{relation_region: Unknown}: Unknown}(S{x: Unknown}, S{z: Unknown}), λ{S{relation_name: Unknown}: Unknown}(S{z: Unknown}, S{y: Unknown}), λ{S{region: Unknown}: Unknown}(S{y: Unknown}))}\n",
      "\n",
      "Implication{ProbabilisticPredicate{S{fresh_00000012: Unknown} :: λ{S{termVoxel: Unknown}: Unknown}(S{fresh_00000013: Unknown}, S{fresh_00000014: Unknown}) : <class 'neurolang.type_system.Unknown'>} ← C{True: bool}}\n",
      "\n",
      "Implication{ProbabilisticPredicate{S{fresh_00000015: Unknown} :: λ{S{voxel: Unknown}: Unknown}(S{fresh_00000016: Unknown}) : <class 'neurolang.type_system.Unknown'>} ← C{True: bool}}\n",
      "\n",
      "Implication{ProbabilisticPredicate{S{fresh_00000020: Unknown} :: λ{S{term: Unknown}: Unknown}(S{fresh_00000021: Unknown}) : <class 'neurolang.type_system.Unknown'>} ← C{True: bool}}\n",
      "\n",
      "Implication{λ{S{relation_region: typing.AbstractSet[typing.Tuple[neurolang.regions.ExplicitVBR, str]]}: typing.Tuple[neurolang.regions.ExplicitVBR, str]}(S{fresh_00000010: Unknown}, S{fresh_00000011: Unknown}) ← C{True: bool}}\n",
      "\n",
      "Implication{λ{S{triple: typing.AbstractSet[typing.Tuple[str, str, str]]}: typing.Tuple[str, str, str]}(S{fresh_00000017: Unknown}, S{fresh_00000018: Unknown}, S{fresh_00000019: Unknown}) ← C{True: bool}}\n",
      "\n",
      "Implication{λ{S{voxel2region: typing.AbstractSet[typing.Tuple[int, neurolang.regions.ExplicitVBR]]}: typing.Tuple[int, neurolang.regions.ExplicitVBR]}(S{fresh_00000022: Unknown}, S{fresh_00000023: Unknown}) ← C{True: bool}}\n",
      "\n",
      "Implication{λ{S{relation_name: typing.AbstractSet[typing.Tuple[str, str]]}: typing.Tuple[str, str]}(S{fresh_00000024: Unknown}, S{fresh_00000025: Unknown}) ← C{True: bool}}\n",
      "\n",
      "Implication{λ{S{id_: Unknown}: Unknown}(S{y: Unknown}) ← λ{S{triple: Unknown}: Unknown}(S{y: Unknown}, C{'http://www.w3.org/2000/01/rdf-schema#label': str}, C{'Temporal lobe': str})}\n",
      "\n",
      "Implication{λ{S{reg: Unknown}: Unknown}(S{x: Unknown}) ← ⋀(λ{S{http://sig.biostr.washington.edu/fma3.0#regional_part_of: Unknown}: Unknown}(S{x: Unknown}, S{y: Unknown}), λ{S{id_: Unknown}: Unknown}(S{y: Unknown}))}\n",
      "\n",
      "Implication{λ{S{over: Unknown}: Unknown}(S{z: Unknown}) ← ⋀(λ{S{termVoxel: Unknown}: Unknown}(C{'auditory': str}, S{v: Unknown}), λ{S{voxel2region: Unknown}: Unknown}(S{v: Unknown}, S{y: Unknown}), λ{S{destrieux_region: Unknown}: Unknown}(S{x: Unknown}), λ{C{RegionSolver.__new__.<locals>.build_function.<locals>.fun: typing.Callable[[neurolang.regions.Region, neurolang.regions.Region], bool]}: bool}(S{x: Unknown}, S{y: Unknown}), λ{C{eq: typing.Callable[[neurolang.type_system.Unknown, neurolang.type_system.Unknown], bool]}: bool}(S{z: Unknown}, λ{C{region_intersection: typing.Callable[[neurolang.regions.Region, neurolang.regions.Region], neurolang.regions.Region]}: Region}(S{x: Unknown}, S{y: Unknown})))}\n",
      "\n",
      "Implication{λ{S{region: Unknown}: Unknown}(S{y: Unknown}) ← ⋀(λ{S{sub: Unknown}: Unknown}(S{x: Unknown}), λ{S{triple: Unknown}: Unknown}(S{x: Unknown}, C{'http://www.w3.org/2000/01/rdf-schema#label': str}, S{y: Unknown}))}\n",
      "\n",
      "Implication{λ{S{sub: Unknown}: Unknown}(S{x: Unknown}) ← ⋀(λ{S{http://www.w3.org/2000/01/rdf-schema#subClassOf: Unknown}: Unknown}(S{x: Unknown}, S{y: Unknown}), λ{S{sub: Unknown}: Unknown}(S{y: Unknown}))}\n",
      "\n",
      "Implication{λ{S{destrieux_region: Unknown}: Unknown}(S{x: Unknown}) ← ⋀(λ{S{relation_region: Unknown}: Unknown}(S{x: Unknown}, S{z: Unknown}), λ{S{relation_name: Unknown}: Unknown}(S{z: Unknown}, S{y: Unknown}), λ{S{region: Unknown}: Unknown}(S{y: Unknown}))}\n",
      "\n",
      "____________________\n",
      "S{termVoxel: Unknown}\n",
      "S{voxel: Unknown}\n",
      "S{term: Unknown}\n",
      "S{relation_region: typing.AbstractSet[typing.Tuple[neurolang.regions.ExplicitVBR, str]]}\n",
      "S{triple: typing.AbstractSet[typing.Tuple[str, str, str]]}\n",
      "S{voxel2region: typing.AbstractSet[typing.Tuple[int, neurolang.regions.ExplicitVBR]]}\n",
      "S{relation_name: typing.AbstractSet[typing.Tuple[str, str]]}\n",
      "S{id_: Unknown}\n",
      "S{reg: Unknown}\n",
      "S{over: Unknown}\n",
      "S{region: Unknown}\n",
      "S{sub: Unknown}\n",
      "S{destrieux_region: Unknown}\n",
      "_____________________\n",
      "S{termVoxel: Unknown}\n",
      "S{voxel: Unknown}\n",
      "S{term: Unknown}\n",
      "S{relation_region: typing.AbstractSet[typing.Tuple[neurolang.regions.ExplicitVBR, str]]}\n",
      "S{triple: typing.AbstractSet[typing.Tuple[str, str, str]]}\n",
      "S{voxel2region: typing.AbstractSet[typing.Tuple[int, neurolang.regions.ExplicitVBR]]}\n",
      "S{relation_name: typing.AbstractSet[typing.Tuple[str, str]]}\n",
      "S{id_: Unknown}\n",
      "S{http://sig.biostr.washington.edu/fma3.0#regional_part_of: Unknown}\n",
      "S{reg: Unknown}\n",
      "S{destrieux_region: Unknown}\n",
      "S{region: Unknown}\n",
      "S{sub: Unknown}\n",
      "S{http://www.w3.org/2000/01/rdf-schema#subClassOf: Unknown}\n",
      "C{RegionSolver.__new__.<locals>.build_function.<locals>.fun: typing.Callable[[neurolang.regions.Region, neurolang.regions.Region], bool]}\n",
      "C{eq: typing.Callable[[neurolang.type_system.Unknown, neurolang.type_system.Unknown], bool]}\n",
      "S{over: Unknown}\n"
     ]
    },
    {
     "ename": "NeuroLangPatternMatchingNoMatch",
     "evalue": "No match for None",
     "output_type": "error",
     "traceback": [
      "\u001b[0;31m---------------------------------------------------------------------------\u001b[0m",
      "\u001b[0;31mNeuroLangPatternMatchingNoMatch\u001b[0m           Traceback (most recent call last)",
      "\u001b[0;32m<ipython-input-28-8c224aa3e6ef>\u001b[0m in \u001b[0;36m<module>\u001b[0;34m\u001b[0m\n\u001b[1;32m      3\u001b[0m \u001b[0masd\u001b[0m \u001b[0;34m=\u001b[0m \u001b[0mreload\u001b[0m\u001b[0;34m(\u001b[0m\u001b[0masd\u001b[0m\u001b[0;34m)\u001b[0m\u001b[0;34m\u001b[0m\u001b[0;34m\u001b[0m\u001b[0m\n\u001b[1;32m      4\u001b[0m \u001b[0;34m\u001b[0m\u001b[0m\n\u001b[0;32m----> 5\u001b[0;31m \u001b[0mgm\u001b[0m \u001b[0;34m=\u001b[0m \u001b[0masd\u001b[0m\u001b[0;34m.\u001b[0m\u001b[0mTranslateGroundedProbDatalogToGraphicalModel\u001b[0m\u001b[0;34m(\u001b[0m\u001b[0;34m)\u001b[0m\u001b[0;34m.\u001b[0m\u001b[0mwalk\u001b[0m\u001b[0;34m(\u001b[0m\u001b[0mgrounded\u001b[0m\u001b[0;34m)\u001b[0m\u001b[0;34m\u001b[0m\u001b[0;34m\u001b[0m\u001b[0m\n\u001b[0m\u001b[1;32m      6\u001b[0m \u001b[0mquery\u001b[0m \u001b[0;34m=\u001b[0m \u001b[0masd\u001b[0m\u001b[0;34m.\u001b[0m\u001b[0mSuccQuery\u001b[0m\u001b[0;34m(\u001b[0m\u001b[0mover\u001b[0m\u001b[0;34m(\u001b[0m\u001b[0magap\u001b[0m\u001b[0;34m)\u001b[0m\u001b[0;34m)\u001b[0m\u001b[0;34m\u001b[0m\u001b[0;34m\u001b[0m\u001b[0m\n\u001b[1;32m      7\u001b[0m \u001b[0msolver\u001b[0m \u001b[0;34m=\u001b[0m \u001b[0masd\u001b[0m\u001b[0;34m.\u001b[0m\u001b[0mQueryGraphicalModelSolver\u001b[0m\u001b[0;34m(\u001b[0m\u001b[0mgm\u001b[0m\u001b[0;34m)\u001b[0m\u001b[0;34m\u001b[0m\u001b[0;34m\u001b[0m\u001b[0m\n",
      "\u001b[0;32m~/Projects/INRIA/NeuroLang/neurolang/expression_walker.py\u001b[0m in \u001b[0;36mwalk\u001b[0;34m(self, expression)\u001b[0m\n\u001b[1;32m    108\u001b[0m             \u001b[0mresult\u001b[0m \u001b[0;34m=\u001b[0m \u001b[0mtuple\u001b[0m\u001b[0;34m(\u001b[0m\u001b[0mresult\u001b[0m\u001b[0;34m)\u001b[0m\u001b[0;34m\u001b[0m\u001b[0;34m\u001b[0m\u001b[0m\n\u001b[1;32m    109\u001b[0m             \u001b[0;32mreturn\u001b[0m \u001b[0mresult\u001b[0m\u001b[0;34m\u001b[0m\u001b[0;34m\u001b[0m\u001b[0m\n\u001b[0;32m--> 110\u001b[0;31m         \u001b[0;32mreturn\u001b[0m \u001b[0mself\u001b[0m\u001b[0;34m.\u001b[0m\u001b[0mmatch\u001b[0m\u001b[0;34m(\u001b[0m\u001b[0mexpression\u001b[0m\u001b[0;34m)\u001b[0m\u001b[0;34m\u001b[0m\u001b[0;34m\u001b[0m\u001b[0m\n\u001b[0m\u001b[1;32m    111\u001b[0m \u001b[0;34m\u001b[0m\u001b[0m\n\u001b[1;32m    112\u001b[0m \u001b[0;34m\u001b[0m\u001b[0m\n",
      "\u001b[0;32m~/Projects/INRIA/NeuroLang/neurolang/expression_pattern_matching.py\u001b[0m in \u001b[0;36mmatch\u001b[0;34m(self, expression)\u001b[0m\n\u001b[1;32m    293\u001b[0m                 \u001b[0mlogging\u001b[0m\u001b[0;34m.\u001b[0m\u001b[0minfo\u001b[0m\u001b[0;34m(\u001b[0m\u001b[0;34m'\\t\\tpattern: %(pattern)s'\u001b[0m\u001b[0;34m,\u001b[0m \u001b[0;34m{\u001b[0m\u001b[0;34m'pattern'\u001b[0m\u001b[0;34m:\u001b[0m \u001b[0mpattern\u001b[0m\u001b[0;34m}\u001b[0m\u001b[0;34m)\u001b[0m\u001b[0;34m\u001b[0m\u001b[0;34m\u001b[0m\u001b[0m\n\u001b[1;32m    294\u001b[0m                 \u001b[0mlogging\u001b[0m\u001b[0;34m.\u001b[0m\u001b[0minfo\u001b[0m\u001b[0;34m(\u001b[0m\u001b[0;34m'\\t\\tguard: %(guard)s'\u001b[0m\u001b[0;34m,\u001b[0m \u001b[0;34m{\u001b[0m\u001b[0;34m'guard'\u001b[0m\u001b[0;34m:\u001b[0m \u001b[0mguard\u001b[0m\u001b[0;34m}\u001b[0m\u001b[0;34m)\u001b[0m\u001b[0;34m\u001b[0m\u001b[0;34m\u001b[0m\u001b[0m\n\u001b[0;32m--> 295\u001b[0;31m                 \u001b[0mresult_expression\u001b[0m \u001b[0;34m=\u001b[0m \u001b[0maction\u001b[0m\u001b[0;34m(\u001b[0m\u001b[0mself\u001b[0m\u001b[0;34m,\u001b[0m \u001b[0mexpression\u001b[0m\u001b[0;34m)\u001b[0m\u001b[0;34m\u001b[0m\u001b[0;34m\u001b[0m\u001b[0m\n\u001b[0m\u001b[1;32m    296\u001b[0m                 logging.info(\n\u001b[1;32m    297\u001b[0m                     \u001b[0;34m'\\t\\tresult: %(result_expression)s'\u001b[0m\u001b[0;34m,\u001b[0m\u001b[0;34m\u001b[0m\u001b[0;34m\u001b[0m\u001b[0m\n",
      "\u001b[0;32m~/Projects/INRIA/NeuroLang/neurolang/probabilistic/probdatalog_gm.py\u001b[0m in \u001b[0;36mblock_of_groundings\u001b[0;34m(self, block)\u001b[0m\n\u001b[1;32m    337\u001b[0m     \u001b[0;32mdef\u001b[0m \u001b[0mblock_of_groundings\u001b[0m\u001b[0;34m(\u001b[0m\u001b[0mself\u001b[0m\u001b[0;34m,\u001b[0m \u001b[0mblock\u001b[0m\u001b[0;34m)\u001b[0m\u001b[0;34m:\u001b[0m\u001b[0;34m\u001b[0m\u001b[0;34m\u001b[0m\u001b[0m\n\u001b[1;32m    338\u001b[0m         \u001b[0;32mfor\u001b[0m \u001b[0mgrounding\u001b[0m \u001b[0;32min\u001b[0m \u001b[0m_topological_sort_groundings\u001b[0m\u001b[0;34m(\u001b[0m\u001b[0mblock\u001b[0m\u001b[0;34m.\u001b[0m\u001b[0mexpressions\u001b[0m\u001b[0;34m)\u001b[0m\u001b[0;34m:\u001b[0m\u001b[0;34m\u001b[0m\u001b[0;34m\u001b[0m\u001b[0m\n\u001b[0;32m--> 339\u001b[0;31m             \u001b[0mself\u001b[0m\u001b[0;34m.\u001b[0m\u001b[0mwalk\u001b[0m\u001b[0;34m(\u001b[0m\u001b[0mgrounding\u001b[0m\u001b[0;34m)\u001b[0m\u001b[0;34m\u001b[0m\u001b[0;34m\u001b[0m\u001b[0m\n\u001b[0m\u001b[1;32m    340\u001b[0m         return GraphicalModel(\n\u001b[1;32m    341\u001b[0m             \u001b[0mConstant\u001b[0m\u001b[0;34m[\u001b[0m\u001b[0mMapping\u001b[0m\u001b[0;34m]\u001b[0m\u001b[0;34m(\u001b[0m\u001b[0mself\u001b[0m\u001b[0;34m.\u001b[0m\u001b[0medges\u001b[0m\u001b[0;34m)\u001b[0m\u001b[0;34m,\u001b[0m\u001b[0;34m\u001b[0m\u001b[0;34m\u001b[0m\u001b[0m\n",
      "\u001b[0;32m~/Projects/INRIA/NeuroLang/neurolang/expression_walker.py\u001b[0m in \u001b[0;36mwalk\u001b[0;34m(self, expression)\u001b[0m\n\u001b[1;32m    108\u001b[0m             \u001b[0mresult\u001b[0m \u001b[0;34m=\u001b[0m \u001b[0mtuple\u001b[0m\u001b[0;34m(\u001b[0m\u001b[0mresult\u001b[0m\u001b[0;34m)\u001b[0m\u001b[0;34m\u001b[0m\u001b[0;34m\u001b[0m\u001b[0m\n\u001b[1;32m    109\u001b[0m             \u001b[0;32mreturn\u001b[0m \u001b[0mresult\u001b[0m\u001b[0;34m\u001b[0m\u001b[0;34m\u001b[0m\u001b[0m\n\u001b[0;32m--> 110\u001b[0;31m         \u001b[0;32mreturn\u001b[0m \u001b[0mself\u001b[0m\u001b[0;34m.\u001b[0m\u001b[0mmatch\u001b[0m\u001b[0;34m(\u001b[0m\u001b[0mexpression\u001b[0m\u001b[0;34m)\u001b[0m\u001b[0;34m\u001b[0m\u001b[0;34m\u001b[0m\u001b[0m\n\u001b[0m\u001b[1;32m    111\u001b[0m \u001b[0;34m\u001b[0m\u001b[0m\n\u001b[1;32m    112\u001b[0m \u001b[0;34m\u001b[0m\u001b[0m\n",
      "\u001b[0;32m~/Projects/INRIA/NeuroLang/neurolang/expression_pattern_matching.py\u001b[0m in \u001b[0;36mmatch\u001b[0;34m(self, expression)\u001b[0m\n\u001b[1;32m    310\u001b[0m                 )\n\u001b[1;32m    311\u001b[0m         \u001b[0;32melse\u001b[0m\u001b[0;34m:\u001b[0m\u001b[0;34m\u001b[0m\u001b[0;34m\u001b[0m\u001b[0m\n\u001b[0;32m--> 312\u001b[0;31m             \u001b[0;32mraise\u001b[0m \u001b[0mNeuroLangPatternMatchingNoMatch\u001b[0m\u001b[0;34m(\u001b[0m\u001b[0;34mf'No match for {expression}'\u001b[0m\u001b[0;34m)\u001b[0m\u001b[0;34m\u001b[0m\u001b[0;34m\u001b[0m\u001b[0m\n\u001b[0m\u001b[1;32m    313\u001b[0m \u001b[0;34m\u001b[0m\u001b[0m\n\u001b[1;32m    314\u001b[0m         \u001b[0;32mreturn\u001b[0m \u001b[0mresult_expression\u001b[0m\u001b[0;34m\u001b[0m\u001b[0;34m\u001b[0m\u001b[0m\n",
      "\u001b[0;31mNeuroLangPatternMatchingNoMatch\u001b[0m: No match for None"
     ]
    }
   ],
   "source": [
    "from importlib import reload\n",
    "import neurolang.probabilistic.probdatalog_gm as asd\n",
    "asd = reload(asd)\n",
    "\n",
    "gm = asd.TranslateGroundedProbDatalogToGraphicalModel().walk(grounded)\n",
    "query = asd.SuccQuery(over(agap))\n",
    "solver = asd.QueryGraphicalModelSolver(gm)\n",
    "result = solver.walk(query)"
   ]
  },
  {
   "cell_type": "code",
   "execution_count": 51,
   "metadata": {},
   "outputs": [],
   "source": [
    "#imps += (Implication(id_(y), label(y, C_('Temporal lobe'))),)\n",
    "#imps += (Implication(reg(y), regional_part(y, x) & id_(x)),)\n",
    "#imps += (Implication(reg(y), regional_part(y, x) & reg(x)),)\n",
    "#imps += (Implication(sub(y), subClassOf(y, x) & reg(x)),)\n",
    "#imps += (Implication(region(y), sub(x) & label(x, y)),)\n",
    "#imps += (Implication(destrieux_region(z), relation_region(z, x) & relation_name(x, y) & region(y)),)\n",
    "#imps += (Implication(over(agap), neurosynth(C_('auditory'), y) & destrieux_region(x) & overlapping & eq_(z, region_intersection)),)\n"
   ]
  },
  {
   "cell_type": "code",
   "execution_count": 14,
   "metadata": {},
   "outputs": [
    {
     "ename": "TypeError",
     "evalue": "unsupported operand type(s) for -: 'list' and 'list'",
     "output_type": "error",
     "traceback": [
      "\u001b[0;31m---------------------------------------------------------------------------\u001b[0m",
      "\u001b[0;31mTypeError\u001b[0m                                 Traceback (most recent call last)",
      "\u001b[0;32m<ipython-input-14-220e30c8610a>\u001b[0m in \u001b[0;36m<module>\u001b[0;34m\u001b[0m\n\u001b[0;32m----> 1\u001b[0;31m \u001b[0;34m[\u001b[0m\u001b[0;36m1\u001b[0m\u001b[0;34m,\u001b[0m\u001b[0;36m2\u001b[0m\u001b[0;34m,\u001b[0m\u001b[0;36m3\u001b[0m\u001b[0;34m]\u001b[0m \u001b[0;34m-\u001b[0m \u001b[0;34m[\u001b[0m\u001b[0;36m2\u001b[0m\u001b[0;34m]\u001b[0m\u001b[0;34m\u001b[0m\u001b[0;34m\u001b[0m\u001b[0m\n\u001b[0m",
      "\u001b[0;31mTypeError\u001b[0m: unsupported operand type(s) for -: 'list' and 'list'"
     ]
    }
   ],
   "source": [
    "[1,2,3] - [2]"
   ]
  },
  {
   "cell_type": "code",
   "execution_count": 16,
   "metadata": {},
   "outputs": [
    {
     "name": "stderr",
     "output_type": "stream",
     "text": [
      "/Users/gzanitti/miniconda3/envs/neurolang/lib/python3.7/site-packages/scipy/ndimage/measurements.py:305: DeprecationWarning: In future, it will be an error for 'np.bool_' scalars to be interpreted as an index\n",
      "  return _nd_image.find_objects(input, max_label)\n"
     ]
    },
    {
     "data": {
      "image/png": "[encoded data removed]",
      "text/plain": [
       "<Figure size 475.2x187.2 with 4 Axes>"
      ]
     },
     "metadata": {},
     "output_type": "display_data"
    }
   ],
   "source": [
    "from nilearn import plotting\n",
    "\n",
    "list_regions = list(solution_instance['over'].value.unwrapped_iter())\n",
    "for region in list_regions:\n",
    "    plotting.plot_roi(region[0].spatial_image(), title='Auditory (neurolang)')"
   ]
  },
  {
   "cell_type": "markdown",
   "metadata": {},
   "source": [
    "# Neurosynth"
   ]
  },
  {
   "cell_type": "markdown",
   "metadata": {},
   "source": [
    "### Basic"
   ]
  },
  {
   "cell_type": "code",
   "execution_count": 4,
   "metadata": {},
   "outputs": [
    {
     "name": "stderr",
     "output_type": "stream",
     "text": [
      "/Users/gzanitti/miniconda3/envs/neurolang/lib/python3.7/site-packages/neurosynth/base/dataset.py:435: ResourceWarning: unclosed file <_io.BufferedReader name='/Users/gzanitti/Projects/INRIA/NeuroLang/neurolang/frontend/neurosynth_data/dataset.pkl'>\n",
      "  dataset = pickle.load(open(filename, 'rb'))\n",
      "ResourceWarning: Enable tracemalloc to get the object allocation traceback\n",
      "/Users/gzanitti/miniconda3/envs/neurolang/lib/python3.7/site-packages/neurosynth/base/dataset.py:771: FutureWarning: DataFrame.to_sparse is deprecated and will be removed in a future version\n",
      "  columns=self.data['columns']).to_sparse()\n",
      "/Users/gzanitti/miniconda3/envs/neurolang/lib/python3.7/site-packages/neurosynth/base/dataset.py:716: FutureWarning: \n",
      ".ix is deprecated. Please use\n",
      ".loc for label based indexing or\n",
      ".iloc for positional indexing\n",
      "\n",
      "See the documentation here:\n",
      "http://pandas.pydata.org/pandas-docs/stable/user_guide/indexing.html#ix-indexer-is-deprecated\n",
      "  feature_weights = self.data.ix[:, features]\n",
      "/Users/gzanitti/miniconda3/envs/neurolang/lib/python3.7/site-packages/pandas/core/indexing.py:808: FutureWarning: \n",
      ".ix is deprecated. Please use\n",
      ".loc for label based indexing or\n",
      ".iloc for positional indexing\n",
      "\n",
      "See the documentation here:\n",
      "http://pandas.pydata.org/pandas-docs/stable/user_guide/indexing.html#ix-indexer-is-deprecated\n",
      "  retval = getattr(retval, self.name)._getitem_axis(key, axis=i)\n",
      "/Users/gzanitti/miniconda3/envs/neurolang/lib/python3.7/site-packages/pandas/core/frame.py:3451: FutureWarning: SparseSeries is deprecated and will be removed in a future version.\n",
      "Use a Series with sparse values instead.\n",
      "\n",
      "    >>> series = pd.Series(pd.SparseArray(...))\n",
      "\n",
      "See http://pandas.pydata.org/pandas-docs/stable/user_guide/sparse.html#migrating for more.\n",
      "\n",
      "  return klass(values, index=self.index, name=items, fastpath=True)\n",
      "/Users/gzanitti/miniconda3/envs/neurolang/lib/python3.7/site-packages/pandas/core/sparse/frame.py:785: FutureWarning: SparseDataFrame is deprecated and will be removed in a future version.\n",
      "Use a regular DataFrame whose columns are SparseArrays instead.\n",
      "\n",
      "See http://pandas.pydata.org/pandas-docs/stable/user_guide/sparse.html#migrating for more.\n",
      "\n",
      "  return self._constructor(new_arrays, index=index, columns=columns).__finalize__(\n",
      "/Users/gzanitti/miniconda3/envs/neurolang/lib/python3.7/site-packages/pandas/core/apply.py:401: FutureWarning: SparseSeries is deprecated and will be removed in a future version.\n",
      "Use a Series with sparse values instead.\n",
      "\n",
      "    >>> series = pd.Series(pd.SparseArray(...))\n",
      "\n",
      "See http://pandas.pydata.org/pandas-docs/stable/user_guide/sparse.html#migrating for more.\n",
      "\n",
      "  for i, (arr, name) in enumerate(zip(self.values, self.index))\n",
      "/Users/gzanitti/miniconda3/envs/neurolang/lib/python3.7/site-packages/pandas/core/ops/__init__.py:1641: FutureWarning: SparseSeries is deprecated and will be removed in a future version.\n",
      "Use a Series with sparse values instead.\n",
      "\n",
      "    >>> series = pd.Series(pd.SparseArray(...))\n",
      "\n",
      "See http://pandas.pydata.org/pandas-docs/stable/user_guide/sparse.html#migrating for more.\n",
      "\n",
      "  return self._constructor(new_values, index=self.index, name=self.name)\n",
      "/Users/gzanitti/miniconda3/envs/neurolang/lib/python3.7/site-packages/pandas/core/sparse/series.py:585: FutureWarning: SparseSeries is deprecated and will be removed in a future version.\n",
      "Use a Series with sparse values instead.\n",
      "\n",
      "    >>> series = pd.Series(pd.SparseArray(...))\n",
      "\n",
      "See http://pandas.pydata.org/pandas-docs/stable/user_guide/sparse.html#migrating for more.\n",
      "\n",
      "  return self._constructor(arr, index=self.index).__finalize__(self)\n",
      "/Users/gzanitti/miniconda3/envs/neurolang/lib/python3.7/site-packages/neurosynth/base/mask.py:232: DeprecationWarning: get_header method is deprecated.\n",
      "Please use the ``img.header`` property instead.\n",
      "\n",
      "* deprecated from version: 2.1\n",
      "* Will raise <class 'nibabel.deprecator.ExpiredDeprecationError'> as of version: 4.0\n",
      "  return self.volume.get_header()\n",
      "/Users/gzanitti/Projects/INRIA/NeuroLang/neurolang/datalog/aggregation.py:131: UserWarning: No check performed. Should implement check for stratified aggregation\n",
      "  \"No check performed. Should implement check for stratified\"\n",
      "/Users/gzanitti/miniconda3/envs/neurolang/lib/python3.7/site-packages/pandas/core/frame.py:4218: SettingWithCopyWarning: \n",
      "A value is trying to be set on a copy of a slice from a DataFrame\n",
      "\n",
      "See the caveats in the documentation: http://pandas.pydata.org/pandas-docs/stable/user_guide/indexing.html#returning-a-view-versus-a-copy\n",
      "  return super().rename(**kwargs)\n"
     ]
    },
    {
     "data": {
      "text/plain": [
       "[S{neurosynth: typing.AbstractSet[typing.Tuple[str, neurolang.regions.ExplicitVBR]]},\n",
       " S{over: Unknown}]"
      ]
     },
     "execution_count": 4,
     "metadata": {},
     "output_type": "execute_result"
    }
   ],
   "source": [
    "from neurolang.datalog.expressions import TranslateToLogic\n",
    "from neurolang import expression_walker as ew\n",
    "from neurolang.datalog.aggregation import DatalogWithAggregationMixin\n",
    "from neurolang.datalog.chase import ChaseSemiNaive, ChaseNaive, ChaseNamedRelationalAlgebraMixin, ChaseGeneral\n",
    "from neurolang.datalog.aggregation import Chase\n",
    "from neurolang.expressions import ExpressionBlock, Symbol, Constant\n",
    "from neurolang.logic import Implication\n",
    "from neurolang.frontend.neurosynth_utils import NeuroSynthHandler\n",
    "from neurolang.datalog import DatalogProgram\n",
    "from neurolang.expression_walker import ExpressionBasicEvaluator\n",
    "from neurolang.datalog.aggregation import AggregationApplication\n",
    "from neurolang.regions import Region, region_union as region_union_\n",
    "import typing \n",
    "\n",
    "class DatalogTranslator(\n",
    "    TranslateToLogic, ew.IdentityWalker, DatalogWithAggregationMixin\n",
    "):\n",
    "    pass\n",
    "\n",
    "class Chase2(\n",
    "    Chase, ChaseNaive, ChaseNamedRelationalAlgebraMixin, ChaseGeneral\n",
    "):\n",
    "    pass\n",
    "\n",
    "class Datalog2(TranslateToLogic,\n",
    "    DatalogWithAggregationMixin, DatalogProgram,\n",
    "    ExpressionBasicEvaluator):\n",
    "    pass\n",
    "\n",
    "C_ = Constant\n",
    "S_ = Symbol\n",
    "\n",
    "y = S_('y')\n",
    "z = S_('z')\n",
    "over = S_('over')\n",
    "neurosynth = S_('neurosynth')\n",
    "\n",
    "from neurolang import frontend as fe\n",
    "nl = fe.NeurolangDL()\n",
    "@nl.add_symbol\n",
    "def region_union(\n",
    "    region_set: typing.AbstractSet[Region]\n",
    ") -> Region:\n",
    "    return region_union_(region_set)\n",
    "\n",
    "region_union = nl.symbols.region_union.expression()\n",
    "region_union.args = (z,)\n",
    "\n",
    "agap = AggregationApplication(region_union.functor, (y,))\n",
    "\n",
    "imps = tuple()\n",
    "imps += (Implication(over(agap), neurosynth(C_('auditory'), y)),)\n",
    "qB2 = ExpressionBlock(imps)\n",
    "dt = DatalogTranslator()\n",
    "qB2 = dt.walk(qB2)\n",
    "\n",
    "q = 0.00000001\n",
    "nshandler = NeuroSynthHandler()\n",
    "neurosynth_data = nshandler.ns_region_set_from_term(\n",
    "    'auditory',\n",
    "    q=q\n",
    ")\n",
    "\n",
    "dl2 = Datalog2()\n",
    "dl2.add_extensional_predicate_from_tuples(neurosynth, [('auditory', a) for a in neurosynth_data])\n",
    "                     \n",
    "\n",
    "eB22 = dt.walk(qB2)\n",
    "dl2.walk(eB22)\n",
    "\n",
    "dc = Chase2(dl2)\n",
    "solution_instance = dc.build_chase_solution()\n",
    "list(solution_instance.keys())"
   ]
  },
  {
   "cell_type": "code",
   "execution_count": 5,
   "metadata": {},
   "outputs": [
    {
     "name": "stderr",
     "output_type": "stream",
     "text": [
      "/Users/gzanitti/miniconda3/envs/neurolang/lib/python3.7/site-packages/scipy/ndimage/measurements.py:305: DeprecationWarning: In future, it will be an error for 'np.bool_' scalars to be interpreted as an index\n",
      "  return _nd_image.find_objects(input, max_label)\n",
      "/Users/gzanitti/miniconda3/envs/neurolang/lib/python3.7/site-packages/nilearn/plotting/displays.py:600: DeprecationWarning: Using or importing the ABCs from 'collections' instead of from 'collections.abc' is deprecated, and in 3.8 it will stop working\n",
      "  if isinstance(axes, collections.Sequence):\n"
     ]
    },
    {
     "data": {
      "image/png": "[encoded data removed]",
      "text/plain": [
       "<Figure size 475.2x187.2 with 4 Axes>"
      ]
     },
     "metadata": {},
     "output_type": "display_data"
    }
   ],
   "source": [
    "from nilearn import plotting\n",
    "\n",
    "list_regions = list(solution_instance['over'].value.unwrapped_iter())\n",
    "for region in list_regions:\n",
    "    plotting.plot_roi(region[0].spatial_image())"
   ]
  },
  {
   "cell_type": "markdown",
   "metadata": {},
   "source": [
    "### Probabilistic"
   ]
  },
  {
   "cell_type": "code",
   "execution_count": 1,
   "metadata": {},
   "outputs": [
    {
     "name": "stderr",
     "output_type": "stream",
     "text": [
      "/Users/gzanitti/miniconda3/envs/neurolang/lib/python3.7/site-packages/sklearn/externals/joblib/__init__.py:15: DeprecationWarning: sklearn.externals.joblib is deprecated in 0.21 and will be removed in 0.23. Please import this functionality directly from joblib, which can be installed with: pip install joblib. If this warning is raised when loading pickled models, you may need to re-serialize those models with scikit-learn 0.21+.\n",
      "  warnings.warn(msg, category=DeprecationWarning)\n",
      "/Users/gzanitti/Projects/INRIA/NeuroLang/neurolang/solver_datalog_naive.py:24: UserWarning: This module is being deprecated please use the datalog module\n",
      "  warn(\"This module is being deprecated please use the datalog module\")\n",
      "/Users/gzanitti/Projects/INRIA/NeuroLang/neurolang/expression_pattern_matching.py:87: UserWarning: Warning in class SolverNonRecursiveDatalogNaive overwrites ['fact', 'statement_intensional'] from base DatalogProgram[typing.Any]\n",
      "  warn(warn_message)\n"
     ]
    }
   ],
   "source": [
    "import nibabel\n",
    "import neurosynth\n",
    "import os\n",
    "\n",
    "import pandas as pd\n",
    "import neurolang.regions as nlr\n",
    "\n",
    "from nilearn import plotting\n",
    "import numpy as np\n",
    "\n",
    "from neurolang.expressions import Symbol, Constant, ExpressionBlock\n",
    "from neurolang.datalog.expressions import Implication, Fact, Conjunction\n",
    "from neurolang.probabilistic.expressions import ProbabilisticPredicate\n",
    "from neurolang.probabilistic.probdatalog import ProbDatalogProgram"
   ]
  },
  {
   "cell_type": "code",
   "execution_count": 2,
   "metadata": {},
   "outputs": [
    {
     "name": "stderr",
     "output_type": "stream",
     "text": [
      "/Users/gzanitti/miniconda3/envs/neurolang/lib/python3.7/importlib/_bootstrap.py:219: RuntimeWarning: numpy.ufunc size changed, may indicate binary incompatibility. Expected 192 from C header, got 216 from PyObject\n",
      "  return f(*args, **kwds)\n"
     ]
    }
   ],
   "source": [
    "prob_terms = pd.read_hdf('neurosynth_prob.h5', key='terms')\n",
    "prob_voxels = pd.read_hdf('neurosynth_prob.h5', key='voxels')\n",
    "prob_terms_voxels = pd.read_hdf('neurosynth_prob.h5', key='terms_voxels')"
   ]
  },
  {
   "cell_type": "code",
   "execution_count": 3,
   "metadata": {},
   "outputs": [],
   "source": [
    "auditory = prob_terms_voxels[prob_terms_voxels.index.get_level_values('term') == 'auditory']"
   ]
  },
  {
   "cell_type": "code",
   "execution_count": 5,
   "metadata": {},
   "outputs": [
    {
     "name": "stderr",
     "output_type": "stream",
     "text": [
      "/Users/gzanitti/miniconda3/envs/neurolang/lib/python3.7/site-packages/neurosynth/base/mask.py:232: DeprecationWarning: get_header method is deprecated.\n",
      "Please use the ``img.header`` property instead.\n",
      "\n",
      "* deprecated from version: 2.1\n",
      "* Will raise <class 'nibabel.deprecator.ExpiredDeprecationError'> as of version: 4.0\n",
      "  return self.volume.get_header()\n"
     ]
    }
   ],
   "source": [
    "def get_xyz_from_neurosynth():\n",
    "    \n",
    "    ns_base_img = nibabel.load(\n",
    "    os.path.join(\n",
    "        neurosynth.__path__[0], \"resources/MNI152_T1_2mm_brain.nii.gz\",\n",
    "        )\n",
    "    )\n",
    "\n",
    "    ns_masker = neurosynth.mask.Masker(\n",
    "        os.path.join(\n",
    "            neurosynth.__path__[0], \"resources/MNI152_T1_2mm_brain.nii.gz\",\n",
    "        )\n",
    "    )\n",
    "\n",
    "    ns_affine = ns_base_img.affine\n",
    "\n",
    "    voxels = np.ones(shape=ns_masker.mask(ns_base_img.get_data()).shape)\n",
    "    unmasked = ns_masker.unmask(voxels)\n",
    "    ijk = np.argwhere(unmasked > 0)\n",
    "    ret = {}\n",
    "    regions = [\n",
    "        nlr.ExplicitVBR(\n",
    "            [coords],\n",
    "            affine_matrix=ns_affine,\n",
    "            image_dim=ns_base_img.get_data().shape,\n",
    "        )\n",
    "        for coords in ijk\n",
    "    ]\n",
    "    for vid, region in zip(range(voxels.shape[0]), regions):\n",
    "        ret[vid] = region\n",
    "        \n",
    "    return ret\n",
    "\n",
    "ret = get_xyz_from_neurosynth()"
   ]
  },
  {
   "cell_type": "code",
   "execution_count": 6,
   "metadata": {},
   "outputs": [],
   "source": [
    "regions = []\n",
    "for index, row in auditory.iterrows():\n",
    "    prob = row['prob']\n",
    "    v_name = index[1]\n",
    "    region = ret[v_name]\n",
    "    regions.append((region, prob))"
   ]
  },
  {
   "cell_type": "code",
   "execution_count": 7,
   "metadata": {},
   "outputs": [],
   "source": [
    "prob_img = nibabel.spatialimages.SpatialImage(\n",
    "    np.zeros(regions[0][0].image_dim, dtype=float),\n",
    "    affine=regions[0][0].affine\n",
    ")\n",
    "\n",
    "for r, p in regions:\n",
    "    prob_img.dataobj[tuple(r.voxels.T)] = p"
   ]
  },
  {
   "cell_type": "code",
   "execution_count": 8,
   "metadata": {},
   "outputs": [
    {
     "name": "stderr",
     "output_type": "stream",
     "text": [
      "/Users/gzanitti/miniconda3/envs/neurolang/lib/python3.7/site-packages/scipy/ndimage/measurements.py:305: DeprecationWarning: In future, it will be an error for 'np.bool_' scalars to be interpreted as an index\n",
      "  return _nd_image.find_objects(input, max_label)\n",
      "/Users/gzanitti/miniconda3/envs/neurolang/lib/python3.7/site-packages/nilearn/plotting/displays.py:600: DeprecationWarning: Using or importing the ABCs from 'collections' instead of from 'collections.abc' is deprecated, and in 3.8 it will stop working\n",
      "  if isinstance(axes, collections.Sequence):\n"
     ]
    },
    {
     "data": {
      "text/plain": [
       "<nilearn.plotting.displays.OrthoSlicer at 0x1f131f6828>"
      ]
     },
     "execution_count": 8,
     "metadata": {},
     "output_type": "execute_result"
    },
    {
     "data": {
      "image/png": "[encoded data removed]",
      "text/plain": [
       "<Figure size 525.6x187.2 with 5 Axes>"
      ]
     },
     "metadata": {},
     "output_type": "display_data"
    }
   ],
   "source": [
    "plotting.plot_stat_map(prob_img, title='')"
   ]
  }
 ],
 "metadata": {
  "kernelspec": {
   "display_name": "neurolang",
   "language": "python",
   "name": "neurolang"
  },
  "language_info": {
   "codemirror_mode": {
    "name": "ipython",
    "version": 3
   },
   "file_extension": ".py",
   "mimetype": "text/x-python",
   "name": "python",
   "nbconvert_exporter": "python",
   "pygments_lexer": "ipython3",
   "version": "3.7.3"
  }
 },
 "nbformat": 4,
 "nbformat_minor": 2
}

{
 "cells": [
  {
   "cell_type": "code",
   "execution_count": 1,
   "metadata": {},
   "outputs": [
    {
     "name": "stdout",
     "output_type": "stream",
     "text": [
      "Este no esta: (237, 'IF (Amygdala)')\n"
     ]
    }
   ],
   "source": [
    "from nilearn import datasets, image, plotting\n",
    "import numpy as np\n",
    "import nibabel as nib\n",
    "\n",
    "julich_ontology_l = datasets.utils._fetch_files(\n",
    "    datasets.utils._get_dataset_dir('julich_ontology'),\n",
    "    [\n",
    "        (\n",
    "            'julich_ontology_l.xml',\n",
    "            'https://github.com/NeuroLang/neurolang_data/raw/main/Julich-Brain/WB/22/MPM/'\n",
    "            'JulichBrain_MPMAtlas_l_N10_nlin2Stdicbm152asym2009c_publicDOI_3f6407380a69007a54f5e13f3c1ba2e6.xml',\n",
    "            {'move': 'julich_ontology_l.xml'}\n",
    "        )\n",
    "    ]\n",
    ")[0]\n",
    "\n",
    "julich_ontology_r = datasets.utils._fetch_files(\n",
    "    datasets.utils._get_dataset_dir('julich_ontology'),\n",
    "    [\n",
    "        (\n",
    "            'julich_ontology_r.xml',\n",
    "            'https://github.com/NeuroLang/neurolang_data/raw/main/Julich-Brain/WB/22/MPM/'\n",
    "            'JulichBrain_MPMAtlas_r_N10_nlin2Stdicbm152asym2009c_publicDOI_14622b49a715338ce96e96611d395646.xml',\n",
    "            {'move': 'julich_ontology_r.xml'}\n",
    "        )\n",
    "    ]\n",
    ")[0]\n",
    "\n",
    "ontology = datasets.utils._fetch_files(\n",
    "    datasets.utils._get_dataset_dir('julich_ontology'),\n",
    "    [\n",
    "        (\n",
    "            'jubrain-ontology_22.json',\n",
    "            'https://github.com/NeuroLang/neurolang_data/raw/main/Julich-Brain/WB/22/jubrain-ontology_22.json',\n",
    "            {'move': 'jubrain-ontology_22.json'}\n",
    "        )\n",
    "    ]\n",
    ")[0]\n",
    "\n",
    "def parse_region(elem, id_2_num, father=None, triples=[]):\n",
    "    name = elem['name']\n",
    "    if 'labelIndex' in elem:\n",
    "        if elem['labelIndex'] is not None:\n",
    "            index = int(elem['labelIndex'])\n",
    "            if index in id_2_num:\n",
    "                num = id_2_num[index]\n",
    "                triples.append((name, num))\n",
    "            else:\n",
    "                print(f'Este no esta: {index, name}')\n",
    "        \n",
    "    for c in elem['children']:\n",
    "        parse_region(c, id_2_num, father=name, triples=triples)\n",
    "        \n",
    "    return triples\n",
    "\n",
    "\n",
    "import json\n",
    "import pandas as pd\n",
    "import xml.etree.ElementTree as ET\n",
    "\n",
    "tree = ET.parse(julich_ontology_l)\n",
    "\n",
    "id_2_num = {}\n",
    "for a in tree.iter():\n",
    "    if a.tag == 'Structure':\n",
    "        num = int(a.attrib['grayvalue'])\n",
    "        id_ = int(a.attrib['id'])\n",
    "        id_2_num[id_] = num\n",
    "\n",
    "tree = ET.parse(julich_ontology_r)\n",
    "\n",
    "for a in tree.iter():\n",
    "    if a.tag == 'Structure':\n",
    "        num = int(a.attrib['grayvalue'])\n",
    "        id_ = int(a.attrib['id'])\n",
    "        id_2_num[id_] = num\n",
    "\n",
    "\n",
    "with open(ontology) as f:\n",
    "    data = json.load(f)\n",
    "\n",
    "regions = data['properties']['regions']\n",
    "for elem in regions:\n",
    "    triples = parse_region(elem, id_2_num)\n",
    "    \n",
    "    for n, r in [\n",
    "        (13, 'GapMap Frontal-I (GapMap)'),\n",
    "        (32, 'GapMap Frontal-to-Occipital (GapMap)'),\n",
    "        (59, 'GapMap Temporal-to-Parietal (GapMap)'),\n",
    "        (89, 'GapMap Frontal-II (GapMap)'),\n",
    "        (95, 'GapMap Frontal-to-Temporal (GapMap)')\n",
    "    ]:\n",
    "        triples.append((r, n))\n",
    "        \n",
    "    f.close()   \n",
    "    regions = pd.DataFrame(triples, columns=['r_name', 'r_number']).astype({'r_number': 'int32'}).sort_values('r_number')\n",
    "    regions.drop_duplicates(inplace=True)\n",
    "    "
   ]
  },
  {
   "cell_type": "code",
   "execution_count": 2,
   "metadata": {},
   "outputs": [],
   "source": [
    "regions2 = regions.copy()\n",
    "regions2['r_number'] = regions2['r_number'] + 1000\n",
    "regions2['hemis'] = 'l'\n",
    "regions['hemis'] = 'r'\n",
    "\n",
    "regions = pd.concat((regions, regions2))"
   ]
  },
  {
   "cell_type": "code",
   "execution_count": 3,
   "metadata": {},
   "outputs": [
    {
     "data": {
      "text/html": [
       "<div>\n",
       "<style scoped>\n",
       "    .dataframe tbody tr th:only-of-type {\n",
       "        vertical-align: middle;\n",
       "    }\n",
       "\n",
       "    .dataframe tbody tr th {\n",
       "        vertical-align: top;\n",
       "    }\n",
       "\n",
       "    .dataframe thead th {\n",
       "        text-align: right;\n",
       "    }\n",
       "</style>\n",
       "<table border=\"1\" class=\"dataframe\">\n",
       "  <thead>\n",
       "    <tr style=\"text-align: right;\">\n",
       "      <th></th>\n",
       "      <th>r_name</th>\n",
       "      <th>r_number</th>\n",
       "      <th>hemis</th>\n",
       "    </tr>\n",
       "  </thead>\n",
       "  <tbody>\n",
       "    <tr>\n",
       "      <th>49</th>\n",
       "      <td>Area 44 (IFG)</td>\n",
       "      <td>64</td>\n",
       "      <td>r</td>\n",
       "    </tr>\n",
       "    <tr>\n",
       "      <th>50</th>\n",
       "      <td>Area 45 (IFG)</td>\n",
       "      <td>67</td>\n",
       "      <td>r</td>\n",
       "    </tr>\n",
       "    <tr>\n",
       "      <th>49</th>\n",
       "      <td>Area 44 (IFG)</td>\n",
       "      <td>1064</td>\n",
       "      <td>l</td>\n",
       "    </tr>\n",
       "    <tr>\n",
       "      <th>50</th>\n",
       "      <td>Area 45 (IFG)</td>\n",
       "      <td>1067</td>\n",
       "      <td>l</td>\n",
       "    </tr>\n",
       "  </tbody>\n",
       "</table>\n",
       "</div>"
      ],
      "text/plain": [
       "           r_name  r_number hemis\n",
       "49  Area 44 (IFG)        64     r\n",
       "50  Area 45 (IFG)        67     r\n",
       "49  Area 44 (IFG)      1064     l\n",
       "50  Area 45 (IFG)      1067     l"
      ]
     },
     "execution_count": 3,
     "metadata": {},
     "output_type": "execute_result"
    }
   ],
   "source": [
    "regions[regions.r_name.str.contains('IFG')]"
   ]
  },
  {
   "cell_type": "code",
   "execution_count": 4,
   "metadata": {},
   "outputs": [],
   "source": [
    "analized_region_number = 1067\n",
    "analized_region_name = 'Area 45 (IFG)'"
   ]
  },
  {
   "cell_type": "code",
   "execution_count": 5,
   "metadata": {},
   "outputs": [],
   "source": [
    "wb22_l = datasets.utils._fetch_files(\n",
    "    datasets.utils._get_dataset_dir('julich'),\n",
    "    [\n",
    "        (\n",
    "            'wb22_l.nii.gz',\n",
    "            'https://github.com/NeuroLang/neurolang_data/raw/main/Julich-Brain/WB/22/MPM/'\n",
    "            'JulichBrain_MPMAtlas_l_N10_nlin2Stdicbm152asym2009c_publicDOI_3f6407380a69007a54f5e13f3c1ba2e6.nii.gz',\n",
    "            {'move': 'wb22_l.nii.gz'}\n",
    "        )\n",
    "    ]\n",
    ")[0]\n",
    "\n",
    "wb22_r = datasets.utils._fetch_files(\n",
    "    datasets.utils._get_dataset_dir('julich'),\n",
    "    [\n",
    "        (\n",
    "            'wb22_r.nii.gz',\n",
    "            'https://github.com/NeuroLang/neurolang_data/raw/main/Julich-Brain/WB/22/MPM/'\n",
    "            'JulichBrain_MPMAtlas_r_N10_nlin2Stdicbm152asym2009c_publicDOI_14622b49a715338ce96e96611d395646.nii.gz',\n",
    "            {'move': 'wb22_r.nii.gz'}\n",
    "        )\n",
    "    ]\n",
    ")[0]"
   ]
  },
  {
   "cell_type": "code",
   "execution_count": 6,
   "metadata": {},
   "outputs": [
    {
     "data": {
      "text/plain": [
       "<nilearn.plotting.displays.OrthoSlicer at 0x7f83269e1ac8>"
      ]
     },
     "execution_count": 6,
     "metadata": {},
     "output_type": "execute_result"
    },
    {
     "data": {
      "image/png": "[encoded data removed]",
      "text/plain": [
       "<Figure size 475.2x187.2 with 4 Axes>"
      ]
     },
     "metadata": {},
     "output_type": "display_data"
    }
   ],
   "source": [
    "img_r = image.load_img(wb22_r)\n",
    "img_l = image.load_img(wb22_l)\n",
    "img_l_data = img_l.get_fdata()\n",
    "img_r_data = img_r.get_fdata()\n",
    "img_l_unmaskes = np.nonzero(img_l_data)\n",
    "\n",
    "for v in zip(*img_l_unmaskes):\n",
    "    value = img_l_data[v[0]][v[1]][v[2]]\n",
    "    ex_value = img_r_data[v[0]][v[1]][v[2]]\n",
    "    if ex_value == 0:\n",
    "        img_r_data[v[0]][v[1]][v[2]] = value + 1000\n",
    "    \n",
    "conc_img = nib.spatialimages.SpatialImage(img_r_data, img_r.affine)\n",
    "plotting.plot_roi(conc_img)"
   ]
  },
  {
   "cell_type": "code",
   "execution_count": 7,
   "metadata": {},
   "outputs": [],
   "source": [
    "mni_t1 = nib.load(datasets.fetch_icbm152_2009()['t1'])\n",
    "mni_t1_4mm = image.resample_img(mni_t1, np.eye(3) * 1)\n",
    "\n",
    "conc_img = image.resample_img(\n",
    "    conc_img, mni_t1_4mm.affine, interpolation='nearest'\n",
    ")\n",
    "\n",
    "conc_img_data = conc_img.get_fdata()\n",
    "conc_img_unmaskes = np.nonzero(conc_img_data)\n",
    "\n",
    "julich_brain = []\n",
    "for v in zip(*conc_img_unmaskes):\n",
    "    julich_brain.append((v[0], v[1], v[2], conc_img_data[v[0]][v[1]][v[2]]))"
   ]
  },
  {
   "cell_type": "code",
   "execution_count": 8,
   "metadata": {},
   "outputs": [],
   "source": [
    "d = conc_img.get_fdata()\n",
    "mask = d != analized_region_number\n",
    "d[mask] = 0\n",
    "#d[193//2:] = 0\n",
    "wb = nib.spatialimages.SpatialImage(d, conc_img.affine)"
   ]
  },
  {
   "cell_type": "code",
   "execution_count": 9,
   "metadata": {},
   "outputs": [
    {
     "data": {
      "text/plain": [
       "(195, 231, 187)"
      ]
     },
     "execution_count": 9,
     "metadata": {},
     "output_type": "execute_result"
    }
   ],
   "source": [
    "d.shape"
   ]
  },
  {
   "cell_type": "code",
   "execution_count": 10,
   "metadata": {},
   "outputs": [
    {
     "data": {
      "text/plain": [
       "3859"
      ]
     },
     "execution_count": 10,
     "metadata": {},
     "output_type": "execute_result"
    }
   ],
   "source": [
    "mask = wb.get_fdata() > 0\n",
    "labels = wb.get_fdata()[mask]\n",
    "len(labels)"
   ]
  },
  {
   "cell_type": "code",
   "execution_count": 11,
   "metadata": {},
   "outputs": [
    {
     "data": {
      "text/plain": [
       "<nilearn.plotting.displays.OrthoSlicer at 0x7f8304a7c828>"
      ]
     },
     "execution_count": 11,
     "metadata": {},
     "output_type": "execute_result"
    },
    {
     "data": {
      "image/png": "[encoded data removed]",
      "text/plain": [
       "<Figure size 475.2x187.2 with 4 Axes>"
      ]
     },
     "metadata": {},
     "output_type": "display_data"
    }
   ],
   "source": [
    "from scipy.ndimage import binary_dilation\n",
    "import nibabel as nib\n",
    "\n",
    "new_img = nib.spatialimages.SpatialImage(\n",
    "    binary_dilation(wb.get_fdata()), \n",
    "    wb.affine\n",
    ")\n",
    "\n",
    "plotting.plot_roi(new_img)"
   ]
  },
  {
   "cell_type": "code",
   "execution_count": 12,
   "metadata": {},
   "outputs": [],
   "source": [
    "import numpy as np\n",
    "\n",
    "jl_data = new_img.get_fdata()\n",
    "jl_unmaskes = np.nonzero(jl_data)\n",
    "\n",
    "xyz_to_jl_region = []\n",
    "for v in zip(*jl_unmaskes):\n",
    "    xyz_to_jl_region.append(tuple(v))"
   ]
  },
  {
   "cell_type": "code",
   "execution_count": 13,
   "metadata": {},
   "outputs": [
    {
     "name": "stderr",
     "output_type": "stream",
     "text": [
      "/Users/gzanitti/miniconda3/envs/neurolang/lib/python3.7/site-packages/sklearn/utils/deprecation.py:143: FutureWarning: The sklearn.feature_selection.univariate_selection module is  deprecated in version 0.22 and will be removed in version 0.24. The corresponding classes / functions should instead be imported from sklearn.feature_selection. Anything that cannot be imported from sklearn.feature_selection is now part of the private API.\n",
      "  warnings.warn(message, FutureWarning)\n"
     ]
    }
   ],
   "source": [
    "from neurolang.frontend import NeurolangPDL\n",
    "\n",
    "nl = NeurolangPDL()\n",
    "\n",
    "j_brain = nl.add_tuple_set(\n",
    "    julich_brain,\n",
    "    name='julich_brain'\n",
    ")\n",
    "\n",
    "j_regions = nl.add_tuple_set(\n",
    "    regions.values,\n",
    "    name='julich_regions'\n",
    ")\n",
    "\n",
    "dilated_ifg44 = nl.add_tuple_set(\n",
    "    tuple(xyz_to_jl_region),\n",
    "    name='dilated_ifg44'\n",
    ")"
   ]
  },
  {
   "cell_type": "code",
   "execution_count": 23,
   "metadata": {},
   "outputs": [],
   "source": [
    " with nl.scope as e:\n",
    "\n",
    "    e.local_areas[e.area, e.id] = (\n",
    "        e.julich_brain[e.i, e.j, e.k, e.id] &\n",
    "        e.dilated_ifg44[e.i, e.j, e.k,] &\n",
    "        e.julich_regions[e.area, e.id, e.hemis]\n",
    "    )\n",
    "    \n",
    "    res = nl.solve_all()\n",
    "    local_areas = res['local_areas'].as_pandas_dataframe()"
   ]
  },
  {
   "cell_type": "code",
   "execution_count": 24,
   "metadata": {},
   "outputs": [
    {
     "name": "stdout",
     "output_type": "stream",
     "text": [
      "248\n"
     ]
    }
   ],
   "source": [
    "for v in zip(*img_l_unmaskes):\n",
    "    value = img_l_data[v[0]][v[1]][v[2]]\n",
    "    ex_value = img_r_data[v[0]][v[1]][v[2]]\n",
    "    if ex_value == 0:\n",
    "        img_r_data[v[0]][v[1]][v[2]] = value + 1000\n",
    "    \n",
    "conc_img = nib.spatialimages.SpatialImage(img_r_data, img_r.affine)\n",
    "\n",
    "mask = conc_img.get_fdata() > 0\n",
    "labels = np.unique(conc_img.get_fdata()[mask])\n",
    "print(len(labels))"
   ]
  },
  {
   "cell_type": "code",
   "execution_count": 25,
   "metadata": {
    "scrolled": false
   },
   "outputs": [],
   "source": [
    "from nilearn.input_data import NiftiLabelsMasker\n",
    "from nilearn.connectome import ConnectivityMeasure\n",
    "\n",
    "masker = NiftiLabelsMasker(labels_img=conc_img, standardize=True)\n",
    "connectome_measure = ConnectivityMeasure(kind='correlation')\n",
    "\n",
    "data = datasets.fetch_development_fmri(n_subjects=1)\n",
    "#data = datasets.fetch_development_fmri(n_subjects=140, reduce_confounds=False)\n",
    "#data = datasets.fetch_adhd(n_subjects=15)\n",
    "\n",
    "\n",
    "\n",
    "time_series = []\n",
    "for func, confounds in zip(data.func, data.confounds):\n",
    "    time_series.append(masker.fit_transform(func, confounds=confounds))\n",
    "\n",
    "# calculate correlation matrices across subjects and display\n",
    "correlation_matrices = connectome_measure.fit_transform(time_series)[0]\n",
    "\n",
    "\n",
    "import numpy as np\n",
    "np.fill_diagonal(correlation_matrices, 0)"
   ]
  },
  {
   "cell_type": "code",
   "execution_count": 26,
   "metadata": {},
   "outputs": [
    {
     "name": "stdout",
     "output_type": "stream",
     "text": [
      "Area 45 (IFG)\n",
      "Area 45 (IFG)\n"
     ]
    }
   ],
   "source": [
    "if analized_region_number > 1000:\n",
    "    ar = 124 + analized_region_number - 1001\n",
    "else:\n",
    "    ar = analized_region_number - 1\n",
    "\n",
    "for n, r in enumerate(regions.r_name.values):\n",
    "    if n == ar:\n",
    "        print(r)\n",
    "        print(analized_region_name)"
   ]
  },
  {
   "cell_type": "code",
   "execution_count": 27,
   "metadata": {},
   "outputs": [
    {
     "data": {
      "text/html": [
       "<div>\n",
       "<style scoped>\n",
       "    .dataframe tbody tr th:only-of-type {\n",
       "        vertical-align: middle;\n",
       "    }\n",
       "\n",
       "    .dataframe tbody tr th {\n",
       "        vertical-align: top;\n",
       "    }\n",
       "\n",
       "    .dataframe thead th {\n",
       "        text-align: right;\n",
       "    }\n",
       "</style>\n",
       "<table border=\"1\" class=\"dataframe\">\n",
       "  <thead>\n",
       "    <tr style=\"text-align: right;\">\n",
       "      <th></th>\n",
       "      <th>r_name</th>\n",
       "      <th>r_number</th>\n",
       "      <th>hemis</th>\n",
       "    </tr>\n",
       "  </thead>\n",
       "  <tbody>\n",
       "    <tr>\n",
       "      <th>50</th>\n",
       "      <td>Area 45 (IFG)</td>\n",
       "      <td>67</td>\n",
       "      <td>r</td>\n",
       "    </tr>\n",
       "    <tr>\n",
       "      <th>50</th>\n",
       "      <td>Area 45 (IFG)</td>\n",
       "      <td>1067</td>\n",
       "      <td>l</td>\n",
       "    </tr>\n",
       "  </tbody>\n",
       "</table>\n",
       "</div>"
      ],
      "text/plain": [
       "           r_name  r_number hemis\n",
       "50  Area 45 (IFG)        67     r\n",
       "50  Area 45 (IFG)      1067     l"
      ]
     },
     "execution_count": 27,
     "metadata": {},
     "output_type": "execute_result"
    }
   ],
   "source": [
    "regions[regions.r_name == analized_region_name]"
   ]
  },
  {
   "cell_type": "code",
   "execution_count": 28,
   "metadata": {},
   "outputs": [],
   "source": [
    "area_44_con = correlation_matrices[ar]"
   ]
  },
  {
   "cell_type": "code",
   "execution_count": 29,
   "metadata": {},
   "outputs": [],
   "source": [
    "regions['r_name'] = regions.r_name.apply(lambda x: x.replace('.', ''))"
   ]
  },
  {
   "cell_type": "code",
   "execution_count": 30,
   "metadata": {},
   "outputs": [],
   "source": [
    "corr44 = pd.DataFrame(zip(area_44_con, regions.r_name.values, regions.r_number.values), columns=['corr', 'r_name', 'r_number'])\n"
   ]
  },
  {
   "cell_type": "code",
   "execution_count": 31,
   "metadata": {},
   "outputs": [
    {
     "data": {
      "text/html": [
       "<div>\n",
       "<style scoped>\n",
       "    .dataframe tbody tr th:only-of-type {\n",
       "        vertical-align: middle;\n",
       "    }\n",
       "\n",
       "    .dataframe tbody tr th {\n",
       "        vertical-align: top;\n",
       "    }\n",
       "\n",
       "    .dataframe thead th {\n",
       "        text-align: right;\n",
       "    }\n",
       "</style>\n",
       "<table border=\"1\" class=\"dataframe\">\n",
       "  <thead>\n",
       "    <tr style=\"text-align: right;\">\n",
       "      <th></th>\n",
       "      <th>corr</th>\n",
       "      <th>r_name</th>\n",
       "      <th>r_number</th>\n",
       "    </tr>\n",
       "  </thead>\n",
       "  <tbody>\n",
       "    <tr>\n",
       "      <th>45</th>\n",
       "      <td>0.291118</td>\n",
       "      <td>Area 33 (ACC)</td>\n",
       "      <td>46</td>\n",
       "    </tr>\n",
       "    <tr>\n",
       "      <th>21</th>\n",
       "      <td>0.275860</td>\n",
       "      <td>Area PGp (IPL)</td>\n",
       "      <td>22</td>\n",
       "    </tr>\n",
       "    <tr>\n",
       "      <th>240</th>\n",
       "      <td>0.272940</td>\n",
       "      <td>Area Fo2 (OFC)</td>\n",
       "      <td>1117</td>\n",
       "    </tr>\n",
       "    <tr>\n",
       "      <th>25</th>\n",
       "      <td>0.268458</td>\n",
       "      <td>Area p24ab (pACC)</td>\n",
       "      <td>26</td>\n",
       "    </tr>\n",
       "    <tr>\n",
       "      <th>67</th>\n",
       "      <td>0.267809</td>\n",
       "      <td>Area Id1 (Insula)</td>\n",
       "      <td>68</td>\n",
       "    </tr>\n",
       "    <tr>\n",
       "      <th>29</th>\n",
       "      <td>0.263765</td>\n",
       "      <td>Area TE 3 (STG)</td>\n",
       "      <td>30</td>\n",
       "    </tr>\n",
       "    <tr>\n",
       "      <th>153</th>\n",
       "      <td>0.263564</td>\n",
       "      <td>Area TE 3 (STG)</td>\n",
       "      <td>1030</td>\n",
       "    </tr>\n",
       "    <tr>\n",
       "      <th>52</th>\n",
       "      <td>0.258333</td>\n",
       "      <td>Area Id2 (Insula)</td>\n",
       "      <td>53</td>\n",
       "    </tr>\n",
       "    <tr>\n",
       "      <th>177</th>\n",
       "      <td>0.252226</td>\n",
       "      <td>CA1 (Hippocampus)</td>\n",
       "      <td>1054</td>\n",
       "    </tr>\n",
       "    <tr>\n",
       "      <th>236</th>\n",
       "      <td>0.248165</td>\n",
       "      <td>Area PFop (IPL)</td>\n",
       "      <td>1113</td>\n",
       "    </tr>\n",
       "    <tr>\n",
       "      <th>85</th>\n",
       "      <td>0.246584</td>\n",
       "      <td>Area OP5 (Frontal Operculum)</td>\n",
       "      <td>86</td>\n",
       "    </tr>\n",
       "    <tr>\n",
       "      <th>139</th>\n",
       "      <td>0.242529</td>\n",
       "      <td>Area TE 10 (HESCHL)</td>\n",
       "      <td>1016</td>\n",
       "    </tr>\n",
       "    <tr>\n",
       "      <th>31</th>\n",
       "      <td>0.239818</td>\n",
       "      <td>GapMap Frontal-to-Occipital (GapMap)</td>\n",
       "      <td>32</td>\n",
       "    </tr>\n",
       "  </tbody>\n",
       "</table>\n",
       "</div>"
      ],
      "text/plain": [
       "         corr                                r_name  r_number\n",
       "45   0.291118                         Area 33 (ACC)        46\n",
       "21   0.275860                        Area PGp (IPL)        22\n",
       "240  0.272940                        Area Fo2 (OFC)      1117\n",
       "25   0.268458                     Area p24ab (pACC)        26\n",
       "67   0.267809                     Area Id1 (Insula)        68\n",
       "29   0.263765                       Area TE 3 (STG)        30\n",
       "153  0.263564                       Area TE 3 (STG)      1030\n",
       "52   0.258333                     Area Id2 (Insula)        53\n",
       "177  0.252226                     CA1 (Hippocampus)      1054\n",
       "236  0.248165                       Area PFop (IPL)      1113\n",
       "85   0.246584          Area OP5 (Frontal Operculum)        86\n",
       "139  0.242529                   Area TE 10 (HESCHL)      1016\n",
       "31   0.239818  GapMap Frontal-to-Occipital (GapMap)        32"
      ]
     },
     "execution_count": 31,
     "metadata": {},
     "output_type": "execute_result"
    }
   ],
   "source": [
    "corr44[corr44['corr'] >= corr44['corr'].quantile(.95)].sort_values('corr', ascending=False)"
   ]
  },
  {
   "cell_type": "code",
   "execution_count": 32,
   "metadata": {},
   "outputs": [],
   "source": [
    "for l in local_areas['area'].unique():\n",
    "    corr44 = corr44[corr44.r_name != l]"
   ]
  },
  {
   "cell_type": "code",
   "execution_count": 33,
   "metadata": {},
   "outputs": [],
   "source": [
    "long_regions = corr44[corr44['corr'] >= corr44['corr'].quantile(.95)].sort_values('corr', ascending=False)"
   ]
  },
  {
   "cell_type": "code",
   "execution_count": 34,
   "metadata": {},
   "outputs": [
    {
     "name": "stderr",
     "output_type": "stream",
     "text": [
      "/Users/gzanitti/miniconda3/envs/neurolang/lib/python3.7/site-packages/pandas/core/frame.py:7116: FutureWarning: Sorting because non-concatenation axis is not aligned. A future version\n",
      "of pandas will change to not sort by default.\n",
      "\n",
      "To accept the future behavior, pass 'sort=False'.\n",
      "\n",
      "To retain the current behavior and silence the warning, pass 'sort=True'.\n",
      "\n",
      "  sort=sort,\n"
     ]
    }
   ],
   "source": [
    "long_regions = long_regions[['r_name', 'r_number']]\n",
    "long_regions = long_regions.append(regions[regions.r_number == analized_region_number])"
   ]
  },
  {
   "cell_type": "code",
   "execution_count": 35,
   "metadata": {},
   "outputs": [
    {
     "data": {
      "text/html": [
       "<div>\n",
       "<style scoped>\n",
       "    .dataframe tbody tr th:only-of-type {\n",
       "        vertical-align: middle;\n",
       "    }\n",
       "\n",
       "    .dataframe tbody tr th {\n",
       "        vertical-align: top;\n",
       "    }\n",
       "\n",
       "    .dataframe thead th {\n",
       "        text-align: right;\n",
       "    }\n",
       "</style>\n",
       "<table border=\"1\" class=\"dataframe\">\n",
       "  <thead>\n",
       "    <tr style=\"text-align: right;\">\n",
       "      <th></th>\n",
       "      <th>hemis</th>\n",
       "      <th>r_name</th>\n",
       "      <th>r_number</th>\n",
       "    </tr>\n",
       "  </thead>\n",
       "  <tbody>\n",
       "    <tr>\n",
       "      <th>45</th>\n",
       "      <td>NaN</td>\n",
       "      <td>Area 33 (ACC)</td>\n",
       "      <td>46</td>\n",
       "    </tr>\n",
       "    <tr>\n",
       "      <th>21</th>\n",
       "      <td>NaN</td>\n",
       "      <td>Area PGp (IPL)</td>\n",
       "      <td>22</td>\n",
       "    </tr>\n",
       "    <tr>\n",
       "      <th>240</th>\n",
       "      <td>NaN</td>\n",
       "      <td>Area Fo2 (OFC)</td>\n",
       "      <td>1117</td>\n",
       "    </tr>\n",
       "    <tr>\n",
       "      <th>25</th>\n",
       "      <td>NaN</td>\n",
       "      <td>Area p24ab (pACC)</td>\n",
       "      <td>26</td>\n",
       "    </tr>\n",
       "    <tr>\n",
       "      <th>67</th>\n",
       "      <td>NaN</td>\n",
       "      <td>Area Id1 (Insula)</td>\n",
       "      <td>68</td>\n",
       "    </tr>\n",
       "    <tr>\n",
       "      <th>29</th>\n",
       "      <td>NaN</td>\n",
       "      <td>Area TE 3 (STG)</td>\n",
       "      <td>30</td>\n",
       "    </tr>\n",
       "    <tr>\n",
       "      <th>153</th>\n",
       "      <td>NaN</td>\n",
       "      <td>Area TE 3 (STG)</td>\n",
       "      <td>1030</td>\n",
       "    </tr>\n",
       "    <tr>\n",
       "      <th>52</th>\n",
       "      <td>NaN</td>\n",
       "      <td>Area Id2 (Insula)</td>\n",
       "      <td>53</td>\n",
       "    </tr>\n",
       "    <tr>\n",
       "      <th>177</th>\n",
       "      <td>NaN</td>\n",
       "      <td>CA1 (Hippocampus)</td>\n",
       "      <td>1054</td>\n",
       "    </tr>\n",
       "    <tr>\n",
       "      <th>236</th>\n",
       "      <td>NaN</td>\n",
       "      <td>Area PFop (IPL)</td>\n",
       "      <td>1113</td>\n",
       "    </tr>\n",
       "    <tr>\n",
       "      <th>85</th>\n",
       "      <td>NaN</td>\n",
       "      <td>Area OP5 (Frontal Operculum)</td>\n",
       "      <td>86</td>\n",
       "    </tr>\n",
       "    <tr>\n",
       "      <th>139</th>\n",
       "      <td>NaN</td>\n",
       "      <td>Area TE 10 (HESCHL)</td>\n",
       "      <td>1016</td>\n",
       "    </tr>\n",
       "    <tr>\n",
       "      <th>50</th>\n",
       "      <td>l</td>\n",
       "      <td>Area 45 (IFG)</td>\n",
       "      <td>1067</td>\n",
       "    </tr>\n",
       "  </tbody>\n",
       "</table>\n",
       "</div>"
      ],
      "text/plain": [
       "    hemis                        r_name  r_number\n",
       "45    NaN                 Area 33 (ACC)        46\n",
       "21    NaN                Area PGp (IPL)        22\n",
       "240   NaN                Area Fo2 (OFC)      1117\n",
       "25    NaN             Area p24ab (pACC)        26\n",
       "67    NaN             Area Id1 (Insula)        68\n",
       "29    NaN               Area TE 3 (STG)        30\n",
       "153   NaN               Area TE 3 (STG)      1030\n",
       "52    NaN             Area Id2 (Insula)        53\n",
       "177   NaN             CA1 (Hippocampus)      1054\n",
       "236   NaN               Area PFop (IPL)      1113\n",
       "85    NaN  Area OP5 (Frontal Operculum)        86\n",
       "139   NaN           Area TE 10 (HESCHL)      1016\n",
       "50      l                 Area 45 (IFG)      1067"
      ]
     },
     "execution_count": 35,
     "metadata": {},
     "output_type": "execute_result"
    }
   ],
   "source": [
    "long_regions"
   ]
  },
  {
   "cell_type": "code",
   "execution_count": 36,
   "metadata": {},
   "outputs": [],
   "source": [
    "long_regions = long_regions[['r_name','r_number']]\n",
    "\n",
    "long_areas = nl.add_tuple_set(\n",
    "    long_regions.values,\n",
    "    name='long_areas'\n",
    ")"
   ]
  },
  {
   "cell_type": "code",
   "execution_count": 37,
   "metadata": {},
   "outputs": [
    {
     "data": {
      "text/html": [
       "<div>\n",
       "<style scoped>\n",
       "    .dataframe tbody tr th:only-of-type {\n",
       "        vertical-align: middle;\n",
       "    }\n",
       "\n",
       "    .dataframe tbody tr th {\n",
       "        vertical-align: top;\n",
       "    }\n",
       "\n",
       "    .dataframe thead th {\n",
       "        text-align: right;\n",
       "    }\n",
       "</style>\n",
       "<table border=\"1\" class=\"dataframe\">\n",
       "  <thead>\n",
       "    <tr style=\"text-align: right;\">\n",
       "      <th></th>\n",
       "      <th>r_name</th>\n",
       "      <th>r_number</th>\n",
       "    </tr>\n",
       "  </thead>\n",
       "  <tbody>\n",
       "    <tr>\n",
       "      <th>45</th>\n",
       "      <td>Area 33 (ACC)</td>\n",
       "      <td>46</td>\n",
       "    </tr>\n",
       "    <tr>\n",
       "      <th>21</th>\n",
       "      <td>Area PGp (IPL)</td>\n",
       "      <td>22</td>\n",
       "    </tr>\n",
       "    <tr>\n",
       "      <th>240</th>\n",
       "      <td>Area Fo2 (OFC)</td>\n",
       "      <td>1117</td>\n",
       "    </tr>\n",
       "    <tr>\n",
       "      <th>25</th>\n",
       "      <td>Area p24ab (pACC)</td>\n",
       "      <td>26</td>\n",
       "    </tr>\n",
       "    <tr>\n",
       "      <th>67</th>\n",
       "      <td>Area Id1 (Insula)</td>\n",
       "      <td>68</td>\n",
       "    </tr>\n",
       "    <tr>\n",
       "      <th>29</th>\n",
       "      <td>Area TE 3 (STG)</td>\n",
       "      <td>30</td>\n",
       "    </tr>\n",
       "    <tr>\n",
       "      <th>153</th>\n",
       "      <td>Area TE 3 (STG)</td>\n",
       "      <td>1030</td>\n",
       "    </tr>\n",
       "    <tr>\n",
       "      <th>52</th>\n",
       "      <td>Area Id2 (Insula)</td>\n",
       "      <td>53</td>\n",
       "    </tr>\n",
       "    <tr>\n",
       "      <th>177</th>\n",
       "      <td>CA1 (Hippocampus)</td>\n",
       "      <td>1054</td>\n",
       "    </tr>\n",
       "    <tr>\n",
       "      <th>236</th>\n",
       "      <td>Area PFop (IPL)</td>\n",
       "      <td>1113</td>\n",
       "    </tr>\n",
       "    <tr>\n",
       "      <th>85</th>\n",
       "      <td>Area OP5 (Frontal Operculum)</td>\n",
       "      <td>86</td>\n",
       "    </tr>\n",
       "    <tr>\n",
       "      <th>139</th>\n",
       "      <td>Area TE 10 (HESCHL)</td>\n",
       "      <td>1016</td>\n",
       "    </tr>\n",
       "    <tr>\n",
       "      <th>50</th>\n",
       "      <td>Area 45 (IFG)</td>\n",
       "      <td>1067</td>\n",
       "    </tr>\n",
       "  </tbody>\n",
       "</table>\n",
       "</div>"
      ],
      "text/plain": [
       "                           r_name  r_number\n",
       "45                  Area 33 (ACC)        46\n",
       "21                 Area PGp (IPL)        22\n",
       "240                Area Fo2 (OFC)      1117\n",
       "25              Area p24ab (pACC)        26\n",
       "67              Area Id1 (Insula)        68\n",
       "29                Area TE 3 (STG)        30\n",
       "153               Area TE 3 (STG)      1030\n",
       "52              Area Id2 (Insula)        53\n",
       "177             CA1 (Hippocampus)      1054\n",
       "236               Area PFop (IPL)      1113\n",
       "85   Area OP5 (Frontal Operculum)        86\n",
       "139           Area TE 10 (HESCHL)      1016\n",
       "50                  Area 45 (IFG)      1067"
      ]
     },
     "execution_count": 37,
     "metadata": {},
     "output_type": "execute_result"
    }
   ],
   "source": [
    "long_regions.head(20)"
   ]
  },
  {
   "cell_type": "code",
   "execution_count": 38,
   "metadata": {},
   "outputs": [],
   "source": [
    "ns_database_fn, ns_features_fn = datasets.utils._fetch_files(\n",
    "    datasets.utils._get_dataset_dir('neurosynth'),\n",
    "    [\n",
    "        (\n",
    "            'database.txt',\n",
    "            'https://github.com/neurosynth/neurosynth-data/raw/master/current_data.tar.gz',\n",
    "            {'uncompress': True}\n",
    "        ),\n",
    "        (\n",
    "            'features.txt',\n",
    "            'https://github.com/neurosynth/neurosynth-data/raw/master/current_data.tar.gz',\n",
    "            {'uncompress': True}\n",
    "        ),\n",
    "    ]\n",
    ")\n",
    "\n",
    "ns_database = pd.read_csv(ns_database_fn, sep=f'\\t')\n",
    "ijk_positions = (\n",
    "    np.round(nib.affines.apply_affine(\n",
    "        np.linalg.inv(mni_t1_4mm.affine),\n",
    "        ns_database[['x', 'y', 'z']].values.astype(float)\n",
    "    )).astype(int)\n",
    ")\n",
    "ns_database['i'] = ijk_positions[:, 0]\n",
    "ns_database['j'] = ijk_positions[:, 1]\n",
    "ns_database['k'] = ijk_positions[:, 2]\n",
    "\n",
    "ns_features = pd.read_csv(ns_features_fn, sep=f'\\t')\n",
    "ns_docs = ns_features[['pmid']].drop_duplicates()\n",
    "ns_terms = (\n",
    "    pd.melt(\n",
    "            ns_features,\n",
    "            var_name='term', id_vars='pmid', value_name='TfIdf'\n",
    "       )\n",
    "    .query('TfIdf > 1e-3')[['pmid', 'term']]\n",
    ")\n",
    "\n",
    "activations = nl.add_tuple_set(ns_database.values, name='activations')\n",
    "terms = nl.add_tuple_set(ns_terms.values, name='terms')\n",
    "docs = nl.add_uniform_probabilistic_choice_over_set(\n",
    "        ns_docs.values, name='docs'\n",
    ")\n",
    "\n",
    "from rdflib import RDFS\n",
    "\n",
    "part_of = nl.new_symbol(name='http://www.obofoundry.org/ro/ro.owl#part_of')\n",
    "subclass_of = nl.new_symbol(name=str(RDFS.subClassOf))\n",
    "label = nl.new_symbol(name=str(RDFS.label))\n",
    "hasTopConcept = nl.new_symbol(name='http://www.w3.org/2004/02/skos/core#hasTopConcept')"
   ]
  },
  {
   "cell_type": "code",
   "execution_count": 39,
   "metadata": {},
   "outputs": [],
   "source": [
    "from typing import Iterable\n",
    "\n",
    "@nl.add_symbol\n",
    "def word_lower(name: str) -> str:\n",
    "    return name.lower()\n",
    "\n",
    "@nl.add_symbol\n",
    "def word_lower_contains(s1: str, s2: str) -> bool:\n",
    "    return s1.lower() in s2.lower()"
   ]
  },
  {
   "cell_type": "code",
   "execution_count": null,
   "metadata": {},
   "outputs": [],
   "source": [
    "with nl.scope as e:\n",
    "\n",
    "    e.long_regions[e.d, e.id] = (\n",
    "        e.long_areas[e.area, e.id] &\n",
    "        e.julich_brain[e.i, e.j, e.k, e.id] &\n",
    "        e.activations[\n",
    "            e.d, ..., ..., ..., ..., 'MNI', ..., ..., ..., ...,\n",
    "            ..., ..., ..., e.i, e.j, e.k\n",
    "        ]\n",
    "    )\n",
    "    \n",
    "    e.long_network[e.d, e.id] = (\n",
    "        e.long_regions[e.d, analized_region_number] &\n",
    "        e.long_regions[e.d, e.id] &\n",
    "        (e.id != analized_region_number)\n",
    "    )\n",
    "    \n",
    "    e.local_regions[e.d, e.id] = (\n",
    "        e.dilated_ifg44[e.i, e.j, e.k,] &\n",
    "        e.julich_regions[e.area, e.id] &\n",
    "        e.julich_brain[e.i, e.j, e.k, e.id] &\n",
    "        e.activations[\n",
    "            e.d, ..., ..., ..., ..., 'MNI', ..., ..., ..., ...,\n",
    "            ..., ..., ..., e.i, e.j, e.k\n",
    "        ]\n",
    "    )\n",
    "    \n",
    "    e.local_network[e.d, e.id] = (\n",
    "        e.local_regions[e.d, e.id] &\n",
    "        e.local_regions[e.d, analized_region_number] &\n",
    "        (e.id != analized_region_number)\n",
    "    )\n",
    "    \n",
    "    e.result[e.t, e.PROB[e.t]] = (\n",
    "       (e.terms[e.d, e.t] ) // \n",
    "        (e.local_network[e.d, e.id] & e.docs[e.d] & (~e.long_network[e.d, e.id2]))  \n",
    "    )\n",
    "\n",
    "    \n",
    "    res_long = nl.solve_all()\n"
   ]
  }
 ],
 "metadata": {
  "kernelspec": {
   "display_name": "neurolang",
   "language": "python",
   "name": "neurolang"
  },
  "language_info": {
   "codemirror_mode": {
    "name": "ipython",
    "version": 3
   },
   "file_extension": ".py",
   "mimetype": "text/x-python",
   "name": "python",
   "nbconvert_exporter": "python",
   "pygments_lexer": "ipython3",
   "version": "3.7.3"
  }
 },
 "nbformat": 4,
 "nbformat_minor": 4
}

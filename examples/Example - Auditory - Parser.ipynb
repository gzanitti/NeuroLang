{
 "cells": [
  {
   "cell_type": "code",
   "execution_count": 1,
   "metadata": {},
   "outputs": [],
   "source": [
    "from neurolang.frontend.datalog.natural_syntax_datalog import parser"
   ]
  },
  {
   "cell_type": "code",
   "execution_count": 2,
   "metadata": {},
   "outputs": [
    {
     "name": "stderr",
     "output_type": "stream",
     "text": [
      "/Users/gzanitti/miniconda3/envs/neurolang/lib/python3.7/site-packages/sklearn/externals/joblib/__init__.py:15: DeprecationWarning: sklearn.externals.joblib is deprecated in 0.21 and will be removed in 0.23. Please import this functionality directly from joblib, which can be installed with: pip install joblib. If this warning is raised when loading pickled models, you may need to re-serialize those models with scikit-learn 0.21+.\n",
      "  warnings.warn(msg, category=DeprecationWarning)\n"
     ]
    }
   ],
   "source": [
    "from operator import eq\n",
    "from neurolang.logic import Implication\n",
    "from nilearn import datasets\n",
    "import nibabel as nib\n",
    "from neurolang.frontend.query_resolution import RegionMixin\n",
    "from neurolang.expressions import ExpressionBlock, Symbol, Constant\n",
    "from neurolang.logic import Implication\n",
    "from neurolang.datalog.aggregation import AggregationApplication\n",
    "\n",
    "inter_reg = Symbol('inter_reg')\n",
    "active_region = Symbol('active_region')\n",
    "relation_region = Symbol('relation_region')\n",
    "relation_name = Symbol('relation_name')\n",
    "neurosynth = Symbol('neurosynth')\n",
    "\n",
    "w = Symbol('w')\n",
    "x = Symbol('x')\n",
    "y = Symbol('y')\n",
    "z = Symbol('z')\n",
    "eq_ = Constant(eq)\n",
    "id_ = Symbol('id_')\n",
    "reg = Symbol('reg')\n",
    "ans = Symbol('ans')\n",
    "over = Symbol('over')\n",
    "sub = Symbol('sub')\n",
    "\n",
    "neurosynth_region = Symbol('neurosynth_region')\n",
    "neurosynth_rv = Symbol('neurosynth_rv')\n",
    "region2voxel = Symbol('region2voxel')\n",
    "\n",
    "label = Symbol('http://www.w3.org/2000/01/rdf-schema#label')\n",
    "subClassOf = Symbol('http://www.w3.org/2000/01/rdf-schema#subClassOf')\n",
    "region = Symbol('region')\n",
    "regional_part = Symbol('http://sig.biostr.washington.edu/fma3.0#regional_part_of')"
   ]
  },
  {
   "cell_type": "code",
   "execution_count": 3,
   "metadata": {},
   "outputs": [],
   "source": [
    "imps = tuple()\n",
    "imps += (Implication(id_(y), label(y, Constant('Temporal lobe'))),)\n",
    "imps += (Implication(reg(x), regional_part(x, y) & id_(y)),)\n",
    "#imps += (Implication(reg(y), regional_part(y, x) & reg(x)),)\n",
    "imps += (Implication(sub(y), subClassOf(y, x) & reg(x)),)\n",
    "imps += (Implication(sub(x), subClassOf(x, y) & sub(y)),)\n",
    "imps += (Implication(region(z), sub(x) & label(x, y) & relation_name(z, y)),)\n",
    "imps += (Implication(active_region(x, z), inter_reg(x, y, z) & region(y)),)"
   ]
  },
  {
   "cell_type": "code",
   "execution_count": 4,
   "metadata": {},
   "outputs": [
    {
     "data": {
      "text/plain": [
       "Implication{λ{S{id_: Unknown}: Unknown}(S{y: Unknown}) ← λ{S{http://www.w3.org/2000/01/rdf-schema#label: Unknown}: Unknown}(S{y: Unknown}, C{'Temporal lobe': str})}"
      ]
     },
     "execution_count": 4,
     "metadata": {},
     "output_type": "execute_result"
    }
   ],
   "source": [
    "Implication(id_(y), label(y, Constant('Temporal lobe')))"
   ]
  },
  {
   "cell_type": "code",
   "execution_count": 5,
   "metadata": {},
   "outputs": [
    {
     "data": {
      "text/plain": [
       "∪(Implication{λ{S{id_ontology: Unknown}: Unknown}(S{y: Unknown}) ← ⋀(λ{S{http://www.w3.org/2000/01/rdf-schema#label: Unknown}: Unknown}(S{y: Unknown}, C{'Temporal lobe': str}))})"
      ]
     },
     "execution_count": 5,
     "metadata": {},
     "output_type": "execute_result"
    }
   ],
   "source": [
    "parser('y is id_ontology if y has \"Temporal lobe\" `http://www.w3.org/2000/01/rdf-schema#label`')"
   ]
  },
  {
   "cell_type": "code",
   "execution_count": 6,
   "metadata": {},
   "outputs": [
    {
     "data": {
      "text/plain": [
       "∪(Implication{λ{S{regional: Unknown}: Unknown}(S{y: Unknown}) ← ⋀(λ{S{http://sig.biostr.washington.edu/fma3.0#regional_part_of: Unknown}: Unknown}(S{y: Unknown}, S{x: Unknown}), λ{S{id_ontology: Unknown}: Unknown}(S{x: Unknown}))})"
      ]
     },
     "execution_count": 6,
     "metadata": {},
     "output_type": "execute_result"
    }
   ],
   "source": [
    "parser('y is regional if y has x `http://sig.biostr.washington.edu/fma3.0#regional_part_of`, x is id_ontology')"
   ]
  },
  {
   "cell_type": "code",
   "execution_count": 7,
   "metadata": {},
   "outputs": [
    {
     "data": {
      "text/plain": [
       "∪(Implication{λ{S{subclass: Unknown}: Unknown}(S{y: Unknown}) ← ⋀(λ{S{http://www.w3.org/2000/01/rdf-schema#subClassOf: Unknown}: Unknown}(S{y: Unknown}, S{x: Unknown}), λ{S{regional: Unknown}: Unknown}(S{x: Unknown}))})"
      ]
     },
     "execution_count": 7,
     "metadata": {},
     "output_type": "execute_result"
    }
   ],
   "source": [
    "parser('y is subclass if y has x `http://www.w3.org/2000/01/rdf-schema#subClassOf`, x is regional')"
   ]
  },
  {
   "cell_type": "code",
   "execution_count": 8,
   "metadata": {},
   "outputs": [
    {
     "data": {
      "text/plain": [
       "∪(Implication{λ{S{subclass: Unknown}: Unknown}(S{y: Unknown}) ← ⋀(λ{S{http://www.w3.org/2000/01/rdf-schema#subClassOf: Unknown}: Unknown}(S{y: Unknown}, S{x: Unknown}), λ{S{subclass: Unknown}: Unknown}(S{x: Unknown}))})"
      ]
     },
     "execution_count": 8,
     "metadata": {},
     "output_type": "execute_result"
    }
   ],
   "source": [
    "parser('y is subclass if y has x `http://www.w3.org/2000/01/rdf-schema#subClassOf`, x is subclass')"
   ]
  },
  {
   "cell_type": "code",
   "execution_count": 9,
   "metadata": {},
   "outputs": [
    {
     "data": {
      "text/plain": [
       "∪(Implication{λ{S{region_subclass: Unknown}: Unknown}(S{y: Unknown}) ← ⋀(λ{S{http://www.w3.org/2000/01/rdf-schema#label: Unknown}: Unknown}(S{x: Unknown}, S{y: Unknown}), λ{S{subclass: Unknown}: Unknown}(S{x: Unknown}))})"
      ]
     },
     "execution_count": 9,
     "metadata": {},
     "output_type": "execute_result"
    }
   ],
   "source": [
    "parser('y is region_subclass if x has y `http://www.w3.org/2000/01/rdf-schema#label`, x is subclass')"
   ]
  },
  {
   "cell_type": "code",
   "execution_count": 10,
   "metadata": {},
   "outputs": [
    {
     "data": {
      "text/plain": [
       "∪(Implication{λ{S{destrieux_region: Unknown}: Unknown}(S{z: Unknown}) ← ⋀(λ{S{relation_region: Unknown}: Unknown}(S{z: Unknown}, S{x: Unknown}), λ{S{relation_name: Unknown}: Unknown}(S{x: Unknown}, S{y: Unknown}), λ{S{region_subclass: Unknown}: Unknown}(S{y: Unknown}))})"
      ]
     },
     "execution_count": 10,
     "metadata": {},
     "output_type": "execute_result"
    }
   ],
   "source": [
    "parser('z is destrieux_region if z has x relation_region, x has y relation_name, y is region_subclass')"
   ]
  },
  {
   "cell_type": "code",
   "execution_count": 11,
   "metadata": {},
   "outputs": [
    {
     "data": {
      "text/plain": [
       "∪(Implication{λ{S{region_union: Unknown}: Unknown}(S{z: Unknown}) ← ⋀(λ{S{neurosynth: Unknown}: Unknown}(C{'auditory': str}, S{y: Unknown}), λ{S{destrieux_region: Unknown}: Unknown}(S{x: Unknown}), λ{S{overlapping: Unknown}: Unknown}(S{x: Unknown}, S{y: Unknown}), λ{C{eq: typing.Callable[[neurolang.type_system.Unknown, neurolang.type_system.Unknown], bool]}: bool}(S{z: Unknown}, λ{S{S{region_intersection: Unknown}: Unknown}: Unknown}(S{x: Unknown}, S{y: Unknown})))})"
      ]
     },
     "execution_count": 11,
     "metadata": {},
     "output_type": "execute_result"
    }
   ],
   "source": [
    "parser('z is region_union if \"auditory\" has y neurosynth, x is destrieux_region, x has y overlapping, z == region_intersection(x, y) ')\n"
   ]
  },
  {
   "cell_type": "code",
   "execution_count": 15,
   "metadata": {},
   "outputs": [],
   "source": [
    "w = Symbol('w')\n",
    "x = Symbol('x')\n",
    "y = Symbol('y')\n",
    "z = Symbol('z')\n",
    "eq_ = Constant(eq)\n",
    "id_ontology = Symbol('id_ontology')\n",
    "rel = Symbol('rel')\n",
    "ans = Symbol('ans')\n",
    "over = Symbol('over')\n",
    "sub = Symbol('sub')\n",
    "label = Symbol('http://www.w3.org/2000/01/rdf-schema#label')\n",
    "subClassOf = Symbol('http://www.w3.org/2000/01/rdf-schema#subClassOf')\n",
    "region = Symbol('region')\n",
    "related = Symbol('http://www.w3.org/2004/02/skos/core#related')\n",
    "altLabel = Symbol('http://www.w3.org/2004/02/skos/core#altLabel')\n",
    "\n",
    "imps = tuple()\n",
    "imps += (Implication(id_ontology(y), label(y, Constant('Pain'))),)\n",
    "# 56 erlated 500\n",
    "imps += (Implication(rel(y), related(x, y) & id_ontology(x)),)\n",
    "#500 altLabel strings\n",
    "imps += (Implication(over(y), altLabel(x, y) & rel(x)),)\n",
    "\n",
    "imps += (Implication(ans(y), label(x, y) & id_ontology(x)),)\n",
    "imps += (Implication(ans(y), over(y)),)"
   ]
  },
  {
   "cell_type": "code",
   "execution_count": 16,
   "metadata": {},
   "outputs": [
    {
     "data": {
      "text/plain": [
       "∪(Implication{λ{S{id_ontology: Unknown}: Unknown}(S{y: Unknown}) ← ⋀(λ{S{http://www.w3.org/2000/01/rdf-schema#label: Unknown}: Unknown}(S{y: Unknown}, C{'Pain': str}))})"
      ]
     },
     "execution_count": 16,
     "metadata": {},
     "output_type": "execute_result"
    }
   ],
   "source": [
    "parser('y is id_ontology if y has \"Pain\" `http://www.w3.org/2000/01/rdf-schema#label`')"
   ]
  },
  {
   "cell_type": "code",
   "execution_count": 17,
   "metadata": {},
   "outputs": [
    {
     "data": {
      "text/plain": [
       "∪(Implication{λ{S{rel: Unknown}: Unknown}(S{y: Unknown}) ← ⋀(λ{S{http://www.w3.org/2004/02/skos/core#related: Unknown}: Unknown}(S{x: Unknown}, S{y: Unknown}), λ{S{id_ontology: Unknown}: Unknown}(S{x: Unknown}))})"
      ]
     },
     "execution_count": 17,
     "metadata": {},
     "output_type": "execute_result"
    }
   ],
   "source": [
    "parser('y is rel if x has y `http://www.w3.org/2004/02/skos/core#related`, x is id_ontology')"
   ]
  },
  {
   "cell_type": "code",
   "execution_count": 18,
   "metadata": {},
   "outputs": [
    {
     "data": {
      "text/plain": [
       "∪(Implication{λ{S{alt: Unknown}: Unknown}(S{y: Unknown}) ← ⋀(λ{S{http://www.w3.org/2004/02/skos/core#altLabel: Unknown}: Unknown}(S{x: Unknown}, S{y: Unknown}), λ{S{rel: Unknown}: Unknown}(S{x: Unknown}))})"
      ]
     },
     "execution_count": 18,
     "metadata": {},
     "output_type": "execute_result"
    }
   ],
   "source": [
    "parser('y is answer if x has y `http://www.w3.org/2004/02/skos/core#altLabel`, x is rel')"
   ]
  },
  {
   "cell_type": "code",
   "execution_count": 19,
   "metadata": {},
   "outputs": [
    {
     "data": {
      "text/plain": [
       "∪(Implication{λ{S{answer: Unknown}: Unknown}(S{y: Unknown}) ← ⋀(λ{S{http://www.w3.org/2000/01/rdf-schema#label: Unknown}: Unknown}(S{x: Unknown}, S{y: Unknown}), λ{S{id_ontology: Unknown}: Unknown}(S{x: Unknown}))})"
      ]
     },
     "execution_count": 19,
     "metadata": {},
     "output_type": "execute_result"
    }
   ],
   "source": [
    "parser('y is answer if x has y `http://www.w3.org/2000/01/rdf-schema#label`, x is id_ontology')"
   ]
  },
  {
   "cell_type": "code",
   "execution_count": null,
   "metadata": {},
   "outputs": [],
   "source": [
    "parser('y is answer if y is alt')"
   ]
  }
 ],
 "metadata": {
  "kernelspec": {
   "display_name": "neurolang",
   "language": "python",
   "name": "neurolang"
  },
  "language_info": {
   "codemirror_mode": {
    "name": "ipython",
    "version": 3
   },
   "file_extension": ".py",
   "mimetype": "text/x-python",
   "name": "python",
   "nbconvert_exporter": "python",
   "pygments_lexer": "ipython3",
   "version": "3.7.3"
  }
 },
 "nbformat": 4,
 "nbformat_minor": 2
}

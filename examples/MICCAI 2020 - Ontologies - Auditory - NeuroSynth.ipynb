{
 "cells": [
  {
   "cell_type": "markdown",
   "metadata": {},
   "source": [
    "## NeuroSynth"
   ]
  },
  {
   "cell_type": "markdown",
   "metadata": {},
   "source": [
    "### Basic example with thresholded results"
   ]
  },
  {
   "cell_type": "code",
   "execution_count": 13,
   "metadata": {},
   "outputs": [
    {
     "name": "stderr",
     "output_type": "stream",
     "text": [
      "/Users/gzanitti/miniconda3/envs/neurolang/lib/python3.7/site-packages/sklearn/externals/joblib/__init__.py:15: DeprecationWarning: sklearn.externals.joblib is deprecated in 0.21 and will be removed in 0.23. Please import this functionality directly from joblib, which can be installed with: pip install joblib. If this warning is raised when loading pickled models, you may need to re-serialize those models with scikit-learn 0.21+.\n",
      "  warnings.warn(msg, category=DeprecationWarning)\n"
     ]
    }
   ],
   "source": [
    "from neurolang.datalog.expressions import TranslateToLogic\n",
    "from neurolang import expression_walker as ew\n",
    "from neurolang.datalog.aggregation import DatalogWithAggregationMixin\n",
    "from neurolang.datalog.chase import ChaseSemiNaive, ChaseNaive, ChaseNamedRelationalAlgebraMixin, ChaseGeneral\n",
    "from neurolang.datalog.aggregation import Chase\n",
    "from neurolang.expressions import ExpressionBlock, Symbol, Constant\n",
    "from neurolang.logic import Implication\n",
    "from neurolang.frontend.neurosynth_utils import NeuroSynthHandler\n",
    "from neurolang.datalog import DatalogProgram\n",
    "from neurolang.expression_walker import ExpressionBasicEvaluator\n",
    "from neurolang.datalog.aggregation import AggregationApplication\n",
    "from neurolang.regions import Region, region_union as region_union_\n",
    "import typing \n",
    "from neurolang import frontend as fe\n",
    "from nilearn import plotting\n",
    "\n",
    "class DatalogTranslator(\n",
    "    TranslateToLogic, ew.IdentityWalker, DatalogWithAggregationMixin\n",
    "):\n",
    "    pass\n",
    "\n",
    "class Chase(\n",
    "    Chase, ChaseNaive, ChaseNamedRelationalAlgebraMixin, ChaseGeneral\n",
    "):\n",
    "    pass\n",
    "\n",
    "class Datalog(TranslateToLogic,\n",
    "    DatalogWithAggregationMixin, DatalogProgram,\n",
    "    ExpressionBasicEvaluator):\n",
    "    pass\n",
    "\n",
    "C_ = Constant\n",
    "S_ = Symbol"
   ]
  },
  {
   "cell_type": "code",
   "execution_count": 6,
   "metadata": {},
   "outputs": [],
   "source": [
    "y = S_('y')\n",
    "z = S_('z')\n",
    "over = S_('over')\n",
    "neurosynth = S_('neurosynth')\n",
    "\n",
    "nl = fe.NeurolangDL()\n",
    "@nl.add_symbol\n",
    "def region_union(\n",
    "    region_set: typing.AbstractSet[Region]\n",
    ") -> Region:\n",
    "    return region_union_(region_set)\n",
    "\n",
    "region_union = nl.symbols.region_union.expression()\n",
    "region_union.args = (z,)\n",
    "\n",
    "agap = AggregationApplication(region_union.functor, (y,))"
   ]
  },
  {
   "cell_type": "code",
   "execution_count": 7,
   "metadata": {},
   "outputs": [
    {
     "name": "stderr",
     "output_type": "stream",
     "text": [
      "/Users/gzanitti/miniconda3/envs/neurolang/lib/python3.7/site-packages/neurosynth/base/dataset.py:771: FutureWarning: DataFrame.to_sparse is deprecated and will be removed in a future version\n",
      "  columns=self.data['columns']).to_sparse()\n",
      "/Users/gzanitti/miniconda3/envs/neurolang/lib/python3.7/site-packages/neurosynth/base/dataset.py:716: FutureWarning: \n",
      ".ix is deprecated. Please use\n",
      ".loc for label based indexing or\n",
      ".iloc for positional indexing\n",
      "\n",
      "See the documentation here:\n",
      "http://pandas.pydata.org/pandas-docs/stable/user_guide/indexing.html#ix-indexer-is-deprecated\n",
      "  feature_weights = self.data.ix[:, features]\n",
      "/Users/gzanitti/miniconda3/envs/neurolang/lib/python3.7/site-packages/pandas/core/indexing.py:808: FutureWarning: \n",
      ".ix is deprecated. Please use\n",
      ".loc for label based indexing or\n",
      ".iloc for positional indexing\n",
      "\n",
      "See the documentation here:\n",
      "http://pandas.pydata.org/pandas-docs/stable/user_guide/indexing.html#ix-indexer-is-deprecated\n",
      "  retval = getattr(retval, self.name)._getitem_axis(key, axis=i)\n",
      "/Users/gzanitti/miniconda3/envs/neurolang/lib/python3.7/site-packages/pandas/core/frame.py:3451: FutureWarning: SparseSeries is deprecated and will be removed in a future version.\n",
      "Use a Series with sparse values instead.\n",
      "\n",
      "    >>> series = pd.Series(pd.SparseArray(...))\n",
      "\n",
      "See http://pandas.pydata.org/pandas-docs/stable/user_guide/sparse.html#migrating for more.\n",
      "\n",
      "  return klass(values, index=self.index, name=items, fastpath=True)\n",
      "/Users/gzanitti/miniconda3/envs/neurolang/lib/python3.7/site-packages/pandas/core/sparse/frame.py:785: FutureWarning: SparseDataFrame is deprecated and will be removed in a future version.\n",
      "Use a regular DataFrame whose columns are SparseArrays instead.\n",
      "\n",
      "See http://pandas.pydata.org/pandas-docs/stable/user_guide/sparse.html#migrating for more.\n",
      "\n",
      "  return self._constructor(new_arrays, index=index, columns=columns).__finalize__(\n",
      "/Users/gzanitti/miniconda3/envs/neurolang/lib/python3.7/site-packages/pandas/core/apply.py:401: FutureWarning: SparseSeries is deprecated and will be removed in a future version.\n",
      "Use a Series with sparse values instead.\n",
      "\n",
      "    >>> series = pd.Series(pd.SparseArray(...))\n",
      "\n",
      "See http://pandas.pydata.org/pandas-docs/stable/user_guide/sparse.html#migrating for more.\n",
      "\n",
      "  for i, (arr, name) in enumerate(zip(self.values, self.index))\n",
      "/Users/gzanitti/miniconda3/envs/neurolang/lib/python3.7/site-packages/pandas/core/apply.py:345: FutureWarning: SparseSeries is deprecated and will be removed in a future version.\n",
      "Use a Series with sparse values instead.\n",
      "\n",
      "    >>> series = pd.Series(pd.SparseArray(...))\n",
      "\n",
      "See http://pandas.pydata.org/pandas-docs/stable/user_guide/sparse.html#migrating for more.\n",
      "\n",
      "  result = self.obj._constructor_sliced(results)\n",
      "/Users/gzanitti/miniconda3/envs/neurolang/lib/python3.7/site-packages/pandas/core/ops/__init__.py:1641: FutureWarning: SparseSeries is deprecated and will be removed in a future version.\n",
      "Use a Series with sparse values instead.\n",
      "\n",
      "    >>> series = pd.Series(pd.SparseArray(...))\n",
      "\n",
      "See http://pandas.pydata.org/pandas-docs/stable/user_guide/sparse.html#migrating for more.\n",
      "\n",
      "  return self._constructor(new_values, index=self.index, name=self.name)\n",
      "/Users/gzanitti/miniconda3/envs/neurolang/lib/python3.7/site-packages/pandas/core/sparse/series.py:585: FutureWarning: SparseSeries is deprecated and will be removed in a future version.\n",
      "Use a Series with sparse values instead.\n",
      "\n",
      "    >>> series = pd.Series(pd.SparseArray(...))\n",
      "\n",
      "See http://pandas.pydata.org/pandas-docs/stable/user_guide/sparse.html#migrating for more.\n",
      "\n",
      "  return self._constructor(arr, index=self.index).__finalize__(self)\n",
      "/Users/gzanitti/miniconda3/envs/neurolang/lib/python3.7/site-packages/pandas/core/sparse/series.py:346: FutureWarning: SparseSeries is deprecated and will be removed in a future version.\n",
      "Use a Series with sparse values instead.\n",
      "\n",
      "    >>> series = pd.Series(pd.SparseArray(...))\n",
      "\n",
      "See http://pandas.pydata.org/pandas-docs/stable/user_guide/sparse.html#migrating for more.\n",
      "\n",
      "  self._data.get_slice(indexer), fastpath=True\n"
     ]
    }
   ],
   "source": [
    "q = 0.001\n",
    "nshandler = NeuroSynthHandler()\n",
    "neurosynth_data = nshandler.ns_region_set_from_term(\n",
    "    'auditory',\n",
    "    q=q\n",
    ")\n",
    "\n",
    "dl_ns = Datalog()\n",
    "dl_ns.add_extensional_predicate_from_tuples(neurosynth, [('auditory', a) for a in neurosynth_data])"
   ]
  },
  {
   "cell_type": "code",
   "execution_count": 14,
   "metadata": {},
   "outputs": [
    {
     "name": "stderr",
     "output_type": "stream",
     "text": [
      "/Users/gzanitti/Projects/INRIA/NeuroLang/neurolang/datalog/aggregation.py:131: UserWarning: No check performed. Should implement check for stratified aggregation\n",
      "  \"No check performed. Should implement check for stratified\"\n",
      "/Users/gzanitti/miniconda3/envs/neurolang/lib/python3.7/site-packages/pandas/core/frame.py:4218: SettingWithCopyWarning: \n",
      "A value is trying to be set on a copy of a slice from a DataFrame\n",
      "\n",
      "See the caveats in the documentation: http://pandas.pydata.org/pandas-docs/stable/user_guide/indexing.html#returning-a-view-versus-a-copy\n",
      "  return super().rename(**kwargs)\n",
      "/Users/gzanitti/miniconda3/envs/neurolang/lib/python3.7/site-packages/scipy/ndimage/measurements.py:305: DeprecationWarning: In future, it will be an error for 'np.bool_' scalars to be interpreted as an index\n",
      "  return _nd_image.find_objects(input, max_label)\n",
      "/Users/gzanitti/miniconda3/envs/neurolang/lib/python3.7/site-packages/nilearn/plotting/displays.py:600: DeprecationWarning: Using or importing the ABCs from 'collections' instead of from 'collections.abc' is deprecated, and in 3.8 it will stop working\n",
      "  if isinstance(axes, collections.Sequence):\n"
     ]
    },
    {
     "data": {
      "image/png": "[encoded data removed]",
      "text/plain": [
       "<Figure size 475.2x187.2 with 4 Axes>"
      ]
     },
     "metadata": {},
     "output_type": "display_data"
    }
   ],
   "source": [
    "imps = tuple()\n",
    "imps += (Implication(over(agap), neurosynth(C_('auditory'), y)),)\n",
    "\n",
    "eb = ExpressionBlock(imps)\n",
    "dl_ns.walk(eb)\n",
    "\n",
    "dc = Chase(dl_ns)\n",
    "solution_instance = dc.build_chase_solution()\n",
    "\n",
    "list_regions = list(solution_instance['over'].value.unwrapped_iter())\n",
    "for region in list_regions:\n",
    "    plotting.plot_roi(region[0].spatial_image())"
   ]
  },
  {
   "cell_type": "markdown",
   "metadata": {},
   "source": [
    "### Example with probabilistic results"
   ]
  },
  {
   "cell_type": "code",
   "execution_count": 1,
   "metadata": {},
   "outputs": [
    {
     "name": "stderr",
     "output_type": "stream",
     "text": [
      "/Users/gzanitti/miniconda3/envs/neurolang/lib/python3.7/site-packages/sklearn/externals/joblib/__init__.py:15: DeprecationWarning: sklearn.externals.joblib is deprecated in 0.21 and will be removed in 0.23. Please import this functionality directly from joblib, which can be installed with: pip install joblib. If this warning is raised when loading pickled models, you may need to re-serialize those models with scikit-learn 0.21+.\n",
      "  warnings.warn(msg, category=DeprecationWarning)\n",
      "/Users/gzanitti/Projects/INRIA/NeuroLang/neurolang/solver_datalog_naive.py:24: UserWarning: This module is being deprecated please use the datalog module\n",
      "  warn(\"This module is being deprecated please use the datalog module\")\n",
      "/Users/gzanitti/Projects/INRIA/NeuroLang/neurolang/expression_pattern_matching.py:87: UserWarning: Warning in class SolverNonRecursiveDatalogNaive overwrites ['fact', 'statement_intensional'] from base DatalogProgram[typing.Any]\n",
      "  warn(warn_message)\n"
     ]
    }
   ],
   "source": [
    "import nibabel as nib\n",
    "import neurosynth\n",
    "import os\n",
    "\n",
    "import pandas as pd\n",
    "import neurolang.regions as nlr\n",
    "import pickle\n",
    "\n",
    "from nilearn import plotting\n",
    "import numpy as np\n",
    "\n",
    "from neurolang.expressions import Symbol, Constant, ExpressionBlock\n",
    "from neurolang.datalog.expressions import Implication, Fact, Conjunction\n",
    "from neurolang.probabilistic.expressions import ProbabilisticPredicate\n",
    "from neurolang.probabilistic.probdatalog import ProbDatalogProgram"
   ]
  },
  {
   "cell_type": "code",
   "execution_count": 2,
   "metadata": {},
   "outputs": [
    {
     "name": "stderr",
     "output_type": "stream",
     "text": [
      "/Users/gzanitti/miniconda3/envs/neurolang/lib/python3.7/importlib/_bootstrap.py:219: RuntimeWarning: numpy.ufunc size changed, may indicate binary incompatibility. Expected 192 from C header, got 216 from PyObject\n",
      "  return f(*args, **kwds)\n"
     ]
    }
   ],
   "source": [
    "prob_terms = pd.read_hdf('neurosynth_prob.h5', key='terms')\n",
    "prob_voxels = pd.read_hdf('neurosynth_prob.h5', key='voxels')\n",
    "prob_terms_voxels = pd.read_hdf('neurosynth_prob.h5', key='terms_voxels')"
   ]
  },
  {
   "cell_type": "code",
   "execution_count": 3,
   "metadata": {},
   "outputs": [],
   "source": [
    "auditory = prob_terms_voxels[prob_terms_voxels.index.get_level_values('term') == 'auditory']"
   ]
  },
  {
   "cell_type": "code",
   "execution_count": 4,
   "metadata": {},
   "outputs": [],
   "source": [
    "file = open(\"xyz_from_neurosynth.pkl\",'rb')\n",
    "ret = pickle.load(file)\n",
    "file.close()"
   ]
  },
  {
   "cell_type": "code",
   "execution_count": null,
   "metadata": {},
   "outputs": [],
   "source": [
    "regions = []\n",
    "for index, row in auditory.iterrows():\n",
    "    prob = row['prob']\n",
    "    v_name = index[1]\n",
    "    region = ret[v_name]\n",
    "    regions.append((region, prob))"
   ]
  },
  {
   "cell_type": "code",
   "execution_count": null,
   "metadata": {},
   "outputs": [],
   "source": [
    "prob_img = nibabel.spatialimages.SpatialImage(\n",
    "    np.zeros(regions[0][0].image_dim, dtype=float),\n",
    "    affine=regions[0][0].affine\n",
    ")\n",
    "\n",
    "for r, p in regions:\n",
    "    prob_img.dataobj[tuple(r.voxels.T)] = p"
   ]
  },
  {
   "cell_type": "code",
   "execution_count": null,
   "metadata": {},
   "outputs": [],
   "source": [
    "plotting.plot_stat_map(\n",
    "    prob_img, title='Tag \"auditory\" (Neurosynth)', \n",
    "    cmap='PuBu',\n",
    "    display_mode='x',\n",
    "    cut_coords=np.linspace(-63, 63, 3),\n",
    ")"
   ]
  },
  {
   "cell_type": "code",
   "execution_count": null,
   "metadata": {},
   "outputs": [],
   "source": [
    "plotting.plot_stat_map(\n",
    "    prob_img, title='Tag \"auditory\" (Neurosynth)', \n",
    "    cmap='PuBu',\n",
    "    display_mode='y',\n",
    "    cut_coords=np.linspace(-30, 5, 3),\n",
    ")"
   ]
  },
  {
   "cell_type": "code",
   "execution_count": null,
   "metadata": {},
   "outputs": [],
   "source": [
    "prob = prob_img.get_data()\n",
    "prob_mask = prob > 0\n",
    "prob_mask_values = prob[prob_mask]"
   ]
  },
  {
   "cell_type": "code",
   "execution_count": null,
   "metadata": {},
   "outputs": [],
   "source": [
    "import numpy as np\n",
    "from scipy import special\n",
    "from scipy.stats import norm\n",
    "\n",
    "def p_to_z(p, sign):\n",
    "    p = p / 2  # convert to two-tailed\n",
    "    # prevent underflow\n",
    "    p[p < 1e-240] = 1e-240\n",
    "    # Convert to z and assign tail\n",
    "    z = np.abs(norm.ppf(p)) * sign\n",
    "    # Set very large z's to max precision\n",
    "    z[np.isinf(z)] = norm.ppf(1e-240) * -1\n",
    "    return z\n",
    "\n",
    "def one_way(data, n):\n",
    "    \"\"\" One-way chi-square test of independence.\n",
    "    Takes a 1D array as input and compares activation at each voxel to\n",
    "    proportion expected under a uniform distribution throughout the array. Note\n",
    "    that if you're testing activation with this, make sure that only valid\n",
    "    voxels (e.g., in-mask gray matter voxels) are included in the array, or\n",
    "    results won't make any sense!\n",
    "    \"\"\"\n",
    "    term = data.astype('float64')\n",
    "    no_term = n - term\n",
    "    t_exp = np.mean(term, 0)\n",
    "    t_exp = np.array([t_exp, ] * data.shape[0])\n",
    "    nt_exp = n - t_exp\n",
    "    t_mss = (term - t_exp) ** 2 / t_exp\n",
    "    nt_mss = (no_term - nt_exp) ** 2 / nt_exp\n",
    "    chi2 = t_mss + nt_mss\n",
    "    return special.chdtrc(1, chi2)\n",
    "\n",
    "res = one_way(np.round(prob_mask_values * 10000), 10000)"
   ]
  },
  {
   "cell_type": "code",
   "execution_count": null,
   "metadata": {},
   "outputs": [],
   "source": [
    "def fdr(p, q=.05):\n",
    "    \"\"\" Determine FDR threshold given a p value array and desired false\n",
    "    discovery rate q. \"\"\"\n",
    "    s = np.sort(p)\n",
    "    nvox = p.shape[0]\n",
    "    null = np.array(range(1, nvox + 1), dtype='float') * q / nvox\n",
    "    below = np.where(s <= null)[0]\n",
    "    return s[max(below)] if len(below) else -1\n",
    "\n",
    "p_values_corrected = fdr(res, q=1e-25)"
   ]
  },
  {
   "cell_type": "code",
   "execution_count": null,
   "metadata": {},
   "outputs": [],
   "source": [
    "p_value_image = np.zeros_like(prob)\n",
    "p_value_image[prob_mask] = -np.log10(res)\n",
    "\n",
    "p_value_image = nib.spatialimages.SpatialImage(p_value_image, affine=prob_img.affine)\n",
    "-np.log10(p_values_corrected)"
   ]
  },
  {
   "cell_type": "code",
   "execution_count": null,
   "metadata": {},
   "outputs": [],
   "source": [
    "plotting.plot_stat_map(p_value_image, title='P values (Neurosynth)', threshold=-np.log10(p_values_corrected))"
   ]
  },
  {
   "cell_type": "code",
   "execution_count": null,
   "metadata": {},
   "outputs": [],
   "source": [
    "plotting.plot_stat_map(\n",
    "    p_value_image, \n",
    "    title=r'$-\\log_{10} P$ value (Neurosynth)', \n",
    "    threshold=-np.log10(p_values_corrected), \n",
    "    cmap='YlOrRd',\n",
    "    display_mode='x',\n",
    "    cut_coords=np.linspace(-63, 63, 3)\n",
    ")"
   ]
  },
  {
   "cell_type": "code",
   "execution_count": null,
   "metadata": {},
   "outputs": [],
   "source": [
    "plotting.plot_stat_map(\n",
    "    p_value_image, title=r'$-\\log_{10} P$ value (Neurosynth)', threshold=-np.log10(p_values_corrected),\n",
    "    cmap='YlOrRd',\n",
    "    display_mode='y',\n",
    "    cut_coords=np.linspace(-30, 5, 3)\n",
    ")"
   ]
  },
  {
   "cell_type": "code",
   "execution_count": null,
   "metadata": {},
   "outputs": [],
   "source": []
  }
 ],
 "metadata": {
  "kernelspec": {
   "display_name": "neurolang",
   "language": "python",
   "name": "neurolang"
  },
  "language_info": {
   "codemirror_mode": {
    "name": "ipython",
    "version": 3
   },
   "file_extension": ".py",
   "mimetype": "text/x-python",
   "name": "python",
   "nbconvert_exporter": "python",
   "pygments_lexer": "ipython3",
   "version": "3.7.3"
  }
 },
 "nbformat": 4,
 "nbformat_minor": 2
}

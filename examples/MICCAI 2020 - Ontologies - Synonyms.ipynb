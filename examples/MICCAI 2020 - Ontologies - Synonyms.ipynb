{
 "cells": [
  {
   "cell_type": "code",
   "execution_count": 3,
   "metadata": {},
   "outputs": [],
   "source": [
    "import rdflib\n",
    "import pandas as pd\n",
    "path = './owlapi.xrdf'\n",
    "load_format = None\n",
    "\n",
    "g = rdflib.Graph()\n",
    "g.load(path, format=load_format)\n",
    "gdf = pd.DataFrame(iter(g))\n",
    "gdf = gdf.astype(str)\n",
    "gdf.columns = ['Entity', 'Property', 'Value']"
   ]
  },
  {
   "cell_type": "code",
   "execution_count": 4,
   "metadata": {},
   "outputs": [],
   "source": [
    "pain = gdf[gdf.Value == 'Pain']\n",
    "pain1 = gdf[gdf.Entity.str.contains('http://purl.jp/bio/4/id/200906087442648500')]\n",
    "pain2 = gdf[gdf.Entity.str.contains('http://purl.jp/bio/4/id/200906012659235956')]\n",
    "df = pd.concat((pain, pain1, pain2))"
   ]
  },
  {
   "cell_type": "code",
   "execution_count": 5,
   "metadata": {},
   "outputs": [],
   "source": [
    "import neurolang.datalog.ontologies_parser as op\n",
    "import importlib\n",
    "importlib.reload(op)\n",
    "from neurolang.datalog.ontologies_rewriter import OntologyRewriter\n",
    "\n",
    "from neurolang.datalog.constraints_representation import DatalogConstraintsProgram\n",
    "from neurolang.expression_walker import ExpressionBasicEvaluator\n",
    "\n",
    "from neurolang import frontend as fe\n",
    "\n",
    "class Datalog(DatalogConstraintsProgram, ExpressionBasicEvaluator):\n",
    "    pass\n",
    "\n",
    "paths = ['./owlapi.xrdf']\n",
    "namespaces = ['http://www.w3.org/2004/02/skos']\n",
    "onto = op.OntologiesParser(paths, namespaces, graph=df)\n",
    "nl = fe.NeurolangDL()\n",
    "datalog_program = onto.parse_ontology(nl.solver)"
   ]
  },
  {
   "cell_type": "code",
   "execution_count": 6,
   "metadata": {},
   "outputs": [
    {
     "name": "stderr",
     "output_type": "stream",
     "text": [
      "/Users/gzanitti/miniconda3/envs/neurolang/lib/python3.7/importlib/_bootstrap.py:219: RuntimeWarning: numpy.ufunc size changed, may indicate binary incompatibility. Expected 192 from C header, got 216 from PyObject\n",
      "  return f(*args, **kwds)\n"
     ]
    }
   ],
   "source": [
    "prob_terms = pd.read_hdf('neurosynth_prob.h5', key='terms')\n",
    "prob_voxels = pd.read_hdf('neurosynth_prob.h5', key='voxels')\n",
    "prob_terms_voxels = pd.read_hdf('neurosynth_prob.h5', key='terms_voxels')"
   ]
  },
  {
   "cell_type": "code",
   "execution_count": 7,
   "metadata": {},
   "outputs": [],
   "source": [
    "prob_terms = prob_terms[(prob_terms['index'] == 'pain') |\n",
    "                        (prob_terms['index'] == 'noxious') |\n",
    "                        (prob_terms['index'] == 'nociceptive')]"
   ]
  },
  {
   "cell_type": "code",
   "execution_count": 8,
   "metadata": {},
   "outputs": [],
   "source": [
    "prob_terms_voxels = prob_terms_voxels[\n",
    "    (prob_terms_voxels.index.get_level_values('term') == 'pain') | \n",
    "    (prob_terms_voxels.index.get_level_values('term') == 'noxious') |\n",
    "    (prob_terms_voxels.index.get_level_values('term') == 'nociceptive')]"
   ]
  },
  {
   "cell_type": "code",
   "execution_count": 9,
   "metadata": {},
   "outputs": [],
   "source": [
    "prob_terms_voxels.reset_index(inplace=True)\n",
    "prob_terms_voxels = prob_terms_voxels[['prob', 'term', 'variable']]"
   ]
  },
  {
   "cell_type": "code",
   "execution_count": 11,
   "metadata": {},
   "outputs": [],
   "source": [
    "from operator import eq\n",
    "from neurolang.logic import Implication\n",
    "from nilearn import datasets\n",
    "import nibabel as nib\n",
    "from neurolang.frontend.query_resolution import RegionMixin\n",
    "from neurolang.expressions import ExpressionBlock, Symbol, Constant\n",
    "from neurolang.logic import Implication\n",
    "from neurolang.datalog.aggregation import AggregationApplication\n",
    "import typing\n",
    "from neurolang.regions import Region\n",
    "\n",
    "x = Symbol('x')\n",
    "y = Symbol('y')\n",
    "z = Symbol('z')\n",
    "eq_ = Constant(eq)\n",
    "id_ontology = Symbol('id_ontology')\n",
    "rel = Symbol('rel')\n",
    "over = Symbol('over')\n",
    "name = Symbol('name')\n",
    "\n",
    "label = Symbol('http://www.w3.org/2000/01/rdf-schema#label')\n",
    "related = Symbol('http://www.w3.org/2004/02/skos/core#related')\n",
    "altLabel = Symbol('http://www.w3.org/2004/02/skos/core#altLabel')\n",
    "\n",
    "@nl.add_symbol\n",
    "def first_word(name: str) -> str:\n",
    "    return name.split(\" \")[0]\n",
    "\n",
    "first_word = nl.symbols.first_word.expression()\n",
    "first_word.args = (y, )\n",
    "\n",
    "term = Symbol('term')\n",
    "term_voxel = Symbol('term_voxel')\n",
    "\n",
    "#Auditory\n",
    "imps = tuple()\n",
    "imps += (Implication(id_ontology(y), label(y, Constant('Pain'))),)\n",
    "imps += (Implication(rel(y), related(x, y) & id_ontology(x)),)\n",
    "imps += (Implication(over(y), altLabel(x, y) & rel(x)),)\n",
    "\n",
    "imps += (Implication(name(z), eq_(z, first_word) & label(x, y) & id_ontology(x)),)\n",
    "imps += (Implication(name(z), eq_(z, first_word) & over(y)),)\n",
    "qB2 = ExpressionBlock(imps)\n",
    "\n",
    "from neurolang.datalog.expressions import TranslateToLogic\n",
    "from neurolang import expression_walker as ew\n",
    "from neurolang.datalog.aggregation import DatalogWithAggregationMixin\n",
    "\n",
    "class DatalogTranslator(\n",
    "    TranslateToLogic, ew.IdentityWalker, DatalogWithAggregationMixin\n",
    "):\n",
    "    pass\n",
    "\n",
    "dt = DatalogTranslator()\n",
    "qB2 = dt.walk(qB2)"
   ]
  },
  {
   "cell_type": "code",
   "execution_count": 12,
   "metadata": {},
   "outputs": [],
   "source": [
    "const = datalog_program.get_constraints()\n",
    "const = dt.walk(const)\n",
    "\n",
    "orw = OntologyRewriter(qB2, const)\n",
    "rewrite = orw.Xrewrite()"
   ]
  },
  {
   "cell_type": "code",
   "execution_count": 13,
   "metadata": {},
   "outputs": [],
   "source": [
    "from neurolang.datalog import DatalogProgram\n",
    "from neurolang.datalog.expressions import TranslateToLogic\n",
    "from neurolang import expression_walker as ew\n",
    "from neurolang.regions import region_intersection as region_intersection_, ExplicitVBR\n",
    "from neurolang.datalog.aggregation import DatalogWithAggregationMixin\n",
    "    \n",
    "triple = Symbol('triple')\n",
    "class Datalog2(TranslateToLogic,\n",
    "    DatalogWithAggregationMixin, DatalogProgram,\n",
    "    ExpressionBasicEvaluator):\n",
    "    pass\n",
    "\n",
    "dl2 = Datalog2()\n",
    "dl2.add_extensional_predicate_from_tuples(triple, [(a.args[0].value, a.args[1].value, a.args[2].value) for a in onto.triples])"
   ]
  },
  {
   "cell_type": "code",
   "execution_count": 14,
   "metadata": {},
   "outputs": [
    {
     "data": {
      "text/plain": [
       "∪(Implication{λ{S{rel: Unknown}: Unknown}(S{y: Unknown}) ← ⋀(λ{S{http://www.w3.org/2004/02/skos/core#related: Unknown}: Unknown}(S{x: Unknown}, S{y: Unknown}), λ{S{id_ontology: Unknown}: Unknown}(S{x: Unknown}))},\n",
       "Implication{λ{S{id_ontology: Unknown}: Unknown}(S{y: Unknown}) ← λ{S{triple: Unknown}: Unknown}(S{y: Unknown}, C{'http://www.w3.org/2000/01/rdf-schema#label': str}, C{'Pain': str})},\n",
       "Implication{λ{S{name: Unknown}: Unknown}(S{z: Unknown}) ← ⋀(λ{C{eq: typing.Callable[[neurolang.type_system.Unknown, neurolang.type_system.Unknown], bool]}: bool}(S{z: Unknown}, λ{C{first_word: typing.Callable[[str], str]}: str}(S{y: Unknown})), λ{S{over: Unknown}: Unknown}(S{y: Unknown}))},\n",
       "Implication{λ{S{name: Unknown}: Unknown}(S{z: Unknown}) ← ⋀(λ{C{eq: typing.Callable[[neurolang.type_system.Unknown, neurolang.type_system.Unknown], bool]}: bool}(S{z: Unknown}, λ{C{first_word: typing.Callable[[str], str]}: str}(S{y: Unknown})), λ{S{http://www.w3.org/2000/01/rdf-schema#label: Unknown}: Unknown}(S{x: Unknown}, S{y: Unknown}), λ{S{id_ontology: Unknown}: Unknown}(S{x: Unknown}))},\n",
       "Implication{λ{S{over: Unknown}: Unknown}(S{y: Unknown}) ← ⋀(λ{S{triple: Unknown}: Unknown}(S{x: Unknown}, C{'http://www.w3.org/2004/02/skos/core#altLabel': str}, S{y: Unknown}), λ{S{rel: Unknown}: Unknown}(S{x: Unknown}))},\n",
       "Implication{λ{S{id_ontology: Unknown}: Unknown}(S{y: Unknown}) ← λ{S{http://www.w3.org/2000/01/rdf-schema#label: Unknown}: Unknown}(S{y: Unknown}, C{'Pain': str})},\n",
       "Implication{λ{S{over: Unknown}: Unknown}(S{y: Unknown}) ← ⋀(λ{S{http://www.w3.org/2004/02/skos/core#altLabel: Unknown}: Unknown}(S{x: Unknown}, S{y: Unknown}), λ{S{rel: Unknown}: Unknown}(S{x: Unknown}))},\n",
       "Implication{λ{S{name: Unknown}: Unknown}(S{z: Unknown}) ← ⋀(λ{C{eq: typing.Callable[[neurolang.type_system.Unknown, neurolang.type_system.Unknown], bool]}: bool}(S{z: Unknown}, λ{C{first_word: typing.Callable[[str], str]}: str}(S{y: Unknown})), λ{S{triple: Unknown}: Unknown}(S{x: Unknown}, C{'http://www.w3.org/2000/01/rdf-schema#label': str}, S{y: Unknown}), λ{S{id_ontology: Unknown}: Unknown}(S{x: Unknown}))},\n",
       "Implication{λ{S{rel: Unknown}: Unknown}(S{y: Unknown}) ← ⋀(λ{S{triple: Unknown}: Unknown}(S{x: Unknown}, C{'http://www.w3.org/2004/02/skos/core#related': str}, S{y: Unknown}), λ{S{id_ontology: Unknown}: Unknown}(S{x: Unknown}))})"
      ]
     },
     "execution_count": 14,
     "metadata": {},
     "output_type": "execute_result"
    }
   ],
   "source": [
    "eB2 = ()\n",
    "for imp in rewrite:\n",
    "    eB2 += (imp[0],)\n",
    "    \n",
    "eB2 = ExpressionBlock(eB2)\n",
    "\n",
    "dt = DatalogTranslator()\n",
    "eB22 = dt.walk(eB2)\n",
    "dl2.walk(eB22)"
   ]
  },
  {
   "cell_type": "code",
   "execution_count": 15,
   "metadata": {},
   "outputs": [
    {
     "name": "stderr",
     "output_type": "stream",
     "text": [
      "/Users/gzanitti/Projects/INRIA/NeuroLang/neurolang/datalog/aggregation.py:131: UserWarning: No check performed. Should implement check for stratified aggregation\n",
      "  \"No check performed. Should implement check for stratified\"\n",
      "/Users/gzanitti/miniconda3/envs/neurolang/lib/python3.7/site-packages/pandas/core/frame.py:4218: SettingWithCopyWarning: \n",
      "A value is trying to be set on a copy of a slice from a DataFrame\n",
      "\n",
      "See the caveats in the documentation: http://pandas.pydata.org/pandas-docs/stable/user_guide/indexing.html#returning-a-view-versus-a-copy\n",
      "  return super().rename(**kwargs)\n"
     ]
    },
    {
     "data": {
      "text/plain": [
       "[S{triple: typing.AbstractSet[typing.Tuple[str, str, str]]},\n",
       " S{id_ontology: Unknown},\n",
       " S{name: Unknown},\n",
       " S{over: Unknown},\n",
       " S{rel: Unknown}]"
      ]
     },
     "execution_count": 15,
     "metadata": {},
     "output_type": "execute_result"
    }
   ],
   "source": [
    "from neurolang.datalog.chase import ChaseSemiNaive, ChaseNaive, ChaseNamedRelationalAlgebraMixin, ChaseGeneral\n",
    "from neurolang.datalog.aggregation import Chase\n",
    "\n",
    "class Chase2(\n",
    "    Chase, ChaseNaive, ChaseNamedRelationalAlgebraMixin, ChaseGeneral\n",
    "):\n",
    "    pass\n",
    "\n",
    "dc = Chase2(dl2)\n",
    "solution_instance = dc.build_chase_solution()\n",
    "list(solution_instance.keys())"
   ]
  },
  {
   "cell_type": "code",
   "execution_count": 16,
   "metadata": {},
   "outputs": [],
   "source": [
    "list_words = list(solution_instance['name'].value.unwrapped_iter())"
   ]
  },
  {
   "cell_type": "code",
   "execution_count": 19,
   "metadata": {},
   "outputs": [
    {
     "name": "stderr",
     "output_type": "stream",
     "text": [
      "/Users/gzanitti/miniconda3/envs/neurolang/lib/python3.7/site-packages/ipykernel_launcher.py:3: ResourceWarning: unclosed file <_io.BufferedReader name='xyz_from_neurosynth.pkl'>\n",
      "  This is separate from the ipykernel package so we can avoid doing imports until\n",
      "ResourceWarning: Enable tracemalloc to get the object allocation traceback\n"
     ]
    }
   ],
   "source": [
    "import pickle\n",
    "\n",
    "file = open(\"xyz_from_neurosynth.pkl\",'rb')\n",
    "ret = pickle.load(file)\n",
    "file.close()"
   ]
  },
  {
   "cell_type": "code",
   "execution_count": 20,
   "metadata": {},
   "outputs": [],
   "source": [
    "from neurolang.datalog import DatalogProgram\n",
    "from neurolang.datalog.expressions import TranslateToLogic\n",
    "from neurolang import expression_walker as ew\n",
    "from neurolang.regions import region_intersection as region_intersection_, ExplicitVBR\n",
    "from neurolang.datalog.aggregation import DatalogWithAggregationMixin\n",
    "from neurolang.probabilistic.probdatalog import (\n",
    "    ProbDatalogExistentialTranslator,\n",
    "    GDatalogToProbDatalog,\n",
    "    ProbDatalogProgram,\n",
    "    conjunct_formulas,\n",
    "    is_probabilistic_fact,\n",
    "    ground_probdatalog_program,\n",
    ")\n",
    "\n",
    "dlProb = ProbDatalogProgram()\n",
    "\n",
    "activated = Symbol('activated')\n",
    "neurosynth_region = Symbol('neurosynth_region')\n",
    "\n",
    "dlProb.add_extensional_predicate_from_tuples(activated, set(list_words))\n",
    "dlProb.add_probfacts_from_tuples(term_voxel, set(prob_terms_voxels.itertuples(index=False, name=None)))\n",
    "dlProb.add_extensional_predicate_from_tuples(neurosynth_region, [(k, v) for k, v in ret.items()])\n"
   ]
  },
  {
   "cell_type": "code",
   "execution_count": 21,
   "metadata": {},
   "outputs": [],
   "source": [
    "from neurolang.region_solver import RegionSolver\n",
    "class DatalogRegions(\n",
    "    TranslateToLogic, RegionSolver, DatalogWithAggregationMixin, DatalogProgram, ExpressionBasicEvaluator\n",
    "):\n",
    "    pass\n",
    "\n",
    "from importlib import reload\n",
    "\n",
    "import neurolang.datalog.chase as ch \n",
    "import neurolang.datalog.aggregation as ag\n",
    "class ChaseP(\n",
    "    ch.ChaseNaive, ch.ChaseNamedRelationalAlgebraMixin, ch.ChaseGeneral\n",
    "):\n",
    "    pass"
   ]
  },
  {
   "cell_type": "code",
   "execution_count": 23,
   "metadata": {},
   "outputs": [
    {
     "data": {
      "text/plain": [
       "∪(Implication{λ{S{ans: Unknown}: Unknown}(S{x: Unknown}, S{y: Unknown}) ← ⋀(λ{S{term_voxel: Unknown}: Unknown}(S{x: Unknown}, S{z: Unknown}), λ{S{activated: Unknown}: Unknown}(S{x: Unknown}), λ{S{neurosynth_region: Unknown}: Unknown}(S{z: Unknown}, S{y: Unknown}))})"
      ]
     },
     "execution_count": 23,
     "metadata": {},
     "output_type": "execute_result"
    }
   ],
   "source": [
    "ans = Symbol('ans')\n",
    "\n",
    "imps2 = tuple()\n",
    "imps2 += (Implication(ans(x, y), term_voxel(x, z) & activated(x) & neurosynth_region(z, y)),)\n",
    "eb = ExpressionBlock(imps2)\n",
    "\n",
    "dt2 = DatalogTranslator()\n",
    "eb = dt2.walk(eb)\n",
    "dlProb.walk(eb)"
   ]
  },
  {
   "cell_type": "code",
   "execution_count": 24,
   "metadata": {},
   "outputs": [
    {
     "data": {
      "text/plain": [
       "[S{term_voxel: typing.AbstractSet[typing.Tuple[float, str, int]]},\n",
       " S{activated: typing.AbstractSet[typing.Tuple[str]]},\n",
       " S{neurosynth_region: typing.AbstractSet[typing.Tuple[int, neurolang.regions.ExplicitVBR]]},\n",
       " S{ans: Unknown}]"
      ]
     },
     "execution_count": 24,
     "metadata": {},
     "output_type": "execute_result"
    }
   ],
   "source": [
    "from neurolang.probabilistic.probdatalog import probdatalog_to_datalog, build_grounding\n",
    "\n",
    "dl_program = probdatalog_to_datalog(dlProb, datalog=DatalogRegions)\n",
    "dc = ChaseP(dl_program)\n",
    "solution_instance = dc.build_chase_solution()\n",
    "grounded = build_grounding(dlProb, solution_instance)\n",
    "list(solution_instance.keys())"
   ]
  },
  {
   "cell_type": "code",
   "execution_count": 25,
   "metadata": {},
   "outputs": [],
   "source": [
    "from importlib import reload\n",
    "import neurolang.probabilistic.probdatalog_gm as asd\n",
    "\n",
    "gm = asd.TranslateGroundedProbDatalogToGraphicalModel().walk(grounded)\n",
    "query = asd.SuccQuery(ans(x, z))\n",
    "solver = asd.QueryGraphicalModelSolver(gm)\n",
    "result = solver.walk(query)"
   ]
  },
  {
   "cell_type": "code",
   "execution_count": 34,
   "metadata": {},
   "outputs": [
    {
     "name": "stderr",
     "output_type": "stream",
     "text": [
      "/Users/gzanitti/miniconda3/envs/neurolang/lib/python3.7/site-packages/nilearn/plotting/displays.py:1239: DeprecationWarning: Using or importing the ABCs from 'collections' instead of from 'collections.abc' is deprecated, and in 3.8 it will stop working\n",
      "  if (not isinstance(cut_coords, collections.Sequence) and\n",
      "/Users/gzanitti/miniconda3/envs/neurolang/lib/python3.7/site-packages/scipy/ndimage/measurements.py:305: DeprecationWarning: In future, it will be an error for 'np.bool_' scalars to be interpreted as an index\n",
      "  return _nd_image.find_objects(input, max_label)\n"
     ]
    },
    {
     "data": {
      "text/plain": [
       "<nilearn.plotting.displays.XSlicer at 0x1cb8c7f2b0>"
      ]
     },
     "execution_count": 34,
     "metadata": {},
     "output_type": "execute_result"
    },
    {
     "data": {
      "image/png": "[encoded data removed]",
      "text/plain": [
       "<Figure size 612x165.6 with 5 Axes>"
      ]
     },
     "metadata": {},
     "output_type": "display_data"
    }
   ],
   "source": [
    "result_data = result.value.to_numpy()\n",
    "import numpy as np\n",
    "prob_img = nib.spatialimages.SpatialImage(\n",
    "    np.zeros(result_data[0][3].image_dim, dtype=float),\n",
    "    affine=result_data[0][3].affine\n",
    ")\n",
    "\n",
    "for p in result_data:\n",
    "    prob_img.dataobj[tuple(p[3].voxels.T)] = p[0]/prob_terms[prob_terms['index'] == p[2]]['proba'].values[0]\n",
    "\n",
    "from nilearn import plotting\n",
    "\n",
    "plotting.plot_stat_map(\n",
    "    prob_img, \n",
    "    title='Tags: Pain, Noxious, Nociceptive', \n",
    "    cmap='PuBuGn',\n",
    "    display_mode='x',\n",
    "    cut_coords=np.linspace(-63, 63, 3),\n",
    ")"
   ]
  }
 ],
 "metadata": {
  "kernelspec": {
   "display_name": "neurolang",
   "language": "python",
   "name": "neurolang"
  }
 },
 "nbformat": 4,
 "nbformat_minor": 2
}

{
 "cells": [
  {
   "cell_type": "code",
   "execution_count": 97,
   "id": "assured-marks",
   "metadata": {},
   "outputs": [],
   "source": [
    "import sys\n",
    "from typing import Iterable\n",
    "import warnings\n",
    "\n",
    "import nibabel\n",
    "from neurolang import frontend as fe\n",
    "import numpy as np\n",
    "import pandas as pd\n",
    "import nilearn.datasets\n",
    "import nilearn.image\n",
    "import nilearn.plotting\n",
    "\n",
    "\n",
    "import xml.etree.ElementTree as ET\n",
    "import json\n",
    "from neurolang.frontend import NeurolangPDL, ExplicitVBR, ExplicitVBROverlay\n",
    "from rdflib import RDFS\n",
    "from sklearn.model_selection import KFold\n",
    "\n",
    "from typing import Callable, Iterable"
   ]
  },
  {
   "cell_type": "code",
   "execution_count": 98,
   "id": "fewer-alignment",
   "metadata": {},
   "outputs": [],
   "source": [
    "iobc = nilearn.datasets.utils._fetch_files(\n",
    "    nilearn.datasets.utils._get_dataset_dir('IOBC'),\n",
    "    [\n",
    "        (\n",
    "            'iobc.xrdf',\n",
    "            'http://data.bioontology.org/ontologies/IOBC/download?'\n",
    "            'apikey=8b5b7825-538d-40e0-9e9e-5ab9274a9aeb&download_format=rdf',\n",
    "            {'move': 'iobc.xrdf'}\n",
    "        )\n",
    "    ]\n",
    ")[0]"
   ]
  },
  {
   "cell_type": "code",
   "execution_count": 99,
   "id": "incoming-optimization",
   "metadata": {},
   "outputs": [],
   "source": [
    "nl = NeurolangPDL()\n",
    "nl.load_ontology(iobc)"
   ]
  },
  {
   "cell_type": "code",
   "execution_count": 100,
   "id": "studied-dating",
   "metadata": {},
   "outputs": [],
   "source": [
    "# NeuroSynth\n",
    "mni_mask = nilearn.image.resample_img(\n",
    "    nibabel.load(nilearn.datasets.fetch_icbm152_2009()[\"gm\"]),\n",
    "    np.eye(3) * 2\n",
    ")\n",
    "\n",
    "ns_database_fn, ns_features_fn = nilearn.datasets.utils._fetch_files(\n",
    "    \"neurolang\",\n",
    "    [\n",
    "        (\n",
    "            \"database.txt\",\n",
    "            \"https://github.com/neurosynth/neurosynth-data\"\n",
    "            \"/raw/master/current_data.tar.gz\",\n",
    "            {\"uncompress\": True},\n",
    "        ),\n",
    "        (\n",
    "            \"features.txt\",\n",
    "            \"https://github.com/neurosynth/neurosynth-data\"\n",
    "            \"/raw/master/current_data.tar.gz\",\n",
    "            {\"uncompress\": True},\n",
    "        ),\n",
    "    ],\n",
    ")\n",
    "\n",
    "ns_database = pd.read_csv(ns_database_fn, sep=\"\\t\")\n",
    "ns_database = ns_database[[\"x\", \"y\", \"z\", \"id\"]]\n",
    "\n",
    "ns_features = pd.read_csv(ns_features_fn, sep=\"\\t\")\n",
    "ns_docs = ns_features[[\"pmid\"]].drop_duplicates()\n",
    "ns_terms = pd.melt(\n",
    "    ns_features, var_name=\"term\", id_vars=\"pmid\", value_name=\"TfIdf\"\n",
    ").query(\"TfIdf > 1e-3\")[[\"term\", \"pmid\"]]"
   ]
  },
  {
   "cell_type": "code",
   "execution_count": 101,
   "id": "remarkable-organization",
   "metadata": {},
   "outputs": [],
   "source": [
    "SelectedStudy = nl.add_uniform_probabilistic_choice_over_set(\n",
    "    ns_docs, name=\"SelectedStudy\"\n",
    ")"
   ]
  },
  {
   "cell_type": "code",
   "execution_count": 102,
   "id": "hybrid-rouge",
   "metadata": {},
   "outputs": [
    {
     "ename": "TypeError",
     "evalue": "add_tuple_set() got an unexpected keyword argument 'study_det'",
     "output_type": "error",
     "traceback": [
      "\u001b[0;31m---------------------------------------------------------------------------\u001b[0m",
      "\u001b[0;31mTypeError\u001b[0m                                 Traceback (most recent call last)",
      "\u001b[0;32m<ipython-input-102-2b8c7ac90d74>\u001b[0m in \u001b[0;36m<module>\u001b[0;34m\u001b[0m\n\u001b[1;32m     23\u001b[0m )\n\u001b[1;32m     24\u001b[0m \u001b[0;34m\u001b[0m\u001b[0m\n\u001b[0;32m---> 25\u001b[0;31m study_det = nl.add_tuple_set(\n\u001b[0m\u001b[1;32m     26\u001b[0m         \u001b[0mns_docs\u001b[0m\u001b[0;34m.\u001b[0m\u001b[0mpmid\u001b[0m\u001b[0;34m.\u001b[0m\u001b[0munique\u001b[0m\u001b[0;34m(\u001b[0m\u001b[0;34m)\u001b[0m\u001b[0;34m,\u001b[0m \u001b[0mstudy_det\u001b[0m\u001b[0;34m=\u001b[0m\u001b[0;34m'terms_det'\u001b[0m\u001b[0;34m\u001b[0m\u001b[0;34m\u001b[0m\u001b[0m\n\u001b[1;32m     27\u001b[0m ) \n",
      "\u001b[0;31mTypeError\u001b[0m: add_tuple_set() got an unexpected keyword argument 'study_det'"
     ]
    }
   ],
   "source": [
    "kfold = KFold(n_splits=10, shuffle=True, random_state=42)\n",
    "\n",
    "ns_doc_folds = pd.concat(\n",
    "    ns_docs.iloc[train].assign(fold=[i] * len(train))\n",
    "    for i, (train, _) in enumerate(kfold.split(ns_docs))\n",
    ")\n",
    "\n",
    "\n",
    "StudyFolds = nl.add_tuple_set(ns_doc_folds, name='StudyFolds')\n",
    "\n",
    "TermInStudy = nl.add_tuple_set(ns_terms, name=\"TermInStudy\")\n",
    "FocusReported = nl.add_tuple_set(ns_database, name=\"FocusReported\")\n",
    "Voxel = nl.add_tuple_set(\n",
    "    nibabel.affines.apply_affine(\n",
    "        mni_mask.affine,\n",
    "        np.transpose(mni_mask.get_fdata().nonzero())\n",
    "    ),\n",
    "    name='Voxel'\n",
    ")\n",
    "\n",
    "terms_det = nl.add_tuple_set(\n",
    "        ns_terms.term.unique(), name='terms_det'\n",
    ")\n",
    "\n",
    "study_det = nl.add_tuple_set(\n",
    "        ns_docs.pmid.unique(), study_det='terms_det'\n",
    ") \n",
    "\n",
    "label = nl.new_symbol(name=str(RDFS.label))\n",
    "related = nl.new_symbol(name='http://www.w3.org/2004/02/skos/core#related')\n",
    "altLabel = nl.new_symbol(name='http://www.w3.org/2004/02/skos/core#altLabel')\n",
    "subclass_of = nl.new_symbol(name=str(RDFS.subClassOf))"
   ]
  },
  {
   "cell_type": "code",
   "execution_count": null,
   "id": "recorded-milan",
   "metadata": {},
   "outputs": [],
   "source": [
    "@nl.add_symbol\n",
    "def first_word(name: str) -> str:\n",
    "    return name.split(\" \")[0]\n",
    "\n",
    "@nl.add_symbol\n",
    "def word_lower(name: str) -> str:\n",
    "    return name.lower()\n",
    "\n",
    "@nl.add_symbol\n",
    "def mean(iterable: Iterable) -> float:\n",
    "    return np.mean(iterable)\n",
    "\n",
    "\n",
    "@nl.add_symbol\n",
    "def std(iterable: Iterable) -> float:\n",
    "    return np.std(iterable)\n",
    "\n",
    "@nl.add_symbol\n",
    "def agg_create_region_overlay_MNI(\n",
    "    x: Iterable, y: Iterable, z: Iterable, p: Iterable\n",
    ") -> ExplicitVBR:\n",
    "    voxels = nibabel.affines.apply_affine(\n",
    "        np.linalg.inv(mni_mask.affine),\n",
    "        np.c_[x, y, z]\n",
    "    )\n",
    "    return ExplicitVBROverlay(\n",
    "        voxels, mni_mask.affine, p, image_dim=mni_mask.shape\n",
    "    )\n",
    "\n",
    "nl.add_symbol(np.exp, name=\"exp\", type_=Callable[[float], float])"
   ]
  },
  {
   "cell_type": "code",
   "execution_count": null,
   "id": "earned-dubai",
   "metadata": {},
   "outputs": [],
   "source": [
    "with nl.scope as e:\n",
    "    e.ontology_related[e.ne, e.l] = (\n",
    "        label(e.e, e.ne) &\n",
    "        related(e.e, e.r) &\n",
    "        label(e.r, e.nr) &\n",
    "        (e.l == word_lower[e.nr])\n",
    "    )\n",
    "    \n",
    "    e.ontology_synonym[e.ne, e.l] = (\n",
    "        label(e.e, e.ne) &\n",
    "        altLabel(e.e, e.r) &\n",
    "        (e.l == word_lower[e.r])\n",
    "    )\n",
    "    \n",
    "    e.res[e.entity, e.relation, e.term] = (\n",
    "        e.ontology_related[e.entity, e.term] &\n",
    "        e.terms_det[e.entity] &\n",
    "        e.terms_det[e.term] &\n",
    "        (e.relation == 'related')\n",
    "    )\n",
    "    \n",
    "    e.res[e.entity, e.relation, e.term] = (\n",
    "        e.ontology_synonym[e.entity, e.term] &\n",
    "        e.terms_det[e.entity] &\n",
    "        e.terms_det[e.term] &\n",
    "        (e.relation == 'synonym')\n",
    "    )\n",
    "    \n",
    "    res = nl.solve_all()\n",
    "    "
   ]
  },
  {
   "cell_type": "code",
   "execution_count": null,
   "id": "white-aerospace",
   "metadata": {},
   "outputs": [],
   "source": [
    "result = res['res'].as_pandas_dataframe()"
   ]
  },
  {
   "cell_type": "code",
   "execution_count": null,
   "id": "suffering-shade",
   "metadata": {},
   "outputs": [],
   "source": []
  },
  {
   "cell_type": "code",
   "execution_count": 95,
   "id": "smaller-excerpt",
   "metadata": {},
   "outputs": [
    {
     "data": {
      "text/plain": [
       "array(['genotype', 'treatment', 'therapy', 'medication', 'rest', 'neuron',\n",
       "       'preparation', 'placebo', 'animal', 'facial expression', 'body',\n",
       "       'speech', 'sound', 'voice', 'speech production', 'drugs', 'drug',\n",
       "       'stroke', 'access', 'epilepsy', 'face recognition', 'touch',\n",
       "       'hyperactivity disorder', 'youth', 'childhood', 'children', 'tone',\n",
       "       'diffusion tensor', 'latency', 'early stage', 'aging',\n",
       "       'development', 'growing', 'age', 'human', 'pet', 'face',\n",
       "       'features', 'emotion', 'food', 'addiction', 'skin', 'anatomy',\n",
       "       'pathophysiology', 'illusion', 'cognitive function',\n",
       "       'cognitive performance', 'view', 'visual information', 'vision',\n",
       "       'visual', 'visual field', 'recognition', 'visual motion',\n",
       "       'modality', 'contrast', 'visual stimulus', 'visual stimuli',\n",
       "       'scene', 'midbrain', 'hearing', 'symptom', 'symptoms', 'pathology',\n",
       "       'illness', 'disease', 'skin conductance', 'pain', 'sex', 'gender',\n",
       "       'motor function', 'taste', 'phenotype', 'consumption', 'variety',\n",
       "       'life', 'remain', 'adaptation', 'eye movement', 'perception',\n",
       "       'sense', 'sensory information', 'variant', 'population', 'anxiety',\n",
       "       'fear', 'arterial', 'temporal cortex', 'process',\n",
       "       'fractional anisotropy', 'selective attention', 'tensor',\n",
       "       'suffering', 'anisotropy', 'depression', 'expression',\n",
       "       'neuroscience', 'motor cortex', 'visual cortex', 'dependence',\n",
       "       'acquisition', 'health', 'healthy', 'control', 'fiber', 'probe',\n",
       "       'experiment', 'transformation', 'differentiation', 'storage',\n",
       "       'dysfunction', 'impairment', 'condition', 'signaling', 'efficacy',\n",
       "       'questionnaire', 'basal ganglia', 'stimulation',\n",
       "       'depressive disorder', 'cortices', 'demand', 'muscle',\n",
       "       'reactivity', 'component', 'psychopathology', 'community',\n",
       "       'heart rate', 'posterior cingulate', 'operation', 'adult',\n",
       "       'information', 'orientation', 'selection', 'similarity', 'resting',\n",
       "       'dementia', 'grey matter', 'gray matter', 'interpretation',\n",
       "       'field', 'length', 'variance', 'simulation', 'large scale',\n",
       "       'direction', 'mechanism', 'atrophy', 'cluster', 'group', 'injury',\n",
       "       'trauma', 'temporal', 'alternative', 'display', 'center',\n",
       "       'hyperactivity', 'biomarker', 'variation', 'convergence', 'lack',\n",
       "       'absence', 'deprivation', 'extract', 'fixation', 'gaze',\n",
       "       'executive function', 'priming', 'degree', 'isolate',\n",
       "       'cognitive impairment', 'variability', 'rehabilitation',\n",
       "       'exposure', 'oxygenation', 'blood flow', 'investigation',\n",
       "       'perspective', 'preference', 'rotation', 'surface',\n",
       "       'lateralization', 'laterality', 'psychosis', 'scale', 'play',\n",
       "       'object recognition', 'modeling', 'exploration', 'dose',\n",
       "       'administration', 'morphology', 'corpus callosum', 'callosum',\n",
       "       'magnetic stimulation', 'volume', 'nucleus accumbens', 'accumbens',\n",
       "       'control group', 'adolescence', 'valence', 'subject', 'patient',\n",
       "       'severity', 'substrate', 'impulsivity', 'multiple sclerosis',\n",
       "       'cost', 'evaluation', 'tomography', 'young', 'adolescent', 'joint',\n",
       "       'output', 'standard', 'reduction', 'application', 'software',\n",
       "       'abnormalities', 'abnormality', 'alcohol', 'compensation',\n",
       "       'calculation', 'report', 'behavior', 'intervention', 'tactile',\n",
       "       'metabolism', 'dominance', 'dominant', 'dorsal', 'state', 'eye',\n",
       "       'target', 'heterogeneity', 'manual', 'recording', 'decision',\n",
       "       'cross', 'monitoring', 'perfusion', 'accuracy', 'extinction',\n",
       "       'fashion', 'time course', 'material', 'observation', 'transition',\n",
       "       'game', 'prefrontal cortex', 'addition', 'competition', 'role',\n",
       "       'cingulate gyrus', 'cingulate cortex', 'head', 'position', 'limb',\n",
       "       'foot', 'reaction', 'extension', 'emission tomography',\n",
       "       'retention', 'polymorphism', 'postcentral gyrus', 'concrete',\n",
       "       'quality', 'integration', 'date', 'gradient', 'attenuation',\n",
       "       'syndrome', 'vector', 'seed', 'asymmetry', 'midline', 'tend',\n",
       "       'alteration', 'receptor', 'magnetic resonance', 'disability',\n",
       "       'weight', 'autism', 'separation', 'transfer', 'changing',\n",
       "       'distribution', 'inhibition', 'sample', 'magnetoencephalography',\n",
       "       'efficiency', 'conflict', 'measurement', 'aspect', 'capture',\n",
       "       'finger', 'link', 'range', 'production', 'individual variability',\n",
       "       'training', 'motivation', 'induction', 'effect', 'domain',\n",
       "       'sampling', 'density', 'precentral gyrus', 'methodology', 'letter',\n",
       "       'detection', 'white matter', 'structure', 'basis', 'monitor',\n",
       "       'classification', 'axis', 'hand', 'distance', 'clustering',\n",
       "       'reference', 'phenomenon', 'smoking', 'avoidance', 'female',\n",
       "       'male', 'suppression', 'gene', 'ability', 'species', 'factor',\n",
       "       'emergence', 'generation', 'monkey', 'improvement', 'setting',\n",
       "       'white', 'space', 'theory', 'neuroanatomy', 'model', 'need',\n",
       "       'algorithm', 'olfactory', 'organization', 'spectrum', 'allele',\n",
       "       'outcome', 'tissue', 'scanning', 'lesion', 'knowledge', 'risk',\n",
       "       'negative affect', 'locus', 'blood', 'frontal', 'striatum',\n",
       "       'schizophrenia', 'stress', 'maintenance', 'consequence', 'ratio',\n",
       "       'invasive', 'sensitivity', 'load', 'individual', 'correction',\n",
       "       'aberrant', 'recruitment', 'manipulation', 'statement',\n",
       "       'anterior insula', 'origin', 'maturation', 'supramarginal gyrus',\n",
       "       'intermediate', 'complex', 'representation', 'marker',\n",
       "       'statistics', 'stable', 'function', 'response', 'protocol',\n",
       "       'short term', 'arousal', 'bias', 'possibility', 'signal',\n",
       "       'occurrence', 'action', 'spinal', 'handedness', 'tractography',\n",
       "       'interaction', 'tapping', 'regulation', 'saccade',\n",
       "       'premotor cortex', 'image', 'precuneus', 'susceptibility', 'word',\n",
       "       'hierarchy', 'localization', 'recovery', 'network',\n",
       "       'cognitive task', 'recognition task', 'lead', 'thickness', 'gray',\n",
       "       'memory test', 'abstract', 'semantics', 'test', 'crus', 'flow',\n",
       "       'endogenous', 'intraparietal sulcus', 'selectivity', 'specificity',\n",
       "       'fusiform gyrus', 'brainstem'], dtype=object)"
      ]
     },
     "execution_count": 95,
     "metadata": {},
     "output_type": "execute_result"
    }
   ],
   "source": [
    "result.entity.unique()"
   ]
  },
  {
   "cell_type": "code",
   "execution_count": 11,
   "id": "expressed-child",
   "metadata": {},
   "outputs": [],
   "source": [
    "related = result[result.relation == 'related']\n",
    "related = related[related['entity'] != related['term']]"
   ]
  },
  {
   "cell_type": "code",
   "execution_count": 13,
   "id": "expanded-queue",
   "metadata": {},
   "outputs": [],
   "source": [
    "synonym = result[result.relation == 'synonym']\n",
    "synonym = synonym[synonym['entity'] != synonym['term']]"
   ]
  },
  {
   "cell_type": "code",
   "execution_count": 15,
   "id": "material-breach",
   "metadata": {},
   "outputs": [
    {
     "name": "stderr",
     "output_type": "stream",
     "text": [
      "/Users/gzanitti/.local/lib/python3.8/site-packages/pandas-1.1.5-py3.8-macosx-10.9-x86_64.egg/pandas/core/reshape/merge.py:1123: UserWarning: You are merging on int and float columns where the float values are not equal to their int representation\n",
      "  warnings.warn(\n",
      "/Users/gzanitti/.local/lib/python3.8/site-packages/pandas-1.1.5-py3.8-macosx-10.9-x86_64.egg/pandas/core/reshape/merge.py:1123: UserWarning: You are merging on int and float columns where the float values are not equal to their int representation\n",
      "  warnings.warn(\n",
      "/Users/gzanitti/.local/lib/python3.8/site-packages/pandas-1.1.5-py3.8-macosx-10.9-x86_64.egg/pandas/core/reshape/merge.py:1123: UserWarning: You are merging on int and float columns where the float values are not equal to their int representation\n",
      "  warnings.warn(\n",
      "/Users/gzanitti/.local/lib/python3.8/site-packages/pandas-1.1.5-py3.8-macosx-10.9-x86_64.egg/pandas/core/reshape/merge.py:1123: UserWarning: You are merging on int and float columns where the float values are not equal to their int representation\n",
      "  warnings.warn(\n"
     ]
    }
   ],
   "source": [
    "with nl.environment as e:\n",
    "    (e.VoxelReported @ e.exp(-e.d / 5.0))[e.x1, e.y1, e.z1, e.s] = (\n",
    "        e.FocusReported(e.x2, e.y2, e.z2, e.s)\n",
    "        & e.Voxel(e.x1, e.y1, e.z1)\n",
    "        & (e.d == e.EUCLIDEAN(e.x1, e.y1, e.z1, e.x2, e.y2, e.z2))\n",
    "        & (e.d < 4)\n",
    "    )\n",
    "    \n",
    "    nl.solve_all()"
   ]
  },
  {
   "cell_type": "code",
   "execution_count": 93,
   "id": "premium-range",
   "metadata": {},
   "outputs": [],
   "source": [
    "hash_list = {}\n",
    "for entity, term in synonym[['entity', 'term']].values:\n",
    "    \n",
    "    cut = synonym[synonym.entity == entity].term.values\n",
    "    all_terms = np.append(cut, entity)\n",
    "    all_terms.sort()\n",
    "    hash_term = '_'.join(all_terms)\n",
    "    \n",
    "    if hash_term in hash_list.keys():\n",
    "        lst = hash_list[hash_term]\n",
    "        lst.append(entity)\n",
    "        hash_list[hash_term] = lst\n",
    "    else:\n",
    "        hash_list[hash_term] = [entity]"
   ]
  },
  {
   "cell_type": "code",
   "execution_count": 84,
   "id": "smaller-preference",
   "metadata": {},
   "outputs": [
    {
     "name": "stdout",
     "output_type": "stream",
     "text": [
      "fear\n",
      "['anxiety' 'fear']\n",
      "fear: 0:00:00.154736\n",
      "--------------\n",
      "anxiety\n",
      "['fear' 'anxiety']\n",
      "anxiety: 0:00:00.062136\n",
      "--------------\n",
      "symptom\n",
      "['symptoms' 'symptom']\n",
      "symptom: 0:00:00.075478\n",
      "--------------\n",
      "symptoms\n",
      "['symptom' 'symptoms']\n",
      "symptoms: 0:00:00.052330\n",
      "--------------\n",
      "medication\n",
      "['treatment' 'therapy' 'dose' 'administration' 'medication']\n",
      "medication: 0:00:00.041480\n",
      "--------------\n",
      "therapy\n",
      "['treatment' 'medication' 'therapy']\n",
      "therapy: 0:00:00.033508\n",
      "--------------\n",
      "treatment\n",
      "['medication' 'therapy' 'treatment']\n",
      "treatment: 0:00:00.043419\n",
      "--------------\n",
      "therapy\n",
      "['treatment' 'medication' 'therapy']\n",
      "therapy: 0:00:00.039469\n",
      "--------------\n",
      "dose\n",
      "['medication' 'administration' 'dose']\n",
      "dose: 0:00:00.036312\n",
      "--------------\n",
      "administration\n",
      "['medication' 'dose' 'administration']\n",
      "administration: 0:00:00.037860\n",
      "--------------\n",
      "treatment\n",
      "['medication' 'therapy' 'treatment']\n",
      "treatment: 0:00:00.035801\n",
      "--------------\n",
      "medication\n",
      "['treatment' 'therapy' 'dose' 'administration' 'medication']\n",
      "medication: 0:00:00.034858\n",
      "--------------\n",
      "medication\n",
      "['treatment' 'therapy' 'dose' 'administration' 'medication']\n",
      "medication: 0:00:00.043797\n",
      "--------------\n",
      "administration\n",
      "['medication' 'dose' 'administration']\n",
      "administration: 0:00:00.062887\n",
      "--------------\n",
      "medication\n",
      "['treatment' 'therapy' 'dose' 'administration' 'medication']\n",
      "medication: 0:00:00.158669\n",
      "--------------\n",
      "dose\n",
      "['medication' 'administration' 'dose']\n",
      "dose: 0:00:00.101352\n",
      "--------------\n",
      "group\n",
      "['cluster' 'group']\n",
      "group: 0:00:00.209504\n",
      "--------------\n",
      "cluster\n",
      "['group' 'cluster']\n",
      "cluster: 0:00:00.070908\n",
      "--------------\n",
      "dysfunction\n",
      "['impairment' 'dysfunction']\n",
      "dysfunction: 0:00:00.057154\n",
      "--------------\n",
      "impairment\n",
      "['dysfunction' 'impairment']\n",
      "impairment: 0:00:00.042337\n",
      "--------------\n",
      "sound\n",
      "['speech' 'voice' 'probe' 'sound']\n",
      "sound: 0:00:00.047174\n",
      "--------------\n",
      "voice\n",
      "['speech' 'sound' 'voice']\n",
      "voice: 0:00:00.057085\n",
      "--------------\n",
      "sound\n",
      "['speech' 'voice' 'probe' 'sound']\n",
      "sound: 0:00:00.049609\n",
      "--------------\n",
      "speech\n",
      "['voice' 'sound' 'speech']\n",
      "speech: 0:00:00.046969\n",
      "--------------\n",
      "voice\n",
      "['speech' 'sound' 'voice']\n",
      "voice: 0:00:00.031126\n",
      "--------------\n",
      "speech\n",
      "['voice' 'sound' 'speech']\n",
      "speech: 0:00:00.040052\n",
      "--------------\n",
      "probe\n",
      "['sound' 'probe']\n",
      "probe: 0:00:00.037726\n",
      "--------------\n",
      "sound\n",
      "['speech' 'voice' 'probe' 'sound']\n",
      "sound: 0:00:00.038873\n",
      "--------------\n",
      "patient\n",
      "['subject' 'patient']\n",
      "patient: 0:00:00.036673\n",
      "--------------\n",
      "subject\n",
      "['patient' 'subject']\n",
      "subject: 0:00:00.037587\n",
      "--------------\n",
      "cingulate gyrus\n",
      "['cingulate cortex' 'cingulate gyrus']\n",
      "cingulate gyrus: 0:00:00.033148\n",
      "--------------\n",
      "cingulate cortex\n",
      "['cingulate gyrus' 'cingulate cortex']\n",
      "cingulate cortex: 0:00:00.044188\n",
      "--------------\n",
      "gaze\n",
      "['fixation' 'gaze']\n",
      "gaze: 0:00:00.049652\n",
      "--------------\n",
      "fixation\n",
      "['gaze' 'fixation']\n",
      "fixation: 0:00:00.044587\n",
      "--------------\n",
      "healthy\n",
      "['health' 'healthy']\n",
      "healthy: 0:00:00.052906\n",
      "--------------\n",
      "health\n",
      "['healthy' 'health']\n",
      "health: 0:00:00.039797\n",
      "--------------\n",
      "resting\n",
      "['rest' 'resting']\n",
      "resting: 0:00:00.037695\n",
      "--------------\n",
      "rest\n",
      "['resting' 'rest']\n",
      "rest: 0:00:00.031742\n",
      "--------------\n",
      "access\n",
      "['stroke' 'access']\n"
     ]
    },
    {
     "name": "stderr",
     "output_type": "stream",
     "text": [
      "/Users/gzanitti/.local/lib/python3.8/site-packages/pandas-1.1.5-py3.8-macosx-10.9-x86_64.egg/pandas/core/reshape/merge.py:1123: UserWarning: You are merging on int and float columns where the float values are not equal to their int representation\n",
      "  warnings.warn(\n",
      "/Users/gzanitti/.local/lib/python3.8/site-packages/pandas-1.1.5-py3.8-macosx-10.9-x86_64.egg/pandas/core/reshape/merge.py:1123: UserWarning: You are merging on int and float columns where the float values are not equal to their int representation\n",
      "  warnings.warn(\n",
      "/Users/gzanitti/.local/lib/python3.8/site-packages/pandas-1.1.5-py3.8-macosx-10.9-x86_64.egg/pandas/core/reshape/merge.py:1123: UserWarning: You are merging on int and float columns where the float values are not equal to their int representation\n",
      "  warnings.warn(\n",
      "/Users/gzanitti/.local/lib/python3.8/site-packages/pandas-1.1.5-py3.8-macosx-10.9-x86_64.egg/pandas/core/reshape/merge.py:1123: UserWarning: You are merging on int and float columns where the float values are not equal to their int representation\n",
      "  warnings.warn(\n"
     ]
    },
    {
     "name": "stdout",
     "output_type": "stream",
     "text": [
      "access: 0:11:04.684150\n",
      "stroke\n",
      "['access' 'stroke']\n",
      "stroke: 0:00:00.076086\n",
      "--------------\n",
      "differentiation\n",
      "['development' 'differentiation']\n"
     ]
    },
    {
     "name": "stderr",
     "output_type": "stream",
     "text": [
      "/Users/gzanitti/.local/lib/python3.8/site-packages/pandas-1.1.5-py3.8-macosx-10.9-x86_64.egg/pandas/core/reshape/merge.py:1123: UserWarning: You are merging on int and float columns where the float values are not equal to their int representation\n",
      "  warnings.warn(\n",
      "/Users/gzanitti/.local/lib/python3.8/site-packages/pandas-1.1.5-py3.8-macosx-10.9-x86_64.egg/pandas/core/reshape/merge.py:1123: UserWarning: You are merging on int and float columns where the float values are not equal to their int representation\n",
      "  warnings.warn(\n",
      "/Users/gzanitti/.local/lib/python3.8/site-packages/pandas-1.1.5-py3.8-macosx-10.9-x86_64.egg/pandas/core/reshape/merge.py:1123: UserWarning: You are merging on int and float columns where the float values are not equal to their int representation\n",
      "  warnings.warn(\n",
      "/Users/gzanitti/.local/lib/python3.8/site-packages/pandas-1.1.5-py3.8-macosx-10.9-x86_64.egg/pandas/core/reshape/merge.py:1123: UserWarning: You are merging on int and float columns where the float values are not equal to their int representation\n",
      "  warnings.warn(\n"
     ]
    },
    {
     "name": "stdout",
     "output_type": "stream",
     "text": [
      "differentiation: 0:11:14.820928\n",
      "growing\n",
      "['development' 'growing']\n"
     ]
    },
    {
     "name": "stderr",
     "output_type": "stream",
     "text": [
      "/Users/gzanitti/.local/lib/python3.8/site-packages/pandas-1.1.5-py3.8-macosx-10.9-x86_64.egg/pandas/core/reshape/merge.py:1123: UserWarning: You are merging on int and float columns where the float values are not equal to their int representation\n",
      "  warnings.warn(\n",
      "/Users/gzanitti/.local/lib/python3.8/site-packages/pandas-1.1.5-py3.8-macosx-10.9-x86_64.egg/pandas/core/reshape/merge.py:1123: UserWarning: You are merging on int and float columns where the float values are not equal to their int representation\n",
      "  warnings.warn(\n",
      "/Users/gzanitti/.local/lib/python3.8/site-packages/pandas-1.1.5-py3.8-macosx-10.9-x86_64.egg/pandas/core/reshape/merge.py:1123: UserWarning: You are merging on int and float columns where the float values are not equal to their int representation\n",
      "  warnings.warn(\n",
      "/Users/gzanitti/.local/lib/python3.8/site-packages/pandas-1.1.5-py3.8-macosx-10.9-x86_64.egg/pandas/core/reshape/merge.py:1123: UserWarning: You are merging on int and float columns where the float values are not equal to their int representation\n",
      "  warnings.warn(\n"
     ]
    },
    {
     "name": "stdout",
     "output_type": "stream",
     "text": [
      "growing: 0:11:21.371800\n",
      "development\n",
      "['differentiation' 'growing' 'development']\n"
     ]
    },
    {
     "name": "stderr",
     "output_type": "stream",
     "text": [
      "/Users/gzanitti/.local/lib/python3.8/site-packages/pandas-1.1.5-py3.8-macosx-10.9-x86_64.egg/pandas/core/reshape/merge.py:1123: UserWarning: You are merging on int and float columns where the float values are not equal to their int representation\n",
      "  warnings.warn(\n",
      "/Users/gzanitti/.local/lib/python3.8/site-packages/pandas-1.1.5-py3.8-macosx-10.9-x86_64.egg/pandas/core/reshape/merge.py:1123: UserWarning: You are merging on int and float columns where the float values are not equal to their int representation\n",
      "  warnings.warn(\n",
      "/Users/gzanitti/.local/lib/python3.8/site-packages/pandas-1.1.5-py3.8-macosx-10.9-x86_64.egg/pandas/core/reshape/merge.py:1123: UserWarning: You are merging on int and float columns where the float values are not equal to their int representation\n",
      "  warnings.warn(\n",
      "/Users/gzanitti/.local/lib/python3.8/site-packages/pandas-1.1.5-py3.8-macosx-10.9-x86_64.egg/pandas/core/reshape/merge.py:1123: UserWarning: You are merging on int and float columns where the float values are not equal to their int representation\n",
      "  warnings.warn(\n"
     ]
    },
    {
     "name": "stdout",
     "output_type": "stream",
     "text": [
      "development: 0:10:48.647167\n",
      "development\n",
      "['differentiation' 'growing' 'development']\n",
      "development: 0:00:00.051894\n",
      "--------------\n",
      "limb\n",
      "['foot' 'limb']\n"
     ]
    },
    {
     "name": "stderr",
     "output_type": "stream",
     "text": [
      "/Users/gzanitti/.local/lib/python3.8/site-packages/pandas-1.1.5-py3.8-macosx-10.9-x86_64.egg/pandas/core/reshape/merge.py:1123: UserWarning: You are merging on int and float columns where the float values are not equal to their int representation\n",
      "  warnings.warn(\n",
      "/Users/gzanitti/.local/lib/python3.8/site-packages/pandas-1.1.5-py3.8-macosx-10.9-x86_64.egg/pandas/core/reshape/merge.py:1123: UserWarning: You are merging on int and float columns where the float values are not equal to their int representation\n",
      "  warnings.warn(\n",
      "/Users/gzanitti/.local/lib/python3.8/site-packages/pandas-1.1.5-py3.8-macosx-10.9-x86_64.egg/pandas/core/reshape/merge.py:1123: UserWarning: You are merging on int and float columns where the float values are not equal to their int representation\n",
      "  warnings.warn(\n",
      "/Users/gzanitti/.local/lib/python3.8/site-packages/pandas-1.1.5-py3.8-macosx-10.9-x86_64.egg/pandas/core/reshape/merge.py:1123: UserWarning: You are merging on int and float columns where the float values are not equal to their int representation\n",
      "  warnings.warn(\n"
     ]
    },
    {
     "name": "stdout",
     "output_type": "stream",
     "text": [
      "limb: 0:11:11.293545\n",
      "foot\n",
      "['limb' 'foot']\n",
      "foot: 0:00:00.067331\n",
      "--------------\n",
      "hyperactivity disorder\n",
      "['add' 'adhd' 'hyperactivity disorder']\n"
     ]
    },
    {
     "name": "stderr",
     "output_type": "stream",
     "text": [
      "/Users/gzanitti/.local/lib/python3.8/site-packages/pandas-1.1.5-py3.8-macosx-10.9-x86_64.egg/pandas/core/reshape/merge.py:1123: UserWarning: You are merging on int and float columns where the float values are not equal to their int representation\n",
      "  warnings.warn(\n",
      "/Users/gzanitti/.local/lib/python3.8/site-packages/pandas-1.1.5-py3.8-macosx-10.9-x86_64.egg/pandas/core/reshape/merge.py:1123: UserWarning: You are merging on int and float columns where the float values are not equal to their int representation\n",
      "  warnings.warn(\n",
      "/Users/gzanitti/.local/lib/python3.8/site-packages/pandas-1.1.5-py3.8-macosx-10.9-x86_64.egg/pandas/core/reshape/merge.py:1123: UserWarning: You are merging on int and float columns where the float values are not equal to their int representation\n",
      "  warnings.warn(\n",
      "/Users/gzanitti/.local/lib/python3.8/site-packages/pandas-1.1.5-py3.8-macosx-10.9-x86_64.egg/pandas/core/reshape/merge.py:1123: UserWarning: You are merging on int and float columns where the float values are not equal to their int representation\n",
      "  warnings.warn(\n",
      "/Users/gzanitti/opt/miniconda3/envs/neurolang/lib/python3.8/site-packages/tables/path.py:155: NaturalNameWarning: object name is not a valid Python identifier: 'hyperactivity disorder'; it does not match the pattern ``^[a-zA-Z_][a-zA-Z0-9_]*$``; you will not be able to use natural naming to access this object; using ``getattr()`` will still work, though\n",
      "  check_attribute_name(name)\n"
     ]
    },
    {
     "name": "stdout",
     "output_type": "stream",
     "text": [
      "hyperactivity disorder: 0:12:16.045065\n",
      "hyperactivity disorder\n",
      "['add' 'adhd' 'hyperactivity disorder']\n",
      "hyperactivity disorder: 0:00:00.058201\n",
      "--------------\n",
      "grey matter\n",
      "['gray matter' 'grey matter']\n"
     ]
    },
    {
     "name": "stderr",
     "output_type": "stream",
     "text": [
      "/Users/gzanitti/.local/lib/python3.8/site-packages/pandas-1.1.5-py3.8-macosx-10.9-x86_64.egg/pandas/core/reshape/merge.py:1123: UserWarning: You are merging on int and float columns where the float values are not equal to their int representation\n",
      "  warnings.warn(\n",
      "/Users/gzanitti/.local/lib/python3.8/site-packages/pandas-1.1.5-py3.8-macosx-10.9-x86_64.egg/pandas/core/reshape/merge.py:1123: UserWarning: You are merging on int and float columns where the float values are not equal to their int representation\n",
      "  warnings.warn(\n",
      "/Users/gzanitti/.local/lib/python3.8/site-packages/pandas-1.1.5-py3.8-macosx-10.9-x86_64.egg/pandas/core/reshape/merge.py:1123: UserWarning: You are merging on int and float columns where the float values are not equal to their int representation\n",
      "  warnings.warn(\n",
      "/Users/gzanitti/.local/lib/python3.8/site-packages/pandas-1.1.5-py3.8-macosx-10.9-x86_64.egg/pandas/core/reshape/merge.py:1123: UserWarning: You are merging on int and float columns where the float values are not equal to their int representation\n",
      "  warnings.warn(\n",
      "/Users/gzanitti/opt/miniconda3/envs/neurolang/lib/python3.8/site-packages/tables/path.py:155: NaturalNameWarning: object name is not a valid Python identifier: 'grey matter'; it does not match the pattern ``^[a-zA-Z_][a-zA-Z0-9_]*$``; you will not be able to use natural naming to access this object; using ``getattr()`` will still work, though\n",
      "  check_attribute_name(name)\n",
      "/Users/gzanitti/opt/miniconda3/envs/neurolang/lib/python3.8/site-packages/tables/path.py:155: NaturalNameWarning: object name is not a valid Python identifier: 'gray matter'; it does not match the pattern ``^[a-zA-Z_][a-zA-Z0-9_]*$``; you will not be able to use natural naming to access this object; using ``getattr()`` will still work, though\n",
      "  check_attribute_name(name)\n"
     ]
    },
    {
     "name": "stdout",
     "output_type": "stream",
     "text": [
      "grey matter: 0:12:43.145791\n",
      "gray matter\n",
      "['grey matter' 'gray matter']\n",
      "gray matter: 0:00:00.107485\n",
      "--------------\n",
      "variation\n",
      "['variations' 'variation']\n"
     ]
    },
    {
     "name": "stderr",
     "output_type": "stream",
     "text": [
      "/Users/gzanitti/.local/lib/python3.8/site-packages/pandas-1.1.5-py3.8-macosx-10.9-x86_64.egg/pandas/core/reshape/merge.py:1123: UserWarning: You are merging on int and float columns where the float values are not equal to their int representation\n",
      "  warnings.warn(\n",
      "/Users/gzanitti/.local/lib/python3.8/site-packages/pandas-1.1.5-py3.8-macosx-10.9-x86_64.egg/pandas/core/reshape/merge.py:1123: UserWarning: You are merging on int and float columns where the float values are not equal to their int representation\n",
      "  warnings.warn(\n",
      "/Users/gzanitti/.local/lib/python3.8/site-packages/pandas-1.1.5-py3.8-macosx-10.9-x86_64.egg/pandas/core/reshape/merge.py:1123: UserWarning: You are merging on int and float columns where the float values are not equal to their int representation\n",
      "  warnings.warn(\n",
      "/Users/gzanitti/.local/lib/python3.8/site-packages/pandas-1.1.5-py3.8-macosx-10.9-x86_64.egg/pandas/core/reshape/merge.py:1123: UserWarning: You are merging on int and float columns where the float values are not equal to their int representation\n",
      "  warnings.warn(\n"
     ]
    },
    {
     "name": "stdout",
     "output_type": "stream",
     "text": [
      "variation: 0:12:40.807365\n",
      "tactile\n",
      "['touch' 'tactile']\n"
     ]
    },
    {
     "name": "stderr",
     "output_type": "stream",
     "text": [
      "/Users/gzanitti/.local/lib/python3.8/site-packages/pandas-1.1.5-py3.8-macosx-10.9-x86_64.egg/pandas/core/reshape/merge.py:1123: UserWarning: You are merging on int and float columns where the float values are not equal to their int representation\n",
      "  warnings.warn(\n",
      "/Users/gzanitti/.local/lib/python3.8/site-packages/pandas-1.1.5-py3.8-macosx-10.9-x86_64.egg/pandas/core/reshape/merge.py:1123: UserWarning: You are merging on int and float columns where the float values are not equal to their int representation\n",
      "  warnings.warn(\n",
      "/Users/gzanitti/.local/lib/python3.8/site-packages/pandas-1.1.5-py3.8-macosx-10.9-x86_64.egg/pandas/core/reshape/merge.py:1123: UserWarning: You are merging on int and float columns where the float values are not equal to their int representation\n",
      "  warnings.warn(\n",
      "/Users/gzanitti/.local/lib/python3.8/site-packages/pandas-1.1.5-py3.8-macosx-10.9-x86_64.egg/pandas/core/reshape/merge.py:1123: UserWarning: You are merging on int and float columns where the float values are not equal to their int representation\n",
      "  warnings.warn(\n"
     ]
    },
    {
     "name": "stdout",
     "output_type": "stream",
     "text": [
      "tactile: 0:11:22.848372\n",
      "touch\n",
      "['tactile' 'touch']\n",
      "touch: 0:00:00.071144\n",
      "--------------\n",
      "perception\n",
      "['sensation' 'sense' 'perception']\n"
     ]
    },
    {
     "name": "stderr",
     "output_type": "stream",
     "text": [
      "/Users/gzanitti/.local/lib/python3.8/site-packages/pandas-1.1.5-py3.8-macosx-10.9-x86_64.egg/pandas/core/reshape/merge.py:1123: UserWarning: You are merging on int and float columns where the float values are not equal to their int representation\n",
      "  warnings.warn(\n",
      "/Users/gzanitti/.local/lib/python3.8/site-packages/pandas-1.1.5-py3.8-macosx-10.9-x86_64.egg/pandas/core/reshape/merge.py:1123: UserWarning: You are merging on int and float columns where the float values are not equal to their int representation\n",
      "  warnings.warn(\n",
      "/Users/gzanitti/.local/lib/python3.8/site-packages/pandas-1.1.5-py3.8-macosx-10.9-x86_64.egg/pandas/core/reshape/merge.py:1123: UserWarning: You are merging on int and float columns where the float values are not equal to their int representation\n",
      "  warnings.warn(\n",
      "/Users/gzanitti/.local/lib/python3.8/site-packages/pandas-1.1.5-py3.8-macosx-10.9-x86_64.egg/pandas/core/reshape/merge.py:1123: UserWarning: You are merging on int and float columns where the float values are not equal to their int representation\n",
      "  warnings.warn(\n"
     ]
    },
    {
     "name": "stdout",
     "output_type": "stream",
     "text": [
      "perception: 0:11:21.819450\n",
      "sense\n",
      "['sensation' 'perception' 'sense']\n",
      "sense: 0:00:00.082148\n",
      "--------------\n",
      "sense\n",
      "['sensation' 'perception' 'sense']\n",
      "sense: 0:00:00.045933\n",
      "--------------\n",
      "perception\n",
      "['sensation' 'sense' 'perception']\n",
      "perception: 0:00:00.050544\n",
      "--------------\n",
      "youth\n",
      "['young' 'adolescent' 'youth']\n"
     ]
    },
    {
     "name": "stderr",
     "output_type": "stream",
     "text": [
      "/Users/gzanitti/.local/lib/python3.8/site-packages/pandas-1.1.5-py3.8-macosx-10.9-x86_64.egg/pandas/core/reshape/merge.py:1123: UserWarning: You are merging on int and float columns where the float values are not equal to their int representation\n",
      "  warnings.warn(\n",
      "/Users/gzanitti/.local/lib/python3.8/site-packages/pandas-1.1.5-py3.8-macosx-10.9-x86_64.egg/pandas/core/reshape/merge.py:1123: UserWarning: You are merging on int and float columns where the float values are not equal to their int representation\n",
      "  warnings.warn(\n",
      "/Users/gzanitti/.local/lib/python3.8/site-packages/pandas-1.1.5-py3.8-macosx-10.9-x86_64.egg/pandas/core/reshape/merge.py:1123: UserWarning: You are merging on int and float columns where the float values are not equal to their int representation\n",
      "  warnings.warn(\n",
      "/Users/gzanitti/.local/lib/python3.8/site-packages/pandas-1.1.5-py3.8-macosx-10.9-x86_64.egg/pandas/core/reshape/merge.py:1123: UserWarning: You are merging on int and float columns where the float values are not equal to their int representation\n",
      "  warnings.warn(\n"
     ]
    },
    {
     "name": "stdout",
     "output_type": "stream",
     "text": [
      "youth: 0:11:06.053317\n",
      "adolescent\n",
      "['young' 'youth' 'adolescent']\n",
      "adolescent: 0:00:00.086175\n",
      "--------------\n",
      "young\n",
      "['youth' 'adolescent' 'young']\n",
      "young: 0:00:00.046371\n",
      "--------------\n",
      "adolescent\n",
      "['young' 'youth' 'adolescent']\n",
      "adolescent: 0:00:00.045474\n",
      "--------------\n",
      "youth\n",
      "['young' 'adolescent' 'youth']\n",
      "youth: 0:00:00.048262\n",
      "--------------\n",
      "young\n",
      "['youth' 'adolescent' 'young']\n",
      "young: 0:00:00.053557\n",
      "--------------\n",
      "aging\n",
      "['age' 'aging']\n"
     ]
    },
    {
     "name": "stderr",
     "output_type": "stream",
     "text": [
      "/Users/gzanitti/.local/lib/python3.8/site-packages/pandas-1.1.5-py3.8-macosx-10.9-x86_64.egg/pandas/core/reshape/merge.py:1123: UserWarning: You are merging on int and float columns where the float values are not equal to their int representation\n",
      "  warnings.warn(\n",
      "/Users/gzanitti/.local/lib/python3.8/site-packages/pandas-1.1.5-py3.8-macosx-10.9-x86_64.egg/pandas/core/reshape/merge.py:1123: UserWarning: You are merging on int and float columns where the float values are not equal to their int representation\n",
      "  warnings.warn(\n",
      "/Users/gzanitti/.local/lib/python3.8/site-packages/pandas-1.1.5-py3.8-macosx-10.9-x86_64.egg/pandas/core/reshape/merge.py:1123: UserWarning: You are merging on int and float columns where the float values are not equal to their int representation\n",
      "  warnings.warn(\n",
      "/Users/gzanitti/.local/lib/python3.8/site-packages/pandas-1.1.5-py3.8-macosx-10.9-x86_64.egg/pandas/core/reshape/merge.py:1123: UserWarning: You are merging on int and float columns where the float values are not equal to their int representation\n",
      "  warnings.warn(\n"
     ]
    },
    {
     "name": "stdout",
     "output_type": "stream",
     "text": [
      "aging: 0:11:11.587688\n",
      "age\n",
      "['aging' 'age']\n",
      "age: 0:00:00.108886\n",
      "--------------\n",
      "eye movement\n",
      "['eye movements' 'eye movement']\n"
     ]
    },
    {
     "name": "stderr",
     "output_type": "stream",
     "text": [
      "/Users/gzanitti/.local/lib/python3.8/site-packages/pandas-1.1.5-py3.8-macosx-10.9-x86_64.egg/pandas/core/reshape/merge.py:1123: UserWarning: You are merging on int and float columns where the float values are not equal to their int representation\n",
      "  warnings.warn(\n",
      "/Users/gzanitti/.local/lib/python3.8/site-packages/pandas-1.1.5-py3.8-macosx-10.9-x86_64.egg/pandas/core/reshape/merge.py:1123: UserWarning: You are merging on int and float columns where the float values are not equal to their int representation\n",
      "  warnings.warn(\n",
      "/Users/gzanitti/.local/lib/python3.8/site-packages/pandas-1.1.5-py3.8-macosx-10.9-x86_64.egg/pandas/core/reshape/merge.py:1123: UserWarning: You are merging on int and float columns where the float values are not equal to their int representation\n",
      "  warnings.warn(\n",
      "/Users/gzanitti/.local/lib/python3.8/site-packages/pandas-1.1.5-py3.8-macosx-10.9-x86_64.egg/pandas/core/reshape/merge.py:1123: UserWarning: You are merging on int and float columns where the float values are not equal to their int representation\n",
      "  warnings.warn(\n",
      "/Users/gzanitti/opt/miniconda3/envs/neurolang/lib/python3.8/site-packages/tables/path.py:155: NaturalNameWarning: object name is not a valid Python identifier: 'eye movement'; it does not match the pattern ``^[a-zA-Z_][a-zA-Z0-9_]*$``; you will not be able to use natural naming to access this object; using ``getattr()`` will still work, though\n",
      "  check_attribute_name(name)\n"
     ]
    },
    {
     "name": "stdout",
     "output_type": "stream",
     "text": [
      "eye movement: 0:10:18.082700\n",
      "dominance\n",
      "['dominant' 'dominance']\n"
     ]
    },
    {
     "name": "stderr",
     "output_type": "stream",
     "text": [
      "/Users/gzanitti/.local/lib/python3.8/site-packages/pandas-1.1.5-py3.8-macosx-10.9-x86_64.egg/pandas/core/reshape/merge.py:1123: UserWarning: You are merging on int and float columns where the float values are not equal to their int representation\n",
      "  warnings.warn(\n",
      "/Users/gzanitti/.local/lib/python3.8/site-packages/pandas-1.1.5-py3.8-macosx-10.9-x86_64.egg/pandas/core/reshape/merge.py:1123: UserWarning: You are merging on int and float columns where the float values are not equal to their int representation\n",
      "  warnings.warn(\n",
      "/Users/gzanitti/.local/lib/python3.8/site-packages/pandas-1.1.5-py3.8-macosx-10.9-x86_64.egg/pandas/core/reshape/merge.py:1123: UserWarning: You are merging on int and float columns where the float values are not equal to their int representation\n",
      "  warnings.warn(\n",
      "/Users/gzanitti/.local/lib/python3.8/site-packages/pandas-1.1.5-py3.8-macosx-10.9-x86_64.egg/pandas/core/reshape/merge.py:1123: UserWarning: You are merging on int and float columns where the float values are not equal to their int representation\n",
      "  warnings.warn(\n"
     ]
    },
    {
     "name": "stdout",
     "output_type": "stream",
     "text": [
      "dominance: 0:10:48.482379\n",
      "dominant\n",
      "['dominance' 'dominant']\n",
      "dominant: 0:00:00.101486\n",
      "--------------\n",
      "seed\n",
      "['seeds' 'seed']\n"
     ]
    },
    {
     "name": "stderr",
     "output_type": "stream",
     "text": [
      "/Users/gzanitti/.local/lib/python3.8/site-packages/pandas-1.1.5-py3.8-macosx-10.9-x86_64.egg/pandas/core/reshape/merge.py:1123: UserWarning: You are merging on int and float columns where the float values are not equal to their int representation\n",
      "  warnings.warn(\n",
      "/Users/gzanitti/.local/lib/python3.8/site-packages/pandas-1.1.5-py3.8-macosx-10.9-x86_64.egg/pandas/core/reshape/merge.py:1123: UserWarning: You are merging on int and float columns where the float values are not equal to their int representation\n",
      "  warnings.warn(\n",
      "/Users/gzanitti/.local/lib/python3.8/site-packages/pandas-1.1.5-py3.8-macosx-10.9-x86_64.egg/pandas/core/reshape/merge.py:1123: UserWarning: You are merging on int and float columns where the float values are not equal to their int representation\n",
      "  warnings.warn(\n",
      "/Users/gzanitti/.local/lib/python3.8/site-packages/pandas-1.1.5-py3.8-macosx-10.9-x86_64.egg/pandas/core/reshape/merge.py:1123: UserWarning: You are merging on int and float columns where the float values are not equal to their int representation\n",
      "  warnings.warn(\n"
     ]
    },
    {
     "name": "stdout",
     "output_type": "stream",
     "text": [
      "seed: 0:11:02.778272\n",
      "saccade\n",
      "['saccades' 'saccade']\n"
     ]
    },
    {
     "name": "stderr",
     "output_type": "stream",
     "text": [
      "/Users/gzanitti/.local/lib/python3.8/site-packages/pandas-1.1.5-py3.8-macosx-10.9-x86_64.egg/pandas/core/reshape/merge.py:1123: UserWarning: You are merging on int and float columns where the float values are not equal to their int representation\n",
      "  warnings.warn(\n",
      "/Users/gzanitti/.local/lib/python3.8/site-packages/pandas-1.1.5-py3.8-macosx-10.9-x86_64.egg/pandas/core/reshape/merge.py:1123: UserWarning: You are merging on int and float columns where the float values are not equal to their int representation\n",
      "  warnings.warn(\n",
      "/Users/gzanitti/.local/lib/python3.8/site-packages/pandas-1.1.5-py3.8-macosx-10.9-x86_64.egg/pandas/core/reshape/merge.py:1123: UserWarning: You are merging on int and float columns where the float values are not equal to their int representation\n",
      "  warnings.warn(\n",
      "/Users/gzanitti/.local/lib/python3.8/site-packages/pandas-1.1.5-py3.8-macosx-10.9-x86_64.egg/pandas/core/reshape/merge.py:1123: UserWarning: You are merging on int and float columns where the float values are not equal to their int representation\n",
      "  warnings.warn(\n"
     ]
    },
    {
     "name": "stdout",
     "output_type": "stream",
     "text": [
      "saccade: 0:10:30.913421\n",
      "changing\n",
      "['transfer' 'changing']\n"
     ]
    },
    {
     "name": "stderr",
     "output_type": "stream",
     "text": [
      "/Users/gzanitti/.local/lib/python3.8/site-packages/pandas-1.1.5-py3.8-macosx-10.9-x86_64.egg/pandas/core/reshape/merge.py:1123: UserWarning: You are merging on int and float columns where the float values are not equal to their int representation\n",
      "  warnings.warn(\n",
      "/Users/gzanitti/.local/lib/python3.8/site-packages/pandas-1.1.5-py3.8-macosx-10.9-x86_64.egg/pandas/core/reshape/merge.py:1123: UserWarning: You are merging on int and float columns where the float values are not equal to their int representation\n",
      "  warnings.warn(\n",
      "/Users/gzanitti/.local/lib/python3.8/site-packages/pandas-1.1.5-py3.8-macosx-10.9-x86_64.egg/pandas/core/reshape/merge.py:1123: UserWarning: You are merging on int and float columns where the float values are not equal to their int representation\n",
      "  warnings.warn(\n",
      "/Users/gzanitti/.local/lib/python3.8/site-packages/pandas-1.1.5-py3.8-macosx-10.9-x86_64.egg/pandas/core/reshape/merge.py:1123: UserWarning: You are merging on int and float columns where the float values are not equal to their int representation\n",
      "  warnings.warn(\n"
     ]
    },
    {
     "name": "stdout",
     "output_type": "stream",
     "text": [
      "changing: 0:10:27.544387\n",
      "transfer\n",
      "['changing' 'transfer']\n",
      "transfer: 0:00:00.086293\n",
      "--------------\n",
      "trauma\n",
      "['injury' 'trauma']\n"
     ]
    },
    {
     "name": "stderr",
     "output_type": "stream",
     "text": [
      "/Users/gzanitti/.local/lib/python3.8/site-packages/pandas-1.1.5-py3.8-macosx-10.9-x86_64.egg/pandas/core/reshape/merge.py:1123: UserWarning: You are merging on int and float columns where the float values are not equal to their int representation\n",
      "  warnings.warn(\n",
      "/Users/gzanitti/.local/lib/python3.8/site-packages/pandas-1.1.5-py3.8-macosx-10.9-x86_64.egg/pandas/core/reshape/merge.py:1123: UserWarning: You are merging on int and float columns where the float values are not equal to their int representation\n",
      "  warnings.warn(\n",
      "/Users/gzanitti/.local/lib/python3.8/site-packages/pandas-1.1.5-py3.8-macosx-10.9-x86_64.egg/pandas/core/reshape/merge.py:1123: UserWarning: You are merging on int and float columns where the float values are not equal to their int representation\n",
      "  warnings.warn(\n",
      "/Users/gzanitti/.local/lib/python3.8/site-packages/pandas-1.1.5-py3.8-macosx-10.9-x86_64.egg/pandas/core/reshape/merge.py:1123: UserWarning: You are merging on int and float columns where the float values are not equal to their int representation\n",
      "  warnings.warn(\n"
     ]
    },
    {
     "name": "stdout",
     "output_type": "stream",
     "text": [
      "trauma: 0:10:37.552481\n",
      "injury\n",
      "['trauma' 'injury']\n",
      "injury: 0:00:00.084160\n",
      "--------------\n",
      "control group\n",
      "['control groups' 'control group']\n"
     ]
    },
    {
     "name": "stderr",
     "output_type": "stream",
     "text": [
      "/Users/gzanitti/.local/lib/python3.8/site-packages/pandas-1.1.5-py3.8-macosx-10.9-x86_64.egg/pandas/core/reshape/merge.py:1123: UserWarning: You are merging on int and float columns where the float values are not equal to their int representation\n",
      "  warnings.warn(\n",
      "/Users/gzanitti/.local/lib/python3.8/site-packages/pandas-1.1.5-py3.8-macosx-10.9-x86_64.egg/pandas/core/reshape/merge.py:1123: UserWarning: You are merging on int and float columns where the float values are not equal to their int representation\n",
      "  warnings.warn(\n",
      "/Users/gzanitti/.local/lib/python3.8/site-packages/pandas-1.1.5-py3.8-macosx-10.9-x86_64.egg/pandas/core/reshape/merge.py:1123: UserWarning: You are merging on int and float columns where the float values are not equal to their int representation\n",
      "  warnings.warn(\n",
      "/Users/gzanitti/.local/lib/python3.8/site-packages/pandas-1.1.5-py3.8-macosx-10.9-x86_64.egg/pandas/core/reshape/merge.py:1123: UserWarning: You are merging on int and float columns where the float values are not equal to their int representation\n",
      "  warnings.warn(\n",
      "/Users/gzanitti/opt/miniconda3/envs/neurolang/lib/python3.8/site-packages/tables/path.py:155: NaturalNameWarning: object name is not a valid Python identifier: 'control group'; it does not match the pattern ``^[a-zA-Z_][a-zA-Z0-9_]*$``; you will not be able to use natural naming to access this object; using ``getattr()`` will still work, though\n",
      "  check_attribute_name(name)\n"
     ]
    },
    {
     "name": "stdout",
     "output_type": "stream",
     "text": [
      "control group: 0:11:11.372762\n",
      "biomarker\n",
      "['biomarkers' 'biomarker']\n"
     ]
    },
    {
     "name": "stderr",
     "output_type": "stream",
     "text": [
      "/Users/gzanitti/.local/lib/python3.8/site-packages/pandas-1.1.5-py3.8-macosx-10.9-x86_64.egg/pandas/core/reshape/merge.py:1123: UserWarning: You are merging on int and float columns where the float values are not equal to their int representation\n",
      "  warnings.warn(\n",
      "/Users/gzanitti/.local/lib/python3.8/site-packages/pandas-1.1.5-py3.8-macosx-10.9-x86_64.egg/pandas/core/reshape/merge.py:1123: UserWarning: You are merging on int and float columns where the float values are not equal to their int representation\n",
      "  warnings.warn(\n",
      "/Users/gzanitti/.local/lib/python3.8/site-packages/pandas-1.1.5-py3.8-macosx-10.9-x86_64.egg/pandas/core/reshape/merge.py:1123: UserWarning: You are merging on int and float columns where the float values are not equal to their int representation\n",
      "  warnings.warn(\n",
      "/Users/gzanitti/.local/lib/python3.8/site-packages/pandas-1.1.5-py3.8-macosx-10.9-x86_64.egg/pandas/core/reshape/merge.py:1123: UserWarning: You are merging on int and float columns where the float values are not equal to their int representation\n",
      "  warnings.warn(\n"
     ]
    },
    {
     "name": "stdout",
     "output_type": "stream",
     "text": [
      "biomarker: 0:10:52.088450\n",
      "recognition task\n",
      "['cognitive task' 'recognition task']\n"
     ]
    },
    {
     "name": "stderr",
     "output_type": "stream",
     "text": [
      "/Users/gzanitti/.local/lib/python3.8/site-packages/pandas-1.1.5-py3.8-macosx-10.9-x86_64.egg/pandas/core/reshape/merge.py:1123: UserWarning: You are merging on int and float columns where the float values are not equal to their int representation\n",
      "  warnings.warn(\n",
      "/Users/gzanitti/.local/lib/python3.8/site-packages/pandas-1.1.5-py3.8-macosx-10.9-x86_64.egg/pandas/core/reshape/merge.py:1123: UserWarning: You are merging on int and float columns where the float values are not equal to their int representation\n",
      "  warnings.warn(\n",
      "/Users/gzanitti/.local/lib/python3.8/site-packages/pandas-1.1.5-py3.8-macosx-10.9-x86_64.egg/pandas/core/reshape/merge.py:1123: UserWarning: You are merging on int and float columns where the float values are not equal to their int representation\n",
      "  warnings.warn(\n",
      "/Users/gzanitti/.local/lib/python3.8/site-packages/pandas-1.1.5-py3.8-macosx-10.9-x86_64.egg/pandas/core/reshape/merge.py:1123: UserWarning: You are merging on int and float columns where the float values are not equal to their int representation\n",
      "  warnings.warn(\n",
      "/Users/gzanitti/opt/miniconda3/envs/neurolang/lib/python3.8/site-packages/tables/path.py:155: NaturalNameWarning: object name is not a valid Python identifier: 'recognition task'; it does not match the pattern ``^[a-zA-Z_][a-zA-Z0-9_]*$``; you will not be able to use natural naming to access this object; using ``getattr()`` will still work, though\n",
      "  check_attribute_name(name)\n",
      "/Users/gzanitti/opt/miniconda3/envs/neurolang/lib/python3.8/site-packages/tables/path.py:155: NaturalNameWarning: object name is not a valid Python identifier: 'cognitive task'; it does not match the pattern ``^[a-zA-Z_][a-zA-Z0-9_]*$``; you will not be able to use natural naming to access this object; using ``getattr()`` will still work, though\n",
      "  check_attribute_name(name)\n"
     ]
    },
    {
     "name": "stdout",
     "output_type": "stream",
     "text": [
      "recognition task: 0:10:33.749666\n",
      "cognitive task\n",
      "['recognition task' 'cognitive task']\n",
      "cognitive task: 0:00:00.097834\n",
      "--------------\n",
      "callosum\n",
      "['corpus callosum' 'callosum']\n"
     ]
    },
    {
     "name": "stderr",
     "output_type": "stream",
     "text": [
      "/Users/gzanitti/.local/lib/python3.8/site-packages/pandas-1.1.5-py3.8-macosx-10.9-x86_64.egg/pandas/core/reshape/merge.py:1123: UserWarning: You are merging on int and float columns where the float values are not equal to their int representation\n",
      "  warnings.warn(\n",
      "/Users/gzanitti/.local/lib/python3.8/site-packages/pandas-1.1.5-py3.8-macosx-10.9-x86_64.egg/pandas/core/reshape/merge.py:1123: UserWarning: You are merging on int and float columns where the float values are not equal to their int representation\n",
      "  warnings.warn(\n",
      "/Users/gzanitti/.local/lib/python3.8/site-packages/pandas-1.1.5-py3.8-macosx-10.9-x86_64.egg/pandas/core/reshape/merge.py:1123: UserWarning: You are merging on int and float columns where the float values are not equal to their int representation\n",
      "  warnings.warn(\n",
      "/Users/gzanitti/.local/lib/python3.8/site-packages/pandas-1.1.5-py3.8-macosx-10.9-x86_64.egg/pandas/core/reshape/merge.py:1123: UserWarning: You are merging on int and float columns where the float values are not equal to their int representation\n",
      "  warnings.warn(\n",
      "/Users/gzanitti/opt/miniconda3/envs/neurolang/lib/python3.8/site-packages/tables/path.py:155: NaturalNameWarning: object name is not a valid Python identifier: 'corpus callosum'; it does not match the pattern ``^[a-zA-Z_][a-zA-Z0-9_]*$``; you will not be able to use natural naming to access this object; using ``getattr()`` will still work, though\n",
      "  check_attribute_name(name)\n"
     ]
    },
    {
     "name": "stdout",
     "output_type": "stream",
     "text": [
      "callosum: 0:10:15.441979\n",
      "corpus callosum\n",
      "['callosum' 'corpus callosum']\n",
      "corpus callosum: 0:00:00.088322\n",
      "--------------\n",
      "sex\n",
      "['gender' 'sex']\n"
     ]
    },
    {
     "name": "stderr",
     "output_type": "stream",
     "text": [
      "/Users/gzanitti/.local/lib/python3.8/site-packages/pandas-1.1.5-py3.8-macosx-10.9-x86_64.egg/pandas/core/reshape/merge.py:1123: UserWarning: You are merging on int and float columns where the float values are not equal to their int representation\n",
      "  warnings.warn(\n",
      "/Users/gzanitti/.local/lib/python3.8/site-packages/pandas-1.1.5-py3.8-macosx-10.9-x86_64.egg/pandas/core/reshape/merge.py:1123: UserWarning: You are merging on int and float columns where the float values are not equal to their int representation\n",
      "  warnings.warn(\n",
      "/Users/gzanitti/.local/lib/python3.8/site-packages/pandas-1.1.5-py3.8-macosx-10.9-x86_64.egg/pandas/core/reshape/merge.py:1123: UserWarning: You are merging on int and float columns where the float values are not equal to their int representation\n",
      "  warnings.warn(\n",
      "/Users/gzanitti/.local/lib/python3.8/site-packages/pandas-1.1.5-py3.8-macosx-10.9-x86_64.egg/pandas/core/reshape/merge.py:1123: UserWarning: You are merging on int and float columns where the float values are not equal to their int representation\n",
      "  warnings.warn(\n"
     ]
    },
    {
     "name": "stdout",
     "output_type": "stream",
     "text": [
      "sex: 0:10:50.038174\n",
      "gender\n",
      "['sex' 'gender']\n",
      "gender: 0:00:00.135656\n",
      "--------------\n",
      "view\n",
      "['visual field' 'vision' 'view']\n"
     ]
    },
    {
     "name": "stderr",
     "output_type": "stream",
     "text": [
      "/Users/gzanitti/.local/lib/python3.8/site-packages/pandas-1.1.5-py3.8-macosx-10.9-x86_64.egg/pandas/core/reshape/merge.py:1123: UserWarning: You are merging on int and float columns where the float values are not equal to their int representation\n",
      "  warnings.warn(\n",
      "/Users/gzanitti/.local/lib/python3.8/site-packages/pandas-1.1.5-py3.8-macosx-10.9-x86_64.egg/pandas/core/reshape/merge.py:1123: UserWarning: You are merging on int and float columns where the float values are not equal to their int representation\n",
      "  warnings.warn(\n",
      "/Users/gzanitti/.local/lib/python3.8/site-packages/pandas-1.1.5-py3.8-macosx-10.9-x86_64.egg/pandas/core/reshape/merge.py:1123: UserWarning: You are merging on int and float columns where the float values are not equal to their int representation\n",
      "  warnings.warn(\n",
      "/Users/gzanitti/.local/lib/python3.8/site-packages/pandas-1.1.5-py3.8-macosx-10.9-x86_64.egg/pandas/core/reshape/merge.py:1123: UserWarning: You are merging on int and float columns where the float values are not equal to their int representation\n",
      "  warnings.warn(\n",
      "/Users/gzanitti/opt/miniconda3/envs/neurolang/lib/python3.8/site-packages/tables/path.py:155: NaturalNameWarning: object name is not a valid Python identifier: 'visual field'; it does not match the pattern ``^[a-zA-Z_][a-zA-Z0-9_]*$``; you will not be able to use natural naming to access this object; using ``getattr()`` will still work, though\n",
      "  check_attribute_name(name)\n"
     ]
    },
    {
     "name": "stdout",
     "output_type": "stream",
     "text": [
      "view: 0:10:54.968987\n",
      "vision\n",
      "['visual field' 'view' 'visual' 'vision']\n"
     ]
    },
    {
     "name": "stderr",
     "output_type": "stream",
     "text": [
      "/Users/gzanitti/.local/lib/python3.8/site-packages/pandas-1.1.5-py3.8-macosx-10.9-x86_64.egg/pandas/core/reshape/merge.py:1123: UserWarning: You are merging on int and float columns where the float values are not equal to their int representation\n",
      "  warnings.warn(\n",
      "/Users/gzanitti/.local/lib/python3.8/site-packages/pandas-1.1.5-py3.8-macosx-10.9-x86_64.egg/pandas/core/reshape/merge.py:1123: UserWarning: You are merging on int and float columns where the float values are not equal to their int representation\n",
      "  warnings.warn(\n",
      "/Users/gzanitti/.local/lib/python3.8/site-packages/pandas-1.1.5-py3.8-macosx-10.9-x86_64.egg/pandas/core/reshape/merge.py:1123: UserWarning: You are merging on int and float columns where the float values are not equal to their int representation\n",
      "  warnings.warn(\n",
      "/Users/gzanitti/.local/lib/python3.8/site-packages/pandas-1.1.5-py3.8-macosx-10.9-x86_64.egg/pandas/core/reshape/merge.py:1123: UserWarning: You are merging on int and float columns where the float values are not equal to their int representation\n",
      "  warnings.warn(\n"
     ]
    },
    {
     "name": "stdout",
     "output_type": "stream",
     "text": [
      "vision: 0:11:47.553587\n",
      "visual field\n",
      "['view' 'vision' 'visual field']\n",
      "visual field: 0:00:00.143028\n",
      "--------------\n",
      "vision\n",
      "['visual field' 'view' 'visual' 'vision']\n",
      "vision: 0:00:00.068706\n",
      "--------------\n",
      "visual field\n",
      "['view' 'vision' 'visual field']\n",
      "visual field: 0:00:00.085130\n",
      "--------------\n",
      "view\n",
      "['visual field' 'vision' 'view']\n",
      "view: 0:00:00.075887\n",
      "--------------\n",
      "visual\n",
      "['vision' 'visual']\n"
     ]
    },
    {
     "name": "stderr",
     "output_type": "stream",
     "text": [
      "/Users/gzanitti/.local/lib/python3.8/site-packages/pandas-1.1.5-py3.8-macosx-10.9-x86_64.egg/pandas/core/reshape/merge.py:1123: UserWarning: You are merging on int and float columns where the float values are not equal to their int representation\n",
      "  warnings.warn(\n",
      "/Users/gzanitti/.local/lib/python3.8/site-packages/pandas-1.1.5-py3.8-macosx-10.9-x86_64.egg/pandas/core/reshape/merge.py:1123: UserWarning: You are merging on int and float columns where the float values are not equal to their int representation\n",
      "  warnings.warn(\n",
      "/Users/gzanitti/.local/lib/python3.8/site-packages/pandas-1.1.5-py3.8-macosx-10.9-x86_64.egg/pandas/core/reshape/merge.py:1123: UserWarning: You are merging on int and float columns where the float values are not equal to their int representation\n",
      "  warnings.warn(\n",
      "/Users/gzanitti/.local/lib/python3.8/site-packages/pandas-1.1.5-py3.8-macosx-10.9-x86_64.egg/pandas/core/reshape/merge.py:1123: UserWarning: You are merging on int and float columns where the float values are not equal to their int representation\n",
      "  warnings.warn(\n"
     ]
    },
    {
     "name": "stdout",
     "output_type": "stream",
     "text": [
      "visual: 0:11:22.502437\n",
      "vision\n",
      "['visual field' 'view' 'visual' 'vision']\n",
      "vision: 0:00:00.119848\n",
      "--------------\n",
      "neuron\n",
      "['neurons' 'neuron']\n"
     ]
    },
    {
     "name": "stderr",
     "output_type": "stream",
     "text": [
      "/Users/gzanitti/.local/lib/python3.8/site-packages/pandas-1.1.5-py3.8-macosx-10.9-x86_64.egg/pandas/core/reshape/merge.py:1123: UserWarning: You are merging on int and float columns where the float values are not equal to their int representation\n",
      "  warnings.warn(\n",
      "/Users/gzanitti/.local/lib/python3.8/site-packages/pandas-1.1.5-py3.8-macosx-10.9-x86_64.egg/pandas/core/reshape/merge.py:1123: UserWarning: You are merging on int and float columns where the float values are not equal to their int representation\n",
      "  warnings.warn(\n",
      "/Users/gzanitti/.local/lib/python3.8/site-packages/pandas-1.1.5-py3.8-macosx-10.9-x86_64.egg/pandas/core/reshape/merge.py:1123: UserWarning: You are merging on int and float columns where the float values are not equal to their int representation\n",
      "  warnings.warn(\n",
      "/Users/gzanitti/.local/lib/python3.8/site-packages/pandas-1.1.5-py3.8-macosx-10.9-x86_64.egg/pandas/core/reshape/merge.py:1123: UserWarning: You are merging on int and float columns where the float values are not equal to their int representation\n",
      "  warnings.warn(\n"
     ]
    },
    {
     "name": "stdout",
     "output_type": "stream",
     "text": [
      "neuron: 0:10:40.123911\n",
      "human\n",
      "['humans' 'human']\n"
     ]
    },
    {
     "name": "stderr",
     "output_type": "stream",
     "text": [
      "/Users/gzanitti/.local/lib/python3.8/site-packages/pandas-1.1.5-py3.8-macosx-10.9-x86_64.egg/pandas/core/reshape/merge.py:1123: UserWarning: You are merging on int and float columns where the float values are not equal to their int representation\n",
      "  warnings.warn(\n",
      "/Users/gzanitti/.local/lib/python3.8/site-packages/pandas-1.1.5-py3.8-macosx-10.9-x86_64.egg/pandas/core/reshape/merge.py:1123: UserWarning: You are merging on int and float columns where the float values are not equal to their int representation\n",
      "  warnings.warn(\n",
      "/Users/gzanitti/.local/lib/python3.8/site-packages/pandas-1.1.5-py3.8-macosx-10.9-x86_64.egg/pandas/core/reshape/merge.py:1123: UserWarning: You are merging on int and float columns where the float values are not equal to their int representation\n",
      "  warnings.warn(\n",
      "/Users/gzanitti/.local/lib/python3.8/site-packages/pandas-1.1.5-py3.8-macosx-10.9-x86_64.egg/pandas/core/reshape/merge.py:1123: UserWarning: You are merging on int and float columns where the float values are not equal to their int representation\n",
      "  warnings.warn(\n"
     ]
    },
    {
     "name": "stdout",
     "output_type": "stream",
     "text": [
      "human: 0:11:13.710014\n",
      "illness\n",
      "['disease' 'illness']\n"
     ]
    },
    {
     "name": "stderr",
     "output_type": "stream",
     "text": [
      "/Users/gzanitti/.local/lib/python3.8/site-packages/pandas-1.1.5-py3.8-macosx-10.9-x86_64.egg/pandas/core/reshape/merge.py:1123: UserWarning: You are merging on int and float columns where the float values are not equal to their int representation\n",
      "  warnings.warn(\n",
      "/Users/gzanitti/.local/lib/python3.8/site-packages/pandas-1.1.5-py3.8-macosx-10.9-x86_64.egg/pandas/core/reshape/merge.py:1123: UserWarning: You are merging on int and float columns where the float values are not equal to their int representation\n",
      "  warnings.warn(\n",
      "/Users/gzanitti/.local/lib/python3.8/site-packages/pandas-1.1.5-py3.8-macosx-10.9-x86_64.egg/pandas/core/reshape/merge.py:1123: UserWarning: You are merging on int and float columns where the float values are not equal to their int representation\n",
      "  warnings.warn(\n",
      "/Users/gzanitti/.local/lib/python3.8/site-packages/pandas-1.1.5-py3.8-macosx-10.9-x86_64.egg/pandas/core/reshape/merge.py:1123: UserWarning: You are merging on int and float columns where the float values are not equal to their int representation\n",
      "  warnings.warn(\n"
     ]
    },
    {
     "name": "stdout",
     "output_type": "stream",
     "text": [
      "illness: 0:11:26.766384\n",
      "disease\n",
      "['illness' 'disease']\n",
      "disease: 0:00:00.104478\n",
      "--------------\n",
      "nucleus accumbens\n",
      "['accumbens' 'nucleus accumbens']\n"
     ]
    },
    {
     "name": "stderr",
     "output_type": "stream",
     "text": [
      "/Users/gzanitti/.local/lib/python3.8/site-packages/pandas-1.1.5-py3.8-macosx-10.9-x86_64.egg/pandas/core/reshape/merge.py:1123: UserWarning: You are merging on int and float columns where the float values are not equal to their int representation\n",
      "  warnings.warn(\n",
      "/Users/gzanitti/.local/lib/python3.8/site-packages/pandas-1.1.5-py3.8-macosx-10.9-x86_64.egg/pandas/core/reshape/merge.py:1123: UserWarning: You are merging on int and float columns where the float values are not equal to their int representation\n",
      "  warnings.warn(\n",
      "/Users/gzanitti/.local/lib/python3.8/site-packages/pandas-1.1.5-py3.8-macosx-10.9-x86_64.egg/pandas/core/reshape/merge.py:1123: UserWarning: You are merging on int and float columns where the float values are not equal to their int representation\n",
      "  warnings.warn(\n",
      "/Users/gzanitti/.local/lib/python3.8/site-packages/pandas-1.1.5-py3.8-macosx-10.9-x86_64.egg/pandas/core/reshape/merge.py:1123: UserWarning: You are merging on int and float columns where the float values are not equal to their int representation\n",
      "  warnings.warn(\n",
      "/Users/gzanitti/opt/miniconda3/envs/neurolang/lib/python3.8/site-packages/tables/path.py:155: NaturalNameWarning: object name is not a valid Python identifier: 'nucleus accumbens'; it does not match the pattern ``^[a-zA-Z_][a-zA-Z0-9_]*$``; you will not be able to use natural naming to access this object; using ``getattr()`` will still work, though\n",
      "  check_attribute_name(name)\n"
     ]
    },
    {
     "name": "stdout",
     "output_type": "stream",
     "text": [
      "nucleus accumbens: 0:10:44.367862\n",
      "accumbens\n",
      "['nucleus accumbens' 'accumbens']\n",
      "accumbens: 0:00:00.154597\n",
      "--------------\n",
      "face\n",
      "['features' 'face']\n"
     ]
    },
    {
     "name": "stderr",
     "output_type": "stream",
     "text": [
      "/Users/gzanitti/.local/lib/python3.8/site-packages/pandas-1.1.5-py3.8-macosx-10.9-x86_64.egg/pandas/core/reshape/merge.py:1123: UserWarning: You are merging on int and float columns where the float values are not equal to their int representation\n",
      "  warnings.warn(\n",
      "/Users/gzanitti/.local/lib/python3.8/site-packages/pandas-1.1.5-py3.8-macosx-10.9-x86_64.egg/pandas/core/reshape/merge.py:1123: UserWarning: You are merging on int and float columns where the float values are not equal to their int representation\n",
      "  warnings.warn(\n",
      "/Users/gzanitti/.local/lib/python3.8/site-packages/pandas-1.1.5-py3.8-macosx-10.9-x86_64.egg/pandas/core/reshape/merge.py:1123: UserWarning: You are merging on int and float columns where the float values are not equal to their int representation\n",
      "  warnings.warn(\n",
      "/Users/gzanitti/.local/lib/python3.8/site-packages/pandas-1.1.5-py3.8-macosx-10.9-x86_64.egg/pandas/core/reshape/merge.py:1123: UserWarning: You are merging on int and float columns where the float values are not equal to their int representation\n",
      "  warnings.warn(\n"
     ]
    },
    {
     "name": "stdout",
     "output_type": "stream",
     "text": [
      "face: 0:10:46.893103\n",
      "features\n",
      "['face' 'features']\n",
      "features: 0:00:00.119671\n",
      "--------------\n",
      "abnormality\n",
      "['abnormalities' 'abnormality']\n"
     ]
    },
    {
     "name": "stderr",
     "output_type": "stream",
     "text": [
      "/Users/gzanitti/.local/lib/python3.8/site-packages/pandas-1.1.5-py3.8-macosx-10.9-x86_64.egg/pandas/core/reshape/merge.py:1123: UserWarning: You are merging on int and float columns where the float values are not equal to their int representation\n",
      "  warnings.warn(\n",
      "/Users/gzanitti/.local/lib/python3.8/site-packages/pandas-1.1.5-py3.8-macosx-10.9-x86_64.egg/pandas/core/reshape/merge.py:1123: UserWarning: You are merging on int and float columns where the float values are not equal to their int representation\n",
      "  warnings.warn(\n",
      "/Users/gzanitti/.local/lib/python3.8/site-packages/pandas-1.1.5-py3.8-macosx-10.9-x86_64.egg/pandas/core/reshape/merge.py:1123: UserWarning: You are merging on int and float columns where the float values are not equal to their int representation\n",
      "  warnings.warn(\n",
      "/Users/gzanitti/.local/lib/python3.8/site-packages/pandas-1.1.5-py3.8-macosx-10.9-x86_64.egg/pandas/core/reshape/merge.py:1123: UserWarning: You are merging on int and float columns where the float values are not equal to their int representation\n",
      "  warnings.warn(\n"
     ]
    },
    {
     "name": "stdout",
     "output_type": "stream",
     "text": [
      "abnormality: 0:10:11.856214\n",
      "abnormalities\n",
      "['abnormality' 'abnormalities']\n",
      "abnormalities: 0:00:00.178130\n",
      "--------------\n",
      "absence\n",
      "['deprivation' 'lack' 'absence']\n"
     ]
    },
    {
     "name": "stderr",
     "output_type": "stream",
     "text": [
      "/Users/gzanitti/.local/lib/python3.8/site-packages/pandas-1.1.5-py3.8-macosx-10.9-x86_64.egg/pandas/core/reshape/merge.py:1123: UserWarning: You are merging on int and float columns where the float values are not equal to their int representation\n",
      "  warnings.warn(\n",
      "/Users/gzanitti/.local/lib/python3.8/site-packages/pandas-1.1.5-py3.8-macosx-10.9-x86_64.egg/pandas/core/reshape/merge.py:1123: UserWarning: You are merging on int and float columns where the float values are not equal to their int representation\n",
      "  warnings.warn(\n",
      "/Users/gzanitti/.local/lib/python3.8/site-packages/pandas-1.1.5-py3.8-macosx-10.9-x86_64.egg/pandas/core/reshape/merge.py:1123: UserWarning: You are merging on int and float columns where the float values are not equal to their int representation\n",
      "  warnings.warn(\n",
      "/Users/gzanitti/.local/lib/python3.8/site-packages/pandas-1.1.5-py3.8-macosx-10.9-x86_64.egg/pandas/core/reshape/merge.py:1123: UserWarning: You are merging on int and float columns where the float values are not equal to their int representation\n",
      "  warnings.warn(\n"
     ]
    },
    {
     "name": "stdout",
     "output_type": "stream",
     "text": [
      "absence: 0:08:28.437447\n",
      "lack\n",
      "['deprivation' 'absence' 'lack']\n",
      "lack: 0:00:00.125898\n",
      "--------------\n",
      "absence\n",
      "['deprivation' 'lack' 'absence']\n",
      "absence: 0:00:00.075119\n",
      "--------------\n",
      "deprivation\n",
      "['lack' 'absence' 'deprivation']\n",
      "deprivation: 0:00:00.087330\n",
      "--------------\n",
      "lack\n",
      "['deprivation' 'absence' 'lack']\n",
      "lack: 0:00:00.074642\n",
      "--------------\n",
      "deprivation\n",
      "['lack' 'absence' 'deprivation']\n",
      "deprivation: 0:00:00.077360\n",
      "--------------\n",
      "drug\n",
      "['drugs' 'drug']\n"
     ]
    },
    {
     "name": "stderr",
     "output_type": "stream",
     "text": [
      "/Users/gzanitti/.local/lib/python3.8/site-packages/pandas-1.1.5-py3.8-macosx-10.9-x86_64.egg/pandas/core/reshape/merge.py:1123: UserWarning: You are merging on int and float columns where the float values are not equal to their int representation\n",
      "  warnings.warn(\n",
      "/Users/gzanitti/.local/lib/python3.8/site-packages/pandas-1.1.5-py3.8-macosx-10.9-x86_64.egg/pandas/core/reshape/merge.py:1123: UserWarning: You are merging on int and float columns where the float values are not equal to their int representation\n",
      "  warnings.warn(\n",
      "/Users/gzanitti/.local/lib/python3.8/site-packages/pandas-1.1.5-py3.8-macosx-10.9-x86_64.egg/pandas/core/reshape/merge.py:1123: UserWarning: You are merging on int and float columns where the float values are not equal to their int representation\n",
      "  warnings.warn(\n",
      "/Users/gzanitti/.local/lib/python3.8/site-packages/pandas-1.1.5-py3.8-macosx-10.9-x86_64.egg/pandas/core/reshape/merge.py:1123: UserWarning: You are merging on int and float columns where the float values are not equal to their int representation\n",
      "  warnings.warn(\n"
     ]
    },
    {
     "name": "stdout",
     "output_type": "stream",
     "text": [
      "drug: 0:08:41.178772\n",
      "drugs\n",
      "['drug' 'drugs']\n",
      "drugs: 0:00:00.108261\n",
      "--------------\n",
      "temporal cortex\n",
      "['temporal lobe' 'temporal cortex']\n"
     ]
    },
    {
     "name": "stderr",
     "output_type": "stream",
     "text": [
      "/Users/gzanitti/.local/lib/python3.8/site-packages/pandas-1.1.5-py3.8-macosx-10.9-x86_64.egg/pandas/core/reshape/merge.py:1123: UserWarning: You are merging on int and float columns where the float values are not equal to their int representation\n",
      "  warnings.warn(\n",
      "/Users/gzanitti/.local/lib/python3.8/site-packages/pandas-1.1.5-py3.8-macosx-10.9-x86_64.egg/pandas/core/reshape/merge.py:1123: UserWarning: You are merging on int and float columns where the float values are not equal to their int representation\n",
      "  warnings.warn(\n",
      "/Users/gzanitti/.local/lib/python3.8/site-packages/pandas-1.1.5-py3.8-macosx-10.9-x86_64.egg/pandas/core/reshape/merge.py:1123: UserWarning: You are merging on int and float columns where the float values are not equal to their int representation\n",
      "  warnings.warn(\n",
      "/Users/gzanitti/.local/lib/python3.8/site-packages/pandas-1.1.5-py3.8-macosx-10.9-x86_64.egg/pandas/core/reshape/merge.py:1123: UserWarning: You are merging on int and float columns where the float values are not equal to their int representation\n",
      "  warnings.warn(\n",
      "/Users/gzanitti/opt/miniconda3/envs/neurolang/lib/python3.8/site-packages/tables/path.py:155: NaturalNameWarning: object name is not a valid Python identifier: 'temporal cortex'; it does not match the pattern ``^[a-zA-Z_][a-zA-Z0-9_]*$``; you will not be able to use natural naming to access this object; using ``getattr()`` will still work, though\n",
      "  check_attribute_name(name)\n"
     ]
    },
    {
     "name": "stdout",
     "output_type": "stream",
     "text": [
      "temporal cortex: 0:08:42.226773\n",
      "animal\n",
      "['animals' 'animal']\n"
     ]
    },
    {
     "name": "stderr",
     "output_type": "stream",
     "text": [
      "/Users/gzanitti/.local/lib/python3.8/site-packages/pandas-1.1.5-py3.8-macosx-10.9-x86_64.egg/pandas/core/reshape/merge.py:1123: UserWarning: You are merging on int and float columns where the float values are not equal to their int representation\n",
      "  warnings.warn(\n",
      "/Users/gzanitti/.local/lib/python3.8/site-packages/pandas-1.1.5-py3.8-macosx-10.9-x86_64.egg/pandas/core/reshape/merge.py:1123: UserWarning: You are merging on int and float columns where the float values are not equal to their int representation\n",
      "  warnings.warn(\n",
      "/Users/gzanitti/.local/lib/python3.8/site-packages/pandas-1.1.5-py3.8-macosx-10.9-x86_64.egg/pandas/core/reshape/merge.py:1123: UserWarning: You are merging on int and float columns where the float values are not equal to their int representation\n",
      "  warnings.warn(\n",
      "/Users/gzanitti/.local/lib/python3.8/site-packages/pandas-1.1.5-py3.8-macosx-10.9-x86_64.egg/pandas/core/reshape/merge.py:1123: UserWarning: You are merging on int and float columns where the float values are not equal to their int representation\n",
      "  warnings.warn(\n"
     ]
    },
    {
     "name": "stdout",
     "output_type": "stream",
     "text": [
      "animal: 0:08:33.590622\n",
      "magnetoencephalography\n",
      "['meg' 'magnetoencephalography']\n"
     ]
    },
    {
     "name": "stderr",
     "output_type": "stream",
     "text": [
      "/Users/gzanitti/.local/lib/python3.8/site-packages/pandas-1.1.5-py3.8-macosx-10.9-x86_64.egg/pandas/core/reshape/merge.py:1123: UserWarning: You are merging on int and float columns where the float values are not equal to their int representation\n",
      "  warnings.warn(\n",
      "/Users/gzanitti/.local/lib/python3.8/site-packages/pandas-1.1.5-py3.8-macosx-10.9-x86_64.egg/pandas/core/reshape/merge.py:1123: UserWarning: You are merging on int and float columns where the float values are not equal to their int representation\n",
      "  warnings.warn(\n",
      "/Users/gzanitti/.local/lib/python3.8/site-packages/pandas-1.1.5-py3.8-macosx-10.9-x86_64.egg/pandas/core/reshape/merge.py:1123: UserWarning: You are merging on int and float columns where the float values are not equal to their int representation\n",
      "  warnings.warn(\n",
      "/Users/gzanitti/.local/lib/python3.8/site-packages/pandas-1.1.5-py3.8-macosx-10.9-x86_64.egg/pandas/core/reshape/merge.py:1123: UserWarning: You are merging on int and float columns where the float values are not equal to their int representation\n",
      "  warnings.warn(\n"
     ]
    },
    {
     "name": "stdout",
     "output_type": "stream",
     "text": [
      "magnetoencephalography: 0:08:18.287282\n",
      "lateralization\n",
      "['laterality' 'lateralization']\n"
     ]
    },
    {
     "name": "stderr",
     "output_type": "stream",
     "text": [
      "/Users/gzanitti/.local/lib/python3.8/site-packages/pandas-1.1.5-py3.8-macosx-10.9-x86_64.egg/pandas/core/reshape/merge.py:1123: UserWarning: You are merging on int and float columns where the float values are not equal to their int representation\n",
      "  warnings.warn(\n",
      "/Users/gzanitti/.local/lib/python3.8/site-packages/pandas-1.1.5-py3.8-macosx-10.9-x86_64.egg/pandas/core/reshape/merge.py:1123: UserWarning: You are merging on int and float columns where the float values are not equal to their int representation\n",
      "  warnings.warn(\n",
      "/Users/gzanitti/.local/lib/python3.8/site-packages/pandas-1.1.5-py3.8-macosx-10.9-x86_64.egg/pandas/core/reshape/merge.py:1123: UserWarning: You are merging on int and float columns where the float values are not equal to their int representation\n",
      "  warnings.warn(\n",
      "/Users/gzanitti/.local/lib/python3.8/site-packages/pandas-1.1.5-py3.8-macosx-10.9-x86_64.egg/pandas/core/reshape/merge.py:1123: UserWarning: You are merging on int and float columns where the float values are not equal to their int representation\n",
      "  warnings.warn(\n"
     ]
    },
    {
     "name": "stdout",
     "output_type": "stream",
     "text": [
      "lateralization: 0:08:31.073066\n",
      "laterality\n",
      "['lateralization' 'laterality']\n",
      "laterality: 0:00:00.140081\n",
      "--------------\n",
      "gene\n",
      "['genes' 'gene']\n"
     ]
    },
    {
     "name": "stderr",
     "output_type": "stream",
     "text": [
      "/Users/gzanitti/.local/lib/python3.8/site-packages/pandas-1.1.5-py3.8-macosx-10.9-x86_64.egg/pandas/core/reshape/merge.py:1123: UserWarning: You are merging on int and float columns where the float values are not equal to their int representation\n",
      "  warnings.warn(\n",
      "/Users/gzanitti/.local/lib/python3.8/site-packages/pandas-1.1.5-py3.8-macosx-10.9-x86_64.egg/pandas/core/reshape/merge.py:1123: UserWarning: You are merging on int and float columns where the float values are not equal to their int representation\n",
      "  warnings.warn(\n",
      "/Users/gzanitti/.local/lib/python3.8/site-packages/pandas-1.1.5-py3.8-macosx-10.9-x86_64.egg/pandas/core/reshape/merge.py:1123: UserWarning: You are merging on int and float columns where the float values are not equal to their int representation\n",
      "  warnings.warn(\n",
      "/Users/gzanitti/.local/lib/python3.8/site-packages/pandas-1.1.5-py3.8-macosx-10.9-x86_64.egg/pandas/core/reshape/merge.py:1123: UserWarning: You are merging on int and float columns where the float values are not equal to their int representation\n",
      "  warnings.warn(\n"
     ]
    },
    {
     "name": "stdout",
     "output_type": "stream",
     "text": [
      "gene: 0:08:36.541247\n",
      "cognitive performance\n",
      "['cognitive function' 'cognitive performance']\n"
     ]
    },
    {
     "name": "stderr",
     "output_type": "stream",
     "text": [
      "/Users/gzanitti/.local/lib/python3.8/site-packages/pandas-1.1.5-py3.8-macosx-10.9-x86_64.egg/pandas/core/reshape/merge.py:1123: UserWarning: You are merging on int and float columns where the float values are not equal to their int representation\n",
      "  warnings.warn(\n",
      "/Users/gzanitti/.local/lib/python3.8/site-packages/pandas-1.1.5-py3.8-macosx-10.9-x86_64.egg/pandas/core/reshape/merge.py:1123: UserWarning: You are merging on int and float columns where the float values are not equal to their int representation\n",
      "  warnings.warn(\n",
      "/Users/gzanitti/.local/lib/python3.8/site-packages/pandas-1.1.5-py3.8-macosx-10.9-x86_64.egg/pandas/core/reshape/merge.py:1123: UserWarning: You are merging on int and float columns where the float values are not equal to their int representation\n",
      "  warnings.warn(\n",
      "/Users/gzanitti/.local/lib/python3.8/site-packages/pandas-1.1.5-py3.8-macosx-10.9-x86_64.egg/pandas/core/reshape/merge.py:1123: UserWarning: You are merging on int and float columns where the float values are not equal to their int representation\n",
      "  warnings.warn(\n",
      "/Users/gzanitti/opt/miniconda3/envs/neurolang/lib/python3.8/site-packages/tables/path.py:155: NaturalNameWarning: object name is not a valid Python identifier: 'cognitive performance'; it does not match the pattern ``^[a-zA-Z_][a-zA-Z0-9_]*$``; you will not be able to use natural naming to access this object; using ``getattr()`` will still work, though\n",
      "  check_attribute_name(name)\n",
      "/Users/gzanitti/opt/miniconda3/envs/neurolang/lib/python3.8/site-packages/tables/path.py:155: NaturalNameWarning: object name is not a valid Python identifier: 'cognitive function'; it does not match the pattern ``^[a-zA-Z_][a-zA-Z0-9_]*$``; you will not be able to use natural naming to access this object; using ``getattr()`` will still work, though\n",
      "  check_attribute_name(name)\n"
     ]
    },
    {
     "name": "stdout",
     "output_type": "stream",
     "text": [
      "cognitive performance: 0:08:46.825317\n",
      "cognitive function\n",
      "['cognitive performance' 'cognitive function']\n",
      "cognitive function: 0:00:00.142299\n",
      "--------------\n",
      "visual stimulus\n",
      "['visual stimuli' 'visual stimulus']\n"
     ]
    },
    {
     "name": "stderr",
     "output_type": "stream",
     "text": [
      "/Users/gzanitti/.local/lib/python3.8/site-packages/pandas-1.1.5-py3.8-macosx-10.9-x86_64.egg/pandas/core/reshape/merge.py:1123: UserWarning: You are merging on int and float columns where the float values are not equal to their int representation\n",
      "  warnings.warn(\n",
      "/Users/gzanitti/.local/lib/python3.8/site-packages/pandas-1.1.5-py3.8-macosx-10.9-x86_64.egg/pandas/core/reshape/merge.py:1123: UserWarning: You are merging on int and float columns where the float values are not equal to their int representation\n",
      "  warnings.warn(\n",
      "/Users/gzanitti/.local/lib/python3.8/site-packages/pandas-1.1.5-py3.8-macosx-10.9-x86_64.egg/pandas/core/reshape/merge.py:1123: UserWarning: You are merging on int and float columns where the float values are not equal to their int representation\n",
      "  warnings.warn(\n",
      "/Users/gzanitti/.local/lib/python3.8/site-packages/pandas-1.1.5-py3.8-macosx-10.9-x86_64.egg/pandas/core/reshape/merge.py:1123: UserWarning: You are merging on int and float columns where the float values are not equal to their int representation\n",
      "  warnings.warn(\n",
      "/Users/gzanitti/opt/miniconda3/envs/neurolang/lib/python3.8/site-packages/tables/path.py:155: NaturalNameWarning: object name is not a valid Python identifier: 'visual stimulus'; it does not match the pattern ``^[a-zA-Z_][a-zA-Z0-9_]*$``; you will not be able to use natural naming to access this object; using ``getattr()`` will still work, though\n",
      "  check_attribute_name(name)\n",
      "/Users/gzanitti/opt/miniconda3/envs/neurolang/lib/python3.8/site-packages/tables/path.py:155: NaturalNameWarning: object name is not a valid Python identifier: 'visual stimuli'; it does not match the pattern ``^[a-zA-Z_][a-zA-Z0-9_]*$``; you will not be able to use natural naming to access this object; using ``getattr()`` will still work, though\n",
      "  check_attribute_name(name)\n"
     ]
    },
    {
     "name": "stdout",
     "output_type": "stream",
     "text": [
      "visual stimulus: 0:08:49.054292\n",
      "visual stimuli\n",
      "['visual stimulus' 'visual stimuli']\n",
      "visual stimuli: 0:00:00.159050\n",
      "--------------\n"
     ]
    }
   ],
   "source": [
    "import datetime\n",
    "\n",
    "solved = []\n",
    "proceded = []\n",
    "\n",
    "for entity, term in synonym[['entity', 'term']].values:\n",
    "    print(entity)\n",
    "    start_time = datetime.datetime.now()\n",
    "    \n",
    "    cut = synonym[synonym.entity == entity].term.values\n",
    "    all_terms = np.append(cut, entity)\n",
    "    \n",
    "    print(all_terms)\n",
    "    all_terms.sort()\n",
    "    hash_term = '_'.join(all_terms)\n",
    "    \n",
    "    with pd.HDFStore('neuro_paper_synonym_results.hdf') as hdf:\n",
    "        if f'/{entity}' in hdf.keys():\n",
    "            solved.append(entity)\n",
    "            end_time = datetime.datetime.now()\n",
    "            print(f'{entity}: {end_time - start_time}')\n",
    "            print('--------------')\n",
    "            continue\n",
    "    \n",
    "    with nl.scope as e:\n",
    "    \n",
    "        for a in all_terms:\n",
    "            e.FilteredByTerm[e.t, e.s] = (\n",
    "                e.TermInStudy[e.t, e.s] &\n",
    "                (e.t == a)\n",
    "            )\n",
    "\n",
    "        #(e.VoxelReported @ e.exp(-e.d / 5.0))[e.x1, e.y1, e.z1, e.s] = (\n",
    "        #    e.FocusReported(e.x2, e.y2, e.z2, e.s)\n",
    "        #    & e.Voxel(e.x1, e.y1, e.z1)\n",
    "        #    & (e.d == e.EUCLIDEAN(e.x1, e.y1, e.z1, e.x2, e.y2, e.z2))\n",
    "        #    & (e.d < 4)\n",
    "        #)\n",
    "        \n",
    "        e.FilteredByNoTerm[e.t, e.s] = (\n",
    "            ~(nl.exists(e.t1, e.FilteredByTerm[e.t1, e.s] & (e.t1 == e.t))) &\n",
    "            e.study_det[e.s]\n",
    "        )\n",
    "\n",
    "        e.Result[e.x, e.y, e.z, e.fold, e.PROB[e.x, e.y, e.z, e.fold]] = (\n",
    "           (\n",
    "               e.VoxelReported[e.x, e.y, e.z, e.s] \n",
    "           ) // (\n",
    "               e.SelectedStudy[e.s] \n",
    "               & e.FilteredByTerm[e.t, e.s] \n",
    "               & e.StudyFolds[e.s, e.fold]\n",
    "           )  \n",
    "        )\n",
    "\n",
    "        '''e.ResultMean[e.x, e.y, e.z, e.mean(e.PROB)] = (\n",
    "            e.Result[e.x, e.y, e.z, e.fold, e.PROB]    \n",
    "        )\n",
    "\n",
    "        e.ResultStd[e.x, e.y, e.z, e.std(e.PROB)] = (\n",
    "            e.Result[e.x, e.y, e.z, e.fold, e.PROB]\n",
    "        )\n",
    "\n",
    "        e.ResultSummaryStats[\n",
    "            e.x, e.y, e.z, e.prob_mean, e.prob_std\n",
    "        ] = (\n",
    "            e.ResultMean[e.x, e.y, e.z, e.prob_mean] &\n",
    "            e.ResultStd[e.x, e.y, e.z, e.prob_std]\n",
    "        )\n",
    "\n",
    "        e.VoxelActivationImg[agg_create_region_overlay_MNI[e.x, e.y, e.z, e.p]] = (\n",
    "            e.ResultMean(e.x, e.y, e.z, e.p)\n",
    "        )'''\n",
    "\n",
    "\n",
    "        res = nl.query((e.x, e.y, e.z, e.f, e.p), \n",
    "                       e.Result[e.x, e.y, e.z, e.f, e.p])\n",
    "        \n",
    "        pss = res.as_pandas_dataframe()\n",
    "        for ent in hash_list[hash_term]:\n",
    "            pss.to_hdf('neuro_paper_synonym_results.hdf', key=f'{ent}')\n",
    "        \n",
    "        end_time = datetime.datetime.now()\n",
    "        print(f'{entity}: {end_time - start_time}')"
   ]
  },
  {
   "cell_type": "code",
   "execution_count": 85,
   "id": "developmental-value",
   "metadata": {},
   "outputs": [],
   "source": [
    "hash_list = {}\n",
    "for entity, term in related[['entity', 'term']].values:\n",
    "    \n",
    "    cut = related[related.entity == entity].term.values\n",
    "    all_terms = np.append(cut, entity)\n",
    "    all_terms.sort()\n",
    "    hash_term = '_'.join(all_terms)\n",
    "    \n",
    "    if hash_term in hash_list.keys():\n",
    "        lst = hash_list[hash_term]\n",
    "        lst.append(entity)\n",
    "        hash_list[hash_term] = lst\n",
    "    else:\n",
    "        hash_list[hash_term] = [entity]"
   ]
  },
  {
   "cell_type": "code",
   "execution_count": 87,
   "id": "technical-speaking",
   "metadata": {},
   "outputs": [
    {
     "data": {
      "application/vnd.jupyter.widget-view+json": {
       "model_id": "a038efe806f34aae8238052c713b1ecf",
       "version_major": 2,
       "version_minor": 0
      },
      "text/plain": [
       "  0%|          | 0/185 [00:00<?, ?it/s]"
      ]
     },
     "metadata": {},
     "output_type": "display_data"
    },
    {
     "name": "stdout",
     "output_type": "stream",
     "text": [
      "epilepsy\n",
      "['stroke' 'access' 'epilepsy']\n",
      "epilepsy: 0:00:00.137604\n",
      "--------------\n",
      "epilepsy\n",
      "['stroke' 'access' 'epilepsy']\n",
      "epilepsy: 0:00:00.057373\n",
      "--------------\n",
      "drug\n",
      "['medication' 'preparation' 'placebo' 'drug']\n",
      "drug: 0:00:00.048856\n",
      "--------------\n",
      "drugs\n",
      "['medication' 'preparation' 'placebo' 'drugs']\n",
      "drugs: 0:00:00.060993\n",
      "--------------\n",
      "rest\n",
      "['medication' 'treatment' 'therapy' 'dmn' 'rest']\n",
      "rest: 0:00:00.053436\n",
      "--------------\n",
      "drug\n",
      "['medication' 'preparation' 'placebo' 'drug']\n",
      "drug: 0:00:00.049547\n",
      "--------------\n",
      "drugs\n",
      "['medication' 'preparation' 'placebo' 'drugs']\n",
      "drugs: 0:00:00.072910\n",
      "--------------\n",
      "children\n",
      "['preparation' 'add' 'hyperactivity disorder' 'adhd' 'youth' 'childhood'\n",
      " 'children']\n",
      "children: 0:00:00.063310\n",
      "--------------\n",
      "drug\n",
      "['medication' 'preparation' 'placebo' 'drug']\n",
      "drug: 0:00:00.048401\n",
      "--------------\n",
      "drugs\n",
      "['medication' 'preparation' 'placebo' 'drugs']\n",
      "drugs: 0:00:00.057011\n",
      "--------------\n",
      "eye movement\n",
      "['eye movements' 'eye movement']\n",
      "eye movement: 0:00:00.061833\n",
      "--------------\n",
      "body\n",
      "['humans' 'human' 'body']\n",
      "body: 0:00:00.064171\n",
      "--------------\n",
      "animal\n",
      "['humans' 'human' 'pet' 'animal']\n",
      "animal: 0:00:00.061650\n",
      "--------------\n",
      "facial expression\n",
      "['humans' 'human' 'features' 'face' 'emotion' 'facial expression']\n",
      "facial expression: 0:00:00.058306\n",
      "--------------\n",
      "body\n",
      "['humans' 'human' 'body']\n",
      "body: 0:00:00.064983\n",
      "--------------\n",
      "animal\n",
      "['humans' 'human' 'pet' 'animal']\n",
      "animal: 0:00:00.055698\n",
      "--------------\n",
      "facial expression\n",
      "['humans' 'human' 'features' 'face' 'emotion' 'facial expression']\n",
      "facial expression: 0:00:00.051347\n",
      "--------------\n",
      "animal\n",
      "['humans' 'human' 'pet' 'animal']\n",
      "animal: 0:00:00.057599\n",
      "--------------\n",
      "facial expression\n",
      "['humans' 'human' 'features' 'face' 'emotion' 'facial expression']\n",
      "facial expression: 0:00:00.062081\n",
      "--------------\n",
      "face recognition\n",
      "['features' 'face' 'face recognition']\n",
      "face recognition: 0:00:00.067653\n",
      "--------------\n",
      "facial expression\n",
      "['humans' 'human' 'features' 'face' 'emotion' 'facial expression']\n",
      "facial expression: 0:00:00.063339\n",
      "--------------\n",
      "face recognition\n",
      "['features' 'face' 'face recognition']\n",
      "face recognition: 0:00:00.069016\n",
      "--------------\n",
      "facial expression\n",
      "['humans' 'human' 'features' 'face' 'emotion' 'facial expression']\n",
      "facial expression: 0:00:00.066953\n",
      "--------------\n",
      "rest\n",
      "['medication' 'treatment' 'therapy' 'dmn' 'rest']\n",
      "rest: 0:00:00.063369\n",
      "--------------\n",
      "rest\n",
      "['medication' 'treatment' 'therapy' 'dmn' 'rest']\n",
      "rest: 0:00:00.063916\n",
      "--------------\n",
      "neuron\n",
      "['rest' 'bold signal' 'selective attention' 'neuron']\n",
      "neuron: 0:00:00.056519\n",
      "--------------\n",
      "medication\n",
      "['rest' 'drug' 'drugs' 'dot' 'medication']\n",
      "medication: 0:00:00.053632\n",
      "--------------\n",
      "treatment\n",
      "['rest' 'treatment']\n",
      "treatment: 0:00:00.066799\n",
      "--------------\n",
      "therapy\n",
      "['rest' 'therapy']\n",
      "therapy: 0:00:00.115769\n",
      "--------------\n",
      "rest\n",
      "['medication' 'treatment' 'therapy' 'dmn' 'rest']\n",
      "rest: 0:00:00.102420\n",
      "--------------\n",
      "contrast\n",
      "['vision' 'view' 'contrast']\n",
      "contrast: 0:00:00.073115\n",
      "--------------\n",
      "visual field\n",
      "['vision' 'view' 'visual field']\n",
      "visual field: 0:00:00.072441\n",
      "--------------\n",
      "view\n",
      "['vision' 'visual' 'recognition' 'midbrain' 'visual field' 'modality'\n",
      " 'contrast' 'scene' 'visual motion' 'visual stimulus' 'visual stimuli'\n",
      " 'visual information' 'viewing' 'view']\n",
      "view: 0:00:00.069195\n",
      "--------------\n",
      "modality\n",
      "['vision' 'view' 'hearing' 'modality']\n",
      "modality: 0:00:00.063562\n",
      "--------------\n",
      "visual information\n",
      "['vision' 'view' 'visual information']\n",
      "visual information: 0:00:00.057891\n",
      "--------------\n",
      "recognition\n",
      "['vision' 'view' 'hearing' 'cognitive performance' 'cognitive function'\n",
      " 'recognition']\n",
      "recognition: 0:00:00.054247\n",
      "--------------\n",
      "visual\n",
      "['vision' 'view' 'visual']\n",
      "visual: 0:00:00.051179\n",
      "--------------\n",
      "midbrain\n",
      "['vision' 'view' 'midbrain']\n",
      "midbrain: 0:00:00.052645\n",
      "--------------\n",
      "visual motion\n",
      "['vision' 'view' 'visual motion']\n",
      "visual motion: 0:00:00.053028\n",
      "--------------\n",
      "scene\n",
      "['vision' 'view' 'scene']\n",
      "scene: 0:00:00.051624\n",
      "--------------\n",
      "visual stimulus\n",
      "['vision' 'view' 'visual stimulus']\n",
      "visual stimulus: 0:00:00.061176\n",
      "--------------\n",
      "visual stimuli\n",
      "['vision' 'view' 'visual stimuli']\n",
      "visual stimuli: 0:00:00.110032\n",
      "--------------\n",
      "contrast\n",
      "['vision' 'view' 'contrast']\n",
      "contrast: 0:00:00.090526\n",
      "--------------\n",
      "visual field\n",
      "['vision' 'view' 'visual field']\n",
      "visual field: 0:00:00.090456\n",
      "--------------\n",
      "vision\n",
      "['view' 'vision']\n",
      "vision: 0:00:00.114871\n",
      "--------------\n",
      "modality\n",
      "['vision' 'view' 'hearing' 'modality']\n",
      "modality: 0:00:00.095782\n",
      "--------------\n",
      "visual information\n",
      "['vision' 'view' 'visual information']\n",
      "visual information: 0:00:00.078781\n",
      "--------------\n",
      "recognition\n",
      "['vision' 'view' 'hearing' 'cognitive performance' 'cognitive function'\n",
      " 'recognition']\n",
      "recognition: 0:00:00.091998\n",
      "--------------\n",
      "visual\n",
      "['vision' 'view' 'visual']\n",
      "visual: 0:00:00.074321\n",
      "--------------\n",
      "midbrain\n",
      "['vision' 'view' 'midbrain']\n",
      "midbrain: 0:00:00.080651\n",
      "--------------\n",
      "visual motion\n",
      "['vision' 'view' 'visual motion']\n",
      "visual motion: 0:00:00.063320\n",
      "--------------\n",
      "scene\n",
      "['vision' 'view' 'scene']\n",
      "scene: 0:00:00.064116\n",
      "--------------\n",
      "visual stimulus\n",
      "['vision' 'view' 'visual stimulus']\n",
      "visual stimulus: 0:00:00.055927\n",
      "--------------\n",
      "visual stimuli\n",
      "['vision' 'view' 'visual stimuli']\n",
      "visual stimuli: 0:00:00.053572\n",
      "--------------\n",
      "view\n",
      "['vision' 'visual' 'recognition' 'midbrain' 'visual field' 'modality'\n",
      " 'contrast' 'scene' 'visual motion' 'visual stimulus' 'visual stimuli'\n",
      " 'visual information' 'viewing' 'view']\n",
      "view: 0:00:00.051228\n",
      "--------------\n",
      "view\n",
      "['vision' 'visual' 'recognition' 'midbrain' 'visual field' 'modality'\n",
      " 'contrast' 'scene' 'visual motion' 'visual stimulus' 'visual stimuli'\n",
      " 'visual information' 'viewing' 'view']\n",
      "view: 0:00:00.055771\n",
      "--------------\n",
      "cognitive performance\n",
      "['recognition' 'cognitive performance']\n",
      "cognitive performance: 0:00:00.050604\n",
      "--------------\n",
      "cognitive function\n",
      "['recognition' 'cognitive function']\n",
      "cognitive function: 0:00:00.053211\n",
      "--------------\n",
      "view\n",
      "['vision' 'visual' 'recognition' 'midbrain' 'visual field' 'modality'\n",
      " 'contrast' 'scene' 'visual motion' 'visual stimulus' 'visual stimuli'\n",
      " 'visual information' 'viewing' 'view']\n",
      "view: 0:00:00.052017\n",
      "--------------\n",
      "view\n",
      "['vision' 'visual' 'recognition' 'midbrain' 'visual field' 'modality'\n",
      " 'contrast' 'scene' 'visual motion' 'visual stimulus' 'visual stimuli'\n",
      " 'visual information' 'viewing' 'view']\n",
      "view: 0:00:00.051877\n",
      "--------------\n",
      "view\n",
      "['vision' 'visual' 'recognition' 'midbrain' 'visual field' 'modality'\n",
      " 'contrast' 'scene' 'visual motion' 'visual stimulus' 'visual stimuli'\n",
      " 'visual information' 'viewing' 'view']\n",
      "view: 0:00:00.052907\n",
      "--------------\n",
      "view\n",
      "['vision' 'visual' 'recognition' 'midbrain' 'visual field' 'modality'\n",
      " 'contrast' 'scene' 'visual motion' 'visual stimulus' 'visual stimuli'\n",
      " 'visual information' 'viewing' 'view']\n",
      "view: 0:00:00.056404\n",
      "--------------\n",
      "view\n",
      "['vision' 'visual' 'recognition' 'midbrain' 'visual field' 'modality'\n",
      " 'contrast' 'scene' 'visual motion' 'visual stimulus' 'visual stimuli'\n",
      " 'visual information' 'viewing' 'view']\n",
      "view: 0:00:00.053323\n",
      "--------------\n",
      "view\n",
      "['vision' 'visual' 'recognition' 'midbrain' 'visual field' 'modality'\n",
      " 'contrast' 'scene' 'visual motion' 'visual stimulus' 'visual stimuli'\n",
      " 'visual information' 'viewing' 'view']\n",
      "view: 0:00:00.053815\n",
      "--------------\n",
      "view\n",
      "['vision' 'visual' 'recognition' 'midbrain' 'visual field' 'modality'\n",
      " 'contrast' 'scene' 'visual motion' 'visual stimulus' 'visual stimuli'\n",
      " 'visual information' 'viewing' 'view']\n",
      "view: 0:00:00.055381\n",
      "--------------\n",
      "view\n",
      "['vision' 'visual' 'recognition' 'midbrain' 'visual field' 'modality'\n",
      " 'contrast' 'scene' 'visual motion' 'visual stimulus' 'visual stimuli'\n",
      " 'visual information' 'viewing' 'view']\n",
      "view: 0:00:00.055205\n",
      "--------------\n",
      "view\n",
      "['vision' 'visual' 'recognition' 'midbrain' 'visual field' 'modality'\n",
      " 'contrast' 'scene' 'visual motion' 'visual stimulus' 'visual stimuli'\n",
      " 'visual information' 'viewing' 'view']\n",
      "view: 0:00:00.050144\n",
      "--------------\n",
      "view\n",
      "['vision' 'visual' 'recognition' 'midbrain' 'visual field' 'modality'\n",
      " 'contrast' 'scene' 'visual motion' 'visual stimulus' 'visual stimuli'\n",
      " 'visual information' 'viewing' 'view']\n",
      "view: 0:00:00.052054\n",
      "--------------\n",
      "modality\n",
      "['vision' 'view' 'hearing' 'modality']\n",
      "modality: 0:00:00.049998\n",
      "--------------\n",
      "recognition\n",
      "['vision' 'view' 'hearing' 'cognitive performance' 'cognitive function'\n",
      " 'recognition']\n",
      "recognition: 0:00:00.056964\n",
      "--------------\n",
      "recognition\n",
      "['vision' 'view' 'hearing' 'cognitive performance' 'cognitive function'\n",
      " 'recognition']\n"
     ]
    },
    {
     "name": "stdout",
     "output_type": "stream",
     "text": [
      "recognition: 0:00:00.051791\n",
      "--------------\n",
      "recognition\n",
      "['vision' 'view' 'hearing' 'cognitive performance' 'cognitive function'\n",
      " 'recognition']\n",
      "recognition: 0:00:00.058824\n",
      "--------------\n",
      "arterial\n",
      "['map' 'arterial']\n",
      "arterial: 0:00:00.051460\n",
      "--------------\n",
      "neuron\n",
      "['rest' 'bold signal' 'selective attention' 'neuron']\n",
      "neuron: 0:00:00.054306\n",
      "--------------\n",
      "neuron\n",
      "['rest' 'bold signal' 'selective attention' 'neuron']\n",
      "neuron: 0:00:00.054890\n",
      "--------------\n",
      "adaptation\n",
      "['evolution' 'adaptation']\n",
      "adaptation: 0:00:00.053048\n",
      "--------------\n",
      "medication\n",
      "['rest' 'drug' 'drugs' 'dot' 'medication']\n",
      "medication: 0:00:00.049591\n",
      "--------------\n",
      "preparation\n",
      "['drug' 'drugs' 'children' 'preparation']\n",
      "preparation: 0:00:00.054168\n",
      "--------------\n",
      "placebo\n",
      "['drug' 'drugs' 'placebo']\n",
      "placebo: 0:00:00.050210\n",
      "--------------\n",
      "medication\n",
      "['rest' 'drug' 'drugs' 'dot' 'medication']\n",
      "medication: 0:00:00.071714\n",
      "--------------\n",
      "preparation\n",
      "['drug' 'drugs' 'children' 'preparation']\n",
      "preparation: 0:00:00.092371\n",
      "--------------\n",
      "placebo\n",
      "['drug' 'drugs' 'placebo']\n",
      "placebo: 0:00:00.055679\n",
      "--------------\n",
      "medication\n",
      "['rest' 'drug' 'drugs' 'dot' 'medication']\n",
      "medication: 0:00:00.052604\n",
      "--------------\n",
      "diffusion tensor\n",
      "['diffusion' 'diffusion tensor']\n",
      "diffusion tensor: 0:00:00.050660\n",
      "--------------\n",
      "symptom\n",
      "['expression' 'symptom']\n",
      "symptom: 0:00:00.055281\n",
      "--------------\n",
      "symptoms\n",
      "['expression' 'symptoms']\n",
      "symptoms: 0:00:00.054116\n",
      "--------------\n",
      "illness\n",
      "['pathophysiology' 'illness']\n",
      "illness: 0:00:00.053698\n",
      "--------------\n",
      "disease\n",
      "['pathophysiology' 'disease']\n",
      "disease: 0:00:00.057782\n",
      "--------------\n",
      "pathology\n",
      "['pathophysiology' 'anatomy' 'pathology']\n",
      "pathology: 0:00:00.050750\n",
      "--------------\n",
      "hyperactivity disorder\n",
      "['children' 'hyperactivity disorder']\n",
      "hyperactivity disorder: 0:00:00.061439\n",
      "--------------\n",
      "childhood\n",
      "['children' 'childhood']\n",
      "childhood: 0:00:00.053759\n",
      "--------------\n",
      "youth\n",
      "['children' 'youth']\n",
      "youth: 0:00:00.054100\n",
      "--------------\n",
      "preparation\n",
      "['drug' 'drugs' 'children' 'preparation']\n",
      "preparation: 0:00:00.052557\n",
      "--------------\n",
      "age\n",
      "['development' 'growing' 'aging' 'age']\n",
      "age: 0:00:00.061483\n",
      "--------------\n",
      "aging\n",
      "['development' 'growing' 'age' 'aging']\n",
      "aging: 0:00:00.056549\n",
      "--------------\n",
      "age\n",
      "['development' 'growing' 'aging' 'age']\n",
      "age: 0:00:00.053796\n",
      "--------------\n",
      "aging\n",
      "['development' 'growing' 'age' 'aging']\n",
      "aging: 0:00:00.050293\n",
      "--------------\n",
      "age\n",
      "['development' 'growing' 'aging' 'age']\n",
      "age: 0:00:00.054185\n",
      "--------------\n",
      "development\n",
      "['aging' 'age' 'development']\n",
      "development: 0:00:00.049829\n",
      "--------------\n",
      "growing\n",
      "['aging' 'age' 'growing']\n",
      "growing: 0:00:00.053514\n",
      "--------------\n",
      "aging\n",
      "['development' 'growing' 'age' 'aging']\n",
      "aging: 0:00:00.049937\n",
      "--------------\n",
      "development\n",
      "['aging' 'age' 'development']\n",
      "development: 0:00:00.052542\n",
      "--------------\n",
      "growing\n",
      "['aging' 'age' 'growing']\n",
      "growing: 0:00:00.047688\n",
      "--------------\n",
      "human\n",
      "['animal' 'animals' 'facial expression' 'primates' 'body' 'human']\n",
      "human: 0:00:00.050815\n",
      "--------------\n",
      "pet\n",
      "['animal' 'animals' 'pet']\n",
      "pet: 0:00:00.050440\n",
      "--------------\n",
      "human\n",
      "['animal' 'animals' 'facial expression' 'primates' 'body' 'human']\n",
      "human: 0:00:00.049297\n",
      "--------------\n",
      "pet\n",
      "['animal' 'animals' 'pet']\n",
      "pet: 0:00:00.050160\n",
      "--------------\n",
      "human\n",
      "['animal' 'animals' 'facial expression' 'primates' 'body' 'human']\n",
      "human: 0:00:00.050414\n",
      "--------------\n",
      "emotion\n",
      "['facial expression' 'emotion']\n",
      "emotion: 0:00:00.050782\n",
      "--------------\n",
      "features\n",
      "['facial expression' 'face recognition' 'features']\n",
      "features: 0:00:00.050327\n",
      "--------------\n",
      "face\n",
      "['facial expression' 'face recognition' 'face']\n",
      "face: 0:00:00.048402\n",
      "--------------\n",
      "human\n",
      "['animal' 'animals' 'facial expression' 'primates' 'body' 'human']\n",
      "human: 0:00:00.054508\n",
      "--------------\n",
      "human\n",
      "['animal' 'animals' 'facial expression' 'primates' 'body' 'human']\n",
      "human: 0:00:00.048492\n",
      "--------------\n",
      "process\n",
      "['early stage' 'latency' 'process']\n"
     ]
    },
    {
     "name": "stderr",
     "output_type": "stream",
     "text": [
      "/Users/gzanitti/.local/lib/python3.8/site-packages/pandas-1.1.5-py3.8-macosx-10.9-x86_64.egg/pandas/core/reshape/merge.py:1123: UserWarning: You are merging on int and float columns where the float values are not equal to their int representation\n",
      "  warnings.warn(\n",
      "/Users/gzanitti/.local/lib/python3.8/site-packages/pandas-1.1.5-py3.8-macosx-10.9-x86_64.egg/pandas/core/reshape/merge.py:1123: UserWarning: You are merging on int and float columns where the float values are not equal to their int representation\n",
      "  warnings.warn(\n",
      "/Users/gzanitti/.local/lib/python3.8/site-packages/pandas-1.1.5-py3.8-macosx-10.9-x86_64.egg/pandas/core/reshape/merge.py:1123: UserWarning: You are merging on int and float columns where the float values are not equal to their int representation\n",
      "  warnings.warn(\n",
      "/Users/gzanitti/.local/lib/python3.8/site-packages/pandas-1.1.5-py3.8-macosx-10.9-x86_64.egg/pandas/core/reshape/merge.py:1123: UserWarning: You are merging on int and float columns where the float values are not equal to their int representation\n",
      "  warnings.warn(\n"
     ]
    },
    {
     "name": "stdout",
     "output_type": "stream",
     "text": [
      "process: 0:12:26.797764\n",
      "process\n",
      "['early stage' 'latency' 'process']\n",
      "process: 0:00:00.140054\n",
      "--------------\n",
      "touch\n",
      "['communication' 'touch']\n"
     ]
    },
    {
     "name": "stderr",
     "output_type": "stream",
     "text": [
      "/Users/gzanitti/.local/lib/python3.8/site-packages/pandas-1.1.5-py3.8-macosx-10.9-x86_64.egg/pandas/core/reshape/merge.py:1123: UserWarning: You are merging on int and float columns where the float values are not equal to their int representation\n",
      "  warnings.warn(\n",
      "/Users/gzanitti/.local/lib/python3.8/site-packages/pandas-1.1.5-py3.8-macosx-10.9-x86_64.egg/pandas/core/reshape/merge.py:1123: UserWarning: You are merging on int and float columns where the float values are not equal to their int representation\n",
      "  warnings.warn(\n",
      "/Users/gzanitti/.local/lib/python3.8/site-packages/pandas-1.1.5-py3.8-macosx-10.9-x86_64.egg/pandas/core/reshape/merge.py:1123: UserWarning: You are merging on int and float columns where the float values are not equal to their int representation\n",
      "  warnings.warn(\n",
      "/Users/gzanitti/.local/lib/python3.8/site-packages/pandas-1.1.5-py3.8-macosx-10.9-x86_64.egg/pandas/core/reshape/merge.py:1123: UserWarning: You are merging on int and float columns where the float values are not equal to their int representation\n",
      "  warnings.warn(\n"
     ]
    },
    {
     "name": "stdout",
     "output_type": "stream",
     "text": [
      "touch: 0:12:58.588675\n",
      "remain\n",
      "['life' 'remain']\n"
     ]
    },
    {
     "name": "stderr",
     "output_type": "stream",
     "text": [
      "/Users/gzanitti/.local/lib/python3.8/site-packages/pandas-1.1.5-py3.8-macosx-10.9-x86_64.egg/pandas/core/reshape/merge.py:1123: UserWarning: You are merging on int and float columns where the float values are not equal to their int representation\n",
      "  warnings.warn(\n",
      "/Users/gzanitti/.local/lib/python3.8/site-packages/pandas-1.1.5-py3.8-macosx-10.9-x86_64.egg/pandas/core/reshape/merge.py:1123: UserWarning: You are merging on int and float columns where the float values are not equal to their int representation\n",
      "  warnings.warn(\n",
      "/Users/gzanitti/.local/lib/python3.8/site-packages/pandas-1.1.5-py3.8-macosx-10.9-x86_64.egg/pandas/core/reshape/merge.py:1123: UserWarning: You are merging on int and float columns where the float values are not equal to their int representation\n",
      "  warnings.warn(\n",
      "/Users/gzanitti/.local/lib/python3.8/site-packages/pandas-1.1.5-py3.8-macosx-10.9-x86_64.egg/pandas/core/reshape/merge.py:1123: UserWarning: You are merging on int and float columns where the float values are not equal to their int representation\n",
      "  warnings.warn(\n"
     ]
    },
    {
     "name": "stdout",
     "output_type": "stream",
     "text": [
      "remain: 0:13:51.685006\n",
      "life\n",
      "['remain' 'life']\n",
      "life: 0:00:00.134823\n",
      "--------------\n",
      "addiction\n",
      "['dependence' 'addiction']\n"
     ]
    },
    {
     "name": "stderr",
     "output_type": "stream",
     "text": [
      "/Users/gzanitti/.local/lib/python3.8/site-packages/pandas-1.1.5-py3.8-macosx-10.9-x86_64.egg/pandas/core/reshape/merge.py:1123: UserWarning: You are merging on int and float columns where the float values are not equal to their int representation\n",
      "  warnings.warn(\n",
      "/Users/gzanitti/.local/lib/python3.8/site-packages/pandas-1.1.5-py3.8-macosx-10.9-x86_64.egg/pandas/core/reshape/merge.py:1123: UserWarning: You are merging on int and float columns where the float values are not equal to their int representation\n",
      "  warnings.warn(\n",
      "/Users/gzanitti/.local/lib/python3.8/site-packages/pandas-1.1.5-py3.8-macosx-10.9-x86_64.egg/pandas/core/reshape/merge.py:1123: UserWarning: You are merging on int and float columns where the float values are not equal to their int representation\n",
      "  warnings.warn(\n",
      "/Users/gzanitti/.local/lib/python3.8/site-packages/pandas-1.1.5-py3.8-macosx-10.9-x86_64.egg/pandas/core/reshape/merge.py:1123: UserWarning: You are merging on int and float columns where the float values are not equal to their int representation\n",
      "  warnings.warn(\n"
     ]
    },
    {
     "name": "stdout",
     "output_type": "stream",
     "text": [
      "addiction: 0:12:43.116380\n",
      "sex\n",
      "['gender' 'sex']\n"
     ]
    },
    {
     "name": "stderr",
     "output_type": "stream",
     "text": [
      "/Users/gzanitti/.local/lib/python3.8/site-packages/pandas-1.1.5-py3.8-macosx-10.9-x86_64.egg/pandas/core/reshape/merge.py:1123: UserWarning: You are merging on int and float columns where the float values are not equal to their int representation\n",
      "  warnings.warn(\n",
      "/Users/gzanitti/.local/lib/python3.8/site-packages/pandas-1.1.5-py3.8-macosx-10.9-x86_64.egg/pandas/core/reshape/merge.py:1123: UserWarning: You are merging on int and float columns where the float values are not equal to their int representation\n",
      "  warnings.warn(\n",
      "/Users/gzanitti/.local/lib/python3.8/site-packages/pandas-1.1.5-py3.8-macosx-10.9-x86_64.egg/pandas/core/reshape/merge.py:1123: UserWarning: You are merging on int and float columns where the float values are not equal to their int representation\n",
      "  warnings.warn(\n",
      "/Users/gzanitti/.local/lib/python3.8/site-packages/pandas-1.1.5-py3.8-macosx-10.9-x86_64.egg/pandas/core/reshape/merge.py:1123: UserWarning: You are merging on int and float columns where the float values are not equal to their int representation\n",
      "  warnings.warn(\n"
     ]
    },
    {
     "name": "stdout",
     "output_type": "stream",
     "text": [
      "sex: 0:11:38.009878\n",
      "gender\n",
      "['sex' 'gender']\n",
      "gender: 0:00:00.091073\n",
      "--------------\n",
      "stroke\n",
      "['epilepsy' 'stroke']\n"
     ]
    },
    {
     "name": "stderr",
     "output_type": "stream",
     "text": [
      "/Users/gzanitti/.local/lib/python3.8/site-packages/pandas-1.1.5-py3.8-macosx-10.9-x86_64.egg/pandas/core/reshape/merge.py:1123: UserWarning: You are merging on int and float columns where the float values are not equal to their int representation\n",
      "  warnings.warn(\n",
      "/Users/gzanitti/.local/lib/python3.8/site-packages/pandas-1.1.5-py3.8-macosx-10.9-x86_64.egg/pandas/core/reshape/merge.py:1123: UserWarning: You are merging on int and float columns where the float values are not equal to their int representation\n",
      "  warnings.warn(\n",
      "/Users/gzanitti/.local/lib/python3.8/site-packages/pandas-1.1.5-py3.8-macosx-10.9-x86_64.egg/pandas/core/reshape/merge.py:1123: UserWarning: You are merging on int and float columns where the float values are not equal to their int representation\n",
      "  warnings.warn(\n",
      "/Users/gzanitti/.local/lib/python3.8/site-packages/pandas-1.1.5-py3.8-macosx-10.9-x86_64.egg/pandas/core/reshape/merge.py:1123: UserWarning: You are merging on int and float columns where the float values are not equal to their int representation\n",
      "  warnings.warn(\n"
     ]
    },
    {
     "name": "stdout",
     "output_type": "stream",
     "text": [
      "stroke: 0:10:28.790266\n",
      "access\n",
      "['epilepsy' 'access']\n"
     ]
    },
    {
     "name": "stderr",
     "output_type": "stream",
     "text": [
      "/Users/gzanitti/.local/lib/python3.8/site-packages/pandas-1.1.5-py3.8-macosx-10.9-x86_64.egg/pandas/core/reshape/merge.py:1123: UserWarning: You are merging on int and float columns where the float values are not equal to their int representation\n",
      "  warnings.warn(\n",
      "/Users/gzanitti/.local/lib/python3.8/site-packages/pandas-1.1.5-py3.8-macosx-10.9-x86_64.egg/pandas/core/reshape/merge.py:1123: UserWarning: You are merging on int and float columns where the float values are not equal to their int representation\n",
      "  warnings.warn(\n",
      "/Users/gzanitti/.local/lib/python3.8/site-packages/pandas-1.1.5-py3.8-macosx-10.9-x86_64.egg/pandas/core/reshape/merge.py:1123: UserWarning: You are merging on int and float columns where the float values are not equal to their int representation\n",
      "  warnings.warn(\n",
      "/Users/gzanitti/.local/lib/python3.8/site-packages/pandas-1.1.5-py3.8-macosx-10.9-x86_64.egg/pandas/core/reshape/merge.py:1123: UserWarning: You are merging on int and float columns where the float values are not equal to their int representation\n",
      "  warnings.warn(\n"
     ]
    },
    {
     "name": "stdout",
     "output_type": "stream",
     "text": [
      "access: 0:10:24.316552\n",
      "fear\n",
      "['anxiety' 'fear']\n"
     ]
    },
    {
     "name": "stderr",
     "output_type": "stream",
     "text": [
      "/Users/gzanitti/.local/lib/python3.8/site-packages/pandas-1.1.5-py3.8-macosx-10.9-x86_64.egg/pandas/core/reshape/merge.py:1123: UserWarning: You are merging on int and float columns where the float values are not equal to their int representation\n",
      "  warnings.warn(\n",
      "/Users/gzanitti/.local/lib/python3.8/site-packages/pandas-1.1.5-py3.8-macosx-10.9-x86_64.egg/pandas/core/reshape/merge.py:1123: UserWarning: You are merging on int and float columns where the float values are not equal to their int representation\n",
      "  warnings.warn(\n",
      "/Users/gzanitti/.local/lib/python3.8/site-packages/pandas-1.1.5-py3.8-macosx-10.9-x86_64.egg/pandas/core/reshape/merge.py:1123: UserWarning: You are merging on int and float columns where the float values are not equal to their int representation\n",
      "  warnings.warn(\n",
      "/Users/gzanitti/.local/lib/python3.8/site-packages/pandas-1.1.5-py3.8-macosx-10.9-x86_64.egg/pandas/core/reshape/merge.py:1123: UserWarning: You are merging on int and float columns where the float values are not equal to their int representation\n",
      "  warnings.warn(\n"
     ]
    },
    {
     "name": "stdout",
     "output_type": "stream",
     "text": [
      "fear: 0:11:06.921287\n",
      "anxiety\n",
      "['fear' 'anxiety']\n",
      "anxiety: 0:00:00.143939\n",
      "--------------\n",
      "latency\n",
      "['process' 'latency']\n"
     ]
    },
    {
     "name": "stderr",
     "output_type": "stream",
     "text": [
      "/Users/gzanitti/.local/lib/python3.8/site-packages/pandas-1.1.5-py3.8-macosx-10.9-x86_64.egg/pandas/core/reshape/merge.py:1123: UserWarning: You are merging on int and float columns where the float values are not equal to their int representation\n",
      "  warnings.warn(\n",
      "/Users/gzanitti/.local/lib/python3.8/site-packages/pandas-1.1.5-py3.8-macosx-10.9-x86_64.egg/pandas/core/reshape/merge.py:1123: UserWarning: You are merging on int and float columns where the float values are not equal to their int representation\n",
      "  warnings.warn(\n",
      "/Users/gzanitti/.local/lib/python3.8/site-packages/pandas-1.1.5-py3.8-macosx-10.9-x86_64.egg/pandas/core/reshape/merge.py:1123: UserWarning: You are merging on int and float columns where the float values are not equal to their int representation\n",
      "  warnings.warn(\n",
      "/Users/gzanitti/.local/lib/python3.8/site-packages/pandas-1.1.5-py3.8-macosx-10.9-x86_64.egg/pandas/core/reshape/merge.py:1123: UserWarning: You are merging on int and float columns where the float values are not equal to their int representation\n",
      "  warnings.warn(\n"
     ]
    },
    {
     "name": "stdout",
     "output_type": "stream",
     "text": [
      "latency: 0:11:09.431932\n",
      "early stage\n",
      "['process' 'early stage']\n"
     ]
    },
    {
     "name": "stderr",
     "output_type": "stream",
     "text": [
      "/Users/gzanitti/.local/lib/python3.8/site-packages/pandas-1.1.5-py3.8-macosx-10.9-x86_64.egg/pandas/core/reshape/merge.py:1123: UserWarning: You are merging on int and float columns where the float values are not equal to their int representation\n",
      "  warnings.warn(\n",
      "/Users/gzanitti/.local/lib/python3.8/site-packages/pandas-1.1.5-py3.8-macosx-10.9-x86_64.egg/pandas/core/reshape/merge.py:1123: UserWarning: You are merging on int and float columns where the float values are not equal to their int representation\n",
      "  warnings.warn(\n",
      "/Users/gzanitti/.local/lib/python3.8/site-packages/pandas-1.1.5-py3.8-macosx-10.9-x86_64.egg/pandas/core/reshape/merge.py:1123: UserWarning: You are merging on int and float columns where the float values are not equal to their int representation\n",
      "  warnings.warn(\n",
      "/Users/gzanitti/.local/lib/python3.8/site-packages/pandas-1.1.5-py3.8-macosx-10.9-x86_64.egg/pandas/core/reshape/merge.py:1123: UserWarning: You are merging on int and float columns where the float values are not equal to their int representation\n",
      "  warnings.warn(\n",
      "/Users/gzanitti/opt/miniconda3/envs/neurolang/lib/python3.8/site-packages/tables/path.py:155: NaturalNameWarning: object name is not a valid Python identifier: 'early stage'; it does not match the pattern ``^[a-zA-Z_][a-zA-Z0-9_]*$``; you will not be able to use natural naming to access this object; using ``getattr()`` will still work, though\n",
      "  check_attribute_name(name)\n"
     ]
    },
    {
     "name": "stdout",
     "output_type": "stream",
     "text": [
      "early stage: 0:11:01.726579\n",
      "speech production\n",
      "['sound' 'voice' 'speech' 'language' 'speech production']\n"
     ]
    },
    {
     "name": "stderr",
     "output_type": "stream",
     "text": [
      "/Users/gzanitti/.local/lib/python3.8/site-packages/pandas-1.1.5-py3.8-macosx-10.9-x86_64.egg/pandas/core/reshape/merge.py:1123: UserWarning: You are merging on int and float columns where the float values are not equal to their int representation\n",
      "  warnings.warn(\n",
      "/Users/gzanitti/.local/lib/python3.8/site-packages/pandas-1.1.5-py3.8-macosx-10.9-x86_64.egg/pandas/core/reshape/merge.py:1123: UserWarning: You are merging on int and float columns where the float values are not equal to their int representation\n",
      "  warnings.warn(\n",
      "/Users/gzanitti/.local/lib/python3.8/site-packages/pandas-1.1.5-py3.8-macosx-10.9-x86_64.egg/pandas/core/reshape/merge.py:1123: UserWarning: You are merging on int and float columns where the float values are not equal to their int representation\n",
      "  warnings.warn(\n",
      "/Users/gzanitti/.local/lib/python3.8/site-packages/pandas-1.1.5-py3.8-macosx-10.9-x86_64.egg/pandas/core/reshape/merge.py:1123: UserWarning: You are merging on int and float columns where the float values are not equal to their int representation\n",
      "  warnings.warn(\n",
      "/Users/gzanitti/opt/miniconda3/envs/neurolang/lib/python3.8/site-packages/tables/path.py:155: NaturalNameWarning: object name is not a valid Python identifier: 'speech production'; it does not match the pattern ``^[a-zA-Z_][a-zA-Z0-9_]*$``; you will not be able to use natural naming to access this object; using ``getattr()`` will still work, though\n",
      "  check_attribute_name(name)\n"
     ]
    },
    {
     "name": "stdout",
     "output_type": "stream",
     "text": [
      "speech production: 0:11:30.426387\n",
      "tone\n",
      "['sound' 'voice' 'speech' 'tone']\n"
     ]
    },
    {
     "name": "stderr",
     "output_type": "stream",
     "text": [
      "/Users/gzanitti/.local/lib/python3.8/site-packages/pandas-1.1.5-py3.8-macosx-10.9-x86_64.egg/pandas/core/reshape/merge.py:1123: UserWarning: You are merging on int and float columns where the float values are not equal to their int representation\n",
      "  warnings.warn(\n",
      "/Users/gzanitti/.local/lib/python3.8/site-packages/pandas-1.1.5-py3.8-macosx-10.9-x86_64.egg/pandas/core/reshape/merge.py:1123: UserWarning: You are merging on int and float columns where the float values are not equal to their int representation\n",
      "  warnings.warn(\n",
      "/Users/gzanitti/.local/lib/python3.8/site-packages/pandas-1.1.5-py3.8-macosx-10.9-x86_64.egg/pandas/core/reshape/merge.py:1123: UserWarning: You are merging on int and float columns where the float values are not equal to their int representation\n",
      "  warnings.warn(\n",
      "/Users/gzanitti/.local/lib/python3.8/site-packages/pandas-1.1.5-py3.8-macosx-10.9-x86_64.egg/pandas/core/reshape/merge.py:1123: UserWarning: You are merging on int and float columns where the float values are not equal to their int representation\n",
      "  warnings.warn(\n"
     ]
    },
    {
     "name": "stdout",
     "output_type": "stream",
     "text": [
      "tone: 0:12:38.157566\n",
      "speech production\n",
      "['sound' 'voice' 'speech' 'language' 'speech production']\n",
      "speech production: 0:00:00.154901\n",
      "--------------\n",
      "tone\n",
      "['sound' 'voice' 'speech' 'tone']\n",
      "tone: 0:00:00.090800\n",
      "--------------\n",
      "speech production\n",
      "['sound' 'voice' 'speech' 'language' 'speech production']\n",
      "speech production: 0:00:00.080648\n",
      "--------------\n",
      "tone\n",
      "['sound' 'voice' 'speech' 'tone']\n",
      "tone: 0:00:00.078482\n",
      "--------------\n",
      "speech production\n",
      "['sound' 'voice' 'speech' 'language' 'speech production']\n",
      "speech production: 0:00:00.074655\n",
      "--------------\n",
      "sound\n",
      "['language' 'speech production' 'tone' 'sound']\n"
     ]
    },
    {
     "name": "stderr",
     "output_type": "stream",
     "text": [
      "/Users/gzanitti/.local/lib/python3.8/site-packages/pandas-1.1.5-py3.8-macosx-10.9-x86_64.egg/pandas/core/reshape/merge.py:1123: UserWarning: You are merging on int and float columns where the float values are not equal to their int representation\n",
      "  warnings.warn(\n",
      "/Users/gzanitti/.local/lib/python3.8/site-packages/pandas-1.1.5-py3.8-macosx-10.9-x86_64.egg/pandas/core/reshape/merge.py:1123: UserWarning: You are merging on int and float columns where the float values are not equal to their int representation\n",
      "  warnings.warn(\n",
      "/Users/gzanitti/.local/lib/python3.8/site-packages/pandas-1.1.5-py3.8-macosx-10.9-x86_64.egg/pandas/core/reshape/merge.py:1123: UserWarning: You are merging on int and float columns where the float values are not equal to their int representation\n",
      "  warnings.warn(\n",
      "/Users/gzanitti/.local/lib/python3.8/site-packages/pandas-1.1.5-py3.8-macosx-10.9-x86_64.egg/pandas/core/reshape/merge.py:1123: UserWarning: You are merging on int and float columns where the float values are not equal to their int representation\n",
      "  warnings.warn(\n"
     ]
    },
    {
     "name": "stdout",
     "output_type": "stream",
     "text": [
      "sound: 0:12:58.757082\n",
      "voice\n",
      "['language' 'speech production' 'tone' 'voice']\n"
     ]
    },
    {
     "name": "stderr",
     "output_type": "stream",
     "text": [
      "/Users/gzanitti/.local/lib/python3.8/site-packages/pandas-1.1.5-py3.8-macosx-10.9-x86_64.egg/pandas/core/reshape/merge.py:1123: UserWarning: You are merging on int and float columns where the float values are not equal to their int representation\n",
      "  warnings.warn(\n",
      "/Users/gzanitti/.local/lib/python3.8/site-packages/pandas-1.1.5-py3.8-macosx-10.9-x86_64.egg/pandas/core/reshape/merge.py:1123: UserWarning: You are merging on int and float columns where the float values are not equal to their int representation\n",
      "  warnings.warn(\n",
      "/Users/gzanitti/.local/lib/python3.8/site-packages/pandas-1.1.5-py3.8-macosx-10.9-x86_64.egg/pandas/core/reshape/merge.py:1123: UserWarning: You are merging on int and float columns where the float values are not equal to their int representation\n",
      "  warnings.warn(\n",
      "/Users/gzanitti/.local/lib/python3.8/site-packages/pandas-1.1.5-py3.8-macosx-10.9-x86_64.egg/pandas/core/reshape/merge.py:1123: UserWarning: You are merging on int and float columns where the float values are not equal to their int representation\n",
      "  warnings.warn(\n"
     ]
    },
    {
     "name": "stdout",
     "output_type": "stream",
     "text": [
      "voice: 0:11:05.878543\n",
      "speech\n",
      "['language' 'speech production' 'tone' 'speech']\n"
     ]
    },
    {
     "name": "stderr",
     "output_type": "stream",
     "text": [
      "/Users/gzanitti/.local/lib/python3.8/site-packages/pandas-1.1.5-py3.8-macosx-10.9-x86_64.egg/pandas/core/reshape/merge.py:1123: UserWarning: You are merging on int and float columns where the float values are not equal to their int representation\n",
      "  warnings.warn(\n",
      "/Users/gzanitti/.local/lib/python3.8/site-packages/pandas-1.1.5-py3.8-macosx-10.9-x86_64.egg/pandas/core/reshape/merge.py:1123: UserWarning: You are merging on int and float columns where the float values are not equal to their int representation\n",
      "  warnings.warn(\n",
      "/Users/gzanitti/.local/lib/python3.8/site-packages/pandas-1.1.5-py3.8-macosx-10.9-x86_64.egg/pandas/core/reshape/merge.py:1123: UserWarning: You are merging on int and float columns where the float values are not equal to their int representation\n",
      "  warnings.warn(\n",
      "/Users/gzanitti/.local/lib/python3.8/site-packages/pandas-1.1.5-py3.8-macosx-10.9-x86_64.egg/pandas/core/reshape/merge.py:1123: UserWarning: You are merging on int and float columns where the float values are not equal to their int representation\n",
      "  warnings.warn(\n"
     ]
    },
    {
     "name": "stdout",
     "output_type": "stream",
     "text": [
      "speech: 0:11:17.905836\n",
      "sound\n",
      "['language' 'speech production' 'tone' 'sound']\n",
      "sound: 0:00:00.139093\n",
      "--------------\n",
      "voice\n",
      "['language' 'speech production' 'tone' 'voice']\n",
      "voice: 0:00:00.083788\n",
      "--------------\n",
      "speech\n",
      "['language' 'speech production' 'tone' 'speech']\n",
      "speech: 0:00:00.104915\n",
      "--------------\n",
      "sound\n",
      "['language' 'speech production' 'tone' 'sound']\n",
      "sound: 0:00:00.080671\n",
      "--------------\n",
      "voice\n",
      "['language' 'speech production' 'tone' 'voice']\n",
      "voice: 0:00:00.070368\n",
      "--------------\n",
      "speech\n",
      "['language' 'speech production' 'tone' 'speech']\n",
      "speech: 0:00:00.075409\n",
      "--------------\n",
      "dependence\n",
      "['addiction' 'dependence']\n",
      "dependence: 0:00:00.070323\n",
      "--------------\n",
      "perception\n",
      "['sensory information' 'perception']\n"
     ]
    },
    {
     "name": "stderr",
     "output_type": "stream",
     "text": [
      "/Users/gzanitti/.local/lib/python3.8/site-packages/pandas-1.1.5-py3.8-macosx-10.9-x86_64.egg/pandas/core/reshape/merge.py:1123: UserWarning: You are merging on int and float columns where the float values are not equal to their int representation\n",
      "  warnings.warn(\n",
      "/Users/gzanitti/.local/lib/python3.8/site-packages/pandas-1.1.5-py3.8-macosx-10.9-x86_64.egg/pandas/core/reshape/merge.py:1123: UserWarning: You are merging on int and float columns where the float values are not equal to their int representation\n",
      "  warnings.warn(\n",
      "/Users/gzanitti/.local/lib/python3.8/site-packages/pandas-1.1.5-py3.8-macosx-10.9-x86_64.egg/pandas/core/reshape/merge.py:1123: UserWarning: You are merging on int and float columns where the float values are not equal to their int representation\n",
      "  warnings.warn(\n",
      "/Users/gzanitti/.local/lib/python3.8/site-packages/pandas-1.1.5-py3.8-macosx-10.9-x86_64.egg/pandas/core/reshape/merge.py:1123: UserWarning: You are merging on int and float columns where the float values are not equal to their int representation\n",
      "  warnings.warn(\n"
     ]
    },
    {
     "name": "stdout",
     "output_type": "stream",
     "text": [
      "perception: 0:11:29.265291\n",
      "sense\n",
      "['sensory information' 'perception' 'sense']\n"
     ]
    },
    {
     "name": "stderr",
     "output_type": "stream",
     "text": [
      "/Users/gzanitti/.local/lib/python3.8/site-packages/pandas-1.1.5-py3.8-macosx-10.9-x86_64.egg/pandas/core/reshape/merge.py:1123: UserWarning: You are merging on int and float columns where the float values are not equal to their int representation\n",
      "  warnings.warn(\n",
      "/Users/gzanitti/.local/lib/python3.8/site-packages/pandas-1.1.5-py3.8-macosx-10.9-x86_64.egg/pandas/core/reshape/merge.py:1123: UserWarning: You are merging on int and float columns where the float values are not equal to their int representation\n",
      "  warnings.warn(\n",
      "/Users/gzanitti/.local/lib/python3.8/site-packages/pandas-1.1.5-py3.8-macosx-10.9-x86_64.egg/pandas/core/reshape/merge.py:1123: UserWarning: You are merging on int and float columns where the float values are not equal to their int representation\n",
      "  warnings.warn(\n",
      "/Users/gzanitti/.local/lib/python3.8/site-packages/pandas-1.1.5-py3.8-macosx-10.9-x86_64.egg/pandas/core/reshape/merge.py:1123: UserWarning: You are merging on int and float columns where the float values are not equal to their int representation\n",
      "  warnings.warn(\n"
     ]
    },
    {
     "name": "stdout",
     "output_type": "stream",
     "text": [
      "sense: 0:11:27.457248\n",
      "sense\n",
      "['sensory information' 'perception' 'sense']\n",
      "sense: 0:00:00.288364\n",
      "--------------\n",
      "sensory information\n",
      "['perception' 'sensation' 'sense' 'sensory information']\n"
     ]
    },
    {
     "name": "stderr",
     "output_type": "stream",
     "text": [
      "/Users/gzanitti/.local/lib/python3.8/site-packages/pandas-1.1.5-py3.8-macosx-10.9-x86_64.egg/pandas/core/reshape/merge.py:1123: UserWarning: You are merging on int and float columns where the float values are not equal to their int representation\n",
      "  warnings.warn(\n",
      "/Users/gzanitti/.local/lib/python3.8/site-packages/pandas-1.1.5-py3.8-macosx-10.9-x86_64.egg/pandas/core/reshape/merge.py:1123: UserWarning: You are merging on int and float columns where the float values are not equal to their int representation\n",
      "  warnings.warn(\n",
      "/Users/gzanitti/.local/lib/python3.8/site-packages/pandas-1.1.5-py3.8-macosx-10.9-x86_64.egg/pandas/core/reshape/merge.py:1123: UserWarning: You are merging on int and float columns where the float values are not equal to their int representation\n",
      "  warnings.warn(\n",
      "/Users/gzanitti/.local/lib/python3.8/site-packages/pandas-1.1.5-py3.8-macosx-10.9-x86_64.egg/pandas/core/reshape/merge.py:1123: UserWarning: You are merging on int and float columns where the float values are not equal to their int representation\n",
      "  warnings.warn(\n",
      "/Users/gzanitti/opt/miniconda3/envs/neurolang/lib/python3.8/site-packages/tables/path.py:155: NaturalNameWarning: object name is not a valid Python identifier: 'sensory information'; it does not match the pattern ``^[a-zA-Z_][a-zA-Z0-9_]*$``; you will not be able to use natural naming to access this object; using ``getattr()`` will still work, though\n",
      "  check_attribute_name(name)\n"
     ]
    },
    {
     "name": "stdout",
     "output_type": "stream",
     "text": [
      "sensory information: 0:11:38.858902\n",
      "variety\n",
      "['variant' 'variety']\n"
     ]
    },
    {
     "name": "stderr",
     "output_type": "stream",
     "text": [
      "/Users/gzanitti/.local/lib/python3.8/site-packages/pandas-1.1.5-py3.8-macosx-10.9-x86_64.egg/pandas/core/reshape/merge.py:1123: UserWarning: You are merging on int and float columns where the float values are not equal to their int representation\n",
      "  warnings.warn(\n",
      "/Users/gzanitti/.local/lib/python3.8/site-packages/pandas-1.1.5-py3.8-macosx-10.9-x86_64.egg/pandas/core/reshape/merge.py:1123: UserWarning: You are merging on int and float columns where the float values are not equal to their int representation\n",
      "  warnings.warn(\n",
      "/Users/gzanitti/.local/lib/python3.8/site-packages/pandas-1.1.5-py3.8-macosx-10.9-x86_64.egg/pandas/core/reshape/merge.py:1123: UserWarning: You are merging on int and float columns where the float values are not equal to their int representation\n",
      "  warnings.warn(\n",
      "/Users/gzanitti/.local/lib/python3.8/site-packages/pandas-1.1.5-py3.8-macosx-10.9-x86_64.egg/pandas/core/reshape/merge.py:1123: UserWarning: You are merging on int and float columns where the float values are not equal to their int representation\n",
      "  warnings.warn(\n"
     ]
    },
    {
     "name": "stdout",
     "output_type": "stream",
     "text": [
      "variety: 0:10:54.390030\n",
      "neuroscience\n",
      "['neurobiology' 'neuroscience']\n"
     ]
    },
    {
     "name": "stderr",
     "output_type": "stream",
     "text": [
      "/Users/gzanitti/.local/lib/python3.8/site-packages/pandas-1.1.5-py3.8-macosx-10.9-x86_64.egg/pandas/core/reshape/merge.py:1123: UserWarning: You are merging on int and float columns where the float values are not equal to their int representation\n",
      "  warnings.warn(\n",
      "/Users/gzanitti/.local/lib/python3.8/site-packages/pandas-1.1.5-py3.8-macosx-10.9-x86_64.egg/pandas/core/reshape/merge.py:1123: UserWarning: You are merging on int and float columns where the float values are not equal to their int representation\n",
      "  warnings.warn(\n",
      "/Users/gzanitti/.local/lib/python3.8/site-packages/pandas-1.1.5-py3.8-macosx-10.9-x86_64.egg/pandas/core/reshape/merge.py:1123: UserWarning: You are merging on int and float columns where the float values are not equal to their int representation\n",
      "  warnings.warn(\n",
      "/Users/gzanitti/.local/lib/python3.8/site-packages/pandas-1.1.5-py3.8-macosx-10.9-x86_64.egg/pandas/core/reshape/merge.py:1123: UserWarning: You are merging on int and float columns where the float values are not equal to their int representation\n",
      "  warnings.warn(\n"
     ]
    },
    {
     "name": "stdout",
     "output_type": "stream",
     "text": [
      "neuroscience: 0:11:10.183199\n",
      "fractional anisotropy\n",
      "['anisotropy' 'fractional anisotropy']\n"
     ]
    },
    {
     "name": "stderr",
     "output_type": "stream",
     "text": [
      "/Users/gzanitti/.local/lib/python3.8/site-packages/pandas-1.1.5-py3.8-macosx-10.9-x86_64.egg/pandas/core/reshape/merge.py:1123: UserWarning: You are merging on int and float columns where the float values are not equal to their int representation\n",
      "  warnings.warn(\n",
      "/Users/gzanitti/.local/lib/python3.8/site-packages/pandas-1.1.5-py3.8-macosx-10.9-x86_64.egg/pandas/core/reshape/merge.py:1123: UserWarning: You are merging on int and float columns where the float values are not equal to their int representation\n",
      "  warnings.warn(\n",
      "/Users/gzanitti/.local/lib/python3.8/site-packages/pandas-1.1.5-py3.8-macosx-10.9-x86_64.egg/pandas/core/reshape/merge.py:1123: UserWarning: You are merging on int and float columns where the float values are not equal to their int representation\n",
      "  warnings.warn(\n",
      "/Users/gzanitti/.local/lib/python3.8/site-packages/pandas-1.1.5-py3.8-macosx-10.9-x86_64.egg/pandas/core/reshape/merge.py:1123: UserWarning: You are merging on int and float columns where the float values are not equal to their int representation\n",
      "  warnings.warn(\n",
      "/Users/gzanitti/opt/miniconda3/envs/neurolang/lib/python3.8/site-packages/tables/path.py:155: NaturalNameWarning: object name is not a valid Python identifier: 'fractional anisotropy'; it does not match the pattern ``^[a-zA-Z_][a-zA-Z0-9_]*$``; you will not be able to use natural naming to access this object; using ``getattr()`` will still work, though\n",
      "  check_attribute_name(name)\n"
     ]
    },
    {
     "name": "stdout",
     "output_type": "stream",
     "text": [
      "fractional anisotropy: 0:11:36.987805\n",
      "pain\n",
      "['suffering' 'pain']\n"
     ]
    },
    {
     "name": "stderr",
     "output_type": "stream",
     "text": [
      "/Users/gzanitti/.local/lib/python3.8/site-packages/pandas-1.1.5-py3.8-macosx-10.9-x86_64.egg/pandas/core/reshape/merge.py:1123: UserWarning: You are merging on int and float columns where the float values are not equal to their int representation\n",
      "  warnings.warn(\n",
      "/Users/gzanitti/.local/lib/python3.8/site-packages/pandas-1.1.5-py3.8-macosx-10.9-x86_64.egg/pandas/core/reshape/merge.py:1123: UserWarning: You are merging on int and float columns where the float values are not equal to their int representation\n",
      "  warnings.warn(\n",
      "/Users/gzanitti/.local/lib/python3.8/site-packages/pandas-1.1.5-py3.8-macosx-10.9-x86_64.egg/pandas/core/reshape/merge.py:1123: UserWarning: You are merging on int and float columns where the float values are not equal to their int representation\n",
      "  warnings.warn(\n",
      "/Users/gzanitti/.local/lib/python3.8/site-packages/pandas-1.1.5-py3.8-macosx-10.9-x86_64.egg/pandas/core/reshape/merge.py:1123: UserWarning: You are merging on int and float columns where the float values are not equal to their int representation\n",
      "  warnings.warn(\n"
     ]
    },
    {
     "name": "stdout",
     "output_type": "stream",
     "text": [
      "pain: 0:11:37.724796\n",
      "children\n",
      "['preparation' 'add' 'hyperactivity disorder' 'adhd' 'youth' 'childhood'\n",
      " 'children']\n",
      "children: 0:00:00.139015\n",
      "--------------\n",
      "children\n",
      "['preparation' 'add' 'hyperactivity disorder' 'adhd' 'youth' 'childhood'\n",
      " 'children']\n",
      "children: 0:00:00.082307\n",
      "--------------\n",
      "children\n",
      "['preparation' 'add' 'hyperactivity disorder' 'adhd' 'youth' 'childhood'\n",
      " 'children']\n",
      "children: 0:00:00.092976\n",
      "--------------\n",
      "children\n",
      "['preparation' 'add' 'hyperactivity disorder' 'adhd' 'youth' 'childhood'\n",
      " 'children']\n",
      "children: 0:00:00.104098\n",
      "--------------\n",
      "children\n",
      "['preparation' 'add' 'hyperactivity disorder' 'adhd' 'youth' 'childhood'\n",
      " 'children']\n",
      "children: 0:00:00.076902\n",
      "--------------\n",
      "suffering\n",
      "['pain' 'suffering']\n",
      "suffering: 0:00:00.078288\n",
      "--------------\n",
      "consumption\n",
      "['eating' 'consumption']\n"
     ]
    },
    {
     "name": "stderr",
     "output_type": "stream",
     "text": [
      "/Users/gzanitti/.local/lib/python3.8/site-packages/pandas-1.1.5-py3.8-macosx-10.9-x86_64.egg/pandas/core/reshape/merge.py:1123: UserWarning: You are merging on int and float columns where the float values are not equal to their int representation\n",
      "  warnings.warn(\n",
      "/Users/gzanitti/.local/lib/python3.8/site-packages/pandas-1.1.5-py3.8-macosx-10.9-x86_64.egg/pandas/core/reshape/merge.py:1123: UserWarning: You are merging on int and float columns where the float values are not equal to their int representation\n",
      "  warnings.warn(\n",
      "/Users/gzanitti/.local/lib/python3.8/site-packages/pandas-1.1.5-py3.8-macosx-10.9-x86_64.egg/pandas/core/reshape/merge.py:1123: UserWarning: You are merging on int and float columns where the float values are not equal to their int representation\n",
      "  warnings.warn(\n",
      "/Users/gzanitti/.local/lib/python3.8/site-packages/pandas-1.1.5-py3.8-macosx-10.9-x86_64.egg/pandas/core/reshape/merge.py:1123: UserWarning: You are merging on int and float columns where the float values are not equal to their int representation\n",
      "  warnings.warn(\n"
     ]
    },
    {
     "name": "stdout",
     "output_type": "stream",
     "text": [
      "consumption: 0:11:43.337840\n",
      "anatomy\n",
      "['pathology' 'anatomy']\n"
     ]
    },
    {
     "name": "stderr",
     "output_type": "stream",
     "text": [
      "/Users/gzanitti/.local/lib/python3.8/site-packages/pandas-1.1.5-py3.8-macosx-10.9-x86_64.egg/pandas/core/reshape/merge.py:1123: UserWarning: You are merging on int and float columns where the float values are not equal to their int representation\n",
      "  warnings.warn(\n",
      "/Users/gzanitti/.local/lib/python3.8/site-packages/pandas-1.1.5-py3.8-macosx-10.9-x86_64.egg/pandas/core/reshape/merge.py:1123: UserWarning: You are merging on int and float columns where the float values are not equal to their int representation\n",
      "  warnings.warn(\n",
      "/Users/gzanitti/.local/lib/python3.8/site-packages/pandas-1.1.5-py3.8-macosx-10.9-x86_64.egg/pandas/core/reshape/merge.py:1123: UserWarning: You are merging on int and float columns where the float values are not equal to their int representation\n",
      "  warnings.warn(\n",
      "/Users/gzanitti/.local/lib/python3.8/site-packages/pandas-1.1.5-py3.8-macosx-10.9-x86_64.egg/pandas/core/reshape/merge.py:1123: UserWarning: You are merging on int and float columns where the float values are not equal to their int representation\n",
      "  warnings.warn(\n"
     ]
    },
    {
     "name": "stdout",
     "output_type": "stream",
     "text": [
      "anatomy: 0:11:33.794674\n",
      "pathophysiology\n",
      "['pathology' 'disease' 'illness' 'pathophysiology']\n"
     ]
    },
    {
     "name": "stderr",
     "output_type": "stream",
     "text": [
      "/Users/gzanitti/.local/lib/python3.8/site-packages/pandas-1.1.5-py3.8-macosx-10.9-x86_64.egg/pandas/core/reshape/merge.py:1123: UserWarning: You are merging on int and float columns where the float values are not equal to their int representation\n",
      "  warnings.warn(\n",
      "/Users/gzanitti/.local/lib/python3.8/site-packages/pandas-1.1.5-py3.8-macosx-10.9-x86_64.egg/pandas/core/reshape/merge.py:1123: UserWarning: You are merging on int and float columns where the float values are not equal to their int representation\n",
      "  warnings.warn(\n",
      "/Users/gzanitti/.local/lib/python3.8/site-packages/pandas-1.1.5-py3.8-macosx-10.9-x86_64.egg/pandas/core/reshape/merge.py:1123: UserWarning: You are merging on int and float columns where the float values are not equal to their int representation\n",
      "  warnings.warn(\n",
      "/Users/gzanitti/.local/lib/python3.8/site-packages/pandas-1.1.5-py3.8-macosx-10.9-x86_64.egg/pandas/core/reshape/merge.py:1123: UserWarning: You are merging on int and float columns where the float values are not equal to their int representation\n",
      "  warnings.warn(\n"
     ]
    },
    {
     "name": "stdout",
     "output_type": "stream",
     "text": [
      "pathophysiology: 0:12:22.607553\n",
      "motor function\n",
      "['motion' 'motor function']\n"
     ]
    },
    {
     "name": "stderr",
     "output_type": "stream",
     "text": [
      "/Users/gzanitti/.local/lib/python3.8/site-packages/pandas-1.1.5-py3.8-macosx-10.9-x86_64.egg/pandas/core/reshape/merge.py:1123: UserWarning: You are merging on int and float columns where the float values are not equal to their int representation\n",
      "  warnings.warn(\n",
      "/Users/gzanitti/.local/lib/python3.8/site-packages/pandas-1.1.5-py3.8-macosx-10.9-x86_64.egg/pandas/core/reshape/merge.py:1123: UserWarning: You are merging on int and float columns where the float values are not equal to their int representation\n",
      "  warnings.warn(\n",
      "/Users/gzanitti/.local/lib/python3.8/site-packages/pandas-1.1.5-py3.8-macosx-10.9-x86_64.egg/pandas/core/reshape/merge.py:1123: UserWarning: You are merging on int and float columns where the float values are not equal to their int representation\n",
      "  warnings.warn(\n",
      "/Users/gzanitti/.local/lib/python3.8/site-packages/pandas-1.1.5-py3.8-macosx-10.9-x86_64.egg/pandas/core/reshape/merge.py:1123: UserWarning: You are merging on int and float columns where the float values are not equal to their int representation\n",
      "  warnings.warn(\n",
      "/Users/gzanitti/opt/miniconda3/envs/neurolang/lib/python3.8/site-packages/tables/path.py:155: NaturalNameWarning: object name is not a valid Python identifier: 'motor function'; it does not match the pattern ``^[a-zA-Z_][a-zA-Z0-9_]*$``; you will not be able to use natural naming to access this object; using ``getattr()`` will still work, though\n",
      "  check_attribute_name(name)\n"
     ]
    },
    {
     "name": "stdout",
     "output_type": "stream",
     "text": [
      "motor function: 0:13:04.532078\n",
      "skin conductance\n",
      "['skin' 'skin conductance']\n"
     ]
    },
    {
     "name": "stderr",
     "output_type": "stream",
     "text": [
      "/Users/gzanitti/.local/lib/python3.8/site-packages/pandas-1.1.5-py3.8-macosx-10.9-x86_64.egg/pandas/core/reshape/merge.py:1123: UserWarning: You are merging on int and float columns where the float values are not equal to their int representation\n",
      "  warnings.warn(\n",
      "/Users/gzanitti/.local/lib/python3.8/site-packages/pandas-1.1.5-py3.8-macosx-10.9-x86_64.egg/pandas/core/reshape/merge.py:1123: UserWarning: You are merging on int and float columns where the float values are not equal to their int representation\n",
      "  warnings.warn(\n",
      "/Users/gzanitti/.local/lib/python3.8/site-packages/pandas-1.1.5-py3.8-macosx-10.9-x86_64.egg/pandas/core/reshape/merge.py:1123: UserWarning: You are merging on int and float columns where the float values are not equal to their int representation\n",
      "  warnings.warn(\n",
      "/Users/gzanitti/.local/lib/python3.8/site-packages/pandas-1.1.5-py3.8-macosx-10.9-x86_64.egg/pandas/core/reshape/merge.py:1123: UserWarning: You are merging on int and float columns where the float values are not equal to their int representation\n",
      "  warnings.warn(\n",
      "/Users/gzanitti/opt/miniconda3/envs/neurolang/lib/python3.8/site-packages/tables/path.py:155: NaturalNameWarning: object name is not a valid Python identifier: 'skin conductance'; it does not match the pattern ``^[a-zA-Z_][a-zA-Z0-9_]*$``; you will not be able to use natural naming to access this object; using ``getattr()`` will still work, though\n",
      "  check_attribute_name(name)\n"
     ]
    },
    {
     "name": "stdout",
     "output_type": "stream",
     "text": [
      "skin conductance: 0:11:40.399274\n",
      "skin\n",
      "['skin conductance' 'skin']\n",
      "skin: 0:00:00.181663\n",
      "--------------\n",
      "selective attention\n",
      "['neurons' 'neuron' 'selective attention']\n"
     ]
    },
    {
     "name": "stderr",
     "output_type": "stream",
     "text": [
      "/Users/gzanitti/.local/lib/python3.8/site-packages/pandas-1.1.5-py3.8-macosx-10.9-x86_64.egg/pandas/core/reshape/merge.py:1123: UserWarning: You are merging on int and float columns where the float values are not equal to their int representation\n",
      "  warnings.warn(\n",
      "/Users/gzanitti/.local/lib/python3.8/site-packages/pandas-1.1.5-py3.8-macosx-10.9-x86_64.egg/pandas/core/reshape/merge.py:1123: UserWarning: You are merging on int and float columns where the float values are not equal to their int representation\n",
      "  warnings.warn(\n",
      "/Users/gzanitti/.local/lib/python3.8/site-packages/pandas-1.1.5-py3.8-macosx-10.9-x86_64.egg/pandas/core/reshape/merge.py:1123: UserWarning: You are merging on int and float columns where the float values are not equal to their int representation\n",
      "  warnings.warn(\n",
      "/Users/gzanitti/.local/lib/python3.8/site-packages/pandas-1.1.5-py3.8-macosx-10.9-x86_64.egg/pandas/core/reshape/merge.py:1123: UserWarning: You are merging on int and float columns where the float values are not equal to their int representation\n",
      "  warnings.warn(\n",
      "/Users/gzanitti/opt/miniconda3/envs/neurolang/lib/python3.8/site-packages/tables/path.py:155: NaturalNameWarning: object name is not a valid Python identifier: 'selective attention'; it does not match the pattern ``^[a-zA-Z_][a-zA-Z0-9_]*$``; you will not be able to use natural naming to access this object; using ``getattr()`` will still work, though\n",
      "  check_attribute_name(name)\n"
     ]
    },
    {
     "name": "stdout",
     "output_type": "stream",
     "text": [
      "selective attention: 0:12:00.979090\n",
      "selective attention\n",
      "['neurons' 'neuron' 'selective attention']\n",
      "selective attention: 0:00:00.164942\n",
      "--------------\n",
      "pathology\n",
      "['pathophysiology' 'anatomy' 'pathology']\n",
      "pathology: 0:00:00.102131\n",
      "--------------\n",
      "features\n",
      "['facial expression' 'face recognition' 'features']\n",
      "features: 0:00:00.103445\n",
      "--------------\n",
      "face\n",
      "['facial expression' 'face recognition' 'face']\n",
      "face: 0:00:00.093982\n",
      "--------------\n",
      "expression\n",
      "['symptom' 'symptoms' 'expression']\n"
     ]
    },
    {
     "name": "stderr",
     "output_type": "stream",
     "text": [
      "/Users/gzanitti/.local/lib/python3.8/site-packages/pandas-1.1.5-py3.8-macosx-10.9-x86_64.egg/pandas/core/reshape/merge.py:1123: UserWarning: You are merging on int and float columns where the float values are not equal to their int representation\n",
      "  warnings.warn(\n",
      "/Users/gzanitti/.local/lib/python3.8/site-packages/pandas-1.1.5-py3.8-macosx-10.9-x86_64.egg/pandas/core/reshape/merge.py:1123: UserWarning: You are merging on int and float columns where the float values are not equal to their int representation\n",
      "  warnings.warn(\n",
      "/Users/gzanitti/.local/lib/python3.8/site-packages/pandas-1.1.5-py3.8-macosx-10.9-x86_64.egg/pandas/core/reshape/merge.py:1123: UserWarning: You are merging on int and float columns where the float values are not equal to their int representation\n",
      "  warnings.warn(\n",
      "/Users/gzanitti/.local/lib/python3.8/site-packages/pandas-1.1.5-py3.8-macosx-10.9-x86_64.egg/pandas/core/reshape/merge.py:1123: UserWarning: You are merging on int and float columns where the float values are not equal to their int representation\n",
      "  warnings.warn(\n"
     ]
    },
    {
     "name": "stdout",
     "output_type": "stream",
     "text": [
      "expression: 0:12:06.291294\n",
      "expression\n",
      "['symptom' 'symptoms' 'expression']\n",
      "expression: 0:00:00.152414\n",
      "--------------\n",
      "pathophysiology\n",
      "['pathology' 'disease' 'illness' 'pathophysiology']\n",
      "pathophysiology: 0:00:00.096615\n",
      "--------------\n",
      "pathophysiology\n",
      "['pathology' 'disease' 'illness' 'pathophysiology']\n",
      "pathophysiology: 0:00:00.098860\n",
      "--------------\n",
      "sensory information\n",
      "['perception' 'sensation' 'sense' 'sensory information']\n",
      "sensory information: 0:00:00.092648\n",
      "--------------\n",
      "sensory information\n",
      "['perception' 'sensation' 'sense' 'sensory information']\n",
      "sensory information: 0:00:00.100865\n",
      "--------------\n",
      "phenotype\n",
      "['genotype' 'phenotype']\n"
     ]
    },
    {
     "name": "stderr",
     "output_type": "stream",
     "text": [
      "/Users/gzanitti/.local/lib/python3.8/site-packages/pandas-1.1.5-py3.8-macosx-10.9-x86_64.egg/pandas/core/reshape/merge.py:1123: UserWarning: You are merging on int and float columns where the float values are not equal to their int representation\n",
      "  warnings.warn(\n",
      "/Users/gzanitti/.local/lib/python3.8/site-packages/pandas-1.1.5-py3.8-macosx-10.9-x86_64.egg/pandas/core/reshape/merge.py:1123: UserWarning: You are merging on int and float columns where the float values are not equal to their int representation\n",
      "  warnings.warn(\n",
      "/Users/gzanitti/.local/lib/python3.8/site-packages/pandas-1.1.5-py3.8-macosx-10.9-x86_64.egg/pandas/core/reshape/merge.py:1123: UserWarning: You are merging on int and float columns where the float values are not equal to their int representation\n",
      "  warnings.warn(\n",
      "/Users/gzanitti/.local/lib/python3.8/site-packages/pandas-1.1.5-py3.8-macosx-10.9-x86_64.egg/pandas/core/reshape/merge.py:1123: UserWarning: You are merging on int and float columns where the float values are not equal to their int representation\n",
      "  warnings.warn(\n"
     ]
    },
    {
     "name": "stdout",
     "output_type": "stream",
     "text": [
      "phenotype: 0:11:44.506981\n",
      "variant\n",
      "['variety' 'variant']\n",
      "variant: 0:00:00.173748\n",
      "--------------\n",
      "genotype\n",
      "['phenotype' 'genotype']\n",
      "genotype: 0:00:00.139595\n",
      "--------------\n",
      "illusion\n",
      "['major depression' 'illusion']\n"
     ]
    },
    {
     "name": "stderr",
     "output_type": "stream",
     "text": [
      "/Users/gzanitti/.local/lib/python3.8/site-packages/pandas-1.1.5-py3.8-macosx-10.9-x86_64.egg/pandas/core/reshape/merge.py:1123: UserWarning: You are merging on int and float columns where the float values are not equal to their int representation\n",
      "  warnings.warn(\n",
      "/Users/gzanitti/.local/lib/python3.8/site-packages/pandas-1.1.5-py3.8-macosx-10.9-x86_64.egg/pandas/core/reshape/merge.py:1123: UserWarning: You are merging on int and float columns where the float values are not equal to their int representation\n",
      "  warnings.warn(\n",
      "/Users/gzanitti/.local/lib/python3.8/site-packages/pandas-1.1.5-py3.8-macosx-10.9-x86_64.egg/pandas/core/reshape/merge.py:1123: UserWarning: You are merging on int and float columns where the float values are not equal to their int representation\n",
      "  warnings.warn(\n",
      "/Users/gzanitti/.local/lib/python3.8/site-packages/pandas-1.1.5-py3.8-macosx-10.9-x86_64.egg/pandas/core/reshape/merge.py:1123: UserWarning: You are merging on int and float columns where the float values are not equal to their int representation\n",
      "  warnings.warn(\n"
     ]
    },
    {
     "name": "stdout",
     "output_type": "stream",
     "text": [
      "illusion: 0:11:47.762809\n",
      "motor cortex\n",
      "['frontal lobe' 'tms' 'motor cortex']\n"
     ]
    },
    {
     "name": "stderr",
     "output_type": "stream",
     "text": [
      "/Users/gzanitti/.local/lib/python3.8/site-packages/pandas-1.1.5-py3.8-macosx-10.9-x86_64.egg/pandas/core/reshape/merge.py:1123: UserWarning: You are merging on int and float columns where the float values are not equal to their int representation\n",
      "  warnings.warn(\n",
      "/Users/gzanitti/.local/lib/python3.8/site-packages/pandas-1.1.5-py3.8-macosx-10.9-x86_64.egg/pandas/core/reshape/merge.py:1123: UserWarning: You are merging on int and float columns where the float values are not equal to their int representation\n",
      "  warnings.warn(\n",
      "/Users/gzanitti/.local/lib/python3.8/site-packages/pandas-1.1.5-py3.8-macosx-10.9-x86_64.egg/pandas/core/reshape/merge.py:1123: UserWarning: You are merging on int and float columns where the float values are not equal to their int representation\n",
      "  warnings.warn(\n",
      "/Users/gzanitti/.local/lib/python3.8/site-packages/pandas-1.1.5-py3.8-macosx-10.9-x86_64.egg/pandas/core/reshape/merge.py:1123: UserWarning: You are merging on int and float columns where the float values are not equal to their int representation\n",
      "  warnings.warn(\n",
      "/Users/gzanitti/opt/miniconda3/envs/neurolang/lib/python3.8/site-packages/tables/path.py:155: NaturalNameWarning: object name is not a valid Python identifier: 'motor cortex'; it does not match the pattern ``^[a-zA-Z_][a-zA-Z0-9_]*$``; you will not be able to use natural naming to access this object; using ``getattr()`` will still work, though\n",
      "  check_attribute_name(name)\n"
     ]
    },
    {
     "name": "stdout",
     "output_type": "stream",
     "text": [
      "motor cortex: 0:12:28.838761\n",
      "motor cortex\n",
      "['frontal lobe' 'tms' 'motor cortex']\n",
      "motor cortex: 0:00:00.128978\n",
      "--------------\n",
      "visual cortex\n",
      "['occipital lobe' 'visual cortex']\n"
     ]
    },
    {
     "name": "stderr",
     "output_type": "stream",
     "text": [
      "/Users/gzanitti/.local/lib/python3.8/site-packages/pandas-1.1.5-py3.8-macosx-10.9-x86_64.egg/pandas/core/reshape/merge.py:1123: UserWarning: You are merging on int and float columns where the float values are not equal to their int representation\n",
      "  warnings.warn(\n",
      "/Users/gzanitti/.local/lib/python3.8/site-packages/pandas-1.1.5-py3.8-macosx-10.9-x86_64.egg/pandas/core/reshape/merge.py:1123: UserWarning: You are merging on int and float columns where the float values are not equal to their int representation\n",
      "  warnings.warn(\n",
      "/Users/gzanitti/.local/lib/python3.8/site-packages/pandas-1.1.5-py3.8-macosx-10.9-x86_64.egg/pandas/core/reshape/merge.py:1123: UserWarning: You are merging on int and float columns where the float values are not equal to their int representation\n",
      "  warnings.warn(\n",
      "/Users/gzanitti/.local/lib/python3.8/site-packages/pandas-1.1.5-py3.8-macosx-10.9-x86_64.egg/pandas/core/reshape/merge.py:1123: UserWarning: You are merging on int and float columns where the float values are not equal to their int representation\n",
      "  warnings.warn(\n",
      "/Users/gzanitti/opt/miniconda3/envs/neurolang/lib/python3.8/site-packages/tables/path.py:155: NaturalNameWarning: object name is not a valid Python identifier: 'visual cortex'; it does not match the pattern ``^[a-zA-Z_][a-zA-Z0-9_]*$``; you will not be able to use natural naming to access this object; using ``getattr()`` will still work, though\n",
      "  check_attribute_name(name)\n"
     ]
    },
    {
     "name": "stdout",
     "output_type": "stream",
     "text": [
      "visual cortex: 0:12:01.985415\n",
      "anisotropy\n",
      "['fractional anisotropy' 'anisotropy']\n",
      "anisotropy: 0:00:00.150647\n",
      "--------------\n",
      "tensor\n",
      "['dti' 'tensor']\n"
     ]
    },
    {
     "name": "stderr",
     "output_type": "stream",
     "text": [
      "/Users/gzanitti/.local/lib/python3.8/site-packages/pandas-1.1.5-py3.8-macosx-10.9-x86_64.egg/pandas/core/reshape/merge.py:1123: UserWarning: You are merging on int and float columns where the float values are not equal to their int representation\n",
      "  warnings.warn(\n",
      "/Users/gzanitti/.local/lib/python3.8/site-packages/pandas-1.1.5-py3.8-macosx-10.9-x86_64.egg/pandas/core/reshape/merge.py:1123: UserWarning: You are merging on int and float columns where the float values are not equal to their int representation\n",
      "  warnings.warn(\n",
      "/Users/gzanitti/.local/lib/python3.8/site-packages/pandas-1.1.5-py3.8-macosx-10.9-x86_64.egg/pandas/core/reshape/merge.py:1123: UserWarning: You are merging on int and float columns where the float values are not equal to their int representation\n",
      "  warnings.warn(\n",
      "/Users/gzanitti/.local/lib/python3.8/site-packages/pandas-1.1.5-py3.8-macosx-10.9-x86_64.egg/pandas/core/reshape/merge.py:1123: UserWarning: You are merging on int and float columns where the float values are not equal to their int representation\n",
      "  warnings.warn(\n"
     ]
    },
    {
     "name": "stdout",
     "output_type": "stream",
     "text": [
      "tensor: 0:11:53.265201\n",
      "temporal cortex\n",
      "['auditory cortex' 'temporal cortex']\n"
     ]
    },
    {
     "name": "stderr",
     "output_type": "stream",
     "text": [
      "/Users/gzanitti/.local/lib/python3.8/site-packages/pandas-1.1.5-py3.8-macosx-10.9-x86_64.egg/pandas/core/reshape/merge.py:1123: UserWarning: You are merging on int and float columns where the float values are not equal to their int representation\n",
      "  warnings.warn(\n",
      "/Users/gzanitti/.local/lib/python3.8/site-packages/pandas-1.1.5-py3.8-macosx-10.9-x86_64.egg/pandas/core/reshape/merge.py:1123: UserWarning: You are merging on int and float columns where the float values are not equal to their int representation\n",
      "  warnings.warn(\n",
      "/Users/gzanitti/.local/lib/python3.8/site-packages/pandas-1.1.5-py3.8-macosx-10.9-x86_64.egg/pandas/core/reshape/merge.py:1123: UserWarning: You are merging on int and float columns where the float values are not equal to their int representation\n",
      "  warnings.warn(\n",
      "/Users/gzanitti/.local/lib/python3.8/site-packages/pandas-1.1.5-py3.8-macosx-10.9-x86_64.egg/pandas/core/reshape/merge.py:1123: UserWarning: You are merging on int and float columns where the float values are not equal to their int representation\n",
      "  warnings.warn(\n",
      "/Users/gzanitti/opt/miniconda3/envs/neurolang/lib/python3.8/site-packages/tables/path.py:155: NaturalNameWarning: object name is not a valid Python identifier: 'temporal cortex'; it does not match the pattern ``^[a-zA-Z_][a-zA-Z0-9_]*$``; you will not be able to use natural naming to access this object; using ``getattr()`` will still work, though\n",
      "  check_attribute_name(name)\n"
     ]
    },
    {
     "name": "stdout",
     "output_type": "stream",
     "text": [
      "temporal cortex: 0:11:52.813165\n"
     ]
    }
   ],
   "source": [
    "import datetime\n",
    "\n",
    "solved = []\n",
    "proceded = []\n",
    "\n",
    "from tqdm.notebook import trange, tqdm\n",
    "\n",
    "for entity, term in tqdm(related[['entity', 'term']].values):\n",
    "    print(entity)\n",
    "    start_time = datetime.datetime.now()\n",
    "    \n",
    "    cut = related[related.entity == entity].term.values\n",
    "    all_terms = np.append(cut, entity)\n",
    "    \n",
    "    print(all_terms)\n",
    "    all_terms.sort()\n",
    "    hash_term = '_'.join(all_terms)\n",
    "    \n",
    "    with pd.HDFStore('neuro_paper_related_results.hdf') as hdf:\n",
    "        if f'/{entity}' in hdf.keys():\n",
    "            solved.append(entity)\n",
    "            end_time = datetime.datetime.now()\n",
    "            print(f'{entity}: {end_time - start_time}')\n",
    "            print('--------------')\n",
    "            continue\n",
    "    \n",
    "    with nl.scope as e:\n",
    "    \n",
    "        for a in all_terms:\n",
    "            e.FilteredByTerm[e.t, e.s] = (\n",
    "                e.TermInStudy[e.t, e.s] &\n",
    "                (e.t == a)\n",
    "            )\n",
    "\n",
    "        #(e.VoxelReported @ e.exp(-e.d / 5.0))[e.x1, e.y1, e.z1, e.s] = (\n",
    "        #    e.FocusReported(e.x2, e.y2, e.z2, e.s)\n",
    "        #    & e.Voxel(e.x1, e.y1, e.z1)\n",
    "        #    & (e.d == e.EUCLIDEAN(e.x1, e.y1, e.z1, e.x2, e.y2, e.z2))\n",
    "        #    & (e.d < 4)\n",
    "        #)\n",
    "        \n",
    "        e.FilteredByNoTerm[e.t, e.s] = (\n",
    "            ~(nl.exists(e.t1, e.FilteredByTerm[e.t1, e.s] & (e.t1 == e.t))) &\n",
    "            e.study_det[e.s]\n",
    "        )\n",
    "\n",
    "        e.Result[e.x, e.y, e.z, e.fold, e.PROB[e.x, e.y, e.z, e.fold]] = (\n",
    "           (\n",
    "               e.VoxelReported[e.x, e.y, e.z, e.s] \n",
    "           ) // (\n",
    "               e.SelectedStudy[e.s] \n",
    "               & e.FilteredByTerm[e.t, e.s] \n",
    "               & e.StudyFolds[e.s, e.fold]\n",
    "           )  \n",
    "        )\n",
    "        \n",
    "        e.NoResult[e.x, e.y, e.z, e.fold, e.PROB[e.x, e.y, e.z, e.fold]] = (\n",
    "           (\n",
    "               e.VoxelReported[e.x, e.y, e.z, e.s] \n",
    "           ) // (\n",
    "               e.SelectedStudy[e.s] \n",
    "               & e.FilteredByNoTerm[e.t, e.s] \n",
    "               & e.StudyFolds[e.s, e.fold]\n",
    "           )  \n",
    "        )\n",
    "\n",
    "        res = nl.query((e.x, e.y, e.z, e.f, e.p), \n",
    "                       e.Result[e.x, e.y, e.z, e.f, e.p])\n",
    "        \n",
    "        pss = res.as_pandas_dataframe()\n",
    "        for ent in hash_list[hash_term]:\n",
    "            pss.to_hdf('neuro_paper_related_results.hdf', key=f'{ent}')\n",
    "        \n",
    "        end_time = datetime.datetime.now()\n",
    "        print(f'{entity}: {end_time - start_time}')"
   ]
  },
  {
   "cell_type": "code",
   "execution_count": 92,
   "id": "theoretical-auction",
   "metadata": {},
   "outputs": [
    {
     "data": {
      "application/vnd.jupyter.widget-view+json": {
       "model_id": "7c661688cea74e618e795bddeb8c5037",
       "version_major": 2,
       "version_minor": 0
      },
      "text/plain": [
       "  0%|          | 0/95 [00:00<?, ?it/s]"
      ]
     },
     "metadata": {},
     "output_type": "display_data"
    },
    {
     "name": "stdout",
     "output_type": "stream",
     "text": [
      "epilepsy\n"
     ]
    },
    {
     "name": "stderr",
     "output_type": "stream",
     "text": [
      "/Users/gzanitti/.local/lib/python3.8/site-packages/pandas-1.1.5-py3.8-macosx-10.9-x86_64.egg/pandas/core/reshape/merge.py:1123: UserWarning: You are merging on int and float columns where the float values are not equal to their int representation\n",
      "  warnings.warn(\n",
      "/Users/gzanitti/.local/lib/python3.8/site-packages/pandas-1.1.5-py3.8-macosx-10.9-x86_64.egg/pandas/core/reshape/merge.py:1123: UserWarning: You are merging on int and float columns where the float values are not equal to their int representation\n",
      "  warnings.warn(\n",
      "/Users/gzanitti/.local/lib/python3.8/site-packages/pandas-1.1.5-py3.8-macosx-10.9-x86_64.egg/pandas/core/reshape/merge.py:1123: UserWarning: You are merging on int and float columns where the float values are not equal to their int representation\n",
      "  warnings.warn(\n",
      "/Users/gzanitti/.local/lib/python3.8/site-packages/pandas-1.1.5-py3.8-macosx-10.9-x86_64.egg/pandas/core/reshape/merge.py:1123: UserWarning: You are merging on int and float columns where the float values are not equal to their int representation\n",
      "  warnings.warn(\n"
     ]
    },
    {
     "name": "stdout",
     "output_type": "stream",
     "text": [
      "epilepsy: 0:11:13.693236\n",
      "drug\n",
      "drug: 0:00:00.171810\n",
      "--------------\n",
      "drugs\n",
      "drugs: 0:00:00.090795\n",
      "--------------\n",
      "rest\n",
      "rest: 0:00:00.083684\n",
      "--------------\n",
      "children\n"
     ]
    },
    {
     "name": "stderr",
     "output_type": "stream",
     "text": [
      "/Users/gzanitti/.local/lib/python3.8/site-packages/pandas-1.1.5-py3.8-macosx-10.9-x86_64.egg/pandas/core/reshape/merge.py:1123: UserWarning: You are merging on int and float columns where the float values are not equal to their int representation\n",
      "  warnings.warn(\n",
      "/Users/gzanitti/.local/lib/python3.8/site-packages/pandas-1.1.5-py3.8-macosx-10.9-x86_64.egg/pandas/core/reshape/merge.py:1123: UserWarning: You are merging on int and float columns where the float values are not equal to their int representation\n",
      "  warnings.warn(\n",
      "/Users/gzanitti/.local/lib/python3.8/site-packages/pandas-1.1.5-py3.8-macosx-10.9-x86_64.egg/pandas/core/reshape/merge.py:1123: UserWarning: You are merging on int and float columns where the float values are not equal to their int representation\n",
      "  warnings.warn(\n",
      "/Users/gzanitti/.local/lib/python3.8/site-packages/pandas-1.1.5-py3.8-macosx-10.9-x86_64.egg/pandas/core/reshape/merge.py:1123: UserWarning: You are merging on int and float columns where the float values are not equal to their int representation\n",
      "  warnings.warn(\n"
     ]
    },
    {
     "name": "stdout",
     "output_type": "stream",
     "text": [
      "children: 0:10:56.154916\n",
      "eye movement\n",
      "eye movement: 0:00:00.157761\n",
      "--------------\n",
      "body\n"
     ]
    },
    {
     "name": "stderr",
     "output_type": "stream",
     "text": [
      "/Users/gzanitti/.local/lib/python3.8/site-packages/pandas-1.1.5-py3.8-macosx-10.9-x86_64.egg/pandas/core/reshape/merge.py:1123: UserWarning: You are merging on int and float columns where the float values are not equal to their int representation\n",
      "  warnings.warn(\n",
      "/Users/gzanitti/.local/lib/python3.8/site-packages/pandas-1.1.5-py3.8-macosx-10.9-x86_64.egg/pandas/core/reshape/merge.py:1123: UserWarning: You are merging on int and float columns where the float values are not equal to their int representation\n",
      "  warnings.warn(\n",
      "/Users/gzanitti/.local/lib/python3.8/site-packages/pandas-1.1.5-py3.8-macosx-10.9-x86_64.egg/pandas/core/reshape/merge.py:1123: UserWarning: You are merging on int and float columns where the float values are not equal to their int representation\n",
      "  warnings.warn(\n",
      "/Users/gzanitti/.local/lib/python3.8/site-packages/pandas-1.1.5-py3.8-macosx-10.9-x86_64.egg/pandas/core/reshape/merge.py:1123: UserWarning: You are merging on int and float columns where the float values are not equal to their int representation\n",
      "  warnings.warn(\n"
     ]
    },
    {
     "name": "stdout",
     "output_type": "stream",
     "text": [
      "body: 0:10:53.363861\n",
      "animal\n",
      "animal: 0:00:00.155061\n",
      "--------------\n",
      "facial expression\n"
     ]
    },
    {
     "name": "stderr",
     "output_type": "stream",
     "text": [
      "/Users/gzanitti/.local/lib/python3.8/site-packages/pandas-1.1.5-py3.8-macosx-10.9-x86_64.egg/pandas/core/reshape/merge.py:1123: UserWarning: You are merging on int and float columns where the float values are not equal to their int representation\n",
      "  warnings.warn(\n",
      "/Users/gzanitti/.local/lib/python3.8/site-packages/pandas-1.1.5-py3.8-macosx-10.9-x86_64.egg/pandas/core/reshape/merge.py:1123: UserWarning: You are merging on int and float columns where the float values are not equal to their int representation\n",
      "  warnings.warn(\n",
      "/Users/gzanitti/.local/lib/python3.8/site-packages/pandas-1.1.5-py3.8-macosx-10.9-x86_64.egg/pandas/core/reshape/merge.py:1123: UserWarning: You are merging on int and float columns where the float values are not equal to their int representation\n",
      "  warnings.warn(\n",
      "/Users/gzanitti/.local/lib/python3.8/site-packages/pandas-1.1.5-py3.8-macosx-10.9-x86_64.egg/pandas/core/reshape/merge.py:1123: UserWarning: You are merging on int and float columns where the float values are not equal to their int representation\n",
      "  warnings.warn(\n",
      "/Users/gzanitti/opt/miniconda3/envs/neurolang/lib/python3.8/site-packages/tables/path.py:155: NaturalNameWarning: object name is not a valid Python identifier: 'facial expression'; it does not match the pattern ``^[a-zA-Z_][a-zA-Z0-9_]*$``; you will not be able to use natural naming to access this object; using ``getattr()`` will still work, though\n",
      "  check_attribute_name(name)\n"
     ]
    },
    {
     "name": "stdout",
     "output_type": "stream",
     "text": [
      "facial expression: 0:11:29.161813\n",
      "face recognition\n"
     ]
    },
    {
     "name": "stderr",
     "output_type": "stream",
     "text": [
      "/Users/gzanitti/.local/lib/python3.8/site-packages/pandas-1.1.5-py3.8-macosx-10.9-x86_64.egg/pandas/core/reshape/merge.py:1123: UserWarning: You are merging on int and float columns where the float values are not equal to their int representation\n",
      "  warnings.warn(\n",
      "/Users/gzanitti/.local/lib/python3.8/site-packages/pandas-1.1.5-py3.8-macosx-10.9-x86_64.egg/pandas/core/reshape/merge.py:1123: UserWarning: You are merging on int and float columns where the float values are not equal to their int representation\n",
      "  warnings.warn(\n",
      "/Users/gzanitti/.local/lib/python3.8/site-packages/pandas-1.1.5-py3.8-macosx-10.9-x86_64.egg/pandas/core/reshape/merge.py:1123: UserWarning: You are merging on int and float columns where the float values are not equal to their int representation\n",
      "  warnings.warn(\n",
      "/Users/gzanitti/.local/lib/python3.8/site-packages/pandas-1.1.5-py3.8-macosx-10.9-x86_64.egg/pandas/core/reshape/merge.py:1123: UserWarning: You are merging on int and float columns where the float values are not equal to their int representation\n",
      "  warnings.warn(\n",
      "/Users/gzanitti/opt/miniconda3/envs/neurolang/lib/python3.8/site-packages/tables/path.py:155: NaturalNameWarning: object name is not a valid Python identifier: 'face recognition'; it does not match the pattern ``^[a-zA-Z_][a-zA-Z0-9_]*$``; you will not be able to use natural naming to access this object; using ``getattr()`` will still work, though\n",
      "  check_attribute_name(name)\n"
     ]
    },
    {
     "name": "stdout",
     "output_type": "stream",
     "text": [
      "face recognition: 0:10:50.707832\n",
      "neuron\n",
      "neuron: 0:00:00.164732\n",
      "--------------\n",
      "medication\n",
      "medication: 0:00:00.105823\n",
      "--------------\n",
      "treatment\n",
      "treatment: 0:00:00.103669\n",
      "--------------\n",
      "therapy\n",
      "therapy: 0:00:00.099257\n",
      "--------------\n",
      "contrast\n"
     ]
    },
    {
     "name": "stderr",
     "output_type": "stream",
     "text": [
      "/Users/gzanitti/.local/lib/python3.8/site-packages/pandas-1.1.5-py3.8-macosx-10.9-x86_64.egg/pandas/core/reshape/merge.py:1123: UserWarning: You are merging on int and float columns where the float values are not equal to their int representation\n",
      "  warnings.warn(\n",
      "/Users/gzanitti/.local/lib/python3.8/site-packages/pandas-1.1.5-py3.8-macosx-10.9-x86_64.egg/pandas/core/reshape/merge.py:1123: UserWarning: You are merging on int and float columns where the float values are not equal to their int representation\n",
      "  warnings.warn(\n",
      "/Users/gzanitti/.local/lib/python3.8/site-packages/pandas-1.1.5-py3.8-macosx-10.9-x86_64.egg/pandas/core/reshape/merge.py:1123: UserWarning: You are merging on int and float columns where the float values are not equal to their int representation\n",
      "  warnings.warn(\n",
      "/Users/gzanitti/.local/lib/python3.8/site-packages/pandas-1.1.5-py3.8-macosx-10.9-x86_64.egg/pandas/core/reshape/merge.py:1123: UserWarning: You are merging on int and float columns where the float values are not equal to their int representation\n",
      "  warnings.warn(\n"
     ]
    },
    {
     "name": "stdout",
     "output_type": "stream",
     "text": [
      "contrast: 0:12:40.283987\n",
      "visual field\n",
      "visual field: 0:00:00.185129\n",
      "--------------\n",
      "view\n",
      "view: 0:00:00.105305\n",
      "--------------\n",
      "modality\n"
     ]
    },
    {
     "name": "stderr",
     "output_type": "stream",
     "text": [
      "/Users/gzanitti/.local/lib/python3.8/site-packages/pandas-1.1.5-py3.8-macosx-10.9-x86_64.egg/pandas/core/reshape/merge.py:1123: UserWarning: You are merging on int and float columns where the float values are not equal to their int representation\n",
      "  warnings.warn(\n",
      "/Users/gzanitti/.local/lib/python3.8/site-packages/pandas-1.1.5-py3.8-macosx-10.9-x86_64.egg/pandas/core/reshape/merge.py:1123: UserWarning: You are merging on int and float columns where the float values are not equal to their int representation\n",
      "  warnings.warn(\n",
      "/Users/gzanitti/.local/lib/python3.8/site-packages/pandas-1.1.5-py3.8-macosx-10.9-x86_64.egg/pandas/core/reshape/merge.py:1123: UserWarning: You are merging on int and float columns where the float values are not equal to their int representation\n",
      "  warnings.warn(\n",
      "/Users/gzanitti/.local/lib/python3.8/site-packages/pandas-1.1.5-py3.8-macosx-10.9-x86_64.egg/pandas/core/reshape/merge.py:1123: UserWarning: You are merging on int and float columns where the float values are not equal to their int representation\n",
      "  warnings.warn(\n"
     ]
    },
    {
     "name": "stdout",
     "output_type": "stream",
     "text": [
      "modality: 0:12:19.388894\n",
      "visual information\n"
     ]
    },
    {
     "name": "stderr",
     "output_type": "stream",
     "text": [
      "/Users/gzanitti/.local/lib/python3.8/site-packages/pandas-1.1.5-py3.8-macosx-10.9-x86_64.egg/pandas/core/reshape/merge.py:1123: UserWarning: You are merging on int and float columns where the float values are not equal to their int representation\n",
      "  warnings.warn(\n",
      "/Users/gzanitti/.local/lib/python3.8/site-packages/pandas-1.1.5-py3.8-macosx-10.9-x86_64.egg/pandas/core/reshape/merge.py:1123: UserWarning: You are merging on int and float columns where the float values are not equal to their int representation\n",
      "  warnings.warn(\n",
      "/Users/gzanitti/.local/lib/python3.8/site-packages/pandas-1.1.5-py3.8-macosx-10.9-x86_64.egg/pandas/core/reshape/merge.py:1123: UserWarning: You are merging on int and float columns where the float values are not equal to their int representation\n",
      "  warnings.warn(\n",
      "/Users/gzanitti/.local/lib/python3.8/site-packages/pandas-1.1.5-py3.8-macosx-10.9-x86_64.egg/pandas/core/reshape/merge.py:1123: UserWarning: You are merging on int and float columns where the float values are not equal to their int representation\n",
      "  warnings.warn(\n",
      "/Users/gzanitti/opt/miniconda3/envs/neurolang/lib/python3.8/site-packages/tables/path.py:155: NaturalNameWarning: object name is not a valid Python identifier: 'visual information'; it does not match the pattern ``^[a-zA-Z_][a-zA-Z0-9_]*$``; you will not be able to use natural naming to access this object; using ``getattr()`` will still work, though\n",
      "  check_attribute_name(name)\n"
     ]
    },
    {
     "name": "stdout",
     "output_type": "stream",
     "text": [
      "visual information: 0:11:59.213425\n",
      "recognition\n"
     ]
    },
    {
     "name": "stderr",
     "output_type": "stream",
     "text": [
      "/Users/gzanitti/.local/lib/python3.8/site-packages/pandas-1.1.5-py3.8-macosx-10.9-x86_64.egg/pandas/core/reshape/merge.py:1123: UserWarning: You are merging on int and float columns where the float values are not equal to their int representation\n",
      "  warnings.warn(\n",
      "/Users/gzanitti/.local/lib/python3.8/site-packages/pandas-1.1.5-py3.8-macosx-10.9-x86_64.egg/pandas/core/reshape/merge.py:1123: UserWarning: You are merging on int and float columns where the float values are not equal to their int representation\n",
      "  warnings.warn(\n",
      "/Users/gzanitti/.local/lib/python3.8/site-packages/pandas-1.1.5-py3.8-macosx-10.9-x86_64.egg/pandas/core/reshape/merge.py:1123: UserWarning: You are merging on int and float columns where the float values are not equal to their int representation\n",
      "  warnings.warn(\n",
      "/Users/gzanitti/.local/lib/python3.8/site-packages/pandas-1.1.5-py3.8-macosx-10.9-x86_64.egg/pandas/core/reshape/merge.py:1123: UserWarning: You are merging on int and float columns where the float values are not equal to their int representation\n",
      "  warnings.warn(\n"
     ]
    },
    {
     "name": "stdout",
     "output_type": "stream",
     "text": [
      "recognition: 0:12:38.312743\n",
      "visual\n",
      "visual: 0:00:00.193852\n",
      "--------------\n",
      "midbrain\n"
     ]
    },
    {
     "name": "stderr",
     "output_type": "stream",
     "text": [
      "/Users/gzanitti/.local/lib/python3.8/site-packages/pandas-1.1.5-py3.8-macosx-10.9-x86_64.egg/pandas/core/reshape/merge.py:1123: UserWarning: You are merging on int and float columns where the float values are not equal to their int representation\n",
      "  warnings.warn(\n",
      "/Users/gzanitti/.local/lib/python3.8/site-packages/pandas-1.1.5-py3.8-macosx-10.9-x86_64.egg/pandas/core/reshape/merge.py:1123: UserWarning: You are merging on int and float columns where the float values are not equal to their int representation\n",
      "  warnings.warn(\n",
      "/Users/gzanitti/.local/lib/python3.8/site-packages/pandas-1.1.5-py3.8-macosx-10.9-x86_64.egg/pandas/core/reshape/merge.py:1123: UserWarning: You are merging on int and float columns where the float values are not equal to their int representation\n",
      "  warnings.warn(\n",
      "/Users/gzanitti/.local/lib/python3.8/site-packages/pandas-1.1.5-py3.8-macosx-10.9-x86_64.egg/pandas/core/reshape/merge.py:1123: UserWarning: You are merging on int and float columns where the float values are not equal to their int representation\n",
      "  warnings.warn(\n"
     ]
    },
    {
     "name": "stdout",
     "output_type": "stream",
     "text": [
      "midbrain: 0:11:57.992779\n",
      "visual motion\n"
     ]
    },
    {
     "name": "stderr",
     "output_type": "stream",
     "text": [
      "/Users/gzanitti/.local/lib/python3.8/site-packages/pandas-1.1.5-py3.8-macosx-10.9-x86_64.egg/pandas/core/reshape/merge.py:1123: UserWarning: You are merging on int and float columns where the float values are not equal to their int representation\n",
      "  warnings.warn(\n",
      "/Users/gzanitti/.local/lib/python3.8/site-packages/pandas-1.1.5-py3.8-macosx-10.9-x86_64.egg/pandas/core/reshape/merge.py:1123: UserWarning: You are merging on int and float columns where the float values are not equal to their int representation\n",
      "  warnings.warn(\n",
      "/Users/gzanitti/.local/lib/python3.8/site-packages/pandas-1.1.5-py3.8-macosx-10.9-x86_64.egg/pandas/core/reshape/merge.py:1123: UserWarning: You are merging on int and float columns where the float values are not equal to their int representation\n",
      "  warnings.warn(\n",
      "/Users/gzanitti/.local/lib/python3.8/site-packages/pandas-1.1.5-py3.8-macosx-10.9-x86_64.egg/pandas/core/reshape/merge.py:1123: UserWarning: You are merging on int and float columns where the float values are not equal to their int representation\n",
      "  warnings.warn(\n",
      "/Users/gzanitti/opt/miniconda3/envs/neurolang/lib/python3.8/site-packages/tables/path.py:155: NaturalNameWarning: object name is not a valid Python identifier: 'visual motion'; it does not match the pattern ``^[a-zA-Z_][a-zA-Z0-9_]*$``; you will not be able to use natural naming to access this object; using ``getattr()`` will still work, though\n",
      "  check_attribute_name(name)\n"
     ]
    },
    {
     "name": "stdout",
     "output_type": "stream",
     "text": [
      "visual motion: 0:11:14.287997\n",
      "scene\n"
     ]
    },
    {
     "name": "stderr",
     "output_type": "stream",
     "text": [
      "/Users/gzanitti/.local/lib/python3.8/site-packages/pandas-1.1.5-py3.8-macosx-10.9-x86_64.egg/pandas/core/reshape/merge.py:1123: UserWarning: You are merging on int and float columns where the float values are not equal to their int representation\n",
      "  warnings.warn(\n",
      "/Users/gzanitti/.local/lib/python3.8/site-packages/pandas-1.1.5-py3.8-macosx-10.9-x86_64.egg/pandas/core/reshape/merge.py:1123: UserWarning: You are merging on int and float columns where the float values are not equal to their int representation\n",
      "  warnings.warn(\n",
      "/Users/gzanitti/.local/lib/python3.8/site-packages/pandas-1.1.5-py3.8-macosx-10.9-x86_64.egg/pandas/core/reshape/merge.py:1123: UserWarning: You are merging on int and float columns where the float values are not equal to their int representation\n",
      "  warnings.warn(\n",
      "/Users/gzanitti/.local/lib/python3.8/site-packages/pandas-1.1.5-py3.8-macosx-10.9-x86_64.egg/pandas/core/reshape/merge.py:1123: UserWarning: You are merging on int and float columns where the float values are not equal to their int representation\n",
      "  warnings.warn(\n"
     ]
    },
    {
     "name": "stdout",
     "output_type": "stream",
     "text": [
      "scene: 0:12:38.288504\n",
      "visual stimulus\n",
      "visual stimulus: 0:00:00.249741\n",
      "--------------\n",
      "visual stimuli\n",
      "visual stimuli: 0:00:00.140107\n",
      "--------------\n",
      "vision\n",
      "vision: 0:00:00.127173\n",
      "--------------\n",
      "cognitive performance\n",
      "cognitive performance: 0:00:00.140324\n",
      "--------------\n",
      "cognitive function\n",
      "cognitive function: 0:00:00.165500\n",
      "--------------\n",
      "arterial\n"
     ]
    },
    {
     "name": "stderr",
     "output_type": "stream",
     "text": [
      "/Users/gzanitti/.local/lib/python3.8/site-packages/pandas-1.1.5-py3.8-macosx-10.9-x86_64.egg/pandas/core/reshape/merge.py:1123: UserWarning: You are merging on int and float columns where the float values are not equal to their int representation\n",
      "  warnings.warn(\n",
      "/Users/gzanitti/.local/lib/python3.8/site-packages/pandas-1.1.5-py3.8-macosx-10.9-x86_64.egg/pandas/core/reshape/merge.py:1123: UserWarning: You are merging on int and float columns where the float values are not equal to their int representation\n",
      "  warnings.warn(\n",
      "/Users/gzanitti/.local/lib/python3.8/site-packages/pandas-1.1.5-py3.8-macosx-10.9-x86_64.egg/pandas/core/reshape/merge.py:1123: UserWarning: You are merging on int and float columns where the float values are not equal to their int representation\n",
      "  warnings.warn(\n",
      "/Users/gzanitti/.local/lib/python3.8/site-packages/pandas-1.1.5-py3.8-macosx-10.9-x86_64.egg/pandas/core/reshape/merge.py:1123: UserWarning: You are merging on int and float columns where the float values are not equal to their int representation\n",
      "  warnings.warn(\n"
     ]
    },
    {
     "name": "stdout",
     "output_type": "stream",
     "text": [
      "arterial: 0:11:53.653433\n",
      "adaptation\n"
     ]
    },
    {
     "name": "stderr",
     "output_type": "stream",
     "text": [
      "/Users/gzanitti/.local/lib/python3.8/site-packages/pandas-1.1.5-py3.8-macosx-10.9-x86_64.egg/pandas/core/reshape/merge.py:1123: UserWarning: You are merging on int and float columns where the float values are not equal to their int representation\n",
      "  warnings.warn(\n",
      "/Users/gzanitti/.local/lib/python3.8/site-packages/pandas-1.1.5-py3.8-macosx-10.9-x86_64.egg/pandas/core/reshape/merge.py:1123: UserWarning: You are merging on int and float columns where the float values are not equal to their int representation\n",
      "  warnings.warn(\n",
      "/Users/gzanitti/.local/lib/python3.8/site-packages/pandas-1.1.5-py3.8-macosx-10.9-x86_64.egg/pandas/core/reshape/merge.py:1123: UserWarning: You are merging on int and float columns where the float values are not equal to their int representation\n",
      "  warnings.warn(\n",
      "/Users/gzanitti/.local/lib/python3.8/site-packages/pandas-1.1.5-py3.8-macosx-10.9-x86_64.egg/pandas/core/reshape/merge.py:1123: UserWarning: You are merging on int and float columns where the float values are not equal to their int representation\n",
      "  warnings.warn(\n"
     ]
    },
    {
     "name": "stdout",
     "output_type": "stream",
     "text": [
      "adaptation: 0:11:09.775735\n",
      "preparation\n"
     ]
    },
    {
     "name": "stderr",
     "output_type": "stream",
     "text": [
      "/Users/gzanitti/.local/lib/python3.8/site-packages/pandas-1.1.5-py3.8-macosx-10.9-x86_64.egg/pandas/core/reshape/merge.py:1123: UserWarning: You are merging on int and float columns where the float values are not equal to their int representation\n",
      "  warnings.warn(\n",
      "/Users/gzanitti/.local/lib/python3.8/site-packages/pandas-1.1.5-py3.8-macosx-10.9-x86_64.egg/pandas/core/reshape/merge.py:1123: UserWarning: You are merging on int and float columns where the float values are not equal to their int representation\n",
      "  warnings.warn(\n",
      "/Users/gzanitti/.local/lib/python3.8/site-packages/pandas-1.1.5-py3.8-macosx-10.9-x86_64.egg/pandas/core/reshape/merge.py:1123: UserWarning: You are merging on int and float columns where the float values are not equal to their int representation\n",
      "  warnings.warn(\n",
      "/Users/gzanitti/.local/lib/python3.8/site-packages/pandas-1.1.5-py3.8-macosx-10.9-x86_64.egg/pandas/core/reshape/merge.py:1123: UserWarning: You are merging on int and float columns where the float values are not equal to their int representation\n",
      "  warnings.warn(\n"
     ]
    },
    {
     "name": "stdout",
     "output_type": "stream",
     "text": [
      "preparation: 0:11:04.785869\n",
      "placebo\n"
     ]
    },
    {
     "name": "stderr",
     "output_type": "stream",
     "text": [
      "/Users/gzanitti/.local/lib/python3.8/site-packages/pandas-1.1.5-py3.8-macosx-10.9-x86_64.egg/pandas/core/reshape/merge.py:1123: UserWarning: You are merging on int and float columns where the float values are not equal to their int representation\n",
      "  warnings.warn(\n",
      "/Users/gzanitti/.local/lib/python3.8/site-packages/pandas-1.1.5-py3.8-macosx-10.9-x86_64.egg/pandas/core/reshape/merge.py:1123: UserWarning: You are merging on int and float columns where the float values are not equal to their int representation\n",
      "  warnings.warn(\n",
      "/Users/gzanitti/.local/lib/python3.8/site-packages/pandas-1.1.5-py3.8-macosx-10.9-x86_64.egg/pandas/core/reshape/merge.py:1123: UserWarning: You are merging on int and float columns where the float values are not equal to their int representation\n",
      "  warnings.warn(\n",
      "/Users/gzanitti/.local/lib/python3.8/site-packages/pandas-1.1.5-py3.8-macosx-10.9-x86_64.egg/pandas/core/reshape/merge.py:1123: UserWarning: You are merging on int and float columns where the float values are not equal to their int representation\n",
      "  warnings.warn(\n"
     ]
    },
    {
     "name": "stdout",
     "output_type": "stream",
     "text": [
      "placebo: 0:11:44.795673\n",
      "diffusion tensor\n"
     ]
    },
    {
     "name": "stderr",
     "output_type": "stream",
     "text": [
      "/Users/gzanitti/.local/lib/python3.8/site-packages/pandas-1.1.5-py3.8-macosx-10.9-x86_64.egg/pandas/core/reshape/merge.py:1123: UserWarning: You are merging on int and float columns where the float values are not equal to their int representation\n",
      "  warnings.warn(\n",
      "/Users/gzanitti/.local/lib/python3.8/site-packages/pandas-1.1.5-py3.8-macosx-10.9-x86_64.egg/pandas/core/reshape/merge.py:1123: UserWarning: You are merging on int and float columns where the float values are not equal to their int representation\n",
      "  warnings.warn(\n",
      "/Users/gzanitti/.local/lib/python3.8/site-packages/pandas-1.1.5-py3.8-macosx-10.9-x86_64.egg/pandas/core/reshape/merge.py:1123: UserWarning: You are merging on int and float columns where the float values are not equal to their int representation\n",
      "  warnings.warn(\n",
      "/Users/gzanitti/.local/lib/python3.8/site-packages/pandas-1.1.5-py3.8-macosx-10.9-x86_64.egg/pandas/core/reshape/merge.py:1123: UserWarning: You are merging on int and float columns where the float values are not equal to their int representation\n",
      "  warnings.warn(\n",
      "/Users/gzanitti/opt/miniconda3/envs/neurolang/lib/python3.8/site-packages/tables/path.py:155: NaturalNameWarning: object name is not a valid Python identifier: 'diffusion tensor'; it does not match the pattern ``^[a-zA-Z_][a-zA-Z0-9_]*$``; you will not be able to use natural naming to access this object; using ``getattr()`` will still work, though\n",
      "  check_attribute_name(name)\n"
     ]
    },
    {
     "name": "stdout",
     "output_type": "stream",
     "text": [
      "diffusion tensor: 0:12:38.670122\n",
      "symptom\n",
      "symptom: 0:00:00.210303\n",
      "--------------\n",
      "symptoms\n",
      "symptoms: 0:00:00.137801\n",
      "--------------\n",
      "illness\n",
      "illness: 0:00:00.116363\n",
      "--------------\n",
      "disease\n",
      "disease: 0:00:00.113076\n",
      "--------------\n",
      "pathology\n"
     ]
    },
    {
     "name": "stderr",
     "output_type": "stream",
     "text": [
      "/Users/gzanitti/.local/lib/python3.8/site-packages/pandas-1.1.5-py3.8-macosx-10.9-x86_64.egg/pandas/core/reshape/merge.py:1123: UserWarning: You are merging on int and float columns where the float values are not equal to their int representation\n",
      "  warnings.warn(\n",
      "/Users/gzanitti/.local/lib/python3.8/site-packages/pandas-1.1.5-py3.8-macosx-10.9-x86_64.egg/pandas/core/reshape/merge.py:1123: UserWarning: You are merging on int and float columns where the float values are not equal to their int representation\n",
      "  warnings.warn(\n",
      "/Users/gzanitti/.local/lib/python3.8/site-packages/pandas-1.1.5-py3.8-macosx-10.9-x86_64.egg/pandas/core/reshape/merge.py:1123: UserWarning: You are merging on int and float columns where the float values are not equal to their int representation\n",
      "  warnings.warn(\n",
      "/Users/gzanitti/.local/lib/python3.8/site-packages/pandas-1.1.5-py3.8-macosx-10.9-x86_64.egg/pandas/core/reshape/merge.py:1123: UserWarning: You are merging on int and float columns where the float values are not equal to their int representation\n",
      "  warnings.warn(\n"
     ]
    },
    {
     "name": "stdout",
     "output_type": "stream",
     "text": [
      "pathology: 0:11:56.947595\n",
      "hyperactivity disorder\n",
      "hyperactivity disorder: 0:00:00.247925\n",
      "--------------\n",
      "childhood\n"
     ]
    },
    {
     "name": "stderr",
     "output_type": "stream",
     "text": [
      "/Users/gzanitti/.local/lib/python3.8/site-packages/pandas-1.1.5-py3.8-macosx-10.9-x86_64.egg/pandas/core/reshape/merge.py:1123: UserWarning: You are merging on int and float columns where the float values are not equal to their int representation\n",
      "  warnings.warn(\n",
      "/Users/gzanitti/.local/lib/python3.8/site-packages/pandas-1.1.5-py3.8-macosx-10.9-x86_64.egg/pandas/core/reshape/merge.py:1123: UserWarning: You are merging on int and float columns where the float values are not equal to their int representation\n",
      "  warnings.warn(\n",
      "/Users/gzanitti/.local/lib/python3.8/site-packages/pandas-1.1.5-py3.8-macosx-10.9-x86_64.egg/pandas/core/reshape/merge.py:1123: UserWarning: You are merging on int and float columns where the float values are not equal to their int representation\n",
      "  warnings.warn(\n",
      "/Users/gzanitti/.local/lib/python3.8/site-packages/pandas-1.1.5-py3.8-macosx-10.9-x86_64.egg/pandas/core/reshape/merge.py:1123: UserWarning: You are merging on int and float columns where the float values are not equal to their int representation\n",
      "  warnings.warn(\n"
     ]
    },
    {
     "name": "stdout",
     "output_type": "stream",
     "text": [
      "childhood: 0:11:06.845707\n",
      "youth\n",
      "youth: 0:00:00.177543\n",
      "--------------\n",
      "age\n",
      "age: 0:00:00.129107\n",
      "--------------\n",
      "aging\n",
      "aging: 0:00:00.106609\n",
      "--------------\n",
      "development\n",
      "development: 0:00:00.105314\n",
      "--------------\n",
      "growing\n",
      "growing: 0:00:00.107354\n",
      "--------------\n",
      "human\n",
      "human: 0:00:00.101505\n",
      "--------------\n",
      "pet\n"
     ]
    },
    {
     "name": "stderr",
     "output_type": "stream",
     "text": [
      "/Users/gzanitti/.local/lib/python3.8/site-packages/pandas-1.1.5-py3.8-macosx-10.9-x86_64.egg/pandas/core/reshape/merge.py:1123: UserWarning: You are merging on int and float columns where the float values are not equal to their int representation\n",
      "  warnings.warn(\n",
      "/Users/gzanitti/.local/lib/python3.8/site-packages/pandas-1.1.5-py3.8-macosx-10.9-x86_64.egg/pandas/core/reshape/merge.py:1123: UserWarning: You are merging on int and float columns where the float values are not equal to their int representation\n",
      "  warnings.warn(\n",
      "/Users/gzanitti/.local/lib/python3.8/site-packages/pandas-1.1.5-py3.8-macosx-10.9-x86_64.egg/pandas/core/reshape/merge.py:1123: UserWarning: You are merging on int and float columns where the float values are not equal to their int representation\n",
      "  warnings.warn(\n",
      "/Users/gzanitti/.local/lib/python3.8/site-packages/pandas-1.1.5-py3.8-macosx-10.9-x86_64.egg/pandas/core/reshape/merge.py:1123: UserWarning: You are merging on int and float columns where the float values are not equal to their int representation\n",
      "  warnings.warn(\n"
     ]
    },
    {
     "name": "stdout",
     "output_type": "stream",
     "text": [
      "pet: 0:10:52.670289\n",
      "emotion\n"
     ]
    },
    {
     "name": "stderr",
     "output_type": "stream",
     "text": [
      "/Users/gzanitti/.local/lib/python3.8/site-packages/pandas-1.1.5-py3.8-macosx-10.9-x86_64.egg/pandas/core/reshape/merge.py:1123: UserWarning: You are merging on int and float columns where the float values are not equal to their int representation\n",
      "  warnings.warn(\n",
      "/Users/gzanitti/.local/lib/python3.8/site-packages/pandas-1.1.5-py3.8-macosx-10.9-x86_64.egg/pandas/core/reshape/merge.py:1123: UserWarning: You are merging on int and float columns where the float values are not equal to their int representation\n",
      "  warnings.warn(\n",
      "/Users/gzanitti/.local/lib/python3.8/site-packages/pandas-1.1.5-py3.8-macosx-10.9-x86_64.egg/pandas/core/reshape/merge.py:1123: UserWarning: You are merging on int and float columns where the float values are not equal to their int representation\n",
      "  warnings.warn(\n",
      "/Users/gzanitti/.local/lib/python3.8/site-packages/pandas-1.1.5-py3.8-macosx-10.9-x86_64.egg/pandas/core/reshape/merge.py:1123: UserWarning: You are merging on int and float columns where the float values are not equal to their int representation\n",
      "  warnings.warn(\n"
     ]
    },
    {
     "name": "stdout",
     "output_type": "stream",
     "text": [
      "emotion: 0:10:45.247437\n",
      "features\n",
      "features: 0:00:00.203520\n",
      "--------------\n",
      "face\n",
      "face: 0:00:00.107254\n",
      "--------------\n",
      "process\n"
     ]
    },
    {
     "name": "stderr",
     "output_type": "stream",
     "text": [
      "/Users/gzanitti/.local/lib/python3.8/site-packages/pandas-1.1.5-py3.8-macosx-10.9-x86_64.egg/pandas/core/reshape/merge.py:1123: UserWarning: You are merging on int and float columns where the float values are not equal to their int representation\n",
      "  warnings.warn(\n",
      "/Users/gzanitti/.local/lib/python3.8/site-packages/pandas-1.1.5-py3.8-macosx-10.9-x86_64.egg/pandas/core/reshape/merge.py:1123: UserWarning: You are merging on int and float columns where the float values are not equal to their int representation\n",
      "  warnings.warn(\n",
      "/Users/gzanitti/.local/lib/python3.8/site-packages/pandas-1.1.5-py3.8-macosx-10.9-x86_64.egg/pandas/core/reshape/merge.py:1123: UserWarning: You are merging on int and float columns where the float values are not equal to their int representation\n",
      "  warnings.warn(\n",
      "/Users/gzanitti/.local/lib/python3.8/site-packages/pandas-1.1.5-py3.8-macosx-10.9-x86_64.egg/pandas/core/reshape/merge.py:1123: UserWarning: You are merging on int and float columns where the float values are not equal to their int representation\n",
      "  warnings.warn(\n"
     ]
    },
    {
     "name": "stdout",
     "output_type": "stream",
     "text": [
      "process: 0:11:12.288594\n",
      "touch\n",
      "touch: 0:00:00.197762\n",
      "--------------\n",
      "remain\n"
     ]
    },
    {
     "name": "stderr",
     "output_type": "stream",
     "text": [
      "/Users/gzanitti/.local/lib/python3.8/site-packages/pandas-1.1.5-py3.8-macosx-10.9-x86_64.egg/pandas/core/reshape/merge.py:1123: UserWarning: You are merging on int and float columns where the float values are not equal to their int representation\n",
      "  warnings.warn(\n",
      "/Users/gzanitti/.local/lib/python3.8/site-packages/pandas-1.1.5-py3.8-macosx-10.9-x86_64.egg/pandas/core/reshape/merge.py:1123: UserWarning: You are merging on int and float columns where the float values are not equal to their int representation\n",
      "  warnings.warn(\n",
      "/Users/gzanitti/.local/lib/python3.8/site-packages/pandas-1.1.5-py3.8-macosx-10.9-x86_64.egg/pandas/core/reshape/merge.py:1123: UserWarning: You are merging on int and float columns where the float values are not equal to their int representation\n",
      "  warnings.warn(\n",
      "/Users/gzanitti/.local/lib/python3.8/site-packages/pandas-1.1.5-py3.8-macosx-10.9-x86_64.egg/pandas/core/reshape/merge.py:1123: UserWarning: You are merging on int and float columns where the float values are not equal to their int representation\n",
      "  warnings.warn(\n"
     ]
    },
    {
     "name": "stdout",
     "output_type": "stream",
     "text": [
      "remain: 0:11:04.078583\n",
      "life\n"
     ]
    },
    {
     "name": "stderr",
     "output_type": "stream",
     "text": [
      "/Users/gzanitti/.local/lib/python3.8/site-packages/pandas-1.1.5-py3.8-macosx-10.9-x86_64.egg/pandas/core/reshape/merge.py:1123: UserWarning: You are merging on int and float columns where the float values are not equal to their int representation\n",
      "  warnings.warn(\n",
      "/Users/gzanitti/.local/lib/python3.8/site-packages/pandas-1.1.5-py3.8-macosx-10.9-x86_64.egg/pandas/core/reshape/merge.py:1123: UserWarning: You are merging on int and float columns where the float values are not equal to their int representation\n",
      "  warnings.warn(\n",
      "/Users/gzanitti/.local/lib/python3.8/site-packages/pandas-1.1.5-py3.8-macosx-10.9-x86_64.egg/pandas/core/reshape/merge.py:1123: UserWarning: You are merging on int and float columns where the float values are not equal to their int representation\n",
      "  warnings.warn(\n",
      "/Users/gzanitti/.local/lib/python3.8/site-packages/pandas-1.1.5-py3.8-macosx-10.9-x86_64.egg/pandas/core/reshape/merge.py:1123: UserWarning: You are merging on int and float columns where the float values are not equal to their int representation\n",
      "  warnings.warn(\n"
     ]
    },
    {
     "name": "stdout",
     "output_type": "stream",
     "text": [
      "life: 0:11:44.136721\n",
      "addiction\n"
     ]
    },
    {
     "name": "stderr",
     "output_type": "stream",
     "text": [
      "/Users/gzanitti/.local/lib/python3.8/site-packages/pandas-1.1.5-py3.8-macosx-10.9-x86_64.egg/pandas/core/reshape/merge.py:1123: UserWarning: You are merging on int and float columns where the float values are not equal to their int representation\n",
      "  warnings.warn(\n",
      "/Users/gzanitti/.local/lib/python3.8/site-packages/pandas-1.1.5-py3.8-macosx-10.9-x86_64.egg/pandas/core/reshape/merge.py:1123: UserWarning: You are merging on int and float columns where the float values are not equal to their int representation\n",
      "  warnings.warn(\n",
      "/Users/gzanitti/.local/lib/python3.8/site-packages/pandas-1.1.5-py3.8-macosx-10.9-x86_64.egg/pandas/core/reshape/merge.py:1123: UserWarning: You are merging on int and float columns where the float values are not equal to their int representation\n",
      "  warnings.warn(\n",
      "/Users/gzanitti/.local/lib/python3.8/site-packages/pandas-1.1.5-py3.8-macosx-10.9-x86_64.egg/pandas/core/reshape/merge.py:1123: UserWarning: You are merging on int and float columns where the float values are not equal to their int representation\n",
      "  warnings.warn(\n"
     ]
    },
    {
     "name": "stdout",
     "output_type": "stream",
     "text": [
      "addiction: 0:10:36.464016\n",
      "sex\n",
      "sex: 0:00:00.187395\n",
      "--------------\n",
      "gender\n",
      "gender: 0:00:00.142439\n",
      "--------------\n",
      "stroke\n",
      "stroke: 0:00:00.110135\n",
      "--------------\n",
      "access\n",
      "access: 0:00:00.113619\n",
      "--------------\n",
      "fear\n",
      "fear: 0:00:00.107267\n",
      "--------------\n",
      "anxiety\n",
      "anxiety: 0:00:00.110153\n",
      "--------------\n",
      "latency\n"
     ]
    },
    {
     "name": "stderr",
     "output_type": "stream",
     "text": [
      "/Users/gzanitti/.local/lib/python3.8/site-packages/pandas-1.1.5-py3.8-macosx-10.9-x86_64.egg/pandas/core/reshape/merge.py:1123: UserWarning: You are merging on int and float columns where the float values are not equal to their int representation\n",
      "  warnings.warn(\n",
      "/Users/gzanitti/.local/lib/python3.8/site-packages/pandas-1.1.5-py3.8-macosx-10.9-x86_64.egg/pandas/core/reshape/merge.py:1123: UserWarning: You are merging on int and float columns where the float values are not equal to their int representation\n",
      "  warnings.warn(\n",
      "/Users/gzanitti/.local/lib/python3.8/site-packages/pandas-1.1.5-py3.8-macosx-10.9-x86_64.egg/pandas/core/reshape/merge.py:1123: UserWarning: You are merging on int and float columns where the float values are not equal to their int representation\n",
      "  warnings.warn(\n",
      "/Users/gzanitti/.local/lib/python3.8/site-packages/pandas-1.1.5-py3.8-macosx-10.9-x86_64.egg/pandas/core/reshape/merge.py:1123: UserWarning: You are merging on int and float columns where the float values are not equal to their int representation\n",
      "  warnings.warn(\n"
     ]
    },
    {
     "name": "stdout",
     "output_type": "stream",
     "text": [
      "latency: 0:10:20.636239\n",
      "early stage\n"
     ]
    },
    {
     "name": "stderr",
     "output_type": "stream",
     "text": [
      "/Users/gzanitti/.local/lib/python3.8/site-packages/pandas-1.1.5-py3.8-macosx-10.9-x86_64.egg/pandas/core/reshape/merge.py:1123: UserWarning: You are merging on int and float columns where the float values are not equal to their int representation\n",
      "  warnings.warn(\n",
      "/Users/gzanitti/.local/lib/python3.8/site-packages/pandas-1.1.5-py3.8-macosx-10.9-x86_64.egg/pandas/core/reshape/merge.py:1123: UserWarning: You are merging on int and float columns where the float values are not equal to their int representation\n",
      "  warnings.warn(\n",
      "/Users/gzanitti/.local/lib/python3.8/site-packages/pandas-1.1.5-py3.8-macosx-10.9-x86_64.egg/pandas/core/reshape/merge.py:1123: UserWarning: You are merging on int and float columns where the float values are not equal to their int representation\n",
      "  warnings.warn(\n",
      "/Users/gzanitti/.local/lib/python3.8/site-packages/pandas-1.1.5-py3.8-macosx-10.9-x86_64.egg/pandas/core/reshape/merge.py:1123: UserWarning: You are merging on int and float columns where the float values are not equal to their int representation\n",
      "  warnings.warn(\n",
      "/Users/gzanitti/opt/miniconda3/envs/neurolang/lib/python3.8/site-packages/tables/path.py:155: NaturalNameWarning: object name is not a valid Python identifier: 'early stage'; it does not match the pattern ``^[a-zA-Z_][a-zA-Z0-9_]*$``; you will not be able to use natural naming to access this object; using ``getattr()`` will still work, though\n",
      "  check_attribute_name(name)\n"
     ]
    },
    {
     "name": "stdout",
     "output_type": "stream",
     "text": [
      "early stage: 0:11:11.769616\n",
      "speech production\n"
     ]
    },
    {
     "name": "stderr",
     "output_type": "stream",
     "text": [
      "/Users/gzanitti/.local/lib/python3.8/site-packages/pandas-1.1.5-py3.8-macosx-10.9-x86_64.egg/pandas/core/reshape/merge.py:1123: UserWarning: You are merging on int and float columns where the float values are not equal to their int representation\n",
      "  warnings.warn(\n",
      "/Users/gzanitti/.local/lib/python3.8/site-packages/pandas-1.1.5-py3.8-macosx-10.9-x86_64.egg/pandas/core/reshape/merge.py:1123: UserWarning: You are merging on int and float columns where the float values are not equal to their int representation\n",
      "  warnings.warn(\n",
      "/Users/gzanitti/.local/lib/python3.8/site-packages/pandas-1.1.5-py3.8-macosx-10.9-x86_64.egg/pandas/core/reshape/merge.py:1123: UserWarning: You are merging on int and float columns where the float values are not equal to their int representation\n",
      "  warnings.warn(\n",
      "/Users/gzanitti/.local/lib/python3.8/site-packages/pandas-1.1.5-py3.8-macosx-10.9-x86_64.egg/pandas/core/reshape/merge.py:1123: UserWarning: You are merging on int and float columns where the float values are not equal to their int representation\n",
      "  warnings.warn(\n",
      "/Users/gzanitti/opt/miniconda3/envs/neurolang/lib/python3.8/site-packages/tables/path.py:155: NaturalNameWarning: object name is not a valid Python identifier: 'speech production'; it does not match the pattern ``^[a-zA-Z_][a-zA-Z0-9_]*$``; you will not be able to use natural naming to access this object; using ``getattr()`` will still work, though\n",
      "  check_attribute_name(name)\n"
     ]
    },
    {
     "name": "stdout",
     "output_type": "stream",
     "text": [
      "speech production: 0:10:27.123100\n",
      "tone\n"
     ]
    },
    {
     "name": "stderr",
     "output_type": "stream",
     "text": [
      "/Users/gzanitti/.local/lib/python3.8/site-packages/pandas-1.1.5-py3.8-macosx-10.9-x86_64.egg/pandas/core/reshape/merge.py:1123: UserWarning: You are merging on int and float columns where the float values are not equal to their int representation\n",
      "  warnings.warn(\n",
      "/Users/gzanitti/.local/lib/python3.8/site-packages/pandas-1.1.5-py3.8-macosx-10.9-x86_64.egg/pandas/core/reshape/merge.py:1123: UserWarning: You are merging on int and float columns where the float values are not equal to their int representation\n",
      "  warnings.warn(\n",
      "/Users/gzanitti/.local/lib/python3.8/site-packages/pandas-1.1.5-py3.8-macosx-10.9-x86_64.egg/pandas/core/reshape/merge.py:1123: UserWarning: You are merging on int and float columns where the float values are not equal to their int representation\n",
      "  warnings.warn(\n",
      "/Users/gzanitti/.local/lib/python3.8/site-packages/pandas-1.1.5-py3.8-macosx-10.9-x86_64.egg/pandas/core/reshape/merge.py:1123: UserWarning: You are merging on int and float columns where the float values are not equal to their int representation\n",
      "  warnings.warn(\n"
     ]
    },
    {
     "name": "stdout",
     "output_type": "stream",
     "text": [
      "tone: 0:10:23.305342\n",
      "sound\n",
      "sound: 0:00:00.194871\n",
      "--------------\n",
      "voice\n",
      "voice: 0:00:00.121321\n",
      "--------------\n",
      "speech\n",
      "speech: 0:00:00.114409\n",
      "--------------\n",
      "dependence\n"
     ]
    },
    {
     "name": "stderr",
     "output_type": "stream",
     "text": [
      "/Users/gzanitti/.local/lib/python3.8/site-packages/pandas-1.1.5-py3.8-macosx-10.9-x86_64.egg/pandas/core/reshape/merge.py:1123: UserWarning: You are merging on int and float columns where the float values are not equal to their int representation\n",
      "  warnings.warn(\n",
      "/Users/gzanitti/.local/lib/python3.8/site-packages/pandas-1.1.5-py3.8-macosx-10.9-x86_64.egg/pandas/core/reshape/merge.py:1123: UserWarning: You are merging on int and float columns where the float values are not equal to their int representation\n",
      "  warnings.warn(\n",
      "/Users/gzanitti/.local/lib/python3.8/site-packages/pandas-1.1.5-py3.8-macosx-10.9-x86_64.egg/pandas/core/reshape/merge.py:1123: UserWarning: You are merging on int and float columns where the float values are not equal to their int representation\n",
      "  warnings.warn(\n",
      "/Users/gzanitti/.local/lib/python3.8/site-packages/pandas-1.1.5-py3.8-macosx-10.9-x86_64.egg/pandas/core/reshape/merge.py:1123: UserWarning: You are merging on int and float columns where the float values are not equal to their int representation\n",
      "  warnings.warn(\n"
     ]
    },
    {
     "name": "stdout",
     "output_type": "stream",
     "text": [
      "dependence: 0:10:43.300001\n",
      "perception\n",
      "perception: 0:00:00.212683\n",
      "--------------\n",
      "sense\n",
      "sense: 0:00:00.160735\n",
      "--------------\n",
      "sensory information\n"
     ]
    },
    {
     "name": "stderr",
     "output_type": "stream",
     "text": [
      "/Users/gzanitti/.local/lib/python3.8/site-packages/pandas-1.1.5-py3.8-macosx-10.9-x86_64.egg/pandas/core/reshape/merge.py:1123: UserWarning: You are merging on int and float columns where the float values are not equal to their int representation\n",
      "  warnings.warn(\n",
      "/Users/gzanitti/.local/lib/python3.8/site-packages/pandas-1.1.5-py3.8-macosx-10.9-x86_64.egg/pandas/core/reshape/merge.py:1123: UserWarning: You are merging on int and float columns where the float values are not equal to their int representation\n",
      "  warnings.warn(\n",
      "/Users/gzanitti/.local/lib/python3.8/site-packages/pandas-1.1.5-py3.8-macosx-10.9-x86_64.egg/pandas/core/reshape/merge.py:1123: UserWarning: You are merging on int and float columns where the float values are not equal to their int representation\n",
      "  warnings.warn(\n",
      "/Users/gzanitti/.local/lib/python3.8/site-packages/pandas-1.1.5-py3.8-macosx-10.9-x86_64.egg/pandas/core/reshape/merge.py:1123: UserWarning: You are merging on int and float columns where the float values are not equal to their int representation\n",
      "  warnings.warn(\n",
      "/Users/gzanitti/opt/miniconda3/envs/neurolang/lib/python3.8/site-packages/tables/path.py:155: NaturalNameWarning: object name is not a valid Python identifier: 'sensory information'; it does not match the pattern ``^[a-zA-Z_][a-zA-Z0-9_]*$``; you will not be able to use natural naming to access this object; using ``getattr()`` will still work, though\n",
      "  check_attribute_name(name)\n"
     ]
    },
    {
     "name": "stdout",
     "output_type": "stream",
     "text": [
      "sensory information: 0:10:33.526718\n",
      "variety\n"
     ]
    },
    {
     "name": "stderr",
     "output_type": "stream",
     "text": [
      "/Users/gzanitti/.local/lib/python3.8/site-packages/pandas-1.1.5-py3.8-macosx-10.9-x86_64.egg/pandas/core/reshape/merge.py:1123: UserWarning: You are merging on int and float columns where the float values are not equal to their int representation\n",
      "  warnings.warn(\n",
      "/Users/gzanitti/.local/lib/python3.8/site-packages/pandas-1.1.5-py3.8-macosx-10.9-x86_64.egg/pandas/core/reshape/merge.py:1123: UserWarning: You are merging on int and float columns where the float values are not equal to their int representation\n",
      "  warnings.warn(\n",
      "/Users/gzanitti/.local/lib/python3.8/site-packages/pandas-1.1.5-py3.8-macosx-10.9-x86_64.egg/pandas/core/reshape/merge.py:1123: UserWarning: You are merging on int and float columns where the float values are not equal to their int representation\n",
      "  warnings.warn(\n",
      "/Users/gzanitti/.local/lib/python3.8/site-packages/pandas-1.1.5-py3.8-macosx-10.9-x86_64.egg/pandas/core/reshape/merge.py:1123: UserWarning: You are merging on int and float columns where the float values are not equal to their int representation\n",
      "  warnings.warn(\n"
     ]
    },
    {
     "name": "stdout",
     "output_type": "stream",
     "text": [
      "variety: 0:10:52.651781\n",
      "neuroscience\n"
     ]
    },
    {
     "name": "stderr",
     "output_type": "stream",
     "text": [
      "/Users/gzanitti/.local/lib/python3.8/site-packages/pandas-1.1.5-py3.8-macosx-10.9-x86_64.egg/pandas/core/reshape/merge.py:1123: UserWarning: You are merging on int and float columns where the float values are not equal to their int representation\n",
      "  warnings.warn(\n",
      "/Users/gzanitti/.local/lib/python3.8/site-packages/pandas-1.1.5-py3.8-macosx-10.9-x86_64.egg/pandas/core/reshape/merge.py:1123: UserWarning: You are merging on int and float columns where the float values are not equal to their int representation\n",
      "  warnings.warn(\n",
      "/Users/gzanitti/.local/lib/python3.8/site-packages/pandas-1.1.5-py3.8-macosx-10.9-x86_64.egg/pandas/core/reshape/merge.py:1123: UserWarning: You are merging on int and float columns where the float values are not equal to their int representation\n",
      "  warnings.warn(\n",
      "/Users/gzanitti/.local/lib/python3.8/site-packages/pandas-1.1.5-py3.8-macosx-10.9-x86_64.egg/pandas/core/reshape/merge.py:1123: UserWarning: You are merging on int and float columns where the float values are not equal to their int representation\n",
      "  warnings.warn(\n"
     ]
    },
    {
     "name": "stdout",
     "output_type": "stream",
     "text": [
      "neuroscience: 0:11:11.753457\n",
      "fractional anisotropy\n"
     ]
    },
    {
     "name": "stderr",
     "output_type": "stream",
     "text": [
      "/Users/gzanitti/.local/lib/python3.8/site-packages/pandas-1.1.5-py3.8-macosx-10.9-x86_64.egg/pandas/core/reshape/merge.py:1123: UserWarning: You are merging on int and float columns where the float values are not equal to their int representation\n",
      "  warnings.warn(\n",
      "/Users/gzanitti/.local/lib/python3.8/site-packages/pandas-1.1.5-py3.8-macosx-10.9-x86_64.egg/pandas/core/reshape/merge.py:1123: UserWarning: You are merging on int and float columns where the float values are not equal to their int representation\n",
      "  warnings.warn(\n",
      "/Users/gzanitti/.local/lib/python3.8/site-packages/pandas-1.1.5-py3.8-macosx-10.9-x86_64.egg/pandas/core/reshape/merge.py:1123: UserWarning: You are merging on int and float columns where the float values are not equal to their int representation\n",
      "  warnings.warn(\n",
      "/Users/gzanitti/.local/lib/python3.8/site-packages/pandas-1.1.5-py3.8-macosx-10.9-x86_64.egg/pandas/core/reshape/merge.py:1123: UserWarning: You are merging on int and float columns where the float values are not equal to their int representation\n",
      "  warnings.warn(\n",
      "/Users/gzanitti/opt/miniconda3/envs/neurolang/lib/python3.8/site-packages/tables/path.py:155: NaturalNameWarning: object name is not a valid Python identifier: 'fractional anisotropy'; it does not match the pattern ``^[a-zA-Z_][a-zA-Z0-9_]*$``; you will not be able to use natural naming to access this object; using ``getattr()`` will still work, though\n",
      "  check_attribute_name(name)\n"
     ]
    },
    {
     "name": "stdout",
     "output_type": "stream",
     "text": [
      "fractional anisotropy: 0:10:35.223751\n",
      "pain\n"
     ]
    },
    {
     "name": "stderr",
     "output_type": "stream",
     "text": [
      "/Users/gzanitti/.local/lib/python3.8/site-packages/pandas-1.1.5-py3.8-macosx-10.9-x86_64.egg/pandas/core/reshape/merge.py:1123: UserWarning: You are merging on int and float columns where the float values are not equal to their int representation\n",
      "  warnings.warn(\n",
      "/Users/gzanitti/.local/lib/python3.8/site-packages/pandas-1.1.5-py3.8-macosx-10.9-x86_64.egg/pandas/core/reshape/merge.py:1123: UserWarning: You are merging on int and float columns where the float values are not equal to their int representation\n",
      "  warnings.warn(\n",
      "/Users/gzanitti/.local/lib/python3.8/site-packages/pandas-1.1.5-py3.8-macosx-10.9-x86_64.egg/pandas/core/reshape/merge.py:1123: UserWarning: You are merging on int and float columns where the float values are not equal to their int representation\n",
      "  warnings.warn(\n",
      "/Users/gzanitti/.local/lib/python3.8/site-packages/pandas-1.1.5-py3.8-macosx-10.9-x86_64.egg/pandas/core/reshape/merge.py:1123: UserWarning: You are merging on int and float columns where the float values are not equal to their int representation\n",
      "  warnings.warn(\n"
     ]
    },
    {
     "name": "stdout",
     "output_type": "stream",
     "text": [
      "pain: 0:10:40.762196\n",
      "suffering\n"
     ]
    },
    {
     "name": "stderr",
     "output_type": "stream",
     "text": [
      "/Users/gzanitti/.local/lib/python3.8/site-packages/pandas-1.1.5-py3.8-macosx-10.9-x86_64.egg/pandas/core/reshape/merge.py:1123: UserWarning: You are merging on int and float columns where the float values are not equal to their int representation\n",
      "  warnings.warn(\n",
      "/Users/gzanitti/.local/lib/python3.8/site-packages/pandas-1.1.5-py3.8-macosx-10.9-x86_64.egg/pandas/core/reshape/merge.py:1123: UserWarning: You are merging on int and float columns where the float values are not equal to their int representation\n",
      "  warnings.warn(\n",
      "/Users/gzanitti/.local/lib/python3.8/site-packages/pandas-1.1.5-py3.8-macosx-10.9-x86_64.egg/pandas/core/reshape/merge.py:1123: UserWarning: You are merging on int and float columns where the float values are not equal to their int representation\n",
      "  warnings.warn(\n",
      "/Users/gzanitti/.local/lib/python3.8/site-packages/pandas-1.1.5-py3.8-macosx-10.9-x86_64.egg/pandas/core/reshape/merge.py:1123: UserWarning: You are merging on int and float columns where the float values are not equal to their int representation\n",
      "  warnings.warn(\n"
     ]
    },
    {
     "name": "stdout",
     "output_type": "stream",
     "text": [
      "suffering: 0:10:36.643757\n",
      "consumption\n"
     ]
    },
    {
     "name": "stderr",
     "output_type": "stream",
     "text": [
      "/Users/gzanitti/.local/lib/python3.8/site-packages/pandas-1.1.5-py3.8-macosx-10.9-x86_64.egg/pandas/core/reshape/merge.py:1123: UserWarning: You are merging on int and float columns where the float values are not equal to their int representation\n",
      "  warnings.warn(\n",
      "/Users/gzanitti/.local/lib/python3.8/site-packages/pandas-1.1.5-py3.8-macosx-10.9-x86_64.egg/pandas/core/reshape/merge.py:1123: UserWarning: You are merging on int and float columns where the float values are not equal to their int representation\n",
      "  warnings.warn(\n",
      "/Users/gzanitti/.local/lib/python3.8/site-packages/pandas-1.1.5-py3.8-macosx-10.9-x86_64.egg/pandas/core/reshape/merge.py:1123: UserWarning: You are merging on int and float columns where the float values are not equal to their int representation\n",
      "  warnings.warn(\n",
      "/Users/gzanitti/.local/lib/python3.8/site-packages/pandas-1.1.5-py3.8-macosx-10.9-x86_64.egg/pandas/core/reshape/merge.py:1123: UserWarning: You are merging on int and float columns where the float values are not equal to their int representation\n",
      "  warnings.warn(\n"
     ]
    },
    {
     "name": "stdout",
     "output_type": "stream",
     "text": [
      "consumption: 0:10:45.308960\n",
      "anatomy\n"
     ]
    },
    {
     "name": "stderr",
     "output_type": "stream",
     "text": [
      "/Users/gzanitti/.local/lib/python3.8/site-packages/pandas-1.1.5-py3.8-macosx-10.9-x86_64.egg/pandas/core/reshape/merge.py:1123: UserWarning: You are merging on int and float columns where the float values are not equal to their int representation\n",
      "  warnings.warn(\n",
      "/Users/gzanitti/.local/lib/python3.8/site-packages/pandas-1.1.5-py3.8-macosx-10.9-x86_64.egg/pandas/core/reshape/merge.py:1123: UserWarning: You are merging on int and float columns where the float values are not equal to their int representation\n",
      "  warnings.warn(\n",
      "/Users/gzanitti/.local/lib/python3.8/site-packages/pandas-1.1.5-py3.8-macosx-10.9-x86_64.egg/pandas/core/reshape/merge.py:1123: UserWarning: You are merging on int and float columns where the float values are not equal to their int representation\n",
      "  warnings.warn(\n",
      "/Users/gzanitti/.local/lib/python3.8/site-packages/pandas-1.1.5-py3.8-macosx-10.9-x86_64.egg/pandas/core/reshape/merge.py:1123: UserWarning: You are merging on int and float columns where the float values are not equal to their int representation\n",
      "  warnings.warn(\n"
     ]
    },
    {
     "name": "stdout",
     "output_type": "stream",
     "text": [
      "anatomy: 0:10:37.898889\n",
      "pathophysiology\n"
     ]
    },
    {
     "name": "stderr",
     "output_type": "stream",
     "text": [
      "/Users/gzanitti/.local/lib/python3.8/site-packages/pandas-1.1.5-py3.8-macosx-10.9-x86_64.egg/pandas/core/reshape/merge.py:1123: UserWarning: You are merging on int and float columns where the float values are not equal to their int representation\n",
      "  warnings.warn(\n",
      "/Users/gzanitti/.local/lib/python3.8/site-packages/pandas-1.1.5-py3.8-macosx-10.9-x86_64.egg/pandas/core/reshape/merge.py:1123: UserWarning: You are merging on int and float columns where the float values are not equal to their int representation\n",
      "  warnings.warn(\n",
      "/Users/gzanitti/.local/lib/python3.8/site-packages/pandas-1.1.5-py3.8-macosx-10.9-x86_64.egg/pandas/core/reshape/merge.py:1123: UserWarning: You are merging on int and float columns where the float values are not equal to their int representation\n",
      "  warnings.warn(\n",
      "/Users/gzanitti/.local/lib/python3.8/site-packages/pandas-1.1.5-py3.8-macosx-10.9-x86_64.egg/pandas/core/reshape/merge.py:1123: UserWarning: You are merging on int and float columns where the float values are not equal to their int representation\n",
      "  warnings.warn(\n"
     ]
    },
    {
     "name": "stdout",
     "output_type": "stream",
     "text": [
      "pathophysiology: 0:10:55.909379\n",
      "motor function\n"
     ]
    },
    {
     "name": "stderr",
     "output_type": "stream",
     "text": [
      "/Users/gzanitti/.local/lib/python3.8/site-packages/pandas-1.1.5-py3.8-macosx-10.9-x86_64.egg/pandas/core/reshape/merge.py:1123: UserWarning: You are merging on int and float columns where the float values are not equal to their int representation\n",
      "  warnings.warn(\n",
      "/Users/gzanitti/.local/lib/python3.8/site-packages/pandas-1.1.5-py3.8-macosx-10.9-x86_64.egg/pandas/core/reshape/merge.py:1123: UserWarning: You are merging on int and float columns where the float values are not equal to their int representation\n",
      "  warnings.warn(\n",
      "/Users/gzanitti/.local/lib/python3.8/site-packages/pandas-1.1.5-py3.8-macosx-10.9-x86_64.egg/pandas/core/reshape/merge.py:1123: UserWarning: You are merging on int and float columns where the float values are not equal to their int representation\n",
      "  warnings.warn(\n",
      "/Users/gzanitti/.local/lib/python3.8/site-packages/pandas-1.1.5-py3.8-macosx-10.9-x86_64.egg/pandas/core/reshape/merge.py:1123: UserWarning: You are merging on int and float columns where the float values are not equal to their int representation\n",
      "  warnings.warn(\n",
      "/Users/gzanitti/opt/miniconda3/envs/neurolang/lib/python3.8/site-packages/tables/path.py:155: NaturalNameWarning: object name is not a valid Python identifier: 'motor function'; it does not match the pattern ``^[a-zA-Z_][a-zA-Z0-9_]*$``; you will not be able to use natural naming to access this object; using ``getattr()`` will still work, though\n",
      "  check_attribute_name(name)\n"
     ]
    },
    {
     "name": "stdout",
     "output_type": "stream",
     "text": [
      "motor function: 0:10:28.975972\n",
      "skin conductance\n"
     ]
    },
    {
     "name": "stderr",
     "output_type": "stream",
     "text": [
      "/Users/gzanitti/.local/lib/python3.8/site-packages/pandas-1.1.5-py3.8-macosx-10.9-x86_64.egg/pandas/core/reshape/merge.py:1123: UserWarning: You are merging on int and float columns where the float values are not equal to their int representation\n",
      "  warnings.warn(\n",
      "/Users/gzanitti/.local/lib/python3.8/site-packages/pandas-1.1.5-py3.8-macosx-10.9-x86_64.egg/pandas/core/reshape/merge.py:1123: UserWarning: You are merging on int and float columns where the float values are not equal to their int representation\n",
      "  warnings.warn(\n",
      "/Users/gzanitti/.local/lib/python3.8/site-packages/pandas-1.1.5-py3.8-macosx-10.9-x86_64.egg/pandas/core/reshape/merge.py:1123: UserWarning: You are merging on int and float columns where the float values are not equal to their int representation\n",
      "  warnings.warn(\n",
      "/Users/gzanitti/.local/lib/python3.8/site-packages/pandas-1.1.5-py3.8-macosx-10.9-x86_64.egg/pandas/core/reshape/merge.py:1123: UserWarning: You are merging on int and float columns where the float values are not equal to their int representation\n",
      "  warnings.warn(\n",
      "/Users/gzanitti/opt/miniconda3/envs/neurolang/lib/python3.8/site-packages/tables/path.py:155: NaturalNameWarning: object name is not a valid Python identifier: 'skin conductance'; it does not match the pattern ``^[a-zA-Z_][a-zA-Z0-9_]*$``; you will not be able to use natural naming to access this object; using ``getattr()`` will still work, though\n",
      "  check_attribute_name(name)\n"
     ]
    },
    {
     "name": "stdout",
     "output_type": "stream",
     "text": [
      "skin conductance: 0:10:43.365864\n",
      "skin\n"
     ]
    },
    {
     "name": "stderr",
     "output_type": "stream",
     "text": [
      "/Users/gzanitti/.local/lib/python3.8/site-packages/pandas-1.1.5-py3.8-macosx-10.9-x86_64.egg/pandas/core/reshape/merge.py:1123: UserWarning: You are merging on int and float columns where the float values are not equal to their int representation\n",
      "  warnings.warn(\n",
      "/Users/gzanitti/.local/lib/python3.8/site-packages/pandas-1.1.5-py3.8-macosx-10.9-x86_64.egg/pandas/core/reshape/merge.py:1123: UserWarning: You are merging on int and float columns where the float values are not equal to their int representation\n",
      "  warnings.warn(\n",
      "/Users/gzanitti/.local/lib/python3.8/site-packages/pandas-1.1.5-py3.8-macosx-10.9-x86_64.egg/pandas/core/reshape/merge.py:1123: UserWarning: You are merging on int and float columns where the float values are not equal to their int representation\n",
      "  warnings.warn(\n",
      "/Users/gzanitti/.local/lib/python3.8/site-packages/pandas-1.1.5-py3.8-macosx-10.9-x86_64.egg/pandas/core/reshape/merge.py:1123: UserWarning: You are merging on int and float columns where the float values are not equal to their int representation\n",
      "  warnings.warn(\n"
     ]
    },
    {
     "name": "stdout",
     "output_type": "stream",
     "text": [
      "skin: 0:10:34.779687\n",
      "selective attention\n"
     ]
    },
    {
     "name": "stderr",
     "output_type": "stream",
     "text": [
      "/Users/gzanitti/.local/lib/python3.8/site-packages/pandas-1.1.5-py3.8-macosx-10.9-x86_64.egg/pandas/core/reshape/merge.py:1123: UserWarning: You are merging on int and float columns where the float values are not equal to their int representation\n",
      "  warnings.warn(\n",
      "/Users/gzanitti/.local/lib/python3.8/site-packages/pandas-1.1.5-py3.8-macosx-10.9-x86_64.egg/pandas/core/reshape/merge.py:1123: UserWarning: You are merging on int and float columns where the float values are not equal to their int representation\n",
      "  warnings.warn(\n",
      "/Users/gzanitti/.local/lib/python3.8/site-packages/pandas-1.1.5-py3.8-macosx-10.9-x86_64.egg/pandas/core/reshape/merge.py:1123: UserWarning: You are merging on int and float columns where the float values are not equal to their int representation\n",
      "  warnings.warn(\n",
      "/Users/gzanitti/.local/lib/python3.8/site-packages/pandas-1.1.5-py3.8-macosx-10.9-x86_64.egg/pandas/core/reshape/merge.py:1123: UserWarning: You are merging on int and float columns where the float values are not equal to their int representation\n",
      "  warnings.warn(\n",
      "/Users/gzanitti/opt/miniconda3/envs/neurolang/lib/python3.8/site-packages/tables/path.py:155: NaturalNameWarning: object name is not a valid Python identifier: 'selective attention'; it does not match the pattern ``^[a-zA-Z_][a-zA-Z0-9_]*$``; you will not be able to use natural naming to access this object; using ``getattr()`` will still work, though\n",
      "  check_attribute_name(name)\n"
     ]
    },
    {
     "name": "stdout",
     "output_type": "stream",
     "text": [
      "selective attention: 0:10:47.717991\n",
      "expression\n"
     ]
    },
    {
     "name": "stderr",
     "output_type": "stream",
     "text": [
      "/Users/gzanitti/.local/lib/python3.8/site-packages/pandas-1.1.5-py3.8-macosx-10.9-x86_64.egg/pandas/core/reshape/merge.py:1123: UserWarning: You are merging on int and float columns where the float values are not equal to their int representation\n",
      "  warnings.warn(\n",
      "/Users/gzanitti/.local/lib/python3.8/site-packages/pandas-1.1.5-py3.8-macosx-10.9-x86_64.egg/pandas/core/reshape/merge.py:1123: UserWarning: You are merging on int and float columns where the float values are not equal to their int representation\n",
      "  warnings.warn(\n",
      "/Users/gzanitti/.local/lib/python3.8/site-packages/pandas-1.1.5-py3.8-macosx-10.9-x86_64.egg/pandas/core/reshape/merge.py:1123: UserWarning: You are merging on int and float columns where the float values are not equal to their int representation\n",
      "  warnings.warn(\n",
      "/Users/gzanitti/.local/lib/python3.8/site-packages/pandas-1.1.5-py3.8-macosx-10.9-x86_64.egg/pandas/core/reshape/merge.py:1123: UserWarning: You are merging on int and float columns where the float values are not equal to their int representation\n",
      "  warnings.warn(\n"
     ]
    },
    {
     "name": "stdout",
     "output_type": "stream",
     "text": [
      "expression: 0:10:32.892203\n",
      "phenotype\n"
     ]
    },
    {
     "name": "stderr",
     "output_type": "stream",
     "text": [
      "/Users/gzanitti/.local/lib/python3.8/site-packages/pandas-1.1.5-py3.8-macosx-10.9-x86_64.egg/pandas/core/reshape/merge.py:1123: UserWarning: You are merging on int and float columns where the float values are not equal to their int representation\n",
      "  warnings.warn(\n",
      "/Users/gzanitti/.local/lib/python3.8/site-packages/pandas-1.1.5-py3.8-macosx-10.9-x86_64.egg/pandas/core/reshape/merge.py:1123: UserWarning: You are merging on int and float columns where the float values are not equal to their int representation\n",
      "  warnings.warn(\n",
      "/Users/gzanitti/.local/lib/python3.8/site-packages/pandas-1.1.5-py3.8-macosx-10.9-x86_64.egg/pandas/core/reshape/merge.py:1123: UserWarning: You are merging on int and float columns where the float values are not equal to their int representation\n",
      "  warnings.warn(\n",
      "/Users/gzanitti/.local/lib/python3.8/site-packages/pandas-1.1.5-py3.8-macosx-10.9-x86_64.egg/pandas/core/reshape/merge.py:1123: UserWarning: You are merging on int and float columns where the float values are not equal to their int representation\n",
      "  warnings.warn(\n"
     ]
    },
    {
     "name": "stdout",
     "output_type": "stream",
     "text": [
      "phenotype: 0:10:51.964206\n",
      "variant\n"
     ]
    },
    {
     "name": "stderr",
     "output_type": "stream",
     "text": [
      "/Users/gzanitti/.local/lib/python3.8/site-packages/pandas-1.1.5-py3.8-macosx-10.9-x86_64.egg/pandas/core/reshape/merge.py:1123: UserWarning: You are merging on int and float columns where the float values are not equal to their int representation\n",
      "  warnings.warn(\n",
      "/Users/gzanitti/.local/lib/python3.8/site-packages/pandas-1.1.5-py3.8-macosx-10.9-x86_64.egg/pandas/core/reshape/merge.py:1123: UserWarning: You are merging on int and float columns where the float values are not equal to their int representation\n",
      "  warnings.warn(\n",
      "/Users/gzanitti/.local/lib/python3.8/site-packages/pandas-1.1.5-py3.8-macosx-10.9-x86_64.egg/pandas/core/reshape/merge.py:1123: UserWarning: You are merging on int and float columns where the float values are not equal to their int representation\n",
      "  warnings.warn(\n",
      "/Users/gzanitti/.local/lib/python3.8/site-packages/pandas-1.1.5-py3.8-macosx-10.9-x86_64.egg/pandas/core/reshape/merge.py:1123: UserWarning: You are merging on int and float columns where the float values are not equal to their int representation\n",
      "  warnings.warn(\n"
     ]
    },
    {
     "name": "stdout",
     "output_type": "stream",
     "text": [
      "variant: 0:10:52.897626\n",
      "genotype\n"
     ]
    },
    {
     "name": "stderr",
     "output_type": "stream",
     "text": [
      "/Users/gzanitti/.local/lib/python3.8/site-packages/pandas-1.1.5-py3.8-macosx-10.9-x86_64.egg/pandas/core/reshape/merge.py:1123: UserWarning: You are merging on int and float columns where the float values are not equal to their int representation\n",
      "  warnings.warn(\n",
      "/Users/gzanitti/.local/lib/python3.8/site-packages/pandas-1.1.5-py3.8-macosx-10.9-x86_64.egg/pandas/core/reshape/merge.py:1123: UserWarning: You are merging on int and float columns where the float values are not equal to their int representation\n",
      "  warnings.warn(\n",
      "/Users/gzanitti/.local/lib/python3.8/site-packages/pandas-1.1.5-py3.8-macosx-10.9-x86_64.egg/pandas/core/reshape/merge.py:1123: UserWarning: You are merging on int and float columns where the float values are not equal to their int representation\n",
      "  warnings.warn(\n",
      "/Users/gzanitti/.local/lib/python3.8/site-packages/pandas-1.1.5-py3.8-macosx-10.9-x86_64.egg/pandas/core/reshape/merge.py:1123: UserWarning: You are merging on int and float columns where the float values are not equal to their int representation\n",
      "  warnings.warn(\n"
     ]
    },
    {
     "name": "stdout",
     "output_type": "stream",
     "text": [
      "genotype: 0:10:34.827709\n",
      "illusion\n"
     ]
    },
    {
     "name": "stderr",
     "output_type": "stream",
     "text": [
      "/Users/gzanitti/.local/lib/python3.8/site-packages/pandas-1.1.5-py3.8-macosx-10.9-x86_64.egg/pandas/core/reshape/merge.py:1123: UserWarning: You are merging on int and float columns where the float values are not equal to their int representation\n",
      "  warnings.warn(\n",
      "/Users/gzanitti/.local/lib/python3.8/site-packages/pandas-1.1.5-py3.8-macosx-10.9-x86_64.egg/pandas/core/reshape/merge.py:1123: UserWarning: You are merging on int and float columns where the float values are not equal to their int representation\n",
      "  warnings.warn(\n",
      "/Users/gzanitti/.local/lib/python3.8/site-packages/pandas-1.1.5-py3.8-macosx-10.9-x86_64.egg/pandas/core/reshape/merge.py:1123: UserWarning: You are merging on int and float columns where the float values are not equal to their int representation\n",
      "  warnings.warn(\n",
      "/Users/gzanitti/.local/lib/python3.8/site-packages/pandas-1.1.5-py3.8-macosx-10.9-x86_64.egg/pandas/core/reshape/merge.py:1123: UserWarning: You are merging on int and float columns where the float values are not equal to their int representation\n",
      "  warnings.warn(\n"
     ]
    },
    {
     "name": "stdout",
     "output_type": "stream",
     "text": [
      "illusion: 0:10:56.852969\n",
      "motor cortex\n"
     ]
    },
    {
     "name": "stderr",
     "output_type": "stream",
     "text": [
      "/Users/gzanitti/.local/lib/python3.8/site-packages/pandas-1.1.5-py3.8-macosx-10.9-x86_64.egg/pandas/core/reshape/merge.py:1123: UserWarning: You are merging on int and float columns where the float values are not equal to their int representation\n",
      "  warnings.warn(\n",
      "/Users/gzanitti/.local/lib/python3.8/site-packages/pandas-1.1.5-py3.8-macosx-10.9-x86_64.egg/pandas/core/reshape/merge.py:1123: UserWarning: You are merging on int and float columns where the float values are not equal to their int representation\n",
      "  warnings.warn(\n",
      "/Users/gzanitti/.local/lib/python3.8/site-packages/pandas-1.1.5-py3.8-macosx-10.9-x86_64.egg/pandas/core/reshape/merge.py:1123: UserWarning: You are merging on int and float columns where the float values are not equal to their int representation\n",
      "  warnings.warn(\n",
      "/Users/gzanitti/.local/lib/python3.8/site-packages/pandas-1.1.5-py3.8-macosx-10.9-x86_64.egg/pandas/core/reshape/merge.py:1123: UserWarning: You are merging on int and float columns where the float values are not equal to their int representation\n",
      "  warnings.warn(\n",
      "/Users/gzanitti/opt/miniconda3/envs/neurolang/lib/python3.8/site-packages/tables/path.py:155: NaturalNameWarning: object name is not a valid Python identifier: 'motor cortex'; it does not match the pattern ``^[a-zA-Z_][a-zA-Z0-9_]*$``; you will not be able to use natural naming to access this object; using ``getattr()`` will still work, though\n",
      "  check_attribute_name(name)\n"
     ]
    },
    {
     "name": "stdout",
     "output_type": "stream",
     "text": [
      "motor cortex: 0:11:38.118408\n",
      "visual cortex\n"
     ]
    },
    {
     "name": "stderr",
     "output_type": "stream",
     "text": [
      "/Users/gzanitti/.local/lib/python3.8/site-packages/pandas-1.1.5-py3.8-macosx-10.9-x86_64.egg/pandas/core/reshape/merge.py:1123: UserWarning: You are merging on int and float columns where the float values are not equal to their int representation\n",
      "  warnings.warn(\n",
      "/Users/gzanitti/.local/lib/python3.8/site-packages/pandas-1.1.5-py3.8-macosx-10.9-x86_64.egg/pandas/core/reshape/merge.py:1123: UserWarning: You are merging on int and float columns where the float values are not equal to their int representation\n",
      "  warnings.warn(\n",
      "/Users/gzanitti/.local/lib/python3.8/site-packages/pandas-1.1.5-py3.8-macosx-10.9-x86_64.egg/pandas/core/reshape/merge.py:1123: UserWarning: You are merging on int and float columns where the float values are not equal to their int representation\n",
      "  warnings.warn(\n",
      "/Users/gzanitti/.local/lib/python3.8/site-packages/pandas-1.1.5-py3.8-macosx-10.9-x86_64.egg/pandas/core/reshape/merge.py:1123: UserWarning: You are merging on int and float columns where the float values are not equal to their int representation\n",
      "  warnings.warn(\n",
      "/Users/gzanitti/opt/miniconda3/envs/neurolang/lib/python3.8/site-packages/tables/path.py:155: NaturalNameWarning: object name is not a valid Python identifier: 'visual cortex'; it does not match the pattern ``^[a-zA-Z_][a-zA-Z0-9_]*$``; you will not be able to use natural naming to access this object; using ``getattr()`` will still work, though\n",
      "  check_attribute_name(name)\n"
     ]
    },
    {
     "name": "stdout",
     "output_type": "stream",
     "text": [
      "visual cortex: 0:11:01.736624\n",
      "anisotropy\n"
     ]
    },
    {
     "name": "stderr",
     "output_type": "stream",
     "text": [
      "/Users/gzanitti/.local/lib/python3.8/site-packages/pandas-1.1.5-py3.8-macosx-10.9-x86_64.egg/pandas/core/reshape/merge.py:1123: UserWarning: You are merging on int and float columns where the float values are not equal to their int representation\n",
      "  warnings.warn(\n",
      "/Users/gzanitti/.local/lib/python3.8/site-packages/pandas-1.1.5-py3.8-macosx-10.9-x86_64.egg/pandas/core/reshape/merge.py:1123: UserWarning: You are merging on int and float columns where the float values are not equal to their int representation\n",
      "  warnings.warn(\n",
      "/Users/gzanitti/.local/lib/python3.8/site-packages/pandas-1.1.5-py3.8-macosx-10.9-x86_64.egg/pandas/core/reshape/merge.py:1123: UserWarning: You are merging on int and float columns where the float values are not equal to their int representation\n",
      "  warnings.warn(\n",
      "/Users/gzanitti/.local/lib/python3.8/site-packages/pandas-1.1.5-py3.8-macosx-10.9-x86_64.egg/pandas/core/reshape/merge.py:1123: UserWarning: You are merging on int and float columns where the float values are not equal to their int representation\n",
      "  warnings.warn(\n"
     ]
    },
    {
     "name": "stdout",
     "output_type": "stream",
     "text": [
      "anisotropy: 0:10:25.911080\n",
      "tensor\n"
     ]
    },
    {
     "name": "stderr",
     "output_type": "stream",
     "text": [
      "/Users/gzanitti/.local/lib/python3.8/site-packages/pandas-1.1.5-py3.8-macosx-10.9-x86_64.egg/pandas/core/reshape/merge.py:1123: UserWarning: You are merging on int and float columns where the float values are not equal to their int representation\n",
      "  warnings.warn(\n",
      "/Users/gzanitti/.local/lib/python3.8/site-packages/pandas-1.1.5-py3.8-macosx-10.9-x86_64.egg/pandas/core/reshape/merge.py:1123: UserWarning: You are merging on int and float columns where the float values are not equal to their int representation\n",
      "  warnings.warn(\n",
      "/Users/gzanitti/.local/lib/python3.8/site-packages/pandas-1.1.5-py3.8-macosx-10.9-x86_64.egg/pandas/core/reshape/merge.py:1123: UserWarning: You are merging on int and float columns where the float values are not equal to their int representation\n",
      "  warnings.warn(\n",
      "/Users/gzanitti/.local/lib/python3.8/site-packages/pandas-1.1.5-py3.8-macosx-10.9-x86_64.egg/pandas/core/reshape/merge.py:1123: UserWarning: You are merging on int and float columns where the float values are not equal to their int representation\n",
      "  warnings.warn(\n"
     ]
    },
    {
     "name": "stdout",
     "output_type": "stream",
     "text": [
      "tensor: 0:10:44.090052\n",
      "temporal cortex\n",
      "temporal cortex: 0:00:00.225454\n",
      "--------------\n"
     ]
    }
   ],
   "source": [
    "import datetime\n",
    "\n",
    "for entity in tqdm(related.entity.unique()):\n",
    "    print(entity)\n",
    "    start_time = datetime.datetime.now()\n",
    "\n",
    "    with pd.HDFStore('neuro_paper_single_terms.hdf') as hdf:\n",
    "        if f'/{entity}' in hdf.keys():\n",
    "            end_time = datetime.datetime.now()\n",
    "            print(f'{entity}: {end_time - start_time}')\n",
    "            print('--------------')\n",
    "            continue\n",
    "    \n",
    "    with nl.scope as e:\n",
    "    \n",
    "        e.FilteredByTerm[e.t, e.s] = (\n",
    "            e.TermInStudy[e.t, e.s] &\n",
    "            (e.t == entity)\n",
    "        )\n",
    "\n",
    "        #(e.VoxelReported @ e.exp(-e.d / 5.0))[e.x1, e.y1, e.z1, e.s] = (\n",
    "        #    e.FocusReported(e.x2, e.y2, e.z2, e.s)\n",
    "        #    & e.Voxel(e.x1, e.y1, e.z1)\n",
    "        #    & (e.d == e.EUCLIDEAN(e.x1, e.y1, e.z1, e.x2, e.y2, e.z2))\n",
    "        #    & (e.d < 4)\n",
    "        #)\n",
    "\n",
    "        e.Result[e.x, e.y, e.z, e.fold, e.PROB[e.x, e.y, e.z, e.fold]] = (\n",
    "           (\n",
    "               e.VoxelReported[e.x, e.y, e.z, e.s] \n",
    "           ) // (\n",
    "               e.SelectedStudy[e.s] \n",
    "               & e.FilteredByTerm[e.t, e.s] \n",
    "               & e.StudyFolds[e.s, e.fold]\n",
    "           )  \n",
    "        )\n",
    "\n",
    "        '''e.ResultMean[e.x, e.y, e.z, e.mean(e.PROB)] = (\n",
    "            e.Result[e.x, e.y, e.z, e.fold, e.PROB]    \n",
    "        )\n",
    "\n",
    "        e.ResultStd[e.x, e.y, e.z, e.std(e.PROB)] = (\n",
    "            e.Result[e.x, e.y, e.z, e.fold, e.PROB]\n",
    "        )\n",
    "\n",
    "        e.ResultSummaryStats[\n",
    "            e.x, e.y, e.z, e.prob_mean, e.prob_std\n",
    "        ] = (\n",
    "            e.ResultMean[e.x, e.y, e.z, e.prob_mean] &\n",
    "            e.ResultStd[e.x, e.y, e.z, e.prob_std]\n",
    "        )\n",
    "\n",
    "        e.VoxelActivationImg[agg_create_region_overlay_MNI[e.x, e.y, e.z, e.p]] = (\n",
    "            e.ResultMean(e.x, e.y, e.z, e.p)\n",
    "        )'''\n",
    "\n",
    "\n",
    "        res = nl.query((e.x, e.y, e.z, e.f, e.p), \n",
    "                       e.Result[e.x, e.y, e.z, e.f, e.p])\n",
    "        \n",
    "        pss = res.as_pandas_dataframe()\n",
    "        pss.to_hdf('neuro_paper_synonym_single_terms.hdf', key=f'{entity}')\n",
    "        \n",
    "        end_time = datetime.datetime.now()\n",
    "        print(f'{entity}: {end_time - start_time}')"
   ]
  },
  {
   "cell_type": "code",
   "execution_count": 82,
   "id": "photographic-experiment",
   "metadata": {},
   "outputs": [
    {
     "name": "stderr",
     "output_type": "stream",
     "text": [
      "/Users/gzanitti/.local/lib/python3.8/site-packages/pandas-1.1.5-py3.8-macosx-10.9-x86_64.egg/pandas/core/reshape/merge.py:1123: UserWarning: You are merging on int and float columns where the float values are not equal to their int representation\n",
      "  warnings.warn(\n",
      "/Users/gzanitti/.local/lib/python3.8/site-packages/pandas-1.1.5-py3.8-macosx-10.9-x86_64.egg/pandas/core/reshape/merge.py:1123: UserWarning: You are merging on int and float columns where the float values are not equal to their int representation\n",
      "  warnings.warn(\n",
      "/Users/gzanitti/.local/lib/python3.8/site-packages/pandas-1.1.5-py3.8-macosx-10.9-x86_64.egg/pandas/core/reshape/merge.py:1123: UserWarning: You are merging on int and float columns where the float values are not equal to their int representation\n",
      "  warnings.warn(\n",
      "/Users/gzanitti/.local/lib/python3.8/site-packages/pandas-1.1.5-py3.8-macosx-10.9-x86_64.egg/pandas/core/reshape/merge.py:1123: UserWarning: You are merging on int and float columns where the float values are not equal to their int representation\n",
      "  warnings.warn(\n"
     ]
    }
   ],
   "source": [
    "import datetime\n",
    "\n",
    "\n",
    "\n",
    "with nl.scope as e:\n",
    "\n",
    "    e.FilteredByTerm[e.t, e.s] = (\n",
    "        e.TermInStudy[e.t, e.s] &\n",
    "        e.ter[e.t]\n",
    "    )\n",
    "\n",
    "    e.Result[e.x, e.y, e.z, e.fold, e.PROB[e.x, e.y, e.z, e.fold]] = (\n",
    "       (\n",
    "           e.VoxelReported[e.x, e.y, e.z, e.s] \n",
    "       ) // (\n",
    "           e.SelectedStudy[e.s] \n",
    "           & e.FilteredByTerm[e.t, e.s] \n",
    "           & e.StudyFolds[e.s, e.fold]\n",
    "       )  \n",
    "    )\n",
    "    \n",
    "    res = nl.solve_all()\n",
    "\n",
    "    #pss = res.as_pandas_dataframe()"
   ]
  },
  {
   "cell_type": "code",
   "execution_count": null,
   "id": "affiliated-furniture",
   "metadata": {},
   "outputs": [],
   "source": []
  }
 ],
 "metadata": {
  "kernelspec": {
   "display_name": "neurolang",
   "language": "python",
   "name": "neurolang"
  },
  "language_info": {
   "codemirror_mode": {
    "name": "ipython",
    "version": 3
   },
   "file_extension": ".py",
   "mimetype": "text/x-python",
   "name": "python",
   "nbconvert_exporter": "python",
   "pygments_lexer": "ipython3",
   "version": "3.8.5"
  }
 },
 "nbformat": 4,
 "nbformat_minor": 5
}

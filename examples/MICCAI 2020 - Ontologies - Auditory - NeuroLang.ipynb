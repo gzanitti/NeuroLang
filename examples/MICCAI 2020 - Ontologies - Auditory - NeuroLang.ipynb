{
 "cells": [
  {
   "cell_type": "markdown",
   "metadata": {},
   "source": [
    "### Pre-calc the intersections"
   ]
  },
  {
   "cell_type": "code",
   "execution_count": 9,
   "metadata": {},
   "outputs": [
    {
     "name": "stderr",
     "output_type": "stream",
     "text": [
      "/Users/gzanitti/miniconda3/envs/neurolang/lib/python3.7/site-packages/neurosynth/base/dataset.py:435: ResourceWarning: unclosed file <_io.BufferedReader name='/Users/gzanitti/Projects/INRIA/NeuroLang/neurolang/frontend/neurosynth_data/dataset.pkl'>\n",
      "  dataset = pickle.load(open(filename, 'rb'))\n",
      "ResourceWarning: Enable tracemalloc to get the object allocation traceback\n",
      "/Users/gzanitti/miniconda3/envs/neurolang/lib/python3.7/site-packages/neurosynth/base/dataset.py:771: FutureWarning: DataFrame.to_sparse is deprecated and will be removed in a future version\n",
      "  columns=self.data['columns']).to_sparse()\n",
      "/Users/gzanitti/miniconda3/envs/neurolang/lib/python3.7/site-packages/neurosynth/base/dataset.py:716: FutureWarning: \n",
      ".ix is deprecated. Please use\n",
      ".loc for label based indexing or\n",
      ".iloc for positional indexing\n",
      "\n",
      "See the documentation here:\n",
      "http://pandas.pydata.org/pandas-docs/stable/user_guide/indexing.html#ix-indexer-is-deprecated\n",
      "  feature_weights = self.data.ix[:, features]\n",
      "/Users/gzanitti/miniconda3/envs/neurolang/lib/python3.7/site-packages/pandas/core/indexing.py:808: FutureWarning: \n",
      ".ix is deprecated. Please use\n",
      ".loc for label based indexing or\n",
      ".iloc for positional indexing\n",
      "\n",
      "See the documentation here:\n",
      "http://pandas.pydata.org/pandas-docs/stable/user_guide/indexing.html#ix-indexer-is-deprecated\n",
      "  retval = getattr(retval, self.name)._getitem_axis(key, axis=i)\n",
      "/Users/gzanitti/miniconda3/envs/neurolang/lib/python3.7/site-packages/pandas/core/frame.py:3451: FutureWarning: SparseSeries is deprecated and will be removed in a future version.\n",
      "Use a Series with sparse values instead.\n",
      "\n",
      "    >>> series = pd.Series(pd.SparseArray(...))\n",
      "\n",
      "See http://pandas.pydata.org/pandas-docs/stable/user_guide/sparse.html#migrating for more.\n",
      "\n",
      "  return klass(values, index=self.index, name=items, fastpath=True)\n",
      "/Users/gzanitti/miniconda3/envs/neurolang/lib/python3.7/site-packages/pandas/core/sparse/frame.py:785: FutureWarning: SparseDataFrame is deprecated and will be removed in a future version.\n",
      "Use a regular DataFrame whose columns are SparseArrays instead.\n",
      "\n",
      "See http://pandas.pydata.org/pandas-docs/stable/user_guide/sparse.html#migrating for more.\n",
      "\n",
      "  return self._constructor(new_arrays, index=index, columns=columns).__finalize__(\n",
      "/Users/gzanitti/miniconda3/envs/neurolang/lib/python3.7/site-packages/pandas/core/apply.py:401: FutureWarning: SparseSeries is deprecated and will be removed in a future version.\n",
      "Use a Series with sparse values instead.\n",
      "\n",
      "    >>> series = pd.Series(pd.SparseArray(...))\n",
      "\n",
      "See http://pandas.pydata.org/pandas-docs/stable/user_guide/sparse.html#migrating for more.\n",
      "\n",
      "  for i, (arr, name) in enumerate(zip(self.values, self.index))\n",
      "/Users/gzanitti/miniconda3/envs/neurolang/lib/python3.7/site-packages/pandas/core/ops/__init__.py:1641: FutureWarning: SparseSeries is deprecated and will be removed in a future version.\n",
      "Use a Series with sparse values instead.\n",
      "\n",
      "    >>> series = pd.Series(pd.SparseArray(...))\n",
      "\n",
      "See http://pandas.pydata.org/pandas-docs/stable/user_guide/sparse.html#migrating for more.\n",
      "\n",
      "  return self._constructor(new_values, index=self.index, name=self.name)\n",
      "/Users/gzanitti/miniconda3/envs/neurolang/lib/python3.7/site-packages/pandas/core/sparse/series.py:585: FutureWarning: SparseSeries is deprecated and will be removed in a future version.\n",
      "Use a Series with sparse values instead.\n",
      "\n",
      "    >>> series = pd.Series(pd.SparseArray(...))\n",
      "\n",
      "See http://pandas.pydata.org/pandas-docs/stable/user_guide/sparse.html#migrating for more.\n",
      "\n",
      "  return self._constructor(arr, index=self.index).__finalize__(self)\n",
      "/Users/gzanitti/miniconda3/envs/neurolang/lib/python3.7/site-packages/neurosynth/base/mask.py:232: DeprecationWarning: get_header method is deprecated.\n",
      "Please use the ``img.header`` property instead.\n",
      "\n",
      "* deprecated from version: 2.1\n",
      "* Will raise <class 'nibabel.deprecator.ExpiredDeprecationError'> as of version: 4.0\n",
      "  return self.volume.get_header()\n"
     ]
    }
   ],
   "source": [
    "from tqdm import tqdm_notebook\n",
    "import pickle\n",
    "from neurolang.frontend.neurosynth_utils import NeuroSynthHandler\n",
    "\n",
    "q = 0.00000001\n",
    "nshandler = NeuroSynthHandler()\n",
    "neurosynth_data = nshandler.ns_region_set_from_term(\n",
    "    'auditory',\n",
    "    q=q\n",
    ")\n",
    "\n",
    "file = open(\"xyz_from_neurosynth.pkl\",'rb')\n",
    "ret = pickle.load(file)\n",
    "file.close()\n",
    "\n",
    "from neurolang.regions import Region, ExplicitVBR\n",
    "from neurolang.regions import region_intersection as region_intersection_\n",
    "\n",
    "def region_intersec(\n",
    "    region_left: Region, region_right: Region\n",
    ") -> Region:\n",
    "    \n",
    "    r_ijk = region_right.to_ijk(region_left.affine)\n",
    "    region_right = ExplicitVBR(r_ijk, region_left.affine, image_dim=region_left.image_dim)\n",
    "    temp = region_intersection_((region_left, region_right))\n",
    "    return temp"
   ]
  },
  {
   "cell_type": "code",
   "execution_count": 10,
   "metadata": {},
   "outputs": [
    {
     "name": "stderr",
     "output_type": "stream",
     "text": [
      "/Users/gzanitti/miniconda3/envs/neurolang/lib/python3.7/site-packages/ipykernel_launcher.py:4: TqdmDeprecationWarning: This function will be removed in tqdm==5.0.0\n",
      "Please use `tqdm.notebook.tqdm` instead of `tqdm.tqdm_notebook`\n",
      "  after removing the cwd from sys.path.\n"
     ]
    },
    {
     "data": {
      "application/vnd.jupyter.widget-view+json": {
       "model_id": "e72c1d9c1a7d40e7abc170d6328f3817",
       "version_major": 2,
       "version_minor": 0
      },
      "text/plain": [
       "HBox(children=(FloatProgress(value=0.0, max=228453.0), HTML(value='')))"
      ]
     },
     "metadata": {},
     "output_type": "display_data"
    },
    {
     "name": "stdout",
     "output_type": "stream",
     "text": [
      "\n"
     ]
    }
   ],
   "source": [
    "result = []\n",
    "from neurolang.regions import EmptyRegion\n",
    "\n",
    "for index, region_ns in tqdm_notebook(ret.items()):\n",
    "    for region_auditory in neurosynth_data:\n",
    "        res = region_intersec(region_ns, region_auditory)\n",
    "        if not isinstance(res, EmptyRegion):\n",
    "            result.append((index, res))"
   ]
  },
  {
   "cell_type": "code",
   "execution_count": 11,
   "metadata": {},
   "outputs": [
    {
     "name": "stderr",
     "output_type": "stream",
     "text": [
      "/Users/gzanitti/miniconda3/envs/neurolang/lib/python3.7/site-packages/numpy/lib/npyio.py:2358: VisibleDeprecationWarning: Reading unicode strings without specifying the encoding argument is deprecated. Set the encoding, use None for the system default.\n",
      "  output = genfromtxt(fname, **kwargs)\n",
      "/Users/gzanitti/miniconda3/envs/neurolang/lib/python3.7/site-packages/ipykernel_launcher.py:22: TqdmDeprecationWarning: This function will be removed in tqdm==5.0.0\n",
      "Please use `tqdm.notebook.tqdm` instead of `tqdm.tqdm_notebook`\n"
     ]
    },
    {
     "data": {
      "application/vnd.jupyter.widget-view+json": {
       "model_id": "09be9848fa2c4f979330312a57fa8565",
       "version_major": 2,
       "version_minor": 0
      },
      "text/plain": [
       "HBox(children=(FloatProgress(value=0.0, max=5993.0), HTML(value='')))"
      ]
     },
     "metadata": {},
     "output_type": "display_data"
    },
    {
     "name": "stdout",
     "output_type": "stream",
     "text": [
      "\n"
     ]
    }
   ],
   "source": [
    "from nilearn import datasets\n",
    "import nibabel as nib\n",
    "from neurolang.frontend.query_resolution import RegionMixin\n",
    "\n",
    "destrieux_dataset = datasets.fetch_atlas_destrieux_2009()\n",
    "destrieux_map = nib.load(destrieux_dataset['maps'])\n",
    "\n",
    "destrieux = []\n",
    "for label_number, name in destrieux_dataset['labels']:\n",
    "    if label_number == 0:\n",
    "        continue\n",
    "    name = name.decode()\n",
    "    region = RegionMixin.create_region(\n",
    "        destrieux_map, label=label_number\n",
    "    )\n",
    "    if region is None:\n",
    "        continue\n",
    "    name = name.replace('-', '_').replace(' ', '_').lower()\n",
    "    destrieux.append((name, region))\n",
    "    \n",
    "inter_regions = []\n",
    "for ns_index, ns_region in tqdm_notebook(result):\n",
    "    for dt_name, dt_region in destrieux:\n",
    "        res = region_intersec(ns_region, dt_region)\n",
    "        if not isinstance(res, EmptyRegion):\n",
    "            inter_regions.append((ns_index, dt_name, res))\n",
    "            \n",
    "import pickle\n",
    "with open('regiones', 'wb') as fp:\n",
    "    pickle.dump(inter_regions, fp)"
   ]
  },
  {
   "cell_type": "code",
   "execution_count": null,
   "metadata": {},
   "outputs": [],
   "source": []
  },
  {
   "cell_type": "markdown",
   "metadata": {},
   "source": [
    "### Querys"
   ]
  },
  {
   "cell_type": "code",
   "execution_count": 1,
   "metadata": {},
   "outputs": [],
   "source": [
    "def get_destrieux_relations():\n",
    "    return [\n",
    "        ('l_g_and_s_frontomargin', 'Left frontomarginal gyrus'),\n",
    "        ('l_g_and_s_occipital_inf', 'Left inferior occipital gyrus'),\n",
    "        ('l_g_and_s_paracentral', 'Left paracentral lobule'),\n",
    "        ('l_g_and_s_subcentral', 'Left subcentral gyrus'),\n",
    "        (\n",
    "            'l_g_and_s_transv_frontopol',\n",
    "            'Left superior transverse frontopolar gyrus'\n",
    "        ),\n",
    "        ('l_g_and_s_cingul_ant', 'Left anterior cingulate gyrus'),\n",
    "        (\n",
    "            'l_g_and_s_cingul_mid_ant',\n",
    "            'Left anterior middle cingulate gyrus'\n",
    "        ),\n",
    "        (\n",
    "            'l_g_and_s_cingul_mid_post',\n",
    "            'Left posterior middle cingulate gyrus'\n",
    "        ),\n",
    "        (\n",
    "            'l_g_cingul_post_dorsal',\n",
    "            'Dorsal segment of left posterior middle cingulate gyrus'\n",
    "        ),\n",
    "        (\n",
    "            'l_g_cingul_post_ventral',\n",
    "            'Ventral segment of left posterior middle cingulate gyrus'\n",
    "        ),\n",
    "        ('l_g_cuneus', 'Left cuneus'),\n",
    "        (\n",
    "            'l_g_front_inf_opercular',\n",
    "            'Opercular part of left inferior frontal gyrus'\n",
    "        ),\n",
    "        (\n",
    "            'l_g_front_inf_orbital',\n",
    "            'Orbital part of left inferior frontal gyrus'\n",
    "        ),\n",
    "        (\n",
    "            'l_g_front_inf_triangul',\n",
    "            'Triangular part of left inferior frontal gyrus'\n",
    "        ),\n",
    "        ('l_g_front_middle', 'Left middle frontal gyrus'),\n",
    "        ('l_g_front_sup', 'Left superior frontal gyrus'),\n",
    "        ('l_g_ins_lg_and_s_cent_ins', 'Left central insular sulcus'),\n",
    "        ('l_g_ins_lg_and_s_cent_ins', 'Left long insular gyrus'),\n",
    "        ('l_g_insular_short', 'Short insular gyrus'),\n",
    "        ('l_g_occipital_middleLeft', ' \tLeft lateral occipital gyrus'),\n",
    "        ('l_g_occipital_sup', 'Left superior occipital gyrus'),\n",
    "        ('l_g_oc_temp_lat_fusifor', 'Left fusiform gyrus'),\n",
    "        ('l_g_oc_temp_med_lingual', 'Left lingual gyrus'),\n",
    "        ('l_g_oc_temp_med_parahip', 'Left parahippocampal gyrus'),\n",
    "        ('l_g_orbital', 'Left orbital gyrus'),\n",
    "        ('l_g_pariet_inf_angular', 'Left angular gyrus'),\n",
    "        ('l_g_pariet_inf_supramar', 'Left supramarginal gyrus'),\n",
    "        ('l_g_parietal_sup', 'Left superior parietal lobule'),\n",
    "        ('l_g_postcentral', 'Left postcentral gyrus'),\n",
    "        ('l_g_precentral', 'Left precentral gyrus'),\n",
    "        ('l_g_precuneus', 'Left precuneus'),\n",
    "        ('l_g_rectus', 'Left straight gyrus'),\n",
    "        ('l_g_subcallosal', 'Left paraterminal gyrus'),\n",
    "        ('l_g_temp_sup_g_t_transv', 'Left transverse temporal gyrus'),\n",
    "        ('l_g_temp_sup_lateral', 'Left superior temporal gyrus'),\n",
    "        ('l_g_temp_sup_plan_polar', 'Left superior temporal gyrus'),\n",
    "        ('l_g_temp_sup_plan_tempo', 'Left superior temporal gyrus'),\n",
    "        ('l_g_temporal_inf', 'Left inferior temporal gyrus'),\n",
    "        ('l_g_temporal_middle', 'Left middle temporal gyrus'),\n",
    "        (\n",
    "            'l_lat_fis_ant_horizont',\n",
    "            'Anterior horizontal limb of left lateral sulcus'\n",
    "        ),\n",
    "        (\n",
    "            'l_lat_fis_ant_vertical',\n",
    "            'Anterior ascending limb of left lateral sulcus'\n",
    "        ),\n",
    "        (\n",
    "            'l_lat_fis_post',\n",
    "            'Posterior ascending limb of left lateral sulcus'\n",
    "        ),\n",
    "        ('l_lat_fis_post', 'Left lateral sulcus'),\n",
    "        ('l_pole_occipital', 'Left occipital pole'),\n",
    "        ('l_pole_temporal', 'Left temporal pole'),\n",
    "        ('l_s_calcarine', 'Left Calcarine sulcus'),\n",
    "        ('l_s_central', 'Left central sulcus'),\n",
    "        ('l_s_cingul_marginalis', 'Left marginal sulcus'),\n",
    "        ('l_s_circular_insula_ant', 'Circular sulcus of left insula'),\n",
    "        ('l_s_circular_insula_inf', 'Circular sulcus of left insula'),\n",
    "        ('l_s_circular_insula_sup', 'Circular sulcus of left insula'),\n",
    "        ('l_s_collat_transv_ant', 'Left collateral sulcus'),\n",
    "        ('l_s_collat_transv_post', 'Left collateral sulcus'),\n",
    "        ('l_s_front_inf', 'Left inferior frontal sulcus'),\n",
    "        ('l_s_front_sup', 'Left superior frontal sulcus'),\n",
    "        ('l_s_intrapariet_and_p_trans', 'Left intraparietal sulcus'),\n",
    "        ('l_s_oc_middle_and_lunatus', 'Left lunate sulcus'),\n",
    "        ('l_s_oc_sup_and_transversal', 'Left transverse occipital sulcus'),\n",
    "        ('l_s_occipital_ant', 'Left anterior occipital sulcus'),\n",
    "        ('l_s_oc_temp_lat', 'Left occipitotemporal sulcus'),\n",
    "        ('l_s_oc_temp_med_and_lingual', 'Left intralingual sulcus'),\n",
    "        ('l_s_orbital_lateral', 'Left orbital sulcus'),\n",
    "        ('l_s_orbital_med_olfact', 'Left olfactory sulcus'),\n",
    "        ('l_s_orbital_h_shaped', 'Left transverse orbital sulcus'),\n",
    "        ('l_s_orbital_h_shaped', 'Left orbital sulcus'),\n",
    "        ('l_s_parieto_occipital', 'Left parieto-occipital sulcus'),\n",
    "        ('l_s_pericallosal', 'Left callosal sulcus'),\n",
    "        ('l_s_postcentral', 'Left postcentral sulcus'),\n",
    "        ('l_s_precentral_inf_part', 'Left precentral sulcus'),\n",
    "        ('l_s_precentral_sup_part', 'Left precentral sulcus'),\n",
    "        ('l_s_suborbital', 'Left fronto-orbital sulcus'),\n",
    "        ('l_s_subparietal', 'Left subparietal sulcus'),\n",
    "        ('l_s_temporal_inf', 'Left inferior temporal sulcus'),\n",
    "        ('l_s_temporal_sup', 'Left superior temporal sulcus'),\n",
    "        ('l_s_temporal_transverse', 'Left transverse temporal sulcus'),\n",
    "        ('r_g_and_s_frontomargin', 'Right frontomarginal gyrus'),\n",
    "        ('r_g_and_s_occipital_inf', 'Right inferior occipital gyrus'),\n",
    "        ('r_g_and_s_paracentral', 'Right paracentral lobule'),\n",
    "        ('r_g_and_s_subcentral', 'Right subcentral gyrus'),\n",
    "        (\n",
    "            'r_g_and_s_transv_frontopol',\n",
    "            'Right superior transverse frontopolar gyrus'\n",
    "        ),\n",
    "        ('r_g_and_s_cingul_ant', 'Right anterior cingulate gyrus'),\n",
    "        (\n",
    "            'r_g_and_s_cingul_mid_ant',\n",
    "            'Right anterior middle cingulate gyrus'\n",
    "        ),\n",
    "        (\n",
    "            'r_g_and_s_cingul_mid_post',\n",
    "            'Right posterior middle cingulate gyrus'\n",
    "        ),\n",
    "        (\n",
    "            'r_g_cingul_post_dorsal',\n",
    "            'Dorsal segment of right posterior middle cingulate gyrus'\n",
    "        ),\n",
    "        (\n",
    "            'r_g_cingul_post_ventral',\n",
    "            'Ventral segment of right posterior middle cingulate gyrus'\n",
    "        ),\n",
    "        ('r_g_cuneus', 'Right cuneus'),\n",
    "        (\n",
    "            'r_g_front_inf_opercular',\n",
    "            'Opercular part of right inferior frontal gyrus'\n",
    "        ),\n",
    "        (\n",
    "            'r_g_front_inf_orbital',\n",
    "            'Orbital part of right inferior frontal gyrus'\n",
    "        ),\n",
    "        (\n",
    "            'r_g_front_inf_triangul',\n",
    "            'Triangular part of right inferior frontal gyrus'\n",
    "        ),\n",
    "        ('r_g_front_middle', 'Right middle frontal gyrus'),\n",
    "        ('r_g_front_sup', 'Right superior frontal gyrus'),\n",
    "        ('r_g_ins_lg_and_s_cent_ins', 'Right central insular sulcus'),\n",
    "        ('r_g_ins_lg_and_s_cent_ins', 'Right long insular gyrus'),\n",
    "        ('r_g_insular_short', 'Right short insular gyrus'),\n",
    "        ('r_g_occipital_middle', 'Right lateral occipital gyrus'),\n",
    "        ('r_g_occipital_sup', 'Right superior occipital gyrus'),\n",
    "        ('r_g_oc_temp_lat_fusifor', 'Right fusiform gyrus'),\n",
    "        ('r_g_oc_temp_med_lingual', 'Right lingual gyrus'),\n",
    "        ('r_g_oc_temp_med_parahip', 'Right parahippocampal gyrus'),\n",
    "        ('r_g_orbital', 'Right orbital gyrus'),\n",
    "        ('r_g_pariet_inf_angular', 'Right angular gyrus'),\n",
    "        ('r_g_pariet_inf_supramar', 'Right supramarginal gyrus'),\n",
    "        ('r_g_parietal_sup', 'Right superior parietal lobule'),\n",
    "        ('r_g_postcentral', 'Right postcentral gyrus'),\n",
    "        ('r_g_precentral', 'Right precentral gyrus'),\n",
    "        ('r_g_precuneus', 'Right precuneus'),\n",
    "        ('r_g_rectus', 'Right straight gyrus'),\n",
    "        ('r_g_subcallosal', 'Right paraterminal gyrus'),\n",
    "        ('r_g_temp_sup_g_t_transv', 'Right transverse temporal gyrus'),\n",
    "        ('r_g_temp_sup_lateral', 'Right superior temporal gyrus'),\n",
    "        ('r_g_temp_sup_plan_polar', 'Right superior temporal gyrus'),\n",
    "        ('r_g_temp_sup_plan_tempo', 'Right superior temporal gyrus'),\n",
    "        ('r_g_temporal_inf', 'Right inferior temporal gyrus'),\n",
    "        ('r_g_temporal_middle', 'Right middle temporal gyrus'),\n",
    "        (\n",
    "            'r_lat_fis_ant_horizont',\n",
    "            'Anterior horizontal limb of right lateral sulcus'\n",
    "        ),\n",
    "        (\n",
    "            'r_lat_fis_ant_vertical',\n",
    "            'Anterior ascending limb of right lateral sulcus'\n",
    "        ),\n",
    "        ('r_lat_fis_post', 'Right lateral sulcus'),\n",
    "        (\n",
    "            'r_lat_fis_post',\n",
    "            'Posterior ascending limb of right lateral sulcus'\n",
    "        ),\n",
    "        ('r_pole_occipital', 'Right occipital pole'),\n",
    "        ('r_pole_temporal', 'Right temporal pole'),\n",
    "        ('r_s_calcarine', 'Right Calcarine sulcus'),\n",
    "        ('r_s_central', 'Right central sulcus'),\n",
    "        ('r_s_cingul_marginalis', 'Right marginal sulcus'),\n",
    "        ('r_s_circular_insula_ant', 'Circular sulcus of Right insula'),\n",
    "        ('r_s_circular_insula_inf', 'Circular sulcus of Right insula'),\n",
    "        ('r_s_circular_insula_sup', 'Circular sulcus of Right insula'),\n",
    "        ('r_s_collat_transv_ant', 'Right collateral sulcus'),\n",
    "        ('r_s_collat_transv_post', 'Right collateral sulcus'),\n",
    "        ('r_s_front_inf', 'Right inferior frontal sulcus'),\n",
    "        ('r_s_front_sup', 'Right superior frontal sulcus'),\n",
    "        ('r_s_intrapariet_and_p_trans', 'Right intraparietal sulcus'),\n",
    "        ('r_s_oc_middle_and_lunatus', 'Right lunate sulcus'),\n",
    "        (\n",
    "            'r_s_oc_sup_and_transversal',\n",
    "            'Right transverse occipital sulcus'\n",
    "        ),\n",
    "        ('r_s_occipital_ant', 'Right anterior occipital sulcus'),\n",
    "        ('r_s_oc_temp_lat', 'Right occipitotemporal sulcus'),\n",
    "        ('r_s_oc_temp_med_and_lingual', 'Right intralingual sulcus'),\n",
    "        ('r_s_orbital_lateral', 'Right orbital sulcus'),\n",
    "        ('r_s_orbital_med_olfact', 'Right olfactory sulcus'),\n",
    "        ('r_s_orbital_h_shaped', 'Right orbital sulcus'),\n",
    "        ('r_s_orbital_h_shaped', 'Right transverse orbital sulcus'),\n",
    "        ('r_s_parieto_occipital', 'Right parieto-occipital sulcus'),\n",
    "        ('r_s_pericallosal', 'Right callosal sulcus'),\n",
    "        ('r_s_postcentral', 'Right postcentral sulcus'),\n",
    "        ('r_s_precentral_inf_part', 'Right precentral sulcus'),\n",
    "        ('r_s_precentral_sup_part', 'Right precentral sulcus'),\n",
    "        ('r_s_suborbital', 'Right fronto-orbital sulcus'),\n",
    "        ('r_s_subparietal', 'Right subparietal sulcus'),\n",
    "        ('r_s_temporal_inf', 'Right inferior temporal sulcus'),\n",
    "        ('r_s_temporal_sup', 'Right superior temporal sulcus'),\n",
    "        ('r_s_temporal_transverse', 'Right transverse temporal sulcus'),\n",
    "    ]"
   ]
  },
  {
   "cell_type": "code",
   "execution_count": 2,
   "metadata": {},
   "outputs": [
    {
     "name": "stderr",
     "output_type": "stream",
     "text": [
      "/Users/gzanitti/miniconda3/envs/neurolang/lib/python3.7/site-packages/sklearn/externals/joblib/__init__.py:15: DeprecationWarning: sklearn.externals.joblib is deprecated in 0.21 and will be removed in 0.23. Please import this functionality directly from joblib, which can be installed with: pip install joblib. If this warning is raised when loading pickled models, you may need to re-serialize those models with scikit-learn 0.21+.\n",
      "  warnings.warn(msg, category=DeprecationWarning)\n",
      "/Users/gzanitti/Projects/INRIA/NeuroLang/neurolang/utils/data_manipulation.py:1: DeprecationWarning: Using or importing the ABCs from 'collections' instead of from 'collections.abc' is deprecated, and in 3.8 it will stop working\n",
      "  from collections import Iterable\n",
      "/Users/gzanitti/miniconda3/envs/neurolang/lib/python3.7/importlib/_bootstrap.py:219: RuntimeWarning: numpy.ufunc size changed, may indicate binary incompatibility. Expected 192 from C header, got 216 from PyObject\n",
      "  return f(*args, **kwds)\n",
      "/Users/gzanitti/miniconda3/envs/neurolang/lib/python3.7/site-packages/tatsu/grammars.py:6: DeprecationWarning: Using or importing the ABCs from 'collections' instead of from 'collections.abc' is deprecated, and in 3.8 it will stop working\n",
      "  from collections import defaultdict, Mapping\n"
     ]
    }
   ],
   "source": [
    "from neurolang.datalog.ontologies_parser import OntologiesParser\n",
    "from neurolang.datalog.ontologies_rewriter import OntologyRewriter\n",
    "\n",
    "from neurolang.datalog.constraints_representation import DatalogConstraintsProgram\n",
    "from neurolang.expression_walker import ExpressionBasicEvaluator\n",
    "\n",
    "from neurolang import frontend as fe\n",
    "\n",
    "class Datalog(DatalogConstraintsProgram, ExpressionBasicEvaluator):\n",
    "    pass\n",
    "\n",
    "paths = ['./neurofma_fma3.0.owl']\n",
    "namespaces = ['http://sig.biostr.washington.edu/fma3.0']\n",
    "onto = OntologiesParser(paths, namespaces)\n",
    "nl = fe.NeurolangDL()\n",
    "datalog_program = onto.parse_ontology(nl.solver)"
   ]
  },
  {
   "cell_type": "code",
   "execution_count": 3,
   "metadata": {},
   "outputs": [
    {
     "name": "stderr",
     "output_type": "stream",
     "text": [
      "/Users/gzanitti/miniconda3/envs/neurolang/lib/python3.7/importlib/_bootstrap.py:219: RuntimeWarning: numpy.ufunc size changed, may indicate binary incompatibility. Expected 192 from C header, got 216 from PyObject\n",
      "  return f(*args, **kwds)\n"
     ]
    }
   ],
   "source": [
    "import pandas as pd\n",
    "\n",
    "prob_terms = pd.read_hdf('neurosynth_prob.h5', key='terms')\n",
    "prob_voxels = pd.read_hdf('neurosynth_prob.h5', key='voxels')\n",
    "prob_terms_voxels = pd.read_hdf('neurosynth_prob.h5', key='terms_voxels')\n",
    "\n",
    "prob_terms_voxels = prob_terms_voxels[prob_terms_voxels.index.get_level_values('term') == 'auditory']\n",
    "prob_terms = prob_terms[prob_terms['index'] == 'auditory']\n",
    "\n",
    "prob_terms = prob_terms[['proba', 'index']]\n",
    "\n",
    "prob_voxels.reset_index(inplace=True)\n",
    "prob_voxels.rename(columns={0: 'prob'}, inplace=True)\n",
    "prob_voxels = prob_voxels[['prob', 'index']]\n",
    "\n",
    "prob_terms_voxels.reset_index(inplace=True)\n",
    "prob_terms_voxels = prob_terms_voxels[['prob', 'term', 'variable']]"
   ]
  },
  {
   "cell_type": "code",
   "execution_count": 4,
   "metadata": {},
   "outputs": [
    {
     "name": "stderr",
     "output_type": "stream",
     "text": [
      "/Users/gzanitti/miniconda3/envs/neurolang/lib/python3.7/site-packages/numpy/lib/npyio.py:2358: VisibleDeprecationWarning: Reading unicode strings without specifying the encoding argument is deprecated. Set the encoding, use None for the system default.\n",
      "  output = genfromtxt(fname, **kwargs)\n"
     ]
    }
   ],
   "source": [
    "from neurolang.logic import Implication\n",
    "from nilearn import datasets\n",
    "import nibabel as nib\n",
    "from neurolang.frontend.query_resolution import RegionMixin\n",
    "from neurolang.expressions import ExpressionBlock, Symbol, Constant\n",
    "from neurolang.logic import Implication\n",
    "from neurolang.regions import Region, region_union as region_union_\n",
    "import typing \n",
    "\n",
    "S_ = Symbol\n",
    "C_ = Constant\n",
    "\n",
    "destrieux_dataset = datasets.fetch_atlas_destrieux_2009()\n",
    "destrieux_map = nib.load(destrieux_dataset['maps'])\n",
    "\n",
    "relation_region = S_('relation_region')\n",
    "relation_name = S_('relation_name')\n",
    "neurosynth = Symbol('neurosynth')\n",
    "\n",
    "destrieux = []\n",
    "for label_number, name in destrieux_dataset['labels']:\n",
    "    if label_number == 0:\n",
    "        continue\n",
    "    name = name.decode()\n",
    "    region = RegionMixin.create_region(\n",
    "        destrieux_map, label=label_number\n",
    "    )\n",
    "    if region is None:\n",
    "        continue\n",
    "    name = name.replace('-', '_').replace(' ', '_').lower()\n",
    "    destrieux.append((name, region))\n",
    "    \n",
    "r_region = tuple([relation_region(C_(region), C_(name)) for name, region in destrieux])"
   ]
  },
  {
   "cell_type": "code",
   "execution_count": 5,
   "metadata": {},
   "outputs": [],
   "source": [
    "from operator import eq\n",
    "from neurolang.logic import Implication\n",
    "from nilearn import datasets\n",
    "import nibabel as nib\n",
    "from neurolang.frontend.query_resolution import RegionMixin\n",
    "from neurolang.expressions import ExpressionBlock, Symbol, Constant\n",
    "from neurolang.logic import Implication\n",
    "from neurolang.datalog.aggregation import AggregationApplication\n",
    "\n",
    "inter_reg = Symbol('inter_reg')\n",
    "active_region = Symbol('active_region')\n",
    "\n",
    "w = Symbol('w')\n",
    "x = Symbol('x')\n",
    "y = Symbol('y')\n",
    "z = Symbol('z')\n",
    "eq_ = Constant(eq)\n",
    "id_ = Symbol('id_')\n",
    "reg = Symbol('reg')\n",
    "sub = Symbol('sub')\n",
    "\n",
    "neurosynth_region = Symbol('neurosynth_region')\n",
    "neurosynth_rv = Symbol('neurosynth_rv')\n",
    "region2voxel = Symbol('region2voxel')\n",
    "\n",
    "label = Symbol('http://www.w3.org/2000/01/rdf-schema#label')\n",
    "subClassOf = Symbol('http://www.w3.org/2000/01/rdf-schema#subClassOf')\n",
    "region = Symbol('region')\n",
    "regional_part = Symbol('http://sig.biostr.washington.edu/fma3.0#regional_part_of')\n",
    "\n",
    "relations_list = get_destrieux_relations()\n",
    "r_name = tuple([relation_name(C_(destrieux), C_(fma)) for destrieux, fma in relations_list])\n",
    "\n",
    "#Auditory\n",
    "imps = tuple()\n",
    "imps += (Implication(id_(y), label(y, C_('Temporal lobe'))),)\n",
    "imps += (Implication(reg(x), regional_part(x, y) & id_(y)),)\n",
    "imps += (Implication(sub(y), subClassOf(y, x) & reg(x)),)\n",
    "imps += (Implication(sub(x), subClassOf(x, y) & sub(y)),)\n",
    "imps += (Implication(region(z), sub(x) & label(x, y) & relation_name(z, y)),)\n",
    "imps += (Implication(active_region(x, z), inter_reg(x, y, z) & region(y)),)\n",
    "\n",
    "qB2 = ExpressionBlock(imps)\n",
    "\n",
    "from neurolang.datalog.expressions import TranslateToLogic\n",
    "from neurolang import expression_walker as ew\n",
    "from neurolang.datalog.aggregation import DatalogWithAggregationMixin\n",
    "\n",
    "class DatalogTranslator(\n",
    "    TranslateToLogic, ew.IdentityWalker, DatalogWithAggregationMixin\n",
    "):\n",
    "    pass\n",
    "\n",
    "dt = DatalogTranslator()\n",
    "qB2 = dt.walk(qB2)"
   ]
  },
  {
   "cell_type": "code",
   "execution_count": 8,
   "metadata": {},
   "outputs": [
    {
     "ename": "EOFError",
     "evalue": "Ran out of input",
     "output_type": "error",
     "traceback": [
      "\u001b[0;31m---------------------------------------------------------------------------\u001b[0m",
      "\u001b[0;31mEOFError\u001b[0m                                  Traceback (most recent call last)",
      "\u001b[0;32m<ipython-input-8-e065776893d5>\u001b[0m in \u001b[0;36m<module>\u001b[0;34m\u001b[0m\n\u001b[1;32m      2\u001b[0m \u001b[0;34m\u001b[0m\u001b[0m\n\u001b[1;32m      3\u001b[0m \u001b[0;32mwith\u001b[0m \u001b[0mopen\u001b[0m \u001b[0;34m(\u001b[0m\u001b[0;34m'regiones'\u001b[0m\u001b[0;34m,\u001b[0m \u001b[0;34m'rb'\u001b[0m\u001b[0;34m)\u001b[0m \u001b[0;32mas\u001b[0m \u001b[0mfp\u001b[0m\u001b[0;34m:\u001b[0m\u001b[0;34m\u001b[0m\u001b[0;34m\u001b[0m\u001b[0m\n\u001b[0;32m----> 4\u001b[0;31m     \u001b[0minter_regions\u001b[0m \u001b[0;34m=\u001b[0m \u001b[0mpickle\u001b[0m\u001b[0;34m.\u001b[0m\u001b[0mload\u001b[0m\u001b[0;34m(\u001b[0m\u001b[0mfp\u001b[0m\u001b[0;34m)\u001b[0m\u001b[0;34m\u001b[0m\u001b[0;34m\u001b[0m\u001b[0m\n\u001b[0m",
      "\u001b[0;31mEOFError\u001b[0m: Ran out of input"
     ]
    }
   ],
   "source": [
    "import pickle\n",
    "\n",
    "with open ('regiones', 'rb') as fp:\n",
    "    inter_regions = pickle.load(fp)"
   ]
  },
  {
   "cell_type": "code",
   "execution_count": 16,
   "metadata": {},
   "outputs": [],
   "source": [
    "const = datalog_program.get_constraints()\n",
    "const = dt.walk(const)\n",
    "\n",
    "orw = OntologyRewriter(qB2, const)\n",
    "rewrite = orw.Xrewrite()\n",
    "\n",
    "from neurolang.datalog import DatalogProgram\n",
    "from neurolang.datalog.expressions import TranslateToLogic\n",
    "from neurolang import expression_walker as ew\n",
    "from neurolang.regions import region_intersection as region_intersection_, ExplicitVBR\n",
    "from neurolang.datalog.aggregation import DatalogWithAggregationMixin\n",
    "    \n",
    "triple = Symbol('triple')\n",
    "\n",
    "class Datalog(TranslateToLogic,\n",
    "    DatalogWithAggregationMixin, DatalogProgram,\n",
    "    ExpressionBasicEvaluator):\n",
    "    pass\n",
    "\n",
    "dl = Datalog()\n",
    "dl.add_extensional_predicate_from_tuples(triple, [(a.args[0].value, a.args[1].value, a.args[2].value) for a in onto.triples])\n",
    "dl.add_extensional_predicate_from_tuples(inter_reg, [(ns, ds, region) for ns, ds, region in inter_regions])\n",
    "dl.add_extensional_predicate_from_tuples(relation_name, [(a.args[0].value, a.args[1].value) for a in r_name])\n",
    "\n"
   ]
  },
  {
   "cell_type": "code",
   "execution_count": 17,
   "metadata": {},
   "outputs": [
    {
     "data": {
      "text/plain": [
       "[S{relation_name: typing.AbstractSet[typing.Tuple[str, str]]},\n",
       " S{inter_reg: typing.AbstractSet[typing.Tuple[int, str, neurolang.regions.ExplicitVBR]]},\n",
       " S{triple: typing.AbstractSet[typing.Tuple[str, str, str]]}]"
      ]
     },
     "execution_count": 17,
     "metadata": {},
     "output_type": "execute_result"
    }
   ],
   "source": [
    "eB2 = ()\n",
    "for imp in rewrite:\n",
    "    eB2 += (imp[0],)\n",
    "    \n",
    "eB2 = ExpressionBlock(eB2)\n",
    "\n",
    "\n",
    "dt = DatalogTranslator()\n",
    "eB22 = dt.walk(eB2)\n",
    "dl2.walk(eB22)\n",
    "\n",
    "from neurolang.datalog.chase import ChaseSemiNaive, ChaseNaive, ChaseNamedRelationalAlgebraMixin, ChaseGeneral\n",
    "from neurolang.datalog.aggregation import Chase\n",
    "\n",
    "class Chase(\n",
    "    Chase, ChaseNaive, ChaseNamedRelationalAlgebraMixin, ChaseGeneral\n",
    "):\n",
    "    pass\n",
    "\n",
    "dc = Chase(dl)\n",
    "solution_instance = dc.build_chase_solution()\n",
    "list(solution_instance.keys())"
   ]
  },
  {
   "cell_type": "code",
   "execution_count": 18,
   "metadata": {},
   "outputs": [
    {
     "ename": "KeyError",
     "evalue": "'active_region'",
     "output_type": "error",
     "traceback": [
      "\u001b[0;31m---------------------------------------------------------------------------\u001b[0m",
      "\u001b[0;31mKeyError\u001b[0m                                  Traceback (most recent call last)",
      "\u001b[0;32m<ipython-input-18-bcc12c96252c>\u001b[0m in \u001b[0;36m<module>\u001b[0;34m\u001b[0m\n\u001b[0;32m----> 1\u001b[0;31m \u001b[0mlist_regions\u001b[0m \u001b[0;34m=\u001b[0m \u001b[0mlist\u001b[0m\u001b[0;34m(\u001b[0m\u001b[0msolution_instance\u001b[0m\u001b[0;34m[\u001b[0m\u001b[0;34m'active_region'\u001b[0m\u001b[0;34m]\u001b[0m\u001b[0;34m.\u001b[0m\u001b[0mvalue\u001b[0m\u001b[0;34m.\u001b[0m\u001b[0munwrapped_iter\u001b[0m\u001b[0;34m(\u001b[0m\u001b[0;34m)\u001b[0m\u001b[0;34m)\u001b[0m\u001b[0;34m\u001b[0m\u001b[0;34m\u001b[0m\u001b[0m\n\u001b[0m",
      "\u001b[0;32m~/Projects/INRIA/NeuroLang/neurolang/datalog/instance.py\u001b[0m in \u001b[0;36m__getitem__\u001b[0;34m(self, predicate_symbol)\u001b[0m\n\u001b[1;32m    162\u001b[0m     \u001b[0;32mdef\u001b[0m \u001b[0m__getitem__\u001b[0m\u001b[0;34m(\u001b[0m\u001b[0mself\u001b[0m\u001b[0;34m,\u001b[0m \u001b[0mpredicate_symbol\u001b[0m\u001b[0;34m)\u001b[0m\u001b[0;34m:\u001b[0m\u001b[0;34m\u001b[0m\u001b[0;34m\u001b[0m\u001b[0m\n\u001b[1;32m    163\u001b[0m         return self._set_to_constant(\n\u001b[0;32m--> 164\u001b[0;31m             \u001b[0mself\u001b[0m\u001b[0;34m.\u001b[0m\u001b[0melements\u001b[0m\u001b[0;34m[\u001b[0m\u001b[0mpredicate_symbol\u001b[0m\u001b[0;34m]\u001b[0m\u001b[0;34m,\u001b[0m\u001b[0;34m\u001b[0m\u001b[0;34m\u001b[0m\u001b[0m\n\u001b[0m\u001b[1;32m    165\u001b[0m             \u001b[0mtype_\u001b[0m\u001b[0;34m=\u001b[0m\u001b[0mself\u001b[0m\u001b[0;34m.\u001b[0m\u001b[0mset_types\u001b[0m\u001b[0;34m[\u001b[0m\u001b[0mpredicate_symbol\u001b[0m\u001b[0;34m]\u001b[0m\u001b[0;34m\u001b[0m\u001b[0;34m\u001b[0m\u001b[0m\n\u001b[1;32m    166\u001b[0m         )\n",
      "\u001b[0;31mKeyError\u001b[0m: 'active_region'"
     ]
    }
   ],
   "source": [
    "list_regions = list(solution_instance['active_region'].value.unwrapped_iter())"
   ]
  },
  {
   "cell_type": "code",
   "execution_count": null,
   "metadata": {},
   "outputs": [],
   "source": [
    "from neurolang.datalog import DatalogProgram\n",
    "from neurolang.datalog.expressions import TranslateToLogic\n",
    "from neurolang import expression_walker as ew\n",
    "from neurolang.regions import region_intersection as region_intersection_, ExplicitVBR\n",
    "from neurolang.datalog.aggregation import DatalogWithAggregationMixin\n",
    "from neurolang.probabilistic.probdatalog import (\n",
    "    ProbDatalogExistentialTranslator,\n",
    "    GDatalogToProbDatalog,\n",
    "    ProbDatalogProgram,\n",
    "    conjunct_formulas,\n",
    "    is_probabilistic_fact,\n",
    "    ground_probdatalog_program,\n",
    ")\n",
    "\n",
    "dlProb = ProbDatalogProgram()\n",
    "\n",
    "term = Symbol('term')\n",
    "activated = Symbol('activated')\n",
    "term_voxel = Symbol('term_voxel')\n",
    "\n",
    "dlProb.add_extensional_predicate_from_tuples(activated, set(list_regions))\n",
    "dlProb.add_probfacts_from_tuples(term,  set(prob_terms.itertuples(index=False, name=None)))\n",
    "dlProb.add_probfacts_from_tuples(term_voxel, set(prob_terms_voxels.itertuples(index=False, name=None)))\n",
    "\n"
   ]
  },
  {
   "cell_type": "code",
   "execution_count": 23,
   "metadata": {},
   "outputs": [
    {
     "data": {
      "text/plain": [
       "∪(Implication{λ{S{over: Unknown}: Unknown}(S{z: Unknown}) ← ⋀(λ{S{term_voxel: Unknown}: Unknown}(S{y: Unknown}, S{z: Unknown}), λ{S{activated: Unknown}: Unknown}(S{z: Unknown}, S{x: Unknown}))})"
      ]
     },
     "execution_count": 23,
     "metadata": {},
     "output_type": "execute_result"
    }
   ],
   "source": [
    "over = Symbol('over')\n",
    "\n",
    "imps2 = tuple()\n",
    "imps2 += (Implication(over(z), term_voxel(y, z) & activated(z, x)),)\n",
    "eb = ExpressionBlock(imps2)\n",
    "\n",
    "dt2 = DatalogTranslator()\n",
    "eb = dt2.walk(eb)\n",
    "dlProb.walk(eb)"
   ]
  },
  {
   "cell_type": "code",
   "execution_count": 24,
   "metadata": {},
   "outputs": [
    {
     "name": "stderr",
     "output_type": "stream",
     "text": [
      "/Users/gzanitti/miniconda3/envs/neurolang/lib/python3.7/site-packages/pandas/core/frame.py:4218: SettingWithCopyWarning: \n",
      "A value is trying to be set on a copy of a slice from a DataFrame\n",
      "\n",
      "See the caveats in the documentation: http://pandas.pydata.org/pandas-docs/stable/user_guide/indexing.html#returning-a-view-versus-a-copy\n",
      "  return super().rename(**kwargs)\n",
      "/Users/gzanitti/Projects/INRIA/NeuroLang/neurolang/datalog/aggregation.py:131: UserWarning: No check performed. Should implement check for stratified aggregation\n",
      "  \"No check performed. Should implement check for stratified\"\n"
     ]
    },
    {
     "data": {
      "text/plain": [
       "[S{term: typing.AbstractSet[typing.Tuple[float, str]]},\n",
       " S{term_voxel: typing.AbstractSet[typing.Tuple[float, str, int]]},\n",
       " S{activated: typing.AbstractSet[typing.Tuple[int, neurolang.regions.ExplicitVBR]]},\n",
       " S{over: Unknown}]"
      ]
     },
     "execution_count": 24,
     "metadata": {},
     "output_type": "execute_result"
    }
   ],
   "source": [
    "from neurolang.region_solver import RegionSolver\n",
    "from neurolang.probabilistic.probdatalog import probdatalog_to_datalog, build_grounding\n",
    "class DatalogRegions(\n",
    "    TranslateToLogic, RegionSolver, DatalogWithAggregationMixin, DatalogProgram, ExpressionBasicEvaluator\n",
    "):\n",
    "    pass\n",
    "\n",
    "dl_program = probdatalog_to_datalog(dlProb, datalog=DatalogRegions)\n",
    "dc = Chase(dl_program)\n",
    "solution_instance = dc.build_chase_solution()\n",
    "grounded = build_grounding(dlProb, solution_instance)\n",
    "list(solution_instance.keys())"
   ]
  },
  {
   "cell_type": "code",
   "execution_count": 26,
   "metadata": {},
   "outputs": [],
   "source": [
    "from neurolang.probabilistic.probdatalog_gm import (\n",
    "    TranslateGroundedProbDatalogToGraphicalModel, SuccQuery, QueryGraphicalModelSolver\n",
    ")\n",
    "\n",
    "gm = TranslateGroundedProbDatalogToGraphicalModel().walk(grounded)\n",
    "query = SuccQuery(over(z))\n",
    "solver = QueryGraphicalModelSolver(gm)\n",
    "result = solver.walk(query)"
   ]
  },
  {
   "cell_type": "markdown",
   "metadata": {},
   "source": [
    "## P(voxel, term) / P(term)"
   ]
  },
  {
   "cell_type": "code",
   "execution_count": 28,
   "metadata": {},
   "outputs": [],
   "source": [
    "result_data = result.value.to_numpy()\n",
    "termProb = prob_terms.proba.values[0]\n",
    "\n",
    "import numpy as np\n",
    "prob_img = nib.spatialimages.SpatialImage(\n",
    "    np.zeros(result_data[0][2].image_dim, dtype=float),\n",
    "    affine=result_data[0][2].affine\n",
    ")\n",
    "\n",
    "for p in result_data:\n",
    "    prob_img.dataobj[tuple(p[2].voxels.T)] = p[0]/termProb"
   ]
  },
  {
   "cell_type": "code",
   "execution_count": 29,
   "metadata": {},
   "outputs": [
    {
     "name": "stderr",
     "output_type": "stream",
     "text": [
      "/Users/gzanitti/miniconda3/envs/neurolang/lib/python3.7/site-packages/nilearn/plotting/displays.py:1239: DeprecationWarning: Using or importing the ABCs from 'collections' instead of from 'collections.abc' is deprecated, and in 3.8 it will stop working\n",
      "  if (not isinstance(cut_coords, collections.Sequence) and\n",
      "/Users/gzanitti/miniconda3/envs/neurolang/lib/python3.7/site-packages/scipy/ndimage/measurements.py:305: DeprecationWarning: In future, it will be an error for 'np.bool_' scalars to be interpreted as an index\n",
      "  return _nd_image.find_objects(input, max_label)\n"
     ]
    },
    {
     "data": {
      "text/plain": [
       "<nilearn.plotting.displays.XSlicer at 0x1c39a507b8>"
      ]
     },
     "execution_count": 29,
     "metadata": {},
     "output_type": "execute_result"
    },
    {
     "data": {
      "image/png": "[encoded data removed]",
      "text/plain": [
       "<Figure size 612x165.6 with 5 Axes>"
      ]
     },
     "metadata": {},
     "output_type": "display_data"
    }
   ],
   "source": [
    "from nilearn import plotting\n",
    "\n",
    "plotting.plot_stat_map(\n",
    "    prob_img, title='Tag \"auditory\" (Neurolang)', \n",
    "    cmap='PuBuGn',\n",
    "    display_mode='x',\n",
    "    cut_coords=np.linspace(-63, 63, 3),\n",
    ")"
   ]
  },
  {
   "cell_type": "code",
   "execution_count": 30,
   "metadata": {},
   "outputs": [
    {
     "data": {
      "text/plain": [
       "<nilearn.plotting.displays.YSlicer at 0x1c3c5c45c0>"
      ]
     },
     "execution_count": 30,
     "metadata": {},
     "output_type": "execute_result"
    },
    {
     "data": {
      "image/png": "[encoded data removed]",
      "text/plain": [
       "<Figure size 525.6x165.6 with 5 Axes>"
      ]
     },
     "metadata": {},
     "output_type": "display_data"
    }
   ],
   "source": [
    "plotting.plot_stat_map(\n",
    "    prob_img, title='Tag \"auditory\" (Neurolang)', \n",
    "    cmap='PuBuGn',\n",
    "    display_mode='y',\n",
    "    cut_coords=np.linspace(-30, 5, 3),\n",
    ")"
   ]
  },
  {
   "cell_type": "code",
   "execution_count": 31,
   "metadata": {},
   "outputs": [],
   "source": [
    "prob = prob_img.get_data()\n",
    "prob_mask = prob > 0\n",
    "prob_mask_values = prob[prob_mask]"
   ]
  },
  {
   "cell_type": "code",
   "execution_count": 32,
   "metadata": {},
   "outputs": [],
   "source": [
    "import numpy as np\n",
    "from scipy import special\n",
    "from scipy.stats import norm\n",
    "\n",
    "def p_to_z(p, sign):\n",
    "    p = p / 2  # convert to two-tailed\n",
    "    # prevent underflow\n",
    "    p[p < 1e-240] = 1e-240\n",
    "    # Convert to z and assign tail\n",
    "    z = np.abs(norm.ppf(p)) * sign\n",
    "    # Set very large z's to max precision\n",
    "    z[np.isinf(z)] = norm.ppf(1e-240) * -1\n",
    "    return z\n",
    "\n",
    "def one_way(data, n):\n",
    "    \"\"\" One-way chi-square test of independence.\n",
    "    Takes a 1D array as input and compares activation at each voxel to\n",
    "    proportion expected under a uniform distribution throughout the array. Note\n",
    "    that if you're testing activation with this, make sure that only valid\n",
    "    voxels (e.g., in-mask gray matter voxels) are included in the array, or\n",
    "    results won't make any sense!\n",
    "    \"\"\"\n",
    "    term = data.astype('float64')\n",
    "    no_term = n - term\n",
    "    t_exp = np.mean(term, 0)\n",
    "    t_exp = np.array([t_exp, ] * data.shape[0])\n",
    "    nt_exp = n - t_exp\n",
    "    t_mss = (term - t_exp) ** 2 / t_exp\n",
    "    nt_mss = (no_term - nt_exp) ** 2 / nt_exp\n",
    "    chi2 = t_mss + nt_mss\n",
    "    return special.chdtrc(1, chi2)\n",
    "\n",
    "res = one_way(np.round(prob_mask_values * 10000), 10000)"
   ]
  },
  {
   "cell_type": "code",
   "execution_count": 33,
   "metadata": {},
   "outputs": [],
   "source": [
    "def fdr(p, q=.05):\n",
    "    \"\"\" Determine FDR threshold given a p value array and desired false\n",
    "    discovery rate q. \"\"\"\n",
    "    s = np.sort(p)\n",
    "    nvox = p.shape[0]\n",
    "    null = np.array(range(1, nvox + 1), dtype='float') * q / nvox\n",
    "    below = np.where(s <= null)[0]\n",
    "    return s[max(below)] if len(below) else -1\n",
    "\n",
    "p_values_corrected = fdr(res, q=1e-25)"
   ]
  },
  {
   "cell_type": "code",
   "execution_count": 34,
   "metadata": {},
   "outputs": [],
   "source": [
    "p_value_image = np.zeros_like(prob)\n",
    "p_value_image[prob_mask] = -np.log10(res)\n",
    "\n",
    "p_value_image = nib.spatialimages.SpatialImage(p_value_image, affine=prob_img.affine)"
   ]
  },
  {
   "cell_type": "code",
   "execution_count": 36,
   "metadata": {},
   "outputs": [
    {
     "data": {
      "text/plain": [
       "<matplotlib.lines.Line2D at 0x1c3c5c9dd8>"
      ]
     },
     "execution_count": 36,
     "metadata": {},
     "output_type": "execute_result"
    },
    {
     "data": {
      "image/png": "[encoded data removed]",
      "text/plain": [
       "<Figure size 432x288 with 1 Axes>"
      ]
     },
     "metadata": {
      "needs_background": "light"
     },
     "output_type": "display_data"
    }
   ],
   "source": [
    "from matplotlib import pyplot as plt\n",
    "plt.hist(-np.log10(res))\n",
    "plt.axvline(-np.log10(p_values_corrected), c='r')"
   ]
  },
  {
   "cell_type": "code",
   "execution_count": 37,
   "metadata": {},
   "outputs": [
    {
     "data": {
      "text/plain": [
       "<nilearn.plotting.displays.XSlicer at 0x1c3c7e8710>"
      ]
     },
     "execution_count": 37,
     "metadata": {},
     "output_type": "execute_result"
    },
    {
     "data": {
      "image/png": "[encoded data removed]",
      "text/plain": [
       "<Figure size 612x165.6 with 5 Axes>"
      ]
     },
     "metadata": {},
     "output_type": "display_data"
    }
   ],
   "source": [
    "plotting.plot_stat_map(\n",
    "    p_value_image, title=r'$-\\log_{10} P$ value (Neurolang)', \n",
    "    threshold=-np.log10(p_values_corrected), \n",
    "    cmap='YlOrRd',\n",
    "    display_mode='x',\n",
    "    cut_coords=np.linspace(-63, 63, 3),\n",
    "    vmax=2.9e+02\n",
    ")"
   ]
  },
  {
   "cell_type": "code",
   "execution_count": 38,
   "metadata": {},
   "outputs": [
    {
     "data": {
      "text/plain": [
       "<nilearn.plotting.displays.YSlicer at 0x1c33953f28>"
      ]
     },
     "execution_count": 38,
     "metadata": {},
     "output_type": "execute_result"
    },
    {
     "data": {
      "image/png": "[encoded data removed]",
      "text/plain": [
       "<Figure size 525.6x165.6 with 5 Axes>"
      ]
     },
     "metadata": {},
     "output_type": "display_data"
    }
   ],
   "source": [
    "plotting.plot_stat_map(\n",
    "    p_value_image, title=r'$-\\log_{10} P$ value (Neurolang)', \n",
    "    threshold=-np.log10(p_values_corrected),\n",
    "    cmap='YlOrRd',\n",
    "    display_mode='y',\n",
    "    cut_coords=np.linspace(-30, 5, 3),\n",
    "    vmax=2.9e+02\n",
    ")"
   ]
  },
  {
   "cell_type": "markdown",
   "metadata": {},
   "source": [
    "## P(term, voxel) / P(voxel)"
   ]
  },
  {
   "cell_type": "code",
   "execution_count": 39,
   "metadata": {},
   "outputs": [],
   "source": [
    "import numpy as np\n",
    "prob_img2 = nib.spatialimages.SpatialImage(\n",
    "    np.zeros(result_data[0][2].image_dim, dtype=float),\n",
    "    affine=result_data[0][2].affine\n",
    ")\n",
    "for p in result_data:\n",
    "    vox = p[4]\n",
    "    vox_prob = prob_voxels[prob_voxels.index == vox].prob.values[0]\n",
    "    prob_img2.dataobj[tuple(p[2].voxels.T)] = p[0]/vox_prob"
   ]
  },
  {
   "cell_type": "code",
   "execution_count": 40,
   "metadata": {},
   "outputs": [
    {
     "data": {
      "text/plain": [
       "<nilearn.plotting.displays.XSlicer at 0x1c33f699b0>"
      ]
     },
     "execution_count": 40,
     "metadata": {},
     "output_type": "execute_result"
    },
    {
     "data": {
      "image/png": "[encoded data removed]",
      "text/plain": [
       "<Figure size 612x165.6 with 5 Axes>"
      ]
     },
     "metadata": {},
     "output_type": "display_data"
    }
   ],
   "source": [
    "from nilearn import plotting\n",
    "\n",
    "plotting.plot_stat_map(\n",
    "    prob_img2, title='Tag \"auditory\" (Neurolang)', \n",
    "    cmap='Reds',\n",
    "    display_mode='x',\n",
    "    cut_coords=np.linspace(-63, 63, 3)\n",
    ")"
   ]
  },
  {
   "cell_type": "code",
   "execution_count": 41,
   "metadata": {},
   "outputs": [
    {
     "data": {
      "text/plain": [
       "<nilearn.plotting.displays.YSlicer at 0x1c3b4947b8>"
      ]
     },
     "execution_count": 41,
     "metadata": {},
     "output_type": "execute_result"
    },
    {
     "data": {
      "image/png": "[encoded data removed]",
      "text/plain": [
       "<Figure size 525.6x165.6 with 5 Axes>"
      ]
     },
     "metadata": {},
     "output_type": "display_data"
    }
   ],
   "source": [
    "plotting.plot_stat_map(\n",
    "    prob_img2, title='Tag \"auditory\" (Neurolang)', \n",
    "    cmap='YlOrRd',\n",
    "    display_mode='y',\n",
    "    cut_coords=np.linspace(-30, 5, 3)\n",
    ")"
   ]
  }
 ],
 "metadata": {
  "kernelspec": {
   "display_name": "neurolang",
   "language": "python",
   "name": "neurolang"
  },
  "language_info": {
   "codemirror_mode": {
    "name": "ipython",
    "version": 3
   },
   "file_extension": ".py",
   "mimetype": "text/x-python",
   "name": "python",
   "nbconvert_exporter": "python",
   "pygments_lexer": "ipython3",
   "version": "3.7.3"
  }
 },
 "nbformat": 4,
 "nbformat_minor": 2
}
